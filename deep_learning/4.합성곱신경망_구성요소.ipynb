{
 "cells": [
  {
   "cell_type": "markdown",
   "id": "ae6fbf61",
   "metadata": {},
   "source": [
    "# 합성곱 신경망 (Convolutionary Neural Networks)\n",
    "\n",
    "<img src = \"CNN.png\">"
   ]
  },
  {
   "cell_type": "markdown",
   "id": "54ee4e0a",
   "metadata": {},
   "source": [
    "- 입력 데이터 (4*4) \n",
    "- 커널 : 9칸짜리 도장처럼 움직임 --> 곱하기 연산을 함.\n",
    "    - 특징을 잡아내는 도구 \n",
    "    - 대각선 기준으로, 왼쪽 아래가 더 작음 \n",
    "    - 왼쪽 위가 그 특성이 가장 강하게 나타났다. (특성맵)\n",
    "        - kernel_size : 3*3 \n",
    "- 합성곱에서는 2차원 특성을 그대로 유지한채로 계산을 해줌."
   ]
  },
  {
   "cell_type": "markdown",
   "id": "7f39c7db",
   "metadata": {},
   "source": [
    "- 합성곱 (Convolution)\n",
    "    - 입력 데이터에서 유용한 특성만 드러나게 하는 것 \n",
    "    - 합성곱 계산을 통해 만들어진 출력을 \"특성맵(feature map)\"이라고 부름. \n",
    "    \n",
    "- 일반적으로 1개 이상의 합성곱 층을 사용한 인공신경망을 \"합성곱 신경망(CNN)\"이라고 부름. \n",
    "    - 합성곱 층만을 이용한 신경망은 아님. \n",
    "    - CNN은 모델이 원하는 특징을 추출해서 데이터를 요약해주는 것일 뿐임\n",
    "        - --> 잘 해석한 결과를 가지고 결과를 내는 출력층이 더 와야함. \n",
    "        \n",
    "- 합성곱과 밀집층의 차이 \n",
    "\n",
    "    1) 가중치의 개수 차이\n",
    "        - 밀집층에서는 뉴런마다 입력 개수만큼의 가중치가 존재 \n",
    "        - 합성곱 층은 입력 데이터의 일부에 가중치를 곱함,\n",
    "        - 합성곱 신경망에서는 유닛을 \"필터(filter)\" 또는 \"커널(kernel)\"이라고 부름. \n",
    "\n",
    "    2) 합성곱 신경망에서는 차원 유지 (밀집층에서는 flatten)\n",
    "        - 모든 \"위치 정보\"를 살린 상태로 데이터 해석 가능 (왼쪽 모서리, 오른쪽 모서리 등등 )\n",
    "        - 정보 손실이 적다. \n",
    "    \n",
    "- 입력 데이터가 2차원 배열이라면, 필터도 2차원이어야 함. \n",
    "    - 1차원이라면, 도장(필터)도 1차원. 데이터가 3차원이라면 도장(필터)도 3차원. \n",
    "    \n",
    "- 위 이미지에서 커널 크기(kernel_size)는 (3, 3)\n",
    "- 밀집층에서 여러 개의 뉴런을 사용하듯이, 합성곱 층에서도 여러 개의 필터를 사용할 수 있음. \n",
    "\n",
    "<br>\n",
    "\n",
    "- 1) Conv1d (1차원 합성곱)\n",
    "    - NLP, 시계열, 각 타임스텝\n",
    "    - 시퀀스 차원을 따라 패턴 학습 \n",
    "    - ex. 성씨 문자열에서 국적 정보 (O'Neil-->O, Zhu-->Zh)\n",
    "- 2) Conv2d (2차원 합성곱)\n",
    "    - 2차원의 형태 유지 \n",
    "    - 공간적 특징의 손실을 줄일 수 있기 때문에 \"이미지 처리\" 분야에서 비교적 성능이 뛰어남. (절대적인 건 아님)\n",
    "    - 데이터의 두 방향을 따라 시공간 패턴 감지 (ex. 이미지 높이 & 너비)\n",
    "- 3) Conv3d (3차원 합성곱)\n",
    "    - 비디오 데이터\n",
    "    \n",
    "<br>\n",
    "\n",
    "- 합성곱 연산 순서\n",
    "    1. 왼쪽 위 모서리부터 합성곱 시작 \n",
    "    2. 1개의 출력 계산 (가중합)\n",
    "    3. 오른쪽으로 이동 \n",
    "        - 오른쪽으로 이동 불가능하면 아래로 이동 \n",
    "    4. 2-3의 과정 반복해서 합성곱 연산 수행 "
   ]
  },
  {
   "cell_type": "code",
   "execution_count": 1,
   "id": "c3810be3",
   "metadata": {},
   "outputs": [
    {
     "data": {
      "text/plain": [
       "<keras.layers.convolutional.conv2d.Conv2D at 0x1ad9a608b08>"
      ]
     },
     "execution_count": 1,
     "metadata": {},
     "output_type": "execute_result"
    }
   ],
   "source": [
    "from tensorflow import keras\n",
    "\n",
    "# 합성곱\n",
    "# fashon MNIST 데이터는 2d --> Conv2D \n",
    "keras.layers.Conv2D(filters=10, # 필터 개수 \n",
    "                    kernel_size=(3,3), # 필터 크기 \n",
    "                    activation='relu',\n",
    "                    padding='same', \n",
    "                    strides=1)"
   ]
  },
  {
   "cell_type": "markdown",
   "id": "9de40e48",
   "metadata": {},
   "source": [
    "- 1) filters : 필터 개수 (필수)\n",
    "    - 10개 각각의 특징을 찾아낸 결과물이 나옴. \n",
    "\n",
    "- 2) kernel_size : 필터 크기 (필수)\n",
    "    - 일반적으로 (3,3)이나 (5,5)의 크기 사용 \n",
    "    - 직사각형도 되긴 되는데, 그럼 성능 잘 안나옴. \n",
    "\n",
    "- 3) activation : 사용할 활성화 함수 \n",
    "    - CNN도 당연히 활성화 함수 필요 \n",
    "    - CNN에서 특성맵은 절편과 활성화 함수를 적용한 후의 결과물임. \n",
    "    \n",
    "<br>\n",
    "\n",
    "+ kernel_constraint\n",
    "    - 옵티마이저로 업데이트 되고난 후 커널 가중치 제약 \n",
    "    - ex. kernel_constraint = tf.keras.contraints.MaxNorm(max_value=3.)"
   ]
  },
  {
   "cell_type": "markdown",
   "id": "6101133b",
   "metadata": {},
   "source": [
    "# 패딩 (padding)\n",
    "\n",
    "<img src = \"padding.png\">"
   ]
  },
  {
   "cell_type": "markdown",
   "id": "44547372",
   "metadata": {},
   "source": [
    "- 입력 배열의 주위를 가상의 원소로 채우는 것 (≒ 입는 패딩)\n",
    "- 합성곱층을 통과하면 출력의 크기가 입력 데이터의 크기보다 작아지게 되는데, 이를 방지하기 위해 사용 \n",
    "    - 마치 (4, 4) 보다 더 큰 입력이 들어온 것처럼 계산 \n",
    "    - (6, 6)의 데이터를 (3, 3) 크기의 커널로 합성곱 연산을 하면 출력의 크기가 (4, 4)로 유지됨.\n",
    "    \n",
    "- 실제로는 입력값이 아니기 때문에 패딩은 0으로 채움. \n",
    "    - 값이 0으로 채워져 있기 때문에 계산에 영향을 미치지 않음. \n",
    "    \n",
    "<br>\n",
    "\n",
    "- same 패딩 : 입력과 특성맵의 크기를 동일하게 만들기 위해 입력 데이터 주위에 0으로 패딩 \n",
    "    - 일반적으로는 same padding이 많이 사용됨. \n",
    "- valid 패딩 : 패딩 없이 순수한 입력 배열에서만 합성곱을 하여 특성맵을 만드는 것 \n",
    "    - 특성맵의 크기가 입력보다 줄어듦.\n",
    "    \n",
    "<br>\n",
    "\n",
    "- 패딩을 사용하는 이유\n",
    "     - 패딩을 사용하지 않으면 입력값의 가운데에 있는 원소와 모서리 부분의 사용 비율이 크게 차이남. \n",
    "     - 적절하게 패딩을 사용하면 이미지 주변의 정보 손실을 막을 수 있음. \n",
    "     \n",
    "<br>\n",
    "\n",
    "- 패딩을 안하고 그냥하면 요악의 정도가 심해짐 (사이즈가 너무 작아짐)\n",
    "- 합성곱을 거쳐도 크기가 (4*4)로 유지될 수 있게 함."
   ]
  },
  {
   "cell_type": "markdown",
   "id": "ad64d939",
   "metadata": {},
   "source": [
    "# 스트라이드 (strides)\n",
    "\n",
    "<img src = \"stride.png\">"
   ]
  },
  {
   "cell_type": "markdown",
   "id": "dad712ab",
   "metadata": {},
   "source": [
    "- 커널을 적용하는 위치의 간격 (이동의 크기)\n",
    "    - 기본값 1 \n",
    "    - 오른쪽으로 이동하는 크기와 아래쪽으로 이동하는 크기를 (1,1)과 같이 튜플로 각각 지정할 수도 있음. \n",
    "        - 하지만 일반적으로는 가로, 세로의 크기를 똑같이 지정 ex. (2,2) (3,3) ...\n",
    "    - 1보다 큰 strides를 사용하는 경우도 드문 편이었으나\n",
    "        - 최근에는 maxpooling을 사용하지 않고 스트라이드를 높이는 방식이 점점 도입됨.\n",
    "    - 하지만 스트라이드를 높이는 것은 그닥 선호되지 않음 (띄엄띄엄 스캔하게 되니까)"
   ]
  },
  {
   "cell_type": "markdown",
   "id": "4ce4e514",
   "metadata": {},
   "source": [
    "# 풀링 (pooling)\n",
    "\n",
    "<img src = \"pooling.png\">"
   ]
  },
  {
   "cell_type": "markdown",
   "id": "5e45e982",
   "metadata": {},
   "source": [
    "- 합성곱 층에서 만든 특성맵의 가로 세로 크기를 줄이는 역할 수행\n",
    "    - 특성맵의 개수는 그대로 냅두고, 크기만 줄임. \n",
    "- 합성곱 층에서 추출한 특징을 유지하면서 계산량을 줄여주고, 다음 계층 신경망과 쉽게 연결해주기 위해 사용 \n",
    "- 풀링에는 가중치가 없고 최대값을 계산하거나(max pooling), 평균값을 계산(average pooling)\n",
    "    - 요즘은 average pooling보다는 max pooling이 많이 사용됨. \n",
    "    - average pooling은 특성맵의 중요한 정보를 평균 계산하는 과정에서 희석될 수 있기 때문 \n",
    "- 합성곱은 커널이 겹치는 부분이 있지만 풀링은 겹치지 않고 이동 \n",
    "\n",
    "- 최근에는 신경망이 점점 깊어지면서 미세하지만 중요한 특징들이 소실되는 현상을 막기 위해, 풀링층 사용을 줄이는 방식도 도입되고 있음. (ex. pooling 대신 strides를 높여서 애초에 특성맵 크기를 줄이는 것)\n",
    "    - 하지만 여전히 풀링은 적은 계산량으로 좋은 성능을 유지하는 데에 유용한 신경망 계층임.\n",
    "\n",
    "<br>\n",
    "\n",
    "- CNN과 달리 겹치지 않게 영역을 나누어 찍음.\n",
    "- average pooling을 하게 되면 꼭 집중돼야할 부분이 희석이 되어버림 \n",
    "    - 그래서 max pooling을 사용해서 최대값 이용 "
   ]
  },
  {
   "cell_type": "code",
   "execution_count": 2,
   "id": "907fb1de",
   "metadata": {},
   "outputs": [
    {
     "data": {
      "text/plain": [
       "<keras.layers.pooling.max_pooling2d.MaxPooling2D at 0x1ad9d284948>"
      ]
     },
     "execution_count": 2,
     "metadata": {},
     "output_type": "execute_result"
    }
   ],
   "source": [
    "# 풀링 층 \n",
    "keras.layers.MaxPool2D(pool_size=2, strides=2, padding='valid')\n",
    "# 데이터 차원 2 --> MaxPool2D "
   ]
  },
  {
   "cell_type": "markdown",
   "id": "0b5dff62",
   "metadata": {},
   "source": [
    "- pool_size : 풀링 크기 \n",
    "    - 일반적으로 2 사용 (가로세로 크기를 절반으로 줄임)\n",
    "    - 가로세로 방향의 풀링 크기를 다르게 하려면 튜플로 입력 가능하지만, 실제로 사용되는 경우는 매우 드문 편\n",
    "    \n",
    "- strides : 자동으로 풀링의 크기가 입력되기 때문에 따로 지정할 필요는 없음. \n",
    "    - 풀링 크기와 다른 값으로도 설정은 가능 (풀링 영역이 건너뛰어지도록)\n",
    "\n",
    "- padding : 기본값 'valid' (일반적)\n",
    "    - 'valid'로 두면 남는 부분을 그냥 날려버림. (pool_size와 맞지 않을 경우 무시)\n",
    "    - 'same' 적용하면, 패딩 칸이 있는 것처럼 풀링 진행 (0값을 추가하여 사이즈 맞춘 후 처리)"
   ]
  },
  {
   "cell_type": "markdown",
   "id": "93321ecb",
   "metadata": {},
   "source": [
    "* GlobalMaxPooling2D() 도 존재 \n",
    "    - 이때는 인자 안들어감."
   ]
  },
  {
   "cell_type": "markdown",
   "id": "0880a676",
   "metadata": {},
   "source": [
    "# 합성곱 신경망의 구조 \n",
    "\n",
    "<img src = \"cnn구조.png\">"
   ]
  },
  {
   "cell_type": "markdown",
   "id": "0ddf05b5",
   "metadata": {},
   "source": [
    "- 4개의 필터를 가지고 진행하여 4개의 feature map 나옴. \n",
    "    - 각 필터가 데이터의 서로 다른 feature를 탐색함.\n",
    "- 합성곱 신경망에서 필터는 이미지에 있는 어떤 특징을 찾는 역할 \n",
    "    - 필터의 개수를 늘릴수록, 층이 깊어질수록 데이터의 구체적인 특징 감지 \n",
    "    - 어떤 특징이 이미지의 어느 위치에 놓이더라도 쉽게 감지할 수 있도록 너비와 높이 압축(풀링)\n",
    "   \n",
    "<br>\n",
    "\n",
    "- 합성곱 신경망은 너비와 높이는 점점 줄어들고 깊이는 점점 깊어지는 것이 특징 \n",
    "- 마지막 분류 신경망에서 특성맵을 모두 펼쳐서 밀집층의 입력으로 사용 "
   ]
  },
  {
   "cell_type": "markdown",
   "id": "c7eee056",
   "metadata": {},
   "source": [
    "# 채널 \n",
    "##  - 컬러 이미지를 사용한 합성곱 \n",
    "\n",
    "<img src = \"conv_channel.jpg\" width=\"500\" height=\"500\">"
   ]
  },
  {
   "cell_type": "markdown",
   "id": "ab0e1e0d",
   "metadata": {},
   "source": [
    "- 이미지는 색깔을 인식할 필요. R, G, B로 구성됨 --> 한 픽셀을 구성하는 숫자가 3개여야 함. --> convolution 어떻게 함?\n",
    "    - 각각 채널로 나눠서 각각 convolution 진행 --> 합침 \n",
    "    - 이미지의 색상에 따른 특징도 뽑아낼 수가 있어짐. \n",
    "    \n",
    "- 실제 차원 (2, 2) --> 실제로는 (2, 2, 3)\n",
    "    - 마지막 차원이 \"채널 차원\" \n",
    "    - 흑백은 (2, 2, 1) \n",
    "    \n",
    "<br>\n",
    "\n",
    "- 흑백 이미지는 2차원 배열로 표현할 수는 있음.\n",
    "- 컬러 이미지는 RGB (적, 녹, 청) 채널로 구성돼 있기 때문에 하나의 이미지를 3차원 배열로 표시 \n",
    "- 깊이가 있는 입력(3차원 데이터)에서 합성곱을 수행하기 위해서는, 커널도 깊이가 있어야 함(3차원으로 구성돼야 함).\n",
    "    - 커널 배열의 깊이는 항상 입력의 깊이와 같음. (채널 개수와 같음)\n",
    "    \n",
    "- 입력이나 필터의 차원이 몇 개인지와 관계없이 항상 출력은 하나의 값\n",
    "\n",
    "- 케라스의 합성곱 층은 기본적으로 3차원 입력에 맞춰져 있음. \n",
    "    - 흑백 이미지는 깊이 차원이 1인 3차원 배열로 변환하여 전달 "
   ]
  },
  {
   "cell_type": "code",
   "execution_count": null,
   "id": "ef3f90b7",
   "metadata": {},
   "outputs": [],
   "source": []
  },
  {
   "cell_type": "markdown",
   "id": "773acbfc",
   "metadata": {},
   "source": [
    "# 다일레이션 (dilation)\n",
    "\n",
    "- 1에서 2로 늘리면 커널의 원소 사이에 공간이 생김. (구멍 뚫린 커널)\n",
    "- 파라미터 개수를 늘리지 않고 넓은 입력 공간 요약하는 데 유용 "
   ]
  }
 ],
 "metadata": {
  "kernelspec": {
   "display_name": "Python 3 (ipykernel)",
   "language": "python",
   "name": "python3"
  },
  "language_info": {
   "codemirror_mode": {
    "name": "ipython",
    "version": 3
   },
   "file_extension": ".py",
   "mimetype": "text/x-python",
   "name": "python",
   "nbconvert_exporter": "python",
   "pygments_lexer": "ipython3",
   "version": "3.7.13"
  }
 },
 "nbformat": 4,
 "nbformat_minor": 5
}
