{
 "cells": [
  {
   "cell_type": "markdown",
   "id": "31b6bf8c",
   "metadata": {},
   "source": [
    "- 머신러닝 알고리즘은 모델의 구조가 어느정도 고정이 되어 있음.\n",
    "    - 좋은 성능을 내기 위해서는 매개변수를 조정하고 훈련하는 과정을 반복 \n",
    "- 딥러닝은 구조를 직접 설계해야함. \n",
    "    - 좋은 성능을 내기 위해 다룰 수 있는 다양한 개념과 도구들을 이해할 필요가 있음."
   ]
  },
  {
   "cell_type": "markdown",
   "id": "47f8804f",
   "metadata": {},
   "source": [
    "# 손실 곡선 \n",
    "\n",
    "- 케라스의 fit() 메소드는 History 클래스의 객체 반환 \n",
    "    - History 객체: 훈련 과정에서 계산한 지표(손실,정확도)가 저장되어 있음.\n",
    "    - 이 값을 사용하여 그래프를 그려서 훈련 성과 확인"
   ]
  },
  {
   "cell_type": "code",
   "execution_count": 1,
   "id": "1386d134",
   "metadata": {},
   "outputs": [],
   "source": [
    "from tensorflow import keras\n",
    "from sklearn.model_selection import train_test_split\n",
    "import matplotlib.pyplot as plt\n",
    "import numpy as np"
   ]
  },
  {
   "cell_type": "code",
   "execution_count": 2,
   "id": "58135e69",
   "metadata": {},
   "outputs": [
    {
     "name": "stdout",
     "output_type": "stream",
     "text": [
      "(48000, 28, 28) (12000, 28, 28)\n"
     ]
    }
   ],
   "source": [
    "(x_train, y_train), (x_test, y_test) = keras.datasets.fashion_mnist.load_data()\n",
    "scaled_train = x_train / 255.0\n",
    "scaled_train, scaled_val, y_train, y_val = train_test_split(scaled_train,\n",
    "                                                           y_train,\n",
    "                                                           test_size=0.2,\n",
    "                                                           random_state=4)\n",
    "\n",
    "print(scaled_train.shape, scaled_val.shape)"
   ]
  },
  {
   "cell_type": "code",
   "execution_count": 3,
   "id": "80cba944",
   "metadata": {},
   "outputs": [],
   "source": [
    "# 모델 정의 함수 \n",
    "def model_fn(a_layer = None):\n",
    "    model = keras.Sequential()\n",
    "    model.add(keras.layers.Flatten(input_shape=(28,28)))\n",
    "    model.add(keras.layers.Dense(100, activation='relu'))\n",
    "    if a_layer:\n",
    "        model.add(a_layer)\n",
    "    model.add(keras.layers.Dense(10, activation='softmax'))\n",
    "    return model"
   ]
  },
  {
   "cell_type": "code",
   "execution_count": 4,
   "id": "fa743066",
   "metadata": {},
   "outputs": [
    {
     "name": "stdout",
     "output_type": "stream",
     "text": [
      "Model: \"sequential\"\n",
      "_________________________________________________________________\n",
      " Layer (type)                Output Shape              Param #   \n",
      "=================================================================\n",
      " flatten (Flatten)           (None, 784)               0         \n",
      "                                                                 \n",
      " dense (Dense)               (None, 100)               78500     \n",
      "                                                                 \n",
      " dense_1 (Dense)             (None, 10)                1010      \n",
      "                                                                 \n",
      "=================================================================\n",
      "Total params: 79,510\n",
      "Trainable params: 79,510\n",
      "Non-trainable params: 0\n",
      "_________________________________________________________________\n"
     ]
    }
   ],
   "source": [
    "model = model_fn()\n",
    "model.summary()"
   ]
  },
  {
   "cell_type": "code",
   "execution_count": 5,
   "id": "2b4268c1",
   "metadata": {},
   "outputs": [
    {
     "name": "stdout",
     "output_type": "stream",
     "text": [
      "Epoch 1/5\n",
      "1500/1500 [==============================] - 3s 2ms/step - loss: 0.5359 - accuracy: 0.8112\n",
      "Epoch 2/5\n",
      "1500/1500 [==============================] - 3s 2ms/step - loss: 0.3974 - accuracy: 0.8571\n",
      "Epoch 3/5\n",
      "1500/1500 [==============================] - 3s 2ms/step - loss: 0.3605 - accuracy: 0.8707\n",
      "Epoch 4/5\n",
      "1500/1500 [==============================] - 3s 2ms/step - loss: 0.3381 - accuracy: 0.8790\n",
      "Epoch 5/5\n",
      "1500/1500 [==============================] - 3s 2ms/step - loss: 0.3221 - accuracy: 0.8847\n"
     ]
    }
   ],
   "source": [
    "model.compile(loss='sparse_categorical_crossentropy', \n",
    "             metrics=\"accuracy\")\n",
    "history = model.fit(scaled_train, y_train, epochs=5)\n",
    "# verbose=1 (디폴트) : 진행바, 지표 다 출력 \n",
    "# verbose=2 : 진행바 빼고 지표만 출력 \n",
    "# verbose=0 : 다 출력하지 않음 "
   ]
  },
  {
   "cell_type": "code",
   "execution_count": 6,
   "id": "a00cf1a0",
   "metadata": {},
   "outputs": [
    {
     "data": {
      "text/plain": [
       "dict_keys(['loss', 'accuracy'])"
      ]
     },
     "execution_count": 6,
     "metadata": {},
     "output_type": "execute_result"
    }
   ],
   "source": [
    "# history 객체 확인 \n",
    "history.history.keys()"
   ]
  },
  {
   "cell_type": "markdown",
   "id": "2d450ad2",
   "metadata": {},
   "source": [
    "- 기본적으로 손실을 계산하고 \n",
    "- compile에서 accuracy를 추가하여 loss와 accuracy가 포함됨. \n",
    "    - 원래는 'loss'만 나옴."
   ]
  },
  {
   "cell_type": "code",
   "execution_count": 7,
   "id": "36f477a9",
   "metadata": {},
   "outputs": [
    {
     "data": {
      "text/plain": [
       "{'loss': [0.535865843296051,\n",
       "  0.3974396288394928,\n",
       "  0.3605014979839325,\n",
       "  0.33811113238334656,\n",
       "  0.3221309781074524],\n",
       " 'accuracy': [0.8111875057220459,\n",
       "  0.8571041822433472,\n",
       "  0.8707083463668823,\n",
       "  0.8789791464805603,\n",
       "  0.8846874833106995]}"
      ]
     },
     "execution_count": 7,
     "metadata": {},
     "output_type": "execute_result"
    }
   ],
   "source": [
    "history.history"
   ]
  },
  {
   "cell_type": "code",
   "execution_count": 8,
   "id": "9765fd8a",
   "metadata": {},
   "outputs": [
    {
     "data": {
      "image/png": "[encoded data removed]",
      "text/plain": [
       "<Figure size 640x480 with 1 Axes>"
      ]
     },
     "metadata": {},
     "output_type": "display_data"
    }
   ],
   "source": [
    "plt.figure()\n",
    "plt.plot(history.history['loss'])\n",
    "plt.xlabel('epoch')\n",
    "plt.ylabel('loss')\n",
    "plt.show()"
   ]
  },
  {
   "cell_type": "code",
   "execution_count": 9,
   "id": "2f64545e",
   "metadata": {},
   "outputs": [
    {
     "data": {
      "image/png": "[encoded data removed]",
      "text/plain": [
       "<Figure size 640x480 with 1 Axes>"
      ]
     },
     "metadata": {},
     "output_type": "display_data"
    }
   ],
   "source": [
    "plt.figure()\n",
    "plt.plot(history.history['accuracy'])\n",
    "plt.xlabel('epoch')\n",
    "plt.ylabel('accuracy')\n",
    "plt.show()"
   ]
  },
  {
   "cell_type": "code",
   "execution_count": 10,
   "id": "afa6bd08",
   "metadata": {},
   "outputs": [
    {
     "name": "stdout",
     "output_type": "stream",
     "text": [
      "Epoch 1/20\n",
      "1500/1500 [==============================] - 3s 2ms/step - loss: 0.5444 - accuracy: 0.8086\n",
      "Epoch 2/20\n",
      "1500/1500 [==============================] - 3s 2ms/step - loss: 0.3992 - accuracy: 0.8565\n",
      "Epoch 3/20\n",
      "1500/1500 [==============================] - 2s 2ms/step - loss: 0.3617 - accuracy: 0.8704\n",
      "Epoch 4/20\n",
      "1500/1500 [==============================] - 3s 2ms/step - loss: 0.3395 - accuracy: 0.8778\n",
      "Epoch 5/20\n",
      "1500/1500 [==============================] - 3s 2ms/step - loss: 0.3218 - accuracy: 0.8843\n",
      "Epoch 6/20\n",
      "1500/1500 [==============================] - 3s 2ms/step - loss: 0.3092 - accuracy: 0.8898\n",
      "Epoch 7/20\n",
      "1500/1500 [==============================] - 4s 3ms/step - loss: 0.3013 - accuracy: 0.8926\n",
      "Epoch 8/20\n",
      "1500/1500 [==============================] - 5s 3ms/step - loss: 0.2893 - accuracy: 0.8975\n",
      "Epoch 9/20\n",
      "1500/1500 [==============================] - 5s 4ms/step - loss: 0.2843 - accuracy: 0.8998\n",
      "Epoch 10/20\n",
      "1500/1500 [==============================] - 5s 3ms/step - loss: 0.2741 - accuracy: 0.9020\n",
      "Epoch 11/20\n",
      "1500/1500 [==============================] - 5s 3ms/step - loss: 0.2710 - accuracy: 0.9043\n",
      "Epoch 12/20\n",
      "1500/1500 [==============================] - 5s 3ms/step - loss: 0.2656 - accuracy: 0.9066\n",
      "Epoch 13/20\n",
      "1500/1500 [==============================] - 5s 4ms/step - loss: 0.2607 - accuracy: 0.9085\n",
      "Epoch 14/20\n",
      "1500/1500 [==============================] - 5s 3ms/step - loss: 0.2531 - accuracy: 0.9103\n",
      "Epoch 15/20\n",
      "1500/1500 [==============================] - 5s 4ms/step - loss: 0.2475 - accuracy: 0.9130\n",
      "Epoch 16/20\n",
      "1500/1500 [==============================] - 5s 4ms/step - loss: 0.2449 - accuracy: 0.9145\n",
      "Epoch 17/20\n",
      "1500/1500 [==============================] - 5s 3ms/step - loss: 0.2387 - accuracy: 0.9176\n",
      "Epoch 18/20\n",
      "1500/1500 [==============================] - 5s 3ms/step - loss: 0.2307 - accuracy: 0.9197\n",
      "Epoch 19/20\n",
      "1500/1500 [==============================] - 5s 4ms/step - loss: 0.2296 - accuracy: 0.9208\n",
      "Epoch 20/20\n",
      "1500/1500 [==============================] - 5s 3ms/step - loss: 0.2267 - accuracy: 0.9219\n"
     ]
    }
   ],
   "source": [
    "# epoch를 20으로 늘려서 그래프 확인 \n",
    "model = model_fn()\n",
    "model.compile(loss=\"sparse_categorical_crossentropy\",\n",
    "             metrics=\"accuracy\")\n",
    "history = model.fit(scaled_train, y_train, epochs=20)"
   ]
  },
  {
   "cell_type": "code",
   "execution_count": 11,
   "id": "912a4d9a",
   "metadata": {},
   "outputs": [
    {
     "data": {
      "image/png": "[encoded data removed]",
      "text/plain": [
       "<Figure size 640x480 with 1 Axes>"
      ]
     },
     "metadata": {},
     "output_type": "display_data"
    }
   ],
   "source": [
    "plt.figure()\n",
    "plt.plot(history.history['loss'], label='loss')\n",
    "plt.plot(history.history['accuracy'], label='acc')\n",
    "plt.legend()\n",
    "plt.xlabel('epoch')\n",
    "plt.show()"
   ]
  },
  {
   "cell_type": "markdown",
   "id": "dc4e6d96",
   "metadata": {},
   "source": [
    "# 검증 손실 \n",
    "\n",
    "- 에포크에 따른 과대적합과 과소적합을 파악하려면 검증 세트에 대한 점수도 확인해야함. \n",
    "- 케라스에서는 fit() 메소드에 검증 데이터를 전달 가능 "
   ]
  },
  {
   "cell_type": "code",
   "execution_count": 12,
   "id": "34ac4e41",
   "metadata": {
    "scrolled": true
   },
   "outputs": [
    {
     "name": "stdout",
     "output_type": "stream",
     "text": [
      "Epoch 1/20\n",
      "1500/1500 [==============================] - 7s 4ms/step - loss: 0.5321 - accuracy: 0.8125 - val_loss: 0.3854 - val_accuracy: 0.8628\n",
      "Epoch 2/20\n",
      "1500/1500 [==============================] - 6s 4ms/step - loss: 0.3924 - accuracy: 0.8585 - val_loss: 0.3824 - val_accuracy: 0.8603\n",
      "Epoch 3/20\n",
      "1500/1500 [==============================] - 6s 4ms/step - loss: 0.3565 - accuracy: 0.8714 - val_loss: 0.3439 - val_accuracy: 0.8817\n",
      "Epoch 4/20\n",
      "1500/1500 [==============================] - 6s 4ms/step - loss: 0.3343 - accuracy: 0.8802 - val_loss: 0.3443 - val_accuracy: 0.8775\n",
      "Epoch 5/20\n",
      "1500/1500 [==============================] - 6s 4ms/step - loss: 0.3184 - accuracy: 0.8854 - val_loss: 0.3285 - val_accuracy: 0.8819\n",
      "Epoch 6/20\n",
      "1500/1500 [==============================] - 6s 4ms/step - loss: 0.3066 - accuracy: 0.8895 - val_loss: 0.3435 - val_accuracy: 0.8783\n",
      "Epoch 7/20\n",
      "1500/1500 [==============================] - 6s 4ms/step - loss: 0.2979 - accuracy: 0.8944 - val_loss: 0.3489 - val_accuracy: 0.8811\n",
      "Epoch 8/20\n",
      "1500/1500 [==============================] - 6s 4ms/step - loss: 0.2870 - accuracy: 0.8973 - val_loss: 0.3506 - val_accuracy: 0.8859\n",
      "Epoch 9/20\n",
      "1500/1500 [==============================] - 6s 4ms/step - loss: 0.2799 - accuracy: 0.9010 - val_loss: 0.3622 - val_accuracy: 0.8785\n",
      "Epoch 10/20\n",
      "1500/1500 [==============================] - 6s 4ms/step - loss: 0.2749 - accuracy: 0.9008 - val_loss: 0.3486 - val_accuracy: 0.8793\n",
      "Epoch 11/20\n",
      "1500/1500 [==============================] - 6s 4ms/step - loss: 0.2684 - accuracy: 0.9062 - val_loss: 0.3752 - val_accuracy: 0.8821\n",
      "Epoch 12/20\n",
      "1500/1500 [==============================] - 6s 4ms/step - loss: 0.2632 - accuracy: 0.9077 - val_loss: 0.3772 - val_accuracy: 0.8814\n",
      "Epoch 13/20\n",
      "1500/1500 [==============================] - 6s 4ms/step - loss: 0.2584 - accuracy: 0.9089 - val_loss: 0.4064 - val_accuracy: 0.8737\n",
      "Epoch 14/20\n",
      "1500/1500 [==============================] - 6s 4ms/step - loss: 0.2558 - accuracy: 0.9112 - val_loss: 0.3774 - val_accuracy: 0.8827\n",
      "Epoch 15/20\n",
      "1500/1500 [==============================] - 6s 4ms/step - loss: 0.2477 - accuracy: 0.9139 - val_loss: 0.3730 - val_accuracy: 0.8878\n",
      "Epoch 16/20\n",
      "1500/1500 [==============================] - 6s 4ms/step - loss: 0.2440 - accuracy: 0.9142 - val_loss: 0.3772 - val_accuracy: 0.8846\n",
      "Epoch 17/20\n",
      "1500/1500 [==============================] - 6s 4ms/step - loss: 0.2385 - accuracy: 0.9166 - val_loss: 0.3896 - val_accuracy: 0.8876\n",
      "Epoch 18/20\n",
      "1500/1500 [==============================] - 6s 4ms/step - loss: 0.2335 - accuracy: 0.9184 - val_loss: 0.3889 - val_accuracy: 0.8892\n",
      "Epoch 19/20\n",
      "1500/1500 [==============================] - 6s 4ms/step - loss: 0.2330 - accuracy: 0.9193 - val_loss: 0.4022 - val_accuracy: 0.8844\n",
      "Epoch 20/20\n",
      "1500/1500 [==============================] - 6s 4ms/step - loss: 0.2285 - accuracy: 0.9205 - val_loss: 0.4345 - val_accuracy: 0.8797\n"
     ]
    }
   ],
   "source": [
    "model = model_fn()\n",
    "model.compile(loss=\"sparse_categorical_crossentropy\",\n",
    "             metrics=\"accuracy\")\n",
    "history = model.fit(scaled_train, y_train, epochs=20, \n",
    "                   validation_data=(scaled_val, y_val))\n",
    "# 배치사이즈 커지면 학습속도 좀더 빨라지고 \n",
    "# 작아지면 학습속도 좀더 느려짐 "
   ]
  },
  {
   "cell_type": "code",
   "execution_count": 13,
   "id": "583bae1e",
   "metadata": {
    "scrolled": true
   },
   "outputs": [
    {
     "data": {
      "text/plain": [
       "{'loss': [0.5321467518806458,\n",
       "  0.39237675070762634,\n",
       "  0.3565060496330261,\n",
       "  0.33425989747047424,\n",
       "  0.3183741867542267,\n",
       "  0.30658742785453796,\n",
       "  0.2979472875595093,\n",
       "  0.28695207834243774,\n",
       "  0.2799151539802551,\n",
       "  0.2748990058898926,\n",
       "  0.2683728337287903,\n",
       "  0.26318103075027466,\n",
       "  0.25837358832359314,\n",
       "  0.2558079957962036,\n",
       "  0.2477191537618637,\n",
       "  0.24398769438266754,\n",
       "  0.23846910893917084,\n",
       "  0.2334902286529541,\n",
       "  0.2330215871334076,\n",
       "  0.22846201062202454],\n",
       " 'accuracy': [0.8124791383743286,\n",
       "  0.8584791421890259,\n",
       "  0.8713958263397217,\n",
       "  0.8801666498184204,\n",
       "  0.8853958249092102,\n",
       "  0.8894583582878113,\n",
       "  0.8943958282470703,\n",
       "  0.8973333239555359,\n",
       "  0.9009791612625122,\n",
       "  0.9007708430290222,\n",
       "  0.906208336353302,\n",
       "  0.9076666831970215,\n",
       "  0.9089375138282776,\n",
       "  0.9112291932106018,\n",
       "  0.913937509059906,\n",
       "  0.914187490940094,\n",
       "  0.9166041612625122,\n",
       "  0.9183958172798157,\n",
       "  0.9193124771118164,\n",
       "  0.9204583168029785],\n",
       " 'val_loss': [0.38543441891670227,\n",
       "  0.38244006037712097,\n",
       "  0.3438575565814972,\n",
       "  0.3442683815956116,\n",
       "  0.3285351097583771,\n",
       "  0.3435101807117462,\n",
       "  0.34887877106666565,\n",
       "  0.3506156802177429,\n",
       "  0.36220937967300415,\n",
       "  0.34859517216682434,\n",
       "  0.3752395808696747,\n",
       "  0.37716779112815857,\n",
       "  0.4063732624053955,\n",
       "  0.3773713707923889,\n",
       "  0.3730209171772003,\n",
       "  0.3772372603416443,\n",
       "  0.389588862657547,\n",
       "  0.3889102041721344,\n",
       "  0.4021601974964142,\n",
       "  0.43446406722068787],\n",
       " 'val_accuracy': [0.8628333210945129,\n",
       "  0.8603333234786987,\n",
       "  0.8816666603088379,\n",
       "  0.8774999976158142,\n",
       "  0.8819166421890259,\n",
       "  0.878333330154419,\n",
       "  0.8810833096504211,\n",
       "  0.8859166502952576,\n",
       "  0.8784999847412109,\n",
       "  0.8793333172798157,\n",
       "  0.8820833563804626,\n",
       "  0.8814166784286499,\n",
       "  0.8737499713897705,\n",
       "  0.8826666474342346,\n",
       "  0.8877500295639038,\n",
       "  0.8845833539962769,\n",
       "  0.887583315372467,\n",
       "  0.8891666531562805,\n",
       "  0.8844166398048401,\n",
       "  0.8796666860580444]}"
      ]
     },
     "execution_count": 13,
     "metadata": {},
     "output_type": "execute_result"
    }
   ],
   "source": [
    "history.history "
   ]
  },
  {
   "cell_type": "code",
   "execution_count": 14,
   "id": "46d668a4",
   "metadata": {},
   "outputs": [
    {
     "data": {
      "text/plain": [
       "dict_keys(['loss', 'accuracy', 'val_loss', 'val_accuracy'])"
      ]
     },
     "execution_count": 14,
     "metadata": {},
     "output_type": "execute_result"
    }
   ],
   "source": [
    "history.history.keys()"
   ]
  },
  {
   "cell_type": "code",
   "execution_count": 15,
   "id": "f6162ebb",
   "metadata": {},
   "outputs": [
    {
     "data": {
      "image/png": "[encoded data removed]",
      "text/plain": [
       "<Figure size 640x480 with 1 Axes>"
      ]
     },
     "metadata": {},
     "output_type": "display_data"
    }
   ],
   "source": [
    "plt.figure()\n",
    "plt.plot(history.history['loss'], label='train_loss')\n",
    "plt.plot(history.history['accuracy'], label='train_acc')\n",
    "plt.plot(history.history['val_loss'], label='val_loss')\n",
    "plt.plot(history.history['val_accuracy'], label='val_acc')\n",
    "plt.xticks(ticks=range(20))\n",
    "plt.legend()\n",
    "plt.xlabel('epoch')\n",
    "plt.show()"
   ]
  },
  {
   "cell_type": "markdown",
   "id": "de64eda9",
   "metadata": {},
   "source": [
    "- 훈련 손실은 계속 감소하는데 검증 손실은 감소하다가 상승하여 과대적합 모델이 만들어짐 \n",
    "    - 검증 손실이 상승하는 시점을 가능한 한 뒤로 늦출 필요가 있음. "
   ]
  },
  {
   "cell_type": "code",
   "execution_count": 4,
   "id": "3363b205",
   "metadata": {
    "scrolled": true
   },
   "outputs": [
    {
     "name": "stdout",
     "output_type": "stream",
     "text": [
      "Epoch 1/20\n",
      "1500/1500 [==============================] - 4s 2ms/step - loss: 0.5277 - accuracy: 0.8144 - val_loss: 0.4289 - val_accuracy: 0.8478\n",
      "Epoch 2/20\n",
      "1500/1500 [==============================] - 4s 2ms/step - loss: 0.3980 - accuracy: 0.8568 - val_loss: 0.4087 - val_accuracy: 0.8522\n",
      "Epoch 3/20\n",
      "1500/1500 [==============================] - 4s 3ms/step - loss: 0.3566 - accuracy: 0.8718 - val_loss: 0.3545 - val_accuracy: 0.8737\n",
      "Epoch 4/20\n",
      "1500/1500 [==============================] - 4s 2ms/step - loss: 0.3301 - accuracy: 0.8800 - val_loss: 0.3361 - val_accuracy: 0.8794\n",
      "Epoch 5/20\n",
      "1500/1500 [==============================] - 4s 2ms/step - loss: 0.3117 - accuracy: 0.8864 - val_loss: 0.3266 - val_accuracy: 0.8841\n",
      "Epoch 6/20\n",
      "1500/1500 [==============================] - 4s 2ms/step - loss: 0.2953 - accuracy: 0.8919 - val_loss: 0.3124 - val_accuracy: 0.8868\n",
      "Epoch 7/20\n",
      "1500/1500 [==============================] - 4s 2ms/step - loss: 0.2804 - accuracy: 0.8956 - val_loss: 0.3163 - val_accuracy: 0.8874\n",
      "Epoch 8/20\n",
      "1500/1500 [==============================] - 4s 2ms/step - loss: 0.2682 - accuracy: 0.9004 - val_loss: 0.3219 - val_accuracy: 0.8867\n",
      "Epoch 9/20\n",
      "1500/1500 [==============================] - 4s 2ms/step - loss: 0.2613 - accuracy: 0.9019 - val_loss: 0.3100 - val_accuracy: 0.8884\n",
      "Epoch 10/20\n",
      "1500/1500 [==============================] - 4s 2ms/step - loss: 0.2522 - accuracy: 0.9062 - val_loss: 0.3095 - val_accuracy: 0.8913\n",
      "Epoch 11/20\n",
      "1500/1500 [==============================] - 4s 2ms/step - loss: 0.2418 - accuracy: 0.9094 - val_loss: 0.3154 - val_accuracy: 0.8890\n",
      "Epoch 12/20\n",
      "1500/1500 [==============================] - 4s 3ms/step - loss: 0.2348 - accuracy: 0.9122 - val_loss: 0.3212 - val_accuracy: 0.8872\n",
      "Epoch 13/20\n",
      "1500/1500 [==============================] - 4s 2ms/step - loss: 0.2275 - accuracy: 0.9135 - val_loss: 0.3233 - val_accuracy: 0.8870\n",
      "Epoch 14/20\n",
      "1500/1500 [==============================] - 4s 3ms/step - loss: 0.2207 - accuracy: 0.9171 - val_loss: 0.3163 - val_accuracy: 0.8885\n",
      "Epoch 15/20\n",
      "1500/1500 [==============================] - 4s 3ms/step - loss: 0.2145 - accuracy: 0.9199 - val_loss: 0.3112 - val_accuracy: 0.8927\n",
      "Epoch 16/20\n",
      "1500/1500 [==============================] - 4s 2ms/step - loss: 0.2070 - accuracy: 0.9216 - val_loss: 0.3294 - val_accuracy: 0.8909\n",
      "Epoch 17/20\n",
      "1500/1500 [==============================] - 4s 3ms/step - loss: 0.2012 - accuracy: 0.9245 - val_loss: 0.3139 - val_accuracy: 0.8953\n",
      "Epoch 18/20\n",
      "1500/1500 [==============================] - 4s 3ms/step - loss: 0.1959 - accuracy: 0.9276 - val_loss: 0.3369 - val_accuracy: 0.8908\n",
      "Epoch 19/20\n",
      "1500/1500 [==============================] - 4s 3ms/step - loss: 0.1928 - accuracy: 0.9274 - val_loss: 0.3442 - val_accuracy: 0.8884\n",
      "Epoch 20/20\n",
      "1500/1500 [==============================] - 4s 3ms/step - loss: 0.1873 - accuracy: 0.9294 - val_loss: 0.3317 - val_accuracy: 0.8932\n"
     ]
    }
   ],
   "source": [
    "# Adam 옵티마이저 선택 \n",
    "model = model_fn()\n",
    "model.compile(optimizer=\"adam\",\n",
    "             loss=\"sparse_categorical_crossentropy\",\n",
    "             metrics=\"accuracy\") \n",
    "\n",
    "history = model.fit(scaled_train, y_train, epochs=20, \n",
    "                    validation_data=(scaled_val, y_val))"
   ]
  },
  {
   "cell_type": "code",
   "execution_count": 5,
   "id": "0577a531",
   "metadata": {},
   "outputs": [
    {
     "data": {
      "image/png": "[encoded data removed]",
      "text/plain": [
       "<Figure size 640x480 with 1 Axes>"
      ]
     },
     "metadata": {},
     "output_type": "display_data"
    }
   ],
   "source": [
    "plt.figure()\n",
    "plt.plot(history.history['loss'], label='train_loss')\n",
    "plt.plot(history.history['accuracy'], label='train_acc')\n",
    "plt.plot(history.history['val_loss'], label='val_loss')\n",
    "plt.plot(history.history['val_accuracy'], label='val_acc')\n",
    "plt.xticks(ticks=range(20))\n",
    "plt.legend()\n",
    "plt.xlabel('epoch')\n",
    "plt.show()"
   ]
  },
  {
   "cell_type": "markdown",
   "id": "f2218b89",
   "metadata": {},
   "source": [
    "- RMSprop을 사용할 때 보다, 검증 손실 그래프의 감소 추세가 길게 이어지고 있어 Adam 옵티마이저가 이 데이터셋에 잘 맞는 것으로 보임. \n",
    "    - Adam 사용 시 최소 val_loss : 0.30\n",
    "    - RMSprop 사용 시 최소 val_loss : 0.33 "
   ]
  },
  {
   "cell_type": "markdown",
   "id": "f254a232",
   "metadata": {},
   "source": [
    "# 드롭아웃 (dropout)\n",
    "\n",
    "<img src=\"dropout.png\">"
   ]
  },
  {
   "cell_type": "markdown",
   "id": "48b9eb08",
   "metadata": {},
   "source": [
    "- 훈련 과정에서 층의 일부 뉴런을 랜덤하게 끄는 것으로 (출력을 0으로 만듦으로써) 과대적합 방지\n",
    "    - 특정 뉴런에 과대하게 의존하는 것을 줄일 수 있음.\n",
    "    - 일부 뉴런의 출력이 없을 수 있다는 것을 감안하여 학습하게 됨. \n",
    "        - 모든 입력값에 대해 충분한 주의를 기울이는 방향으로 학습 \n",
    "- 드롭아웃은 케라스의 Dropout 클래스로 제공 \n",
    "- 특정 층 뒤에 드롭아웃을 두어 해당 층의 출력을 랜덤하게 0으로 만듦.\n",
    "- Flatten과 마찬가지로 층처럼 사용되지만 훈련되는 모델 파라미터가 없음. \n",
    "- 드롭아웃 규제 이후, \"랜덤포레스트\", \"앙상블 모델\"과 같은 특성을 갖게 됨. "
   ]
  },
  {
   "cell_type": "code",
   "execution_count": 6,
   "id": "e5b950e6",
   "metadata": {},
   "outputs": [
    {
     "name": "stdout",
     "output_type": "stream",
     "text": [
      "Model: \"sequential_1\"\n",
      "_________________________________________________________________\n",
      " Layer (type)                Output Shape              Param #   \n",
      "=================================================================\n",
      " flatten_1 (Flatten)         (None, 784)               0         \n",
      "                                                                 \n",
      " dense_2 (Dense)             (None, 100)               78500     \n",
      "                                                                 \n",
      " dropout (Dropout)           (None, 100)               0         \n",
      "                                                                 \n",
      " dense_3 (Dense)             (None, 10)                1010      \n",
      "                                                                 \n",
      "=================================================================\n",
      "Total params: 79,510\n",
      "Trainable params: 79,510\n",
      "Non-trainable params: 0\n",
      "_________________________________________________________________\n"
     ]
    }
   ],
   "source": [
    "# 은닉층 뒤에 드롭아웃 층 추가 \n",
    "model = model_fn(keras.layers.Dropout(0.3))\n",
    "model.summary()"
   ]
  },
  {
   "cell_type": "markdown",
   "id": "3fee2820",
   "metadata": {},
   "source": [
    "- 드롭아웃 층은 입력과 출력의 크기가 같음. (None, 100)\n",
    "    - 일부 뉴런의 출력을 0으로 만들지만, 전체 출력 배열의 크기를 바꾸지 않음. \n",
    "- 모델 훈련이 끝난 후에 평가나 예측을 수행할 때에는 드롭아웃을 적용하지 않아야 함. \n",
    "    - 훈련된 모든 유닛을 사용해야 올바른 예측을 수행할 수 있기 때문.\n",
    "    - 케라스에서는 모델을 평가와 예측에 사용할 때에는 자동으로 드롭아웃을 적용하지 않음. "
   ]
  },
  {
   "cell_type": "code",
   "execution_count": 7,
   "id": "c547e31c",
   "metadata": {
    "scrolled": true
   },
   "outputs": [
    {
     "name": "stdout",
     "output_type": "stream",
     "text": [
      "Epoch 1/20\n",
      "1500/1500 [==============================] - 4s 3ms/step - loss: 0.5926 - accuracy: 0.7932 - val_loss: 0.4284 - val_accuracy: 0.8506\n",
      "Epoch 2/20\n",
      "1500/1500 [==============================] - 4s 3ms/step - loss: 0.4465 - accuracy: 0.8394 - val_loss: 0.3851 - val_accuracy: 0.8609\n",
      "Epoch 3/20\n",
      "1500/1500 [==============================] - 4s 3ms/step - loss: 0.4084 - accuracy: 0.8520 - val_loss: 0.3498 - val_accuracy: 0.8752\n",
      "Epoch 4/20\n",
      "1500/1500 [==============================] - 4s 2ms/step - loss: 0.3888 - accuracy: 0.8597 - val_loss: 0.3483 - val_accuracy: 0.8698\n",
      "Epoch 5/20\n",
      "1500/1500 [==============================] - 4s 2ms/step - loss: 0.3715 - accuracy: 0.8643 - val_loss: 0.3391 - val_accuracy: 0.8773\n",
      "Epoch 6/20\n",
      "1500/1500 [==============================] - 4s 3ms/step - loss: 0.3620 - accuracy: 0.8662 - val_loss: 0.3343 - val_accuracy: 0.8772\n",
      "Epoch 7/20\n",
      "1500/1500 [==============================] - 4s 2ms/step - loss: 0.3520 - accuracy: 0.8702 - val_loss: 0.3342 - val_accuracy: 0.8765\n",
      "Epoch 8/20\n",
      "1500/1500 [==============================] - 3s 2ms/step - loss: 0.3417 - accuracy: 0.8739 - val_loss: 0.3327 - val_accuracy: 0.8815\n",
      "Epoch 9/20\n",
      "1500/1500 [==============================] - 4s 2ms/step - loss: 0.3341 - accuracy: 0.8764 - val_loss: 0.3159 - val_accuracy: 0.8863\n",
      "Epoch 10/20\n",
      "1500/1500 [==============================] - 4s 2ms/step - loss: 0.3291 - accuracy: 0.8770 - val_loss: 0.3099 - val_accuracy: 0.8888\n",
      "Epoch 11/20\n",
      "1500/1500 [==============================] - 4s 3ms/step - loss: 0.3221 - accuracy: 0.8794 - val_loss: 0.3109 - val_accuracy: 0.8897\n",
      "Epoch 12/20\n",
      "1500/1500 [==============================] - 4s 3ms/step - loss: 0.3160 - accuracy: 0.8837 - val_loss: 0.3150 - val_accuracy: 0.8863\n",
      "Epoch 13/20\n",
      "1500/1500 [==============================] - 4s 3ms/step - loss: 0.3058 - accuracy: 0.8867 - val_loss: 0.3249 - val_accuracy: 0.8832\n",
      "Epoch 14/20\n",
      "1500/1500 [==============================] - 4s 2ms/step - loss: 0.3069 - accuracy: 0.8846 - val_loss: 0.3087 - val_accuracy: 0.8897\n",
      "Epoch 15/20\n",
      "1500/1500 [==============================] - 4s 2ms/step - loss: 0.3012 - accuracy: 0.8865 - val_loss: 0.3150 - val_accuracy: 0.8858\n",
      "Epoch 16/20\n",
      "1500/1500 [==============================] - 4s 3ms/step - loss: 0.2950 - accuracy: 0.8887 - val_loss: 0.3086 - val_accuracy: 0.8905\n",
      "Epoch 17/20\n",
      "1500/1500 [==============================] - 4s 3ms/step - loss: 0.2930 - accuracy: 0.8900 - val_loss: 0.3183 - val_accuracy: 0.8882\n",
      "Epoch 18/20\n",
      "1500/1500 [==============================] - 4s 3ms/step - loss: 0.2887 - accuracy: 0.8915 - val_loss: 0.3085 - val_accuracy: 0.8947\n",
      "Epoch 19/20\n",
      "1500/1500 [==============================] - 4s 3ms/step - loss: 0.2838 - accuracy: 0.8928 - val_loss: 0.3042 - val_accuracy: 0.8925\n",
      "Epoch 20/20\n",
      "1500/1500 [==============================] - 4s 3ms/step - loss: 0.2845 - accuracy: 0.8930 - val_loss: 0.3060 - val_accuracy: 0.8928\n"
     ]
    }
   ],
   "source": [
    "model.compile(optimizer=\"adam\",\n",
    "             loss=\"sparse_categorical_crossentropy\",\n",
    "             metrics=\"accuracy\") \n",
    "\n",
    "history = model.fit(scaled_train, y_train, epochs=20, \n",
    "                    validation_data=(scaled_val, y_val))"
   ]
  },
  {
   "cell_type": "code",
   "execution_count": 8,
   "id": "d3ecb66b",
   "metadata": {},
   "outputs": [
    {
     "data": {
      "image/png": "[encoded data removed]",
      "text/plain": [
       "<Figure size 640x480 with 1 Axes>"
      ]
     },
     "metadata": {},
     "output_type": "display_data"
    }
   ],
   "source": [
    "plt.figure()\n",
    "plt.plot(history.history['loss'], label='train_loss')\n",
    "plt.plot(history.history['accuracy'], label='train_acc')\n",
    "plt.plot(history.history['val_loss'], label='val_loss')\n",
    "plt.plot(history.history['val_accuracy'], label='val_acc')\n",
    "plt.xticks(ticks=range(20))\n",
    "plt.legend()\n",
    "plt.xlabel('epoch')\n",
    "plt.show()"
   ]
  },
  {
   "cell_type": "markdown",
   "id": "f6ce253d",
   "metadata": {},
   "source": [
    "- 앞선 방법들에 비해 loss와 acc가 비교적 일정하게 유지됨. "
   ]
  },
  {
   "cell_type": "markdown",
   "id": "fed223ef",
   "metadata": {},
   "source": [
    "# 모델 저장과 복원 \n",
    "\n",
    "- 케라스 모델은 모델의 파라미터를 저장하는 save_weights() 메소드 제공 \n",
    "- 모델 구조와 모델 파라미터를 저장하는 save() 메소드도 제공 "
   ]
  },
  {
   "cell_type": "code",
   "execution_count": 9,
   "id": "5d55c96a",
   "metadata": {},
   "outputs": [],
   "source": [
    "# .h5: 케라스에서 모델 저장 시 확장자 \n",
    "model.save_weights('model/model-weights.h5') # 7만9천개의 파라미터값 저장 \n",
    "model.save('model/model-whole.h5') # 모델 구조 + 파라미터값 저장 "
   ]
  },
  {
   "cell_type": "markdown",
   "id": "2670da1d",
   "metadata": {},
   "source": [
    "## 모델 파라미터만 읽어오기 "
   ]
  },
  {
   "cell_type": "code",
   "execution_count": 11,
   "id": "f08e37ee",
   "metadata": {},
   "outputs": [],
   "source": [
    "# 똑같이 모델구조 짠 후 파라미터 불러오기 \n",
    "param_model = model_fn(keras.layers.Dropout(0.3)) # 랜덤한 초기값 \n",
    "param_model.load_weights('./model/model-weights.h5')\n",
    "# 가중치, y절편을 똑같이 맞춰 똑같은 성능을 내도록 함. "
   ]
  },
  {
   "cell_type": "markdown",
   "id": "3ffd9e08",
   "metadata": {},
   "source": [
    "- load_weights() 메소드를 사용하려면 save_weights()로 저장했던 모델과 정확히 같은 구조를 가져야함. \n",
    "- 텐서플로 버전에 따라 load_weights()의 버그로 인해 evaluate()를 사용하기 전에 compile()을 반드시 실행해야 하는 경우가 있음.\n",
    "\n",
    "     --> 정확도 구하기 수동 구현"
   ]
  },
  {
   "cell_type": "code",
   "execution_count": 14,
   "id": "0cce51cc",
   "metadata": {},
   "outputs": [
    {
     "name": "stdout",
     "output_type": "stream",
     "text": [
      "375/375 [==============================] - 1s 1ms/step\n",
      "0.89275\n"
     ]
    }
   ],
   "source": [
    "# 바로 param_model.evaluate(scaled_val, y_val) 하면 오류 \n",
    "# 가장 높은 레이블 예측확률의 인덱스--> 예측 레이블 (0~9)\n",
    "val_labels = np.argmax(param_model.predict(scaled_val), axis=-1)\n",
    "print(np.mean(val_labels==y_val)) # 정확도 "
   ]
  },
  {
   "cell_type": "code",
   "execution_count": 15,
   "id": "b32dd279",
   "metadata": {},
   "outputs": [
    {
     "data": {
      "text/plain": [
       "array([1, 0, 6, ..., 1, 5, 0], dtype=uint8)"
      ]
     },
     "execution_count": 15,
     "metadata": {},
     "output_type": "execute_result"
    }
   ],
   "source": [
    "y_val"
   ]
  },
  {
   "cell_type": "code",
   "execution_count": 17,
   "id": "9896e4ce",
   "metadata": {},
   "outputs": [
    {
     "data": {
      "text/plain": [
       "(12000,)"
      ]
     },
     "execution_count": 17,
     "metadata": {},
     "output_type": "execute_result"
    }
   ],
   "source": [
    "y_val.shape"
   ]
  },
  {
   "cell_type": "code",
   "execution_count": 16,
   "id": "a3528257",
   "metadata": {},
   "outputs": [
    {
     "name": "stdout",
     "output_type": "stream",
     "text": [
      "375/375 [==============================] - 0s 1ms/step\n"
     ]
    },
    {
     "data": {
      "text/plain": [
       "array([[8.92529322e-04, 8.08150291e-01, 2.35249172e-04, ...,\n",
       "        6.48859372e-16, 4.12049849e-06, 3.28335232e-12],\n",
       "       [4.22693908e-01, 2.13664553e-05, 9.58742225e-04, ...,\n",
       "        5.27709099e-10, 5.67249954e-05, 4.40720710e-10],\n",
       "       [1.23212934e-01, 3.99944688e-10, 2.00896502e-01, ...,\n",
       "        3.86627088e-15, 1.10476365e-04, 5.38360155e-13],\n",
       "       ...,\n",
       "       [1.17299266e-01, 2.25480020e-01, 2.67684869e-02, ...,\n",
       "        5.12139046e-11, 1.27573172e-03, 4.80062878e-09],\n",
       "       [9.96584542e-14, 1.29225051e-15, 7.45328219e-16, ...,\n",
       "        4.60394432e-07, 1.93174282e-10, 1.82784135e-11],\n",
       "       [9.49028254e-01, 1.96408422e-07, 8.25570169e-05, ...,\n",
       "        2.50747679e-19, 4.95919448e-05, 3.34644480e-16]], dtype=float32)"
      ]
     },
     "execution_count": 16,
     "metadata": {},
     "output_type": "execute_result"
    }
   ],
   "source": [
    "# 0번 레이블일 확률, 1번 확률 ... 9번 확률 \n",
    "param_model.predict(scaled_val)"
   ]
  },
  {
   "cell_type": "code",
   "execution_count": 18,
   "id": "059d936b",
   "metadata": {},
   "outputs": [
    {
     "name": "stdout",
     "output_type": "stream",
     "text": [
      "375/375 [==============================] - 1s 1ms/step\n"
     ]
    },
    {
     "data": {
      "text/plain": [
       "(12000, 10)"
      ]
     },
     "execution_count": 18,
     "metadata": {},
     "output_type": "execute_result"
    }
   ],
   "source": [
    "param_model.predict(scaled_val).shape"
   ]
  },
  {
   "cell_type": "code",
   "execution_count": 19,
   "id": "9f5961a0",
   "metadata": {},
   "outputs": [
    {
     "data": {
      "text/plain": [
       "array([1, 6, 6, ..., 1, 5, 0], dtype=int64)"
      ]
     },
     "execution_count": 19,
     "metadata": {},
     "output_type": "execute_result"
    }
   ],
   "source": [
    "val_labels"
   ]
  },
  {
   "cell_type": "code",
   "execution_count": 20,
   "id": "7e04b88b",
   "metadata": {
    "scrolled": true
   },
   "outputs": [
    {
     "data": {
      "text/plain": [
       "array([[[0.        , 0.        , 0.        , ..., 0.        ,\n",
       "         0.        , 0.        ],\n",
       "        [0.        , 0.        , 0.        , ..., 0.        ,\n",
       "         0.        , 0.        ],\n",
       "        [0.        , 0.        , 0.        , ..., 0.        ,\n",
       "         0.        , 0.        ],\n",
       "        ...,\n",
       "        [0.        , 0.        , 0.        , ..., 0.        ,\n",
       "         0.        , 0.        ],\n",
       "        [0.        , 0.        , 0.        , ..., 0.        ,\n",
       "         0.        , 0.        ],\n",
       "        [0.        , 0.        , 0.        , ..., 0.        ,\n",
       "         0.        , 0.        ]],\n",
       "\n",
       "       [[0.        , 0.        , 0.        , ..., 0.        ,\n",
       "         0.        , 0.        ],\n",
       "        [0.        , 0.        , 0.        , ..., 0.        ,\n",
       "         0.        , 0.        ],\n",
       "        [0.        , 0.        , 0.00784314, ..., 0.        ,\n",
       "         0.        , 0.        ],\n",
       "        ...,\n",
       "        [0.        , 0.        , 0.        , ..., 0.        ,\n",
       "         0.00392157, 0.        ],\n",
       "        [0.        , 0.        , 0.        , ..., 0.        ,\n",
       "         0.        , 0.        ],\n",
       "        [0.        , 0.        , 0.        , ..., 0.        ,\n",
       "         0.        , 0.        ]],\n",
       "\n",
       "       [[0.        , 0.        , 0.        , ..., 0.        ,\n",
       "         0.        , 0.        ],\n",
       "        [0.        , 0.        , 0.00392157, ..., 0.        ,\n",
       "         0.        , 0.        ],\n",
       "        [0.        , 0.        , 0.00392157, ..., 0.        ,\n",
       "         0.        , 0.        ],\n",
       "        ...,\n",
       "        [0.        , 0.        , 0.00392157, ..., 0.        ,\n",
       "         0.        , 0.        ],\n",
       "        [0.        , 0.        , 0.        , ..., 0.        ,\n",
       "         0.        , 0.        ],\n",
       "        [0.        , 0.        , 0.        , ..., 0.        ,\n",
       "         0.        , 0.        ]],\n",
       "\n",
       "       ...,\n",
       "\n",
       "       [[0.        , 0.        , 0.        , ..., 0.        ,\n",
       "         0.        , 0.        ],\n",
       "        [0.        , 0.        , 0.        , ..., 0.        ,\n",
       "         0.        , 0.        ],\n",
       "        [0.        , 0.        , 0.        , ..., 0.        ,\n",
       "         0.        , 0.        ],\n",
       "        ...,\n",
       "        [0.        , 0.        , 0.        , ..., 0.        ,\n",
       "         0.        , 0.        ],\n",
       "        [0.        , 0.        , 0.        , ..., 0.        ,\n",
       "         0.        , 0.        ],\n",
       "        [0.        , 0.        , 0.        , ..., 0.        ,\n",
       "         0.        , 0.        ]],\n",
       "\n",
       "       [[0.        , 0.        , 0.        , ..., 0.        ,\n",
       "         0.        , 0.        ],\n",
       "        [0.        , 0.        , 0.        , ..., 0.        ,\n",
       "         0.        , 0.        ],\n",
       "        [0.        , 0.        , 0.        , ..., 0.        ,\n",
       "         0.        , 0.        ],\n",
       "        ...,\n",
       "        [0.        , 0.        , 0.        , ..., 0.        ,\n",
       "         0.        , 0.        ],\n",
       "        [0.        , 0.        , 0.        , ..., 0.        ,\n",
       "         0.        , 0.        ],\n",
       "        [0.        , 0.        , 0.        , ..., 0.        ,\n",
       "         0.        , 0.        ]],\n",
       "\n",
       "       [[0.        , 0.        , 0.        , ..., 0.00392157,\n",
       "         0.        , 0.        ],\n",
       "        [0.        , 0.        , 0.        , ..., 0.        ,\n",
       "         0.        , 0.        ],\n",
       "        [0.        , 0.        , 0.        , ..., 0.        ,\n",
       "         0.        , 0.        ],\n",
       "        ...,\n",
       "        [0.        , 0.        , 0.        , ..., 0.        ,\n",
       "         0.        , 0.        ],\n",
       "        [0.        , 0.        , 0.        , ..., 0.        ,\n",
       "         0.        , 0.        ],\n",
       "        [0.        , 0.        , 0.        , ..., 0.        ,\n",
       "         0.        , 0.        ]]])"
      ]
     },
     "execution_count": 20,
     "metadata": {},
     "output_type": "execute_result"
    }
   ],
   "source": [
    "scaled_val"
   ]
  },
  {
   "cell_type": "code",
   "execution_count": 21,
   "id": "47587dec",
   "metadata": {},
   "outputs": [
    {
     "data": {
      "text/plain": [
       "(12000, 28, 28)"
      ]
     },
     "execution_count": 21,
     "metadata": {},
     "output_type": "execute_result"
    }
   ],
   "source": [
    "scaled_val.shape"
   ]
  },
  {
   "cell_type": "markdown",
   "id": "64a81486",
   "metadata": {},
   "source": [
    "- 케라스의 predict() 메소드는 모델의 예측 수행 \n",
    "    - 종속변수가 10개의 클래스로 이뤄져 있기 때문에 각 클래스에 대한 확률 반환 \n",
    "    \n",
    "- predict() 결과에서 가장 큰 값을 고르기 위해 argmax() 함수 사용 \n",
    "    - 베열에서 가장 큰 값의 인덱스 반환 \n",
    "    - 몇 번째 클래스에 대한 확률값이 가장 큰지 반환 \n",
    "        - 몇 번째 클래스로 예측을 했는지 알 수 있음. \n",
    "        \n",
    "- argmax() 함수의 axis=-1 은 배열의 마지막 차원을 따라서 최대값을 고른다는 뜻 \n",
    "    - axis=1 이면 열을 따라 각 행의 최대값의 인덱스 선택 \n",
    "    - axis=0 이면 행을 따라 각 열의 최대값의 인덱스 선택 \n",
    "    \n",
    "- argmax()로 고른 인덱스와 타깃 인덱스를 비교하여 같으면 1, 다르면 0\n",
    "    - 이렇게 구한 값의 평균을 계산하면 정확도가 됨. "
   ]
  },
  {
   "cell_type": "markdown",
   "id": "2bac4b41",
   "metadata": {},
   "source": [
    "## 모델 전체 읽어오기 "
   ]
  },
  {
   "cell_type": "code",
   "execution_count": 22,
   "id": "9b22c644",
   "metadata": {},
   "outputs": [
    {
     "name": "stdout",
     "output_type": "stream",
     "text": [
      "375/375 [==============================] - 1s 1ms/step - loss: 0.3060 - accuracy: 0.8928\n"
     ]
    },
    {
     "data": {
      "text/plain": [
       "[0.30601969361305237, 0.8927500247955322]"
      ]
     },
     "execution_count": 22,
     "metadata": {},
     "output_type": "execute_result"
    }
   ],
   "source": [
    "whole_model = keras.models.load_model('./model/model-whole.h5')\n",
    "whole_model.evaluate(scaled_val, y_val)\n",
    "# 마지막 epoch의 val_loss / val_accuracy 값과 동일 "
   ]
  },
  {
   "cell_type": "markdown",
   "id": "28dd4e70",
   "metadata": {},
   "source": [
    "# 콜백 (callback)\n",
    "\n",
    "- 훈련 과정 중간에 어떤 작업을 수행할 수 있게 하는 객체\n",
    "- fit() 메소드의 callbacks 매개변수에 리스트로 전달하여 사용 "
   ]
  },
  {
   "cell_type": "markdown",
   "id": "011217b8",
   "metadata": {},
   "source": [
    "## 1) ModelCheckpoint 콜백 \n",
    "\n",
    "- 최상의 검증 점수를 만드는 모델 저장 "
   ]
  },
  {
   "cell_type": "code",
   "execution_count": 23,
   "id": "66d57866",
   "metadata": {},
   "outputs": [
    {
     "name": "stdout",
     "output_type": "stream",
     "text": [
      "Epoch 1/20\n",
      "1500/1500 [==============================] - 4s 3ms/step - loss: 0.5956 - accuracy: 0.7915 - val_loss: 0.4234 - val_accuracy: 0.8499\n",
      "Epoch 2/20\n",
      "1500/1500 [==============================] - 4s 3ms/step - loss: 0.4417 - accuracy: 0.8409 - val_loss: 0.3682 - val_accuracy: 0.8672\n",
      "Epoch 3/20\n",
      "1500/1500 [==============================] - 4s 3ms/step - loss: 0.4101 - accuracy: 0.8509 - val_loss: 0.3564 - val_accuracy: 0.8712\n",
      "Epoch 4/20\n",
      "1500/1500 [==============================] - 4s 3ms/step - loss: 0.3887 - accuracy: 0.8580 - val_loss: 0.3422 - val_accuracy: 0.8712\n",
      "Epoch 5/20\n",
      "1500/1500 [==============================] - 3s 2ms/step - loss: 0.3691 - accuracy: 0.8655 - val_loss: 0.3587 - val_accuracy: 0.8696\n",
      "Epoch 6/20\n",
      "1500/1500 [==============================] - 4s 2ms/step - loss: 0.3570 - accuracy: 0.8696 - val_loss: 0.3373 - val_accuracy: 0.8751\n",
      "Epoch 7/20\n",
      "1500/1500 [==============================] - 4s 3ms/step - loss: 0.3481 - accuracy: 0.8709 - val_loss: 0.3235 - val_accuracy: 0.8838\n",
      "Epoch 8/20\n",
      "1500/1500 [==============================] - 4s 3ms/step - loss: 0.3370 - accuracy: 0.8771 - val_loss: 0.3253 - val_accuracy: 0.8807\n",
      "Epoch 9/20\n",
      "1500/1500 [==============================] - 4s 3ms/step - loss: 0.3271 - accuracy: 0.8794 - val_loss: 0.3317 - val_accuracy: 0.8841\n",
      "Epoch 10/20\n",
      "1500/1500 [==============================] - 4s 3ms/step - loss: 0.3218 - accuracy: 0.8809 - val_loss: 0.3158 - val_accuracy: 0.8852\n",
      "Epoch 11/20\n",
      "1500/1500 [==============================] - 4s 3ms/step - loss: 0.3153 - accuracy: 0.8821 - val_loss: 0.3204 - val_accuracy: 0.8818\n",
      "Epoch 12/20\n",
      "1500/1500 [==============================] - 4s 3ms/step - loss: 0.3065 - accuracy: 0.8856 - val_loss: 0.3277 - val_accuracy: 0.8823\n",
      "Epoch 13/20\n",
      "1500/1500 [==============================] - 4s 3ms/step - loss: 0.3061 - accuracy: 0.8851 - val_loss: 0.3179 - val_accuracy: 0.8852\n",
      "Epoch 14/20\n",
      "1500/1500 [==============================] - 4s 3ms/step - loss: 0.3019 - accuracy: 0.8892 - val_loss: 0.3166 - val_accuracy: 0.8862\n",
      "Epoch 15/20\n",
      "1500/1500 [==============================] - 4s 3ms/step - loss: 0.2939 - accuracy: 0.8897 - val_loss: 0.3174 - val_accuracy: 0.8865\n",
      "Epoch 16/20\n",
      "1500/1500 [==============================] - 4s 3ms/step - loss: 0.2892 - accuracy: 0.8911 - val_loss: 0.3167 - val_accuracy: 0.8845\n",
      "Epoch 17/20\n",
      "1500/1500 [==============================] - 4s 3ms/step - loss: 0.2865 - accuracy: 0.8915 - val_loss: 0.3132 - val_accuracy: 0.8856\n",
      "Epoch 18/20\n",
      "1500/1500 [==============================] - 4s 3ms/step - loss: 0.2832 - accuracy: 0.8929 - val_loss: 0.3232 - val_accuracy: 0.8859\n",
      "Epoch 19/20\n",
      "1500/1500 [==============================] - 4s 3ms/step - loss: 0.2795 - accuracy: 0.8950 - val_loss: 0.3050 - val_accuracy: 0.8950\n",
      "Epoch 20/20\n",
      "1500/1500 [==============================] - 4s 3ms/step - loss: 0.2750 - accuracy: 0.8953 - val_loss: 0.3180 - val_accuracy: 0.8923\n"
     ]
    },
    {
     "data": {
      "text/plain": [
       "<keras.callbacks.History at 0x1dbe29bee48>"
      ]
     },
     "execution_count": 23,
     "metadata": {},
     "output_type": "execute_result"
    }
   ],
   "source": [
    "checkpoint_cb = keras.callbacks.ModelCheckpoint(\"./model/best-model.h5\",\n",
    "                                               save_best_only=True)\n",
    "# save_best_only=True: \n",
    "# epoch 돌때마다 매번 저장한 게 아니라, 더 좋아졌을 떄만 모델만 저장해줌 \n",
    "# 최종적으로는 가장 좋은 모델만 남아있음. \n",
    "\n",
    "model = model_fn(keras.layers.Dropout(0.3))\n",
    "model.compile(optimizer='adam',\n",
    "             loss=\"sparse_categorical_crossentropy\",\n",
    "             metrics=\"accuracy\")\n",
    "\n",
    "model.fit(scaled_train, y_train, epochs=20,\n",
    "         validation_data=(scaled_val, y_val),\n",
    "         callbacks=[checkpoint_cb])"
   ]
  },
  {
   "cell_type": "markdown",
   "id": "ff308c58",
   "metadata": {},
   "source": [
    "- 모델이 훈련한 후에 best-model.h5에 최적의 val_loss를 낸 모델이 저장됨. "
   ]
  },
  {
   "cell_type": "code",
   "execution_count": 24,
   "id": "8106ca48",
   "metadata": {},
   "outputs": [
    {
     "name": "stdout",
     "output_type": "stream",
     "text": [
      "375/375 [==============================] - 1s 1ms/step - loss: 0.3050 - accuracy: 0.8950\n"
     ]
    },
    {
     "data": {
      "text/plain": [
       "[0.30499738454818726, 0.8949999809265137]"
      ]
     },
     "execution_count": 24,
     "metadata": {},
     "output_type": "execute_result"
    }
   ],
   "source": [
    "best_model = keras.models.load_model(\"./model/best-model.h5\")\n",
    "best_model.evaluate(scaled_val, y_val)"
   ]
  },
  {
   "cell_type": "markdown",
   "id": "fe9fc398",
   "metadata": {},
   "source": [
    "## 2) EarlyStopping 콜백 \n",
    "\n",
    "- 과대적합이 시작되기 전에 (검증손실 상승 직전) 훈련을 미리 중지하는 것을 \"조기종료(early stopping)\"라고 부름.\n",
    "- 훈련 에포크 횟수를 제한하는 역할이지만 모델이 과대적합되는 것을 막아주기 때문에 규제 방법 중 하나로 여겨지기도 함. "
   ]
  },
  {
   "cell_type": "code",
   "execution_count": 25,
   "id": "1a637353",
   "metadata": {},
   "outputs": [],
   "source": [
    "early_stopping_cb = keras.callbacks.EarlyStopping(patience=2,\n",
    "                                                 restore_best_weights=True)"
   ]
  },
  {
   "cell_type": "markdown",
   "id": "92eeca40",
   "metadata": {},
   "source": [
    "- patience \n",
    "    - 검증 점수가 향상되지 않더라도 지켜볼 에포크 횟수\n",
    "    - patience가 2라면 2번 연속 검증 점수가 향상되지 않으면 훈련 중지 \n",
    "- restore_best_weights \n",
    "    - 가장 낮은 검증 손실을 낸 모델의 상태로 되돌림. \n",
    "<br></br>\n",
    "- min_delta=0.0001\n",
    "- monitor='val_accuracy'"
   ]
  },
  {
   "cell_type": "code",
   "execution_count": 29,
   "id": "bca90176",
   "metadata": {},
   "outputs": [
    {
     "name": "stdout",
     "output_type": "stream",
     "text": [
      "Epoch 1/20\n",
      "1500/1500 [==============================] - 4s 2ms/step - loss: 0.5891 - accuracy: 0.7946 - val_loss: 0.4106 - val_accuracy: 0.8532\n",
      "Epoch 2/20\n",
      "1500/1500 [==============================] - 4s 3ms/step - loss: 0.4382 - accuracy: 0.8411 - val_loss: 0.3774 - val_accuracy: 0.8635\n",
      "Epoch 3/20\n",
      "1500/1500 [==============================] - 4s 3ms/step - loss: 0.4039 - accuracy: 0.8529 - val_loss: 0.3598 - val_accuracy: 0.8728\n",
      "Epoch 4/20\n",
      "1500/1500 [==============================] - 4s 3ms/step - loss: 0.3837 - accuracy: 0.8600 - val_loss: 0.3417 - val_accuracy: 0.8742\n",
      "Epoch 5/20\n",
      "1500/1500 [==============================] - 4s 3ms/step - loss: 0.3699 - accuracy: 0.8645 - val_loss: 0.3370 - val_accuracy: 0.8758\n",
      "Epoch 6/20\n",
      "1500/1500 [==============================] - 4s 3ms/step - loss: 0.3537 - accuracy: 0.8697 - val_loss: 0.3181 - val_accuracy: 0.8842\n",
      "Epoch 7/20\n",
      "1500/1500 [==============================] - 4s 3ms/step - loss: 0.3470 - accuracy: 0.8720 - val_loss: 0.3428 - val_accuracy: 0.8748\n",
      "Epoch 8/20\n",
      "1500/1500 [==============================] - 4s 3ms/step - loss: 0.3403 - accuracy: 0.8744 - val_loss: 0.3378 - val_accuracy: 0.8746\n"
     ]
    }
   ],
   "source": [
    "model = model_fn(keras.layers.Dropout(0.3))\n",
    "model.compile(optimizer='adam',\n",
    "             loss=\"sparse_categorical_crossentropy\",\n",
    "             metrics=\"accuracy\")\n",
    "\n",
    "history = model.fit(scaled_train, y_train, epochs=20,\n",
    "                    validation_data=(scaled_val, y_val),\n",
    "                    callbacks=[checkpoint_cb, early_stopping_cb])\n",
    "# history 변수저장 후 다시 돌렸더니 결과 달라짐."
   ]
  },
  {
   "cell_type": "markdown",
   "id": "e32afcd6",
   "metadata": {},
   "source": [
    "- 최적 val_loss 0.3126 보다 두 번 더 높아졌기 때문에 종료 --> 8 epoch의 상태로 모델 종료"
   ]
  },
  {
   "cell_type": "code",
   "execution_count": 27,
   "id": "fe38d741",
   "metadata": {},
   "outputs": [
    {
     "data": {
      "text/plain": [
       "9"
      ]
     },
     "execution_count": 27,
     "metadata": {},
     "output_type": "execute_result"
    }
   ],
   "source": [
    "# 몇 번째 에포크에서 중지되었는지 확인 \n",
    "early_stopping_cb.stopped_epoch"
   ]
  },
  {
   "cell_type": "markdown",
   "id": "d879506b",
   "metadata": {},
   "source": [
    "- 10 에포크까지 훈련한 후 중지됨 \n",
    "    - patience 가 2기 때문에 8 에포크의 모델이 최상의 모델임. "
   ]
  },
  {
   "cell_type": "code",
   "execution_count": 28,
   "id": "6674012a",
   "metadata": {},
   "outputs": [
    {
     "name": "stdout",
     "output_type": "stream",
     "text": [
      "375/375 [==============================] - 1s 1ms/step - loss: 0.3126 - accuracy: 0.8873\n"
     ]
    },
    {
     "data": {
      "text/plain": [
       "[0.3125859498977661, 0.8872500061988831]"
      ]
     },
     "execution_count": 28,
     "metadata": {},
     "output_type": "execute_result"
    }
   ],
   "source": [
    "model.evaluate(scaled_val, y_val)\n",
    "# 8 epoch 때의 결과와 동일 "
   ]
  },
  {
   "cell_type": "code",
   "execution_count": 30,
   "id": "dfb57901",
   "metadata": {},
   "outputs": [
    {
     "data": {
      "image/png": "[encoded data removed]",
      "text/plain": [
       "<Figure size 640x480 with 1 Axes>"
      ]
     },
     "metadata": {},
     "output_type": "display_data"
    }
   ],
   "source": [
    "# 모델 학습 결과 시각화 \n",
    "plt.figure()\n",
    "plt.plot(history.history['loss'], label='train_loss')\n",
    "plt.plot(history.history['accuracy'], label='train_acc')\n",
    "plt.plot(history.history['val_loss'], label='val_loss')\n",
    "plt.plot(history.history['val_accuracy'], label='val_acc')\n",
    "plt.xticks(ticks=range(20))\n",
    "plt.legend()\n",
    "plt.xlabel('epoch')\n",
    "plt.show()"
   ]
  },
  {
   "cell_type": "code",
   "execution_count": 31,
   "id": "3bdd9201",
   "metadata": {
    "scrolled": true
   },
   "outputs": [
    {
     "data": {
      "text/plain": [
       "{'loss': [0.5891495943069458,\n",
       "  0.4382186233997345,\n",
       "  0.4038507342338562,\n",
       "  0.38368111848831177,\n",
       "  0.36989322304725647,\n",
       "  0.3536542057991028,\n",
       "  0.34698015451431274,\n",
       "  0.34027552604675293],\n",
       " 'accuracy': [0.7945625185966492,\n",
       "  0.8411250114440918,\n",
       "  0.8528958559036255,\n",
       "  0.8600000143051147,\n",
       "  0.8645208477973938,\n",
       "  0.8697291612625122,\n",
       "  0.871958315372467,\n",
       "  0.8743749856948853],\n",
       " 'val_loss': [0.4105662405490875,\n",
       "  0.37741875648498535,\n",
       "  0.35977432131767273,\n",
       "  0.3417294919490814,\n",
       "  0.3369782865047455,\n",
       "  0.31808367371559143,\n",
       "  0.34284642338752747,\n",
       "  0.337833970785141],\n",
       " 'val_accuracy': [0.8531666398048401,\n",
       "  0.8634999990463257,\n",
       "  0.8728333115577698,\n",
       "  0.8741666674613953,\n",
       "  0.8758333325386047,\n",
       "  0.8841666579246521,\n",
       "  0.874833345413208,\n",
       "  0.8745833039283752]}"
      ]
     },
     "execution_count": 31,
     "metadata": {},
     "output_type": "execute_result"
    }
   ],
   "source": [
    "history.history"
   ]
  },
  {
   "cell_type": "code",
   "execution_count": 32,
   "id": "f06ff37a",
   "metadata": {},
   "outputs": [
    {
     "name": "stdout",
     "output_type": "stream",
     "text": [
      "375/375 [==============================] - 1s 1ms/step - loss: 0.3181 - accuracy: 0.8842\n"
     ]
    },
    {
     "data": {
      "text/plain": [
       "[0.31808367371559143, 0.8841666579246521]"
      ]
     },
     "execution_count": 32,
     "metadata": {},
     "output_type": "execute_result"
    }
   ],
   "source": [
    "model.evaluate(scaled_val, y_val)\n",
    "# 6 epoch 때의 결과와 동일 "
   ]
  },
  {
   "cell_type": "markdown",
   "id": "d851f59d",
   "metadata": {},
   "source": [
    "# validation_split\n",
    "\n",
    "- 훈련 데이터를 자체적으로 훈련/검증 셋으로 나눠서 훈련/검증 수행 \n",
    "- validation_data 대신, 해당 비율만큼 검증 셋 떼서 학습 진행"
   ]
  },
  {
   "cell_type": "code",
   "execution_count": 33,
   "id": "2af3f020",
   "metadata": {},
   "outputs": [
    {
     "name": "stdout",
     "output_type": "stream",
     "text": [
      "Epoch 1/20\n",
      "1500/1500 [==============================] - 6s 4ms/step - loss: 0.5941 - accuracy: 0.7909 - val_loss: 0.4293 - val_accuracy: 0.8407\n",
      "Epoch 2/20\n",
      "1500/1500 [==============================] - 5s 3ms/step - loss: 0.4352 - accuracy: 0.8437 - val_loss: 0.3785 - val_accuracy: 0.8610\n",
      "Epoch 3/20\n",
      "1500/1500 [==============================] - 6s 4ms/step - loss: 0.4001 - accuracy: 0.8552 - val_loss: 0.3705 - val_accuracy: 0.8656\n",
      "Epoch 4/20\n",
      "1500/1500 [==============================] - 6s 4ms/step - loss: 0.3770 - accuracy: 0.8627 - val_loss: 0.3553 - val_accuracy: 0.8723\n",
      "Epoch 5/20\n",
      "1500/1500 [==============================] - 5s 4ms/step - loss: 0.3636 - accuracy: 0.8669 - val_loss: 0.3499 - val_accuracy: 0.8710\n",
      "Epoch 6/20\n",
      "1500/1500 [==============================] - 5s 4ms/step - loss: 0.3521 - accuracy: 0.8705 - val_loss: 0.3560 - val_accuracy: 0.8662\n",
      "Epoch 7/20\n",
      "1500/1500 [==============================] - 5s 3ms/step - loss: 0.3414 - accuracy: 0.8744 - val_loss: 0.3559 - val_accuracy: 0.8736\n"
     ]
    }
   ],
   "source": [
    "(x_train, y_train), (x_test, y_test) = keras.datasets.fashion_mnist.load_data()\n",
    "scaled_train = x_train / 255\n",
    "scaled_test = x_test / 255\n",
    "\n",
    "model = model_fn(keras.layers.Dropout(0.3))\n",
    "model.compile(optimizer='adam',\n",
    "             loss=\"sparse_categorical_crossentropy\",\n",
    "             metrics=\"accuracy\")\n",
    "\n",
    "history = model.fit(scaled_train, y_train, epochs=20,\n",
    "                    validation_split=0.2,\n",
    "                    callbacks=[checkpoint_cb, early_stopping_cb])"
   ]
  },
  {
   "cell_type": "code",
   "execution_count": 34,
   "id": "ec274622",
   "metadata": {},
   "outputs": [
    {
     "data": {
      "image/png": "[encoded data removed]",
      "text/plain": [
       "<Figure size 640x480 with 1 Axes>"
      ]
     },
     "metadata": {},
     "output_type": "display_data"
    }
   ],
   "source": [
    "plt.figure()\n",
    "plt.plot(history.history['loss'], label='train_loss')\n",
    "plt.plot(history.history['accuracy'], label='train_acc')\n",
    "plt.plot(history.history['val_loss'], label='val_loss')\n",
    "plt.plot(history.history['val_accuracy'], label='val_acc')\n",
    "plt.xticks(ticks=range(20))\n",
    "plt.legend()\n",
    "plt.xlabel('epoch')\n",
    "plt.show()"
   ]
  }
 ],
 "metadata": {
  "kernelspec": {
   "display_name": "Python 3 (ipykernel)",
   "language": "python",
   "name": "python3"
  },
  "language_info": {
   "codemirror_mode": {
    "name": "ipython",
    "version": 3
   },
   "file_extension": ".py",
   "mimetype": "text/x-python",
   "name": "python",
   "nbconvert_exporter": "python",
   "pygments_lexer": "ipython3",
   "version": "3.7.13"
  }
 },
 "nbformat": 4,
 "nbformat_minor": 5
}
