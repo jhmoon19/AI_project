{
 "cells": [
  {
   "cell_type": "code",
   "execution_count": 1,
   "id": "b22d3940",
   "metadata": {},
   "outputs": [],
   "source": [
    "from tensorflow import keras\n",
    "import matplotlib.pyplot as plt"
   ]
  },
  {
   "cell_type": "markdown",
   "id": "3abecf16",
   "metadata": {},
   "source": [
    "# 필터의 가중치 \n",
    "\n",
    "- 입력 이미지의 2차원 영역에 적용되어 필터가 찾는 어떤 특징을 크게 두드러지게 표현하는 역할 \n",
    "    - 예) 물건의 테두리같은 특징적인 부분의 가중치는 높고 그 외 영역은 가중치가 낮게 "
   ]
  },
  {
   "cell_type": "code",
   "execution_count": 2,
   "id": "5911c0fa",
   "metadata": {},
   "outputs": [
    {
     "data": {
      "text/plain": [
       "[<keras.layers.convolutional.conv2d.Conv2D at 0x2ae4d6ac948>,\n",
       " <keras.layers.pooling.max_pooling2d.MaxPooling2D at 0x2ae4d6ebc88>,\n",
       " <keras.layers.convolutional.conv2d.Conv2D at 0x2ae4d6a9a88>,\n",
       " <keras.layers.pooling.max_pooling2d.MaxPooling2D at 0x2ae4d6f2e88>,\n",
       " <keras.layers.reshaping.flatten.Flatten at 0x2ae4d6eb088>,\n",
       " <keras.layers.core.dense.Dense at 0x2ae4e8fb5c8>,\n",
       " <keras.layers.regularization.dropout.Dropout at 0x2ae4e906ec8>,\n",
       " <keras.layers.core.dense.Dense at 0x2ae4e901288>]"
      ]
     },
     "execution_count": 2,
     "metadata": {},
     "output_type": "execute_result"
    }
   ],
   "source": [
    "# 저장해둔 cnn모델 불러오기 (흑백 이미지 분류)\n",
    "model = keras.models.load_model('./model/best-cnn-model.h5')\n",
    "\n",
    "# 모델 층 확인 \n",
    "model.layers"
   ]
  },
  {
   "cell_type": "code",
   "execution_count": 3,
   "id": "0f15f3de",
   "metadata": {},
   "outputs": [
    {
     "name": "stdout",
     "output_type": "stream",
     "text": [
      "(3, 3, 1, 32) (32,)\n"
     ]
    }
   ],
   "source": [
    "# 첫 번째 합성곱 층의 가중치 확인 \n",
    "conv = model.layers[0]\n",
    "print(conv.weights[0].shape, conv.weights[1].shape)\n",
    "# 커널 각 칸의 가중치 --> 32개 (3,3,1,32)\n",
    "# 각 커널의 절편 (32,)"
   ]
  },
  {
   "cell_type": "code",
   "execution_count": 4,
   "id": "63a0c1a8",
   "metadata": {},
   "outputs": [
    {
     "data": {
      "text/plain": [
       "[<tf.Variable 'conv2d/kernel:0' shape=(3, 3, 1, 32) dtype=float32, numpy=\n",
       " array([[[[ 8.37899894e-02,  1.93465836e-02, -2.31691882e-01,\n",
       "           -2.34613437e-02, -1.31108845e-02, -2.23353714e-01,\n",
       "            1.17701650e-01, -2.21479446e-01, -1.99067533e-01,\n",
       "            3.08012660e-03, -1.68770552e-02, -2.78407902e-01,\n",
       "           -2.60371327e-01,  1.38951540e-01,  2.96973914e-01,\n",
       "           -3.68582197e-02,  5.13084158e-02, -1.87145919e-01,\n",
       "            4.75437827e-02, -1.00368597e-01, -1.38743269e+00,\n",
       "            1.00796089e-01, -2.88396329e-01, -1.75883055e-01,\n",
       "           -8.09892416e-02,  1.06047265e-01, -7.08374083e-02,\n",
       "           -1.33149788e-01,  2.90899109e-02,  4.54157032e-02,\n",
       "           -1.31522313e-01, -6.82775900e-02]],\n",
       " \n",
       "         [[-8.57927948e-02,  2.17443511e-01, -1.26258761e-01,\n",
       "           -1.22424704e-03, -2.01932877e-01,  1.02423042e-01,\n",
       "           -2.60457933e-01, -1.69760734e-01, -2.19420064e-02,\n",
       "            2.20749646e-01, -3.16007823e-01, -1.83050022e-01,\n",
       "            1.83678299e-01,  2.91565567e-01,  3.16991925e-01,\n",
       "            7.78823439e-03, -3.03398013e-01,  1.78402737e-01,\n",
       "            1.66399442e-02, -2.25139424e-01, -1.37273049e+00,\n",
       "           -2.36616172e-02,  2.17785835e-01,  8.97374526e-02,\n",
       "            2.12079324e-02,  1.02997631e-01, -3.93543631e-01,\n",
       "           -1.59156978e-01, -5.92641175e-01,  2.86542270e-02,\n",
       "            2.86296874e-01,  1.67338382e-02]],\n",
       " \n",
       "         [[ 5.05555049e-02, -3.52510273e-01,  1.50108472e-01,\n",
       "            1.03758276e-01,  3.14075530e-01, -8.65533412e-01,\n",
       "            1.80832714e-01,  4.45036925e-02,  3.10804784e-01,\n",
       "            8.97518545e-02,  3.51994157e-01,  3.97476763e-01,\n",
       "            1.23845279e-01,  2.73489445e-01,  7.97478482e-02,\n",
       "            1.59299508e-01,  1.48209827e-02,  3.27510759e-03,\n",
       "            4.20869840e-03, -3.71101141e-01, -4.32532281e-01,\n",
       "            7.55963521e-03,  2.34191850e-01,  1.89562887e-01,\n",
       "            8.80925506e-02, -2.63304710e-01, -8.47467035e-03,\n",
       "           -4.71760482e-02, -4.78002802e-02, -4.33632344e-01,\n",
       "            2.23337516e-01,  8.46548229e-02]]],\n",
       " \n",
       " \n",
       "        [[[-2.15250134e-01,  1.29049584e-01,  3.08594674e-01,\n",
       "            5.08207902e-02,  4.93569449e-02,  2.69578844e-02,\n",
       "           -3.83436292e-01, -1.56479388e-01,  2.07553566e-01,\n",
       "            8.30708668e-02, -6.65129572e-02, -4.05170135e-02,\n",
       "           -3.27279389e-01,  1.43341377e-01, -2.16302261e-01,\n",
       "            3.38079557e-02,  1.11432545e-01, -2.23749131e-01,\n",
       "            1.34084493e-01,  2.46979848e-01, -1.18251622e+00,\n",
       "           -1.49560682e-02, -2.87286550e-01, -3.94618273e-01,\n",
       "            8.68299454e-02,  1.50919065e-01, -1.52655333e-01,\n",
       "            4.88472928e-04,  1.62440166e-01,  1.65003702e-01,\n",
       "            1.96616203e-01,  1.95150658e-01]],\n",
       " \n",
       "         [[-1.55990094e-01,  2.41599813e-01,  3.77570152e-01,\n",
       "            6.13847226e-02, -3.11093092e-01, -1.46013483e-01,\n",
       "            3.08125466e-01,  1.51249260e-01,  1.81386143e-01,\n",
       "            1.72603250e-01, -2.39336044e-01,  8.86522382e-02,\n",
       "           -1.72169264e-02, -4.13457165e-03, -4.94997621e-01,\n",
       "            1.15530133e-01,  2.50464916e-01,  1.78641841e-01,\n",
       "            8.90144780e-02,  1.10981658e-01, -1.22288501e+00,\n",
       "            2.01992095e-01, -6.90756217e-02,  1.70690715e-01,\n",
       "            2.59198919e-02,  1.05224565e-01, -4.26964521e-01,\n",
       "            1.55713871e-01, -2.24017486e-01,  1.26385480e-01,\n",
       "            1.13721386e-01, -2.86246985e-01]],\n",
       " \n",
       "         [[ 3.21579009e-01, -3.02706480e-01,  9.14534777e-02,\n",
       "           -1.08752690e-01, -1.61724195e-01, -5.32503128e-01,\n",
       "            3.70760933e-02,  1.22136757e-01, -1.77450448e-01,\n",
       "           -2.33733714e-01,  3.03103924e-01,  3.93159762e-02,\n",
       "            3.32160324e-01, -8.15107822e-02, -1.61612958e-01,\n",
       "            4.64876518e-02,  7.52460063e-02,  3.55225913e-02,\n",
       "            7.22286776e-02,  8.24692994e-02, -4.66841251e-01,\n",
       "            1.41343668e-01,  3.47768217e-01,  2.11240053e-01,\n",
       "            4.53716591e-02, -3.76779079e-01,  4.89128195e-02,\n",
       "            1.31230861e-01,  7.70539045e-02,  1.51232377e-01,\n",
       "           -2.72553861e-01,  7.35747516e-02]]],\n",
       " \n",
       " \n",
       "        [[[-7.55613819e-02,  2.72946712e-02, -6.87031373e-02,\n",
       "            1.45429283e-01,  4.11801547e-01,  3.00025165e-01,\n",
       "            9.02736112e-02, -4.60822880e-02,  1.37441814e-01,\n",
       "            1.95360929e-01,  1.68373615e-01,  3.00419539e-01,\n",
       "            1.01579487e-01, -6.52718917e-02, -6.12699330e-01,\n",
       "            1.67917326e-01, -1.63764674e-02, -3.41695935e-01,\n",
       "           -1.37191877e-01,  1.62337437e-01, -1.17829219e-01,\n",
       "           -2.33305320e-02, -1.39941722e-01, -2.35757008e-01,\n",
       "           -3.20250243e-02,  2.56530851e-01,  2.85996020e-01,\n",
       "            1.24036416e-01,  2.40046203e-01, -3.01746339e-01,\n",
       "            1.15446607e-02,  3.70185882e-01]],\n",
       " \n",
       "         [[ 4.84510250e-02,  1.34312898e-01, -2.44448259e-01,\n",
       "            1.21758595e-01, -1.94637954e-01,  4.64370139e-02,\n",
       "           -6.34140670e-02, -6.19509779e-02, -9.03354362e-02,\n",
       "           -2.01946065e-01,  7.39350989e-02, -1.51771426e-01,\n",
       "           -2.38529488e-01, -3.19724441e-01, -1.17053795e+00,\n",
       "            3.74445543e-02, -2.42199630e-01,  3.11497241e-01,\n",
       "            1.33946329e-01, -2.27865931e-02, -8.27718005e-02,\n",
       "           -1.30341262e-01, -1.08492352e-01, -5.64403227e-03,\n",
       "            1.14615954e-01,  2.30323404e-01,  1.47136137e-01,\n",
       "            2.91609894e-02,  3.71477753e-02, -1.22111484e-01,\n",
       "           -3.01756471e-01, -3.11087102e-01]],\n",
       " \n",
       "         [[ 1.27033666e-01, -7.46982731e-03, -2.78766602e-01,\n",
       "           -2.40364954e-01,  3.50312106e-02,  1.10332377e-01,\n",
       "           -1.40954209e-02, -2.06465535e-02, -4.56473142e-01,\n",
       "           -2.58056819e-01, -2.22375989e-01, -2.21915960e-01,\n",
       "            1.17352456e-01, -3.10630560e-01, -1.05517530e+00,\n",
       "           -3.28518860e-02,  4.60459404e-02,  2.55131852e-02,\n",
       "            1.87411115e-01,  9.77634788e-02,  3.96823436e-01,\n",
       "           -3.18249129e-02,  1.23923846e-01,  1.70408353e-01,\n",
       "           -1.93033233e-01, -2.95284182e-01,  3.35028291e-01,\n",
       "           -6.40771762e-02,  1.05907209e-01,  2.37082437e-01,\n",
       "           -2.41915196e-01, -7.01732412e-02]]]], dtype=float32)>,\n",
       " <tf.Variable 'conv2d/bias:0' shape=(32,) dtype=float32, numpy=\n",
       " array([-1.8828170e-02, -3.3865247e-02, -9.0731261e-03, -1.0585584e-01,\n",
       "        -2.2137435e-03,  5.1712740e-02, -1.0242746e-02,  1.4664710e-02,\n",
       "        -7.3540355e-03, -4.2765979e-02,  2.0302992e-05,  5.6535373e-03,\n",
       "        -1.1324444e-02, -2.9975940e-02,  1.5092051e-01, -1.0010682e-01,\n",
       "        -6.2191974e-02,  6.5647350e-03, -2.3668508e-01, -7.9990439e-03,\n",
       "         2.2112843e-01, -1.2033775e-01, -1.8639922e-02, -1.9973993e-02,\n",
       "        -8.9065298e-02, -2.5636543e-02, -6.8556210e-03, -2.5503851e-02,\n",
       "        -6.5633697e-03, -6.3069584e-03, -7.2328742e-03, -1.1743066e-02],\n",
       "       dtype=float32)>]"
      ]
     },
     "execution_count": 4,
     "metadata": {},
     "output_type": "execute_result"
    }
   ],
   "source": [
    "conv.weights"
   ]
  },
  {
   "cell_type": "markdown",
   "id": "7b2cb7c4",
   "metadata": {},
   "source": [
    "- conv.weights[0]\n",
    "    - 커널 각 칸의 가중치\n",
    "    - 가중치의 크기 \n",
    "        - 커널 크기 : (3, 3, 1)\n",
    "        - 필터 개수 : 32\n",
    "        \n",
    "- conv.weights[1]\n",
    "    - 절편\n",
    "    - 절편 개수 = 필터 개수 "
   ]
  },
  {
   "cell_type": "code",
   "execution_count": 5,
   "id": "f92b9d48",
   "metadata": {},
   "outputs": [
    {
     "name": "stdout",
     "output_type": "stream",
     "text": [
      "-0.032720864 0.2714608\n"
     ]
    }
   ],
   "source": [
    "# 원활한 계산을 위해 넘파이 배열로 변환 \n",
    "conv_weights = conv.weights[0].numpy()\n",
    "\n",
    "print(conv_weights.mean(), conv_weights.std())"
   ]
  },
  {
   "cell_type": "code",
   "execution_count": 7,
   "id": "667a6580",
   "metadata": {},
   "outputs": [
    {
     "data": {
      "text/plain": [
       "(288, 1)"
      ]
     },
     "execution_count": 7,
     "metadata": {},
     "output_type": "execute_result"
    }
   ],
   "source": [
    "conv_weights.reshape(-1,1).shape"
   ]
  },
  {
   "cell_type": "code",
   "execution_count": 8,
   "id": "922d946f",
   "metadata": {},
   "outputs": [
    {
     "data": {
      "text/plain": [
       "array([[ 8.37899894e-02],\n",
       "       [ 1.93465836e-02],\n",
       "       [-2.31691882e-01],\n",
       "       [-2.34613437e-02],\n",
       "       [-1.31108845e-02],\n",
       "       [-2.23353714e-01],\n",
       "       [ 1.17701650e-01],\n",
       "       [-2.21479446e-01],\n",
       "       [-1.99067533e-01],\n",
       "       [ 3.08012660e-03],\n",
       "       [-1.68770552e-02],\n",
       "       [-2.78407902e-01],\n",
       "       [-2.60371327e-01],\n",
       "       [ 1.38951540e-01],\n",
       "       [ 2.96973914e-01],\n",
       "       [-3.68582197e-02],\n",
       "       [ 5.13084158e-02],\n",
       "       [-1.87145919e-01],\n",
       "       [ 4.75437827e-02],\n",
       "       [-1.00368597e-01],\n",
       "       [-1.38743269e+00],\n",
       "       [ 1.00796089e-01],\n",
       "       [-2.88396329e-01],\n",
       "       [-1.75883055e-01],\n",
       "       [-8.09892416e-02],\n",
       "       [ 1.06047265e-01],\n",
       "       [-7.08374083e-02],\n",
       "       [-1.33149788e-01],\n",
       "       [ 2.90899109e-02],\n",
       "       [ 4.54157032e-02],\n",
       "       [-1.31522313e-01],\n",
       "       [-6.82775900e-02],\n",
       "       [-8.57927948e-02],\n",
       "       [ 2.17443511e-01],\n",
       "       [-1.26258761e-01],\n",
       "       [-1.22424704e-03],\n",
       "       [-2.01932877e-01],\n",
       "       [ 1.02423042e-01],\n",
       "       [-2.60457933e-01],\n",
       "       [-1.69760734e-01],\n",
       "       [-2.19420064e-02],\n",
       "       [ 2.20749646e-01],\n",
       "       [-3.16007823e-01],\n",
       "       [-1.83050022e-01],\n",
       "       [ 1.83678299e-01],\n",
       "       [ 2.91565567e-01],\n",
       "       [ 3.16991925e-01],\n",
       "       [ 7.78823439e-03],\n",
       "       [-3.03398013e-01],\n",
       "       [ 1.78402737e-01],\n",
       "       [ 1.66399442e-02],\n",
       "       [-2.25139424e-01],\n",
       "       [-1.37273049e+00],\n",
       "       [-2.36616172e-02],\n",
       "       [ 2.17785835e-01],\n",
       "       [ 8.97374526e-02],\n",
       "       [ 2.12079324e-02],\n",
       "       [ 1.02997631e-01],\n",
       "       [-3.93543631e-01],\n",
       "       [-1.59156978e-01],\n",
       "       [-5.92641175e-01],\n",
       "       [ 2.86542270e-02],\n",
       "       [ 2.86296874e-01],\n",
       "       [ 1.67338382e-02],\n",
       "       [ 5.05555049e-02],\n",
       "       [-3.52510273e-01],\n",
       "       [ 1.50108472e-01],\n",
       "       [ 1.03758276e-01],\n",
       "       [ 3.14075530e-01],\n",
       "       [-8.65533412e-01],\n",
       "       [ 1.80832714e-01],\n",
       "       [ 4.45036925e-02],\n",
       "       [ 3.10804784e-01],\n",
       "       [ 8.97518545e-02],\n",
       "       [ 3.51994157e-01],\n",
       "       [ 3.97476763e-01],\n",
       "       [ 1.23845279e-01],\n",
       "       [ 2.73489445e-01],\n",
       "       [ 7.97478482e-02],\n",
       "       [ 1.59299508e-01],\n",
       "       [ 1.48209827e-02],\n",
       "       [ 3.27510759e-03],\n",
       "       [ 4.20869840e-03],\n",
       "       [-3.71101141e-01],\n",
       "       [-4.32532281e-01],\n",
       "       [ 7.55963521e-03],\n",
       "       [ 2.34191850e-01],\n",
       "       [ 1.89562887e-01],\n",
       "       [ 8.80925506e-02],\n",
       "       [-2.63304710e-01],\n",
       "       [-8.47467035e-03],\n",
       "       [-4.71760482e-02],\n",
       "       [-4.78002802e-02],\n",
       "       [-4.33632344e-01],\n",
       "       [ 2.23337516e-01],\n",
       "       [ 8.46548229e-02],\n",
       "       [-2.15250134e-01],\n",
       "       [ 1.29049584e-01],\n",
       "       [ 3.08594674e-01],\n",
       "       [ 5.08207902e-02],\n",
       "       [ 4.93569449e-02],\n",
       "       [ 2.69578844e-02],\n",
       "       [-3.83436292e-01],\n",
       "       [-1.56479388e-01],\n",
       "       [ 2.07553566e-01],\n",
       "       [ 8.30708668e-02],\n",
       "       [-6.65129572e-02],\n",
       "       [-4.05170135e-02],\n",
       "       [-3.27279389e-01],\n",
       "       [ 1.43341377e-01],\n",
       "       [-2.16302261e-01],\n",
       "       [ 3.38079557e-02],\n",
       "       [ 1.11432545e-01],\n",
       "       [-2.23749131e-01],\n",
       "       [ 1.34084493e-01],\n",
       "       [ 2.46979848e-01],\n",
       "       [-1.18251622e+00],\n",
       "       [-1.49560682e-02],\n",
       "       [-2.87286550e-01],\n",
       "       [-3.94618273e-01],\n",
       "       [ 8.68299454e-02],\n",
       "       [ 1.50919065e-01],\n",
       "       [-1.52655333e-01],\n",
       "       [ 4.88472928e-04],\n",
       "       [ 1.62440166e-01],\n",
       "       [ 1.65003702e-01],\n",
       "       [ 1.96616203e-01],\n",
       "       [ 1.95150658e-01],\n",
       "       [-1.55990094e-01],\n",
       "       [ 2.41599813e-01],\n",
       "       [ 3.77570152e-01],\n",
       "       [ 6.13847226e-02],\n",
       "       [-3.11093092e-01],\n",
       "       [-1.46013483e-01],\n",
       "       [ 3.08125466e-01],\n",
       "       [ 1.51249260e-01],\n",
       "       [ 1.81386143e-01],\n",
       "       [ 1.72603250e-01],\n",
       "       [-2.39336044e-01],\n",
       "       [ 8.86522382e-02],\n",
       "       [-1.72169264e-02],\n",
       "       [-4.13457165e-03],\n",
       "       [-4.94997621e-01],\n",
       "       [ 1.15530133e-01],\n",
       "       [ 2.50464916e-01],\n",
       "       [ 1.78641841e-01],\n",
       "       [ 8.90144780e-02],\n",
       "       [ 1.10981658e-01],\n",
       "       [-1.22288501e+00],\n",
       "       [ 2.01992095e-01],\n",
       "       [-6.90756217e-02],\n",
       "       [ 1.70690715e-01],\n",
       "       [ 2.59198919e-02],\n",
       "       [ 1.05224565e-01],\n",
       "       [-4.26964521e-01],\n",
       "       [ 1.55713871e-01],\n",
       "       [-2.24017486e-01],\n",
       "       [ 1.26385480e-01],\n",
       "       [ 1.13721386e-01],\n",
       "       [-2.86246985e-01],\n",
       "       [ 3.21579009e-01],\n",
       "       [-3.02706480e-01],\n",
       "       [ 9.14534777e-02],\n",
       "       [-1.08752690e-01],\n",
       "       [-1.61724195e-01],\n",
       "       [-5.32503128e-01],\n",
       "       [ 3.70760933e-02],\n",
       "       [ 1.22136757e-01],\n",
       "       [-1.77450448e-01],\n",
       "       [-2.33733714e-01],\n",
       "       [ 3.03103924e-01],\n",
       "       [ 3.93159762e-02],\n",
       "       [ 3.32160324e-01],\n",
       "       [-8.15107822e-02],\n",
       "       [-1.61612958e-01],\n",
       "       [ 4.64876518e-02],\n",
       "       [ 7.52460063e-02],\n",
       "       [ 3.55225913e-02],\n",
       "       [ 7.22286776e-02],\n",
       "       [ 8.24692994e-02],\n",
       "       [-4.66841251e-01],\n",
       "       [ 1.41343668e-01],\n",
       "       [ 3.47768217e-01],\n",
       "       [ 2.11240053e-01],\n",
       "       [ 4.53716591e-02],\n",
       "       [-3.76779079e-01],\n",
       "       [ 4.89128195e-02],\n",
       "       [ 1.31230861e-01],\n",
       "       [ 7.70539045e-02],\n",
       "       [ 1.51232377e-01],\n",
       "       [-2.72553861e-01],\n",
       "       [ 7.35747516e-02],\n",
       "       [-7.55613819e-02],\n",
       "       [ 2.72946712e-02],\n",
       "       [-6.87031373e-02],\n",
       "       [ 1.45429283e-01],\n",
       "       [ 4.11801547e-01],\n",
       "       [ 3.00025165e-01],\n",
       "       [ 9.02736112e-02],\n",
       "       [-4.60822880e-02],\n",
       "       [ 1.37441814e-01],\n",
       "       [ 1.95360929e-01],\n",
       "       [ 1.68373615e-01],\n",
       "       [ 3.00419539e-01],\n",
       "       [ 1.01579487e-01],\n",
       "       [-6.52718917e-02],\n",
       "       [-6.12699330e-01],\n",
       "       [ 1.67917326e-01],\n",
       "       [-1.63764674e-02],\n",
       "       [-3.41695935e-01],\n",
       "       [-1.37191877e-01],\n",
       "       [ 1.62337437e-01],\n",
       "       [-1.17829219e-01],\n",
       "       [-2.33305320e-02],\n",
       "       [-1.39941722e-01],\n",
       "       [-2.35757008e-01],\n",
       "       [-3.20250243e-02],\n",
       "       [ 2.56530851e-01],\n",
       "       [ 2.85996020e-01],\n",
       "       [ 1.24036416e-01],\n",
       "       [ 2.40046203e-01],\n",
       "       [-3.01746339e-01],\n",
       "       [ 1.15446607e-02],\n",
       "       [ 3.70185882e-01],\n",
       "       [ 4.84510250e-02],\n",
       "       [ 1.34312898e-01],\n",
       "       [-2.44448259e-01],\n",
       "       [ 1.21758595e-01],\n",
       "       [-1.94637954e-01],\n",
       "       [ 4.64370139e-02],\n",
       "       [-6.34140670e-02],\n",
       "       [-6.19509779e-02],\n",
       "       [-9.03354362e-02],\n",
       "       [-2.01946065e-01],\n",
       "       [ 7.39350989e-02],\n",
       "       [-1.51771426e-01],\n",
       "       [-2.38529488e-01],\n",
       "       [-3.19724441e-01],\n",
       "       [-1.17053795e+00],\n",
       "       [ 3.74445543e-02],\n",
       "       [-2.42199630e-01],\n",
       "       [ 3.11497241e-01],\n",
       "       [ 1.33946329e-01],\n",
       "       [-2.27865931e-02],\n",
       "       [-8.27718005e-02],\n",
       "       [-1.30341262e-01],\n",
       "       [-1.08492352e-01],\n",
       "       [-5.64403227e-03],\n",
       "       [ 1.14615954e-01],\n",
       "       [ 2.30323404e-01],\n",
       "       [ 1.47136137e-01],\n",
       "       [ 2.91609894e-02],\n",
       "       [ 3.71477753e-02],\n",
       "       [-1.22111484e-01],\n",
       "       [-3.01756471e-01],\n",
       "       [-3.11087102e-01],\n",
       "       [ 1.27033666e-01],\n",
       "       [-7.46982731e-03],\n",
       "       [-2.78766602e-01],\n",
       "       [-2.40364954e-01],\n",
       "       [ 3.50312106e-02],\n",
       "       [ 1.10332377e-01],\n",
       "       [-1.40954209e-02],\n",
       "       [-2.06465535e-02],\n",
       "       [-4.56473142e-01],\n",
       "       [-2.58056819e-01],\n",
       "       [-2.22375989e-01],\n",
       "       [-2.21915960e-01],\n",
       "       [ 1.17352456e-01],\n",
       "       [-3.10630560e-01],\n",
       "       [-1.05517530e+00],\n",
       "       [-3.28518860e-02],\n",
       "       [ 4.60459404e-02],\n",
       "       [ 2.55131852e-02],\n",
       "       [ 1.87411115e-01],\n",
       "       [ 9.77634788e-02],\n",
       "       [ 3.96823436e-01],\n",
       "       [-3.18249129e-02],\n",
       "       [ 1.23923846e-01],\n",
       "       [ 1.70408353e-01],\n",
       "       [-1.93033233e-01],\n",
       "       [-2.95284182e-01],\n",
       "       [ 3.35028291e-01],\n",
       "       [-6.40771762e-02],\n",
       "       [ 1.05907209e-01],\n",
       "       [ 2.37082437e-01],\n",
       "       [-2.41915196e-01],\n",
       "       [-7.01732412e-02]], dtype=float32)"
      ]
     },
     "execution_count": 8,
     "metadata": {},
     "output_type": "execute_result"
    }
   ],
   "source": [
    "conv_weights.reshape(-1,1)"
   ]
  },
  {
   "cell_type": "code",
   "execution_count": 6,
   "id": "af38e475",
   "metadata": {},
   "outputs": [
    {
     "data": {
      "image/png": "[encoded data removed]",
      "text/plain": [
       "<Figure size 640x480 with 1 Axes>"
      ]
     },
     "metadata": {},
     "output_type": "display_data"
    }
   ],
   "source": [
    "# 가중치 히스토그램 \n",
    "plt.figure()\n",
    "\n",
    "plt.hist(conv_weights.reshape(-1,1)) # (288, 1)\n",
    "# hist 함수는 데이터를 1차원 배열로 전달해야함.\n",
    "\n",
    "plt.xlabel('weight')\n",
    "plt.ylabel('count')\n",
    "\n",
    "plt.show()"
   ]
  },
  {
   "cell_type": "markdown",
   "id": "94ee2158",
   "metadata": {},
   "source": [
    "- 학습이 잘되면, 가중치가 표준정규분포에 가까운 모양을 띔.\n",
    "    - 지금은 왼쪽 꼬리가 있음. \n",
    "- 초기값은 일자로 다 똑같음. \n",
    "- 가중치가 마이너스 된 것은 볼필요 없다 해서 날려버린 것 \n",
    "- 가중치 높은 것은 집중해야 하는 애들 "
   ]
  },
  {
   "cell_type": "markdown",
   "id": "c3f3c0c4",
   "metadata": {},
   "source": [
    "- 각각의 도장들 확인 \n",
    "- 초기 가중치가 어떻게 생겼는지 확인"
   ]
  },
  {
   "cell_type": "code",
   "execution_count": 9,
   "id": "2eb6166c",
   "metadata": {},
   "outputs": [
    {
     "data": {
      "text/plain": [
       "array([[ 0.08378999, -0.08579279,  0.0505555 ],\n",
       "       [-0.21525013, -0.1559901 ,  0.321579  ],\n",
       "       [-0.07556138,  0.04845103,  0.12703367]], dtype=float32)"
      ]
     },
     "execution_count": 9,
     "metadata": {},
     "output_type": "execute_result"
    }
   ],
   "source": [
    "conv_weights[:,:,0,0] # (3,3)\n",
    "# 0번째 커널의 가중치의 모습 "
   ]
  },
  {
   "cell_type": "code",
   "execution_count": 10,
   "id": "db5d3495",
   "metadata": {},
   "outputs": [
    {
     "data": {
      "text/plain": [
       "array([[-1.3874327 , -1.3727305 , -0.43253228],\n",
       "       [-1.1825162 , -1.222885  , -0.46684125],\n",
       "       [-0.11782922, -0.0827718 ,  0.39682344]], dtype=float32)"
      ]
     },
     "execution_count": 10,
     "metadata": {},
     "output_type": "execute_result"
    }
   ],
   "source": [
    "conv_weights[:,:,0,20]"
   ]
  },
  {
   "cell_type": "code",
   "execution_count": 7,
   "id": "2b8d0a3d",
   "metadata": {},
   "outputs": [
    {
     "data": {
      "image/png": "[encoded data removed]",
      "text/plain": [
       "<Figure size 1500x200 with 32 Axes>"
      ]
     },
     "metadata": {},
     "output_type": "display_data"
    }
   ],
   "source": [
    "# 32개의 커널 모두 시각화\n",
    "fig, axs = plt.subplots(2,16,figsize=(15,2))\n",
    "\n",
    "for i in range(2):\n",
    "    for j in range(16):\n",
    "        # conv_weights : (3,3,1,32)\n",
    "        # conv_weights[:,:,0,0] ~ [:,:,0,31]\n",
    "        axs[i,j].imshow(conv_weights[:,:,0,i*16+j],\n",
    "                       vmin=-0.5, vmax=0.5)\n",
    "        axs[i,j].axis('off')\n",
    "        \n",
    "plt.show()"
   ]
  },
  {
   "cell_type": "markdown",
   "id": "2e01a866",
   "metadata": {},
   "source": [
    "- 밝은 부분이 높은 값 \n",
    "    - 가중치가 높은 영역에 이미지가 겹치면 크게 활성화됨. \n",
    "        - 예) 가로로 한 줄의 가중치가 높다면 가로로 놓인 직선을 만났을 때 크게 활성화 \n",
    "        \n",
    "- i : 행 인덱스 (0-1)\n",
    "- j : 열 인덱스 (0-15)\n",
    "    - conv_weights[:,:,0,0] 부터 [:,:,0,31] 까지 출력 \n",
    "    - 0 번째 채널, 0 ~ 31번째 커널\n",
    "\n",
    "- imshow()\n",
    "    - 배열의 최대값과 최소값으로 픽셀 강도 표현 \n",
    "        - 배열의 최대값은 가장 밝은 색으로 \n",
    "        - 배열의 최소값은 가장 어두운 색으로\n",
    "    - vmax, vmin\n",
    "        - 컬러맵으로 표현할 색의 범위 지정 "
   ]
  },
  {
   "cell_type": "markdown",
   "id": "b5f30ecd",
   "metadata": {},
   "source": [
    "- 정확도 90 넘어가는 잘 학습된 커널들\n",
    "- 가로 특징, n자 특징 등을 포착하는 커널들"
   ]
  },
  {
   "cell_type": "code",
   "execution_count": 8,
   "id": "85b0d05d",
   "metadata": {},
   "outputs": [
    {
     "data": {
      "text/plain": [
       "array([[[[ 8.37899894e-02,  1.93465836e-02, -2.31691882e-01,\n",
       "          -2.34613437e-02, -1.31108845e-02, -2.23353714e-01,\n",
       "           1.17701650e-01, -2.21479446e-01, -1.99067533e-01,\n",
       "           3.08012660e-03, -1.68770552e-02, -2.78407902e-01,\n",
       "          -2.60371327e-01,  1.38951540e-01,  2.96973914e-01,\n",
       "          -3.68582197e-02,  5.13084158e-02, -1.87145919e-01,\n",
       "           4.75437827e-02, -1.00368597e-01, -1.38743269e+00,\n",
       "           1.00796089e-01, -2.88396329e-01, -1.75883055e-01,\n",
       "          -8.09892416e-02,  1.06047265e-01, -7.08374083e-02,\n",
       "          -1.33149788e-01,  2.90899109e-02,  4.54157032e-02,\n",
       "          -1.31522313e-01, -6.82775900e-02]],\n",
       "\n",
       "        [[-8.57927948e-02,  2.17443511e-01, -1.26258761e-01,\n",
       "          -1.22424704e-03, -2.01932877e-01,  1.02423042e-01,\n",
       "          -2.60457933e-01, -1.69760734e-01, -2.19420064e-02,\n",
       "           2.20749646e-01, -3.16007823e-01, -1.83050022e-01,\n",
       "           1.83678299e-01,  2.91565567e-01,  3.16991925e-01,\n",
       "           7.78823439e-03, -3.03398013e-01,  1.78402737e-01,\n",
       "           1.66399442e-02, -2.25139424e-01, -1.37273049e+00,\n",
       "          -2.36616172e-02,  2.17785835e-01,  8.97374526e-02,\n",
       "           2.12079324e-02,  1.02997631e-01, -3.93543631e-01,\n",
       "          -1.59156978e-01, -5.92641175e-01,  2.86542270e-02,\n",
       "           2.86296874e-01,  1.67338382e-02]],\n",
       "\n",
       "        [[ 5.05555049e-02, -3.52510273e-01,  1.50108472e-01,\n",
       "           1.03758276e-01,  3.14075530e-01, -8.65533412e-01,\n",
       "           1.80832714e-01,  4.45036925e-02,  3.10804784e-01,\n",
       "           8.97518545e-02,  3.51994157e-01,  3.97476763e-01,\n",
       "           1.23845279e-01,  2.73489445e-01,  7.97478482e-02,\n",
       "           1.59299508e-01,  1.48209827e-02,  3.27510759e-03,\n",
       "           4.20869840e-03, -3.71101141e-01, -4.32532281e-01,\n",
       "           7.55963521e-03,  2.34191850e-01,  1.89562887e-01,\n",
       "           8.80925506e-02, -2.63304710e-01, -8.47467035e-03,\n",
       "          -4.71760482e-02, -4.78002802e-02, -4.33632344e-01,\n",
       "           2.23337516e-01,  8.46548229e-02]]],\n",
       "\n",
       "\n",
       "       [[[-2.15250134e-01,  1.29049584e-01,  3.08594674e-01,\n",
       "           5.08207902e-02,  4.93569449e-02,  2.69578844e-02,\n",
       "          -3.83436292e-01, -1.56479388e-01,  2.07553566e-01,\n",
       "           8.30708668e-02, -6.65129572e-02, -4.05170135e-02,\n",
       "          -3.27279389e-01,  1.43341377e-01, -2.16302261e-01,\n",
       "           3.38079557e-02,  1.11432545e-01, -2.23749131e-01,\n",
       "           1.34084493e-01,  2.46979848e-01, -1.18251622e+00,\n",
       "          -1.49560682e-02, -2.87286550e-01, -3.94618273e-01,\n",
       "           8.68299454e-02,  1.50919065e-01, -1.52655333e-01,\n",
       "           4.88472928e-04,  1.62440166e-01,  1.65003702e-01,\n",
       "           1.96616203e-01,  1.95150658e-01]],\n",
       "\n",
       "        [[-1.55990094e-01,  2.41599813e-01,  3.77570152e-01,\n",
       "           6.13847226e-02, -3.11093092e-01, -1.46013483e-01,\n",
       "           3.08125466e-01,  1.51249260e-01,  1.81386143e-01,\n",
       "           1.72603250e-01, -2.39336044e-01,  8.86522382e-02,\n",
       "          -1.72169264e-02, -4.13457165e-03, -4.94997621e-01,\n",
       "           1.15530133e-01,  2.50464916e-01,  1.78641841e-01,\n",
       "           8.90144780e-02,  1.10981658e-01, -1.22288501e+00,\n",
       "           2.01992095e-01, -6.90756217e-02,  1.70690715e-01,\n",
       "           2.59198919e-02,  1.05224565e-01, -4.26964521e-01,\n",
       "           1.55713871e-01, -2.24017486e-01,  1.26385480e-01,\n",
       "           1.13721386e-01, -2.86246985e-01]],\n",
       "\n",
       "        [[ 3.21579009e-01, -3.02706480e-01,  9.14534777e-02,\n",
       "          -1.08752690e-01, -1.61724195e-01, -5.32503128e-01,\n",
       "           3.70760933e-02,  1.22136757e-01, -1.77450448e-01,\n",
       "          -2.33733714e-01,  3.03103924e-01,  3.93159762e-02,\n",
       "           3.32160324e-01, -8.15107822e-02, -1.61612958e-01,\n",
       "           4.64876518e-02,  7.52460063e-02,  3.55225913e-02,\n",
       "           7.22286776e-02,  8.24692994e-02, -4.66841251e-01,\n",
       "           1.41343668e-01,  3.47768217e-01,  2.11240053e-01,\n",
       "           4.53716591e-02, -3.76779079e-01,  4.89128195e-02,\n",
       "           1.31230861e-01,  7.70539045e-02,  1.51232377e-01,\n",
       "          -2.72553861e-01,  7.35747516e-02]]],\n",
       "\n",
       "\n",
       "       [[[-7.55613819e-02,  2.72946712e-02, -6.87031373e-02,\n",
       "           1.45429283e-01,  4.11801547e-01,  3.00025165e-01,\n",
       "           9.02736112e-02, -4.60822880e-02,  1.37441814e-01,\n",
       "           1.95360929e-01,  1.68373615e-01,  3.00419539e-01,\n",
       "           1.01579487e-01, -6.52718917e-02, -6.12699330e-01,\n",
       "           1.67917326e-01, -1.63764674e-02, -3.41695935e-01,\n",
       "          -1.37191877e-01,  1.62337437e-01, -1.17829219e-01,\n",
       "          -2.33305320e-02, -1.39941722e-01, -2.35757008e-01,\n",
       "          -3.20250243e-02,  2.56530851e-01,  2.85996020e-01,\n",
       "           1.24036416e-01,  2.40046203e-01, -3.01746339e-01,\n",
       "           1.15446607e-02,  3.70185882e-01]],\n",
       "\n",
       "        [[ 4.84510250e-02,  1.34312898e-01, -2.44448259e-01,\n",
       "           1.21758595e-01, -1.94637954e-01,  4.64370139e-02,\n",
       "          -6.34140670e-02, -6.19509779e-02, -9.03354362e-02,\n",
       "          -2.01946065e-01,  7.39350989e-02, -1.51771426e-01,\n",
       "          -2.38529488e-01, -3.19724441e-01, -1.17053795e+00,\n",
       "           3.74445543e-02, -2.42199630e-01,  3.11497241e-01,\n",
       "           1.33946329e-01, -2.27865931e-02, -8.27718005e-02,\n",
       "          -1.30341262e-01, -1.08492352e-01, -5.64403227e-03,\n",
       "           1.14615954e-01,  2.30323404e-01,  1.47136137e-01,\n",
       "           2.91609894e-02,  3.71477753e-02, -1.22111484e-01,\n",
       "          -3.01756471e-01, -3.11087102e-01]],\n",
       "\n",
       "        [[ 1.27033666e-01, -7.46982731e-03, -2.78766602e-01,\n",
       "          -2.40364954e-01,  3.50312106e-02,  1.10332377e-01,\n",
       "          -1.40954209e-02, -2.06465535e-02, -4.56473142e-01,\n",
       "          -2.58056819e-01, -2.22375989e-01, -2.21915960e-01,\n",
       "           1.17352456e-01, -3.10630560e-01, -1.05517530e+00,\n",
       "          -3.28518860e-02,  4.60459404e-02,  2.55131852e-02,\n",
       "           1.87411115e-01,  9.77634788e-02,  3.96823436e-01,\n",
       "          -3.18249129e-02,  1.23923846e-01,  1.70408353e-01,\n",
       "          -1.93033233e-01, -2.95284182e-01,  3.35028291e-01,\n",
       "          -6.40771762e-02,  1.05907209e-01,  2.37082437e-01,\n",
       "          -2.41915196e-01, -7.01732412e-02]]]], dtype=float32)"
      ]
     },
     "execution_count": 8,
     "metadata": {},
     "output_type": "execute_result"
    }
   ],
   "source": [
    "conv_weights"
   ]
  },
  {
   "cell_type": "code",
   "execution_count": 9,
   "id": "02353d0b",
   "metadata": {},
   "outputs": [
    {
     "data": {
      "text/plain": [
       "(3, 3, 1, 32)"
      ]
     },
     "execution_count": 9,
     "metadata": {},
     "output_type": "execute_result"
    }
   ],
   "source": [
    "conv_weights.shape\n",
    "# 너비, 높이, 채널 차원, 커널 "
   ]
  },
  {
   "cell_type": "markdown",
   "id": "0dcb1a62",
   "metadata": {},
   "source": [
    "# 훈련하지 않은 빈 합성곱 신경망과 비교 "
   ]
  },
  {
   "cell_type": "code",
   "execution_count": 13,
   "id": "9492b77d",
   "metadata": {
    "scrolled": true
   },
   "outputs": [
    {
     "name": "stdout",
     "output_type": "stream",
     "text": [
      "(3, 3, 1, 32)\n",
      "[<tf.Variable 'conv2d/kernel:0' shape=(3, 3, 1, 32) dtype=float32, numpy=\n",
      "array([[[[-0.06760715, -0.02423579, -0.07525603, -0.03449267,\n",
      "           0.03442334, -0.00444511, -0.07992516,  0.13323648,\n",
      "           0.04578902,  0.09367001, -0.04502923,  0.10926385,\n",
      "          -0.05791747, -0.02298006,  0.12853993,  0.0181265 ,\n",
      "          -0.0816525 ,  0.13182403,  0.08510938, -0.06080904,\n",
      "          -0.08147445,  0.0748584 , -0.07663684, -0.05604997,\n",
      "           0.10003577,  0.12110664, -0.11625127, -0.08523931,\n",
      "           0.04420777,  0.03317475, -0.05675432,  0.09596743]],\n",
      "\n",
      "        [[ 0.06745374, -0.13547207,  0.01706333, -0.02842748,\n",
      "          -0.00359951,  0.04891387, -0.11723228,  0.09986475,\n",
      "          -0.06621224, -0.09054708,  0.06880327,  0.08190984,\n",
      "          -0.02563269, -0.07440946, -0.02814693,  0.09114   ,\n",
      "           0.05886205,  0.05783217, -0.07892338,  0.06258871,\n",
      "          -0.12859932, -0.14190474, -0.08987598,  0.08497241,\n",
      "          -0.04727101, -0.04859347,  0.01474631, -0.07417343,\n",
      "          -0.00932847, -0.04283547, -0.10984416,  0.04464206]],\n",
      "\n",
      "        [[ 0.03387026,  0.10655937, -0.01355051, -0.07469336,\n",
      "          -0.08251358, -0.00490902, -0.01741352,  0.06183997,\n",
      "           0.13234432, -0.01568472,  0.06564158, -0.0792973 ,\n",
      "          -0.1272939 , -0.12981798,  0.1257403 ,  0.01855044,\n",
      "           0.04382528, -0.02322703,  0.09879452, -0.07426472,\n",
      "          -0.14129883, -0.0308855 ,  0.06846626,  0.12233277,\n",
      "           0.09957829,  0.01549289, -0.02132158, -0.04140857,\n",
      "          -0.13600557, -0.00926413, -0.09137661, -0.12798037]]],\n",
      "\n",
      "\n",
      "       [[[ 0.00262657, -0.01734558, -0.04343148, -0.010433  ,\n",
      "           0.07938425,  0.13158847, -0.06209381,  0.05071054,\n",
      "           0.00349012,  0.10143715, -0.04871831, -0.1058421 ,\n",
      "          -0.03825627, -0.10822685, -0.09687693, -0.04353642,\n",
      "          -0.11618364, -0.13039494,  0.03136213, -0.10188369,\n",
      "          -0.06235728,  0.0365802 ,  0.05993576, -0.11692695,\n",
      "          -0.00787041, -0.13760057,  0.08191194, -0.02047473,\n",
      "          -0.02623531, -0.07293095,  0.13570647, -0.12741339]],\n",
      "\n",
      "        [[ 0.08334374, -0.12819532,  0.06980352, -0.11631651,\n",
      "           0.02611721, -0.04637883,  0.13743718, -0.04999112,\n",
      "          -0.05472457, -0.0480044 ,  0.00343648, -0.04940666,\n",
      "           0.11660723, -0.08282226, -0.10784461,  0.07409458,\n",
      "           0.01481479, -0.00621684,  0.10305788,  0.03216346,\n",
      "           0.04637384,  0.0451602 , -0.12379636,  0.04446812,\n",
      "          -0.07012942,  0.02065763,  0.11619689,  0.08630106,\n",
      "          -0.09668479,  0.12670998, -0.01429449, -0.05007356]],\n",
      "\n",
      "        [[ 0.11026593,  0.01962525, -0.09635527, -0.07377996,\n",
      "           0.0287915 ,  0.0705916 , -0.07424876, -0.1398068 ,\n",
      "           0.10011335, -0.06601498, -0.08096178, -0.07268137,\n",
      "           0.13259076, -0.0678654 ,  0.04403497, -0.08791752,\n",
      "          -0.10478773,  0.06010838, -0.09410864,  0.11196025,\n",
      "          -0.09127803,  0.11517237, -0.02444375,  0.07802635,\n",
      "          -0.04280774,  0.13111062,  0.00184724, -0.09562497,\n",
      "           0.08541194, -0.04614839, -0.12290153, -0.05174848]]],\n",
      "\n",
      "\n",
      "       [[[ 0.03498183,  0.09290487,  0.12860273,  0.03986317,\n",
      "           0.09386431, -0.01162742,  0.11483626,  0.08788154,\n",
      "           0.03754076,  0.07446158,  0.12848432,  0.03175491,\n",
      "          -0.12078798, -0.12930486,  0.13505505,  0.0604071 ,\n",
      "           0.09890634, -0.00464612,  0.06291111,  0.09498815,\n",
      "           0.01905854,  0.06512833,  0.05613083, -0.05622686,\n",
      "           0.05807017, -0.12246503, -0.10245194,  0.1270303 ,\n",
      "           0.01409994, -0.05807742, -0.10760248, -0.12523274]],\n",
      "\n",
      "        [[ 0.07802652, -0.07186255, -0.04427649,  0.12853052,\n",
      "           0.0116275 , -0.12522013,  0.02280486,  0.10602997,\n",
      "           0.05984648, -0.06539403,  0.10733715, -0.1346894 ,\n",
      "          -0.0253154 , -0.09676246, -0.12682825, -0.12960064,\n",
      "          -0.028253  , -0.04703038, -0.02482909,  0.02329683,\n",
      "           0.10587856, -0.02260811,  0.11453913,  0.06700411,\n",
      "           0.13810785,  0.06378706, -0.06652194, -0.13331558,\n",
      "           0.10439385, -0.02799346, -0.0082186 , -0.07082526]],\n",
      "\n",
      "        [[-0.03410829,  0.13361897, -0.08179222,  0.03645621,\n",
      "          -0.08335528,  0.10057797,  0.10021213,  0.13387899,\n",
      "           0.11502405,  0.01344822,  0.13018127,  0.12409194,\n",
      "          -0.02616666,  0.08868578, -0.0152795 ,  0.06818581,\n",
      "          -0.10831737,  0.05285934, -0.07625306,  0.0809553 ,\n",
      "           0.09281082,  0.06494811,  0.08559397,  0.10053934,\n",
      "           0.12298714, -0.0531729 ,  0.1039076 ,  0.10167816,\n",
      "           0.08183983,  0.04271442,  0.04907931, -0.01609486]]]],\n",
      "      dtype=float32)>, <tf.Variable 'conv2d/bias:0' shape=(32,) dtype=float32, numpy=\n",
      "array([0., 0., 0., 0., 0., 0., 0., 0., 0., 0., 0., 0., 0., 0., 0., 0., 0.,\n",
      "       0., 0., 0., 0., 0., 0., 0., 0., 0., 0., 0., 0., 0., 0., 0.],\n",
      "      dtype=float32)>]\n"
     ]
    }
   ],
   "source": [
    "not_trained_model = keras.Sequential()\n",
    "not_trained_model.add(keras.layers.Conv2D(32, kernel_size=3,\n",
    "                                         activation='relu',\n",
    "                                         padding='same',\n",
    "                                         input_shape=(28,28,1)))\n",
    "\n",
    "# 훈련하지 않은 빈 합성곱 층의 가중치 저장 \n",
    "not_trained_conv = not_trained_model.layers[0]\n",
    "print(not_trained_conv.weights[0].shape)\n",
    "print(not_trained_conv.weights)\n",
    "# not_trained_conv.weights[1]는 절편 "
   ]
  },
  {
   "cell_type": "code",
   "execution_count": 14,
   "id": "e6001a16",
   "metadata": {},
   "outputs": [
    {
     "name": "stdout",
     "output_type": "stream",
     "text": [
      "0.002218207 0.08266379\n"
     ]
    }
   ],
   "source": [
    "not_trained_weights = not_trained_conv.weights[0].numpy()\n",
    "print(not_trained_weights.mean(), not_trained_weights.std())\n",
    "# -0.032720864 0.2714608 이것과 비교\n",
    "# 훈련된 모델의 커널 가중치의 표준편차가 더 높음 (위아래가 있음)"
   ]
  },
  {
   "cell_type": "code",
   "execution_count": 15,
   "id": "19e545b9",
   "metadata": {},
   "outputs": [
    {
     "data": {
      "image/png": "[encoded data removed]",
      "text/plain": [
       "<Figure size 640x480 with 1 Axes>"
      ]
     },
     "metadata": {},
     "output_type": "display_data"
    }
   ],
   "source": [
    "# 훈련 전의 합성곱 층 히스토그램 \n",
    "plt.figure()\n",
    "\n",
    "plt.hist(not_trained_weights.reshape(-1,1))\n",
    "\n",
    "plt.xlabel('weight')\n",
    "plt.ylabel('count')\n",
    "\n",
    "plt.show()"
   ]
  },
  {
   "cell_type": "markdown",
   "id": "63026b48",
   "metadata": {},
   "source": [
    "- 균등분포\n",
    "    - 각각이 같은(비슷한) 확률값 \n",
    "    - 훈련 후는 \"종모양\"\n",
    "    \n",
    "- 대부분의 가중치가 -0.15 부터 0.15 까지 고르게 분포 \n",
    "    - 텐서플로에서 가중치를 초기화할 때 균등 분포에서 랜덤하게 값을 선택하기 때문"
   ]
  },
  {
   "cell_type": "code",
   "execution_count": 16,
   "id": "285a7057",
   "metadata": {},
   "outputs": [
    {
     "data": {
      "image/png": "[encoded data removed]",
      "text/plain": [
       "<Figure size 1500x200 with 32 Axes>"
      ]
     },
     "metadata": {},
     "output_type": "display_data"
    }
   ],
   "source": [
    "fig, axs = plt.subplots(2,16,figsize=(15,2))\n",
    "\n",
    "for i in range(2):\n",
    "    for j in range(16):\n",
    "        axs[i,j].imshow(not_trained_weights[:,:,0,i*16+j],\n",
    "                       vmin=-0.5, vmax=0.5)\n",
    "        axs[i,j].axis('off')\n",
    "        \n",
    "plt.show()"
   ]
  },
  {
   "cell_type": "markdown",
   "id": "4769e53a",
   "metadata": {},
   "source": [
    "- 훈련된 모델에 비해 패턴이 뚜렷하지 않음."
   ]
  },
  {
   "cell_type": "markdown",
   "id": "a3df29d3",
   "metadata": {},
   "source": [
    "# 케라스의 함수형 API\n",
    "\n",
    "- Sequential 클래스 : 층을 차례대로 쌓은 단순한 모델 구성 \n",
    "- 복잡한 모델은 구성하기 힘들기 때문에 합수형 API(functional API)를 사용 \n",
    "    - 케라스의 Model 클래스를 사용하여 모델을 생성 \n",
    "    - layers 객체를 함수처럼 호출 "
   ]
  },
  {
   "cell_type": "markdown",
   "id": "d376a63e",
   "metadata": {},
   "source": [
    "## 함수형 API로 다층 신경망 모델 구현 예제 "
   ]
  },
  {
   "cell_type": "code",
   "execution_count": 17,
   "id": "5f00e862",
   "metadata": {},
   "outputs": [],
   "source": [
    "# 1. 입력층 생성 \n",
    "inputs = keras.Input(shape=(784,))"
   ]
  },
  {
   "cell_type": "markdown",
   "id": "45a6b477",
   "metadata": {},
   "source": [
    "- Sequential 클래스는 InputLayer 클래스를 자동으로 추가하고 호출 \n",
    "- Model 클래스는 입력층을 수동으로 만들어서 호출해야함. "
   ]
  },
  {
   "cell_type": "code",
   "execution_count": 18,
   "id": "7bc44567",
   "metadata": {},
   "outputs": [],
   "source": [
    "# 2. 은닉층과 출력층 객체 생성 \n",
    "dense1 = keras.layers.Dense(100, activation='sigmoid')\n",
    "dense2 = keras.layers.Dense(10, activation='softmax')"
   ]
  },
  {
   "cell_type": "code",
   "execution_count": 19,
   "id": "a411d2ae",
   "metadata": {},
   "outputs": [],
   "source": [
    "# 3. 은닉층 호출 \n",
    "hidden = dense1(inputs)"
   ]
  },
  {
   "cell_type": "markdown",
   "id": "d8b4a689",
   "metadata": {},
   "source": [
    "- inputs를 Dense1 층에 통과시킨 후 출력값 hidden을 만드는 구조 생성 "
   ]
  },
  {
   "cell_type": "code",
   "execution_count": 20,
   "id": "b21d260d",
   "metadata": {},
   "outputs": [],
   "source": [
    "# 4. 출력층 호출 \n",
    "outputs = dense2(hidden)"
   ]
  },
  {
   "cell_type": "code",
   "execution_count": 21,
   "id": "73735545",
   "metadata": {},
   "outputs": [
    {
     "name": "stdout",
     "output_type": "stream",
     "text": [
      "Model: \"model\"\n",
      "_________________________________________________________________\n",
      " Layer (type)                Output Shape              Param #   \n",
      "=================================================================\n",
      " input_1 (InputLayer)        [(None, 784)]             0         \n",
      "                                                                 \n",
      " dense (Dense)               (None, 100)               78500     \n",
      "                                                                 \n",
      " dense_1 (Dense)             (None, 10)                1010      \n",
      "                                                                 \n",
      "=================================================================\n",
      "Total params: 79,510\n",
      "Trainable params: 79,510\n",
      "Non-trainable params: 0\n",
      "_________________________________________________________________\n"
     ]
    }
   ],
   "source": [
    "# 5. Model 클래스로 inputs와 outputs 연결 \n",
    "test_model = keras.Model(inputs, outputs)\n",
    "\n",
    "test_model.summary()"
   ]
  },
  {
   "cell_type": "markdown",
   "id": "1365f967",
   "metadata": {},
   "source": [
    "# 합성곱 신경망 모델 특성맵 시각화\n",
    "- 함수형 API를 이용해 첫번째 합성곱 층의 출력(특성맵) 시각화"
   ]
  },
  {
   "cell_type": "code",
   "execution_count": 11,
   "id": "36c87197",
   "metadata": {},
   "outputs": [
    {
     "data": {
      "text/plain": [
       "<KerasTensor: shape=(None, 28, 28, 1) dtype=float32 (created by layer 'conv2d_input')>"
      ]
     },
     "execution_count": 11,
     "metadata": {},
     "output_type": "execute_result"
    }
   ],
   "source": [
    "model.input"
   ]
  },
  {
   "cell_type": "code",
   "execution_count": 12,
   "id": "b0616396",
   "metadata": {},
   "outputs": [
    {
     "data": {
      "text/plain": [
       "<KerasTensor: shape=(None, None, 28, 28, 1) dtype=float32 (created by layer 'input_1')>"
      ]
     },
     "execution_count": 12,
     "metadata": {},
     "output_type": "execute_result"
    }
   ],
   "source": [
    "keras.Input(shape=(None, 28, 28, 1))"
   ]
  },
  {
   "cell_type": "code",
   "execution_count": 13,
   "id": "6c993858",
   "metadata": {},
   "outputs": [
    {
     "data": {
      "text/plain": [
       "<KerasTensor: shape=(None, 28, 28, 32) dtype=float32 (created by layer 'conv2d')>"
      ]
     },
     "execution_count": 13,
     "metadata": {},
     "output_type": "execute_result"
    }
   ],
   "source": [
    "model.layers[0].output"
   ]
  },
  {
   "cell_type": "code",
   "execution_count": 22,
   "id": "f54b6fca",
   "metadata": {},
   "outputs": [
    {
     "name": "stdout",
     "output_type": "stream",
     "text": [
      "Model: \"model_1\"\n",
      "_________________________________________________________________\n",
      " Layer (type)                Output Shape              Param #   \n",
      "=================================================================\n",
      " conv2d_input (InputLayer)   [(None, 28, 28, 1)]       0         \n",
      "                                                                 \n",
      " conv2d (Conv2D)             (None, 28, 28, 32)        320       \n",
      "                                                                 \n",
      "=================================================================\n",
      "Total params: 320\n",
      "Trainable params: 320\n",
      "Non-trainable params: 0\n",
      "_________________________________________________________________\n"
     ]
    }
   ],
   "source": [
    "# 합성곱 층과 입력층을 함수형 API로 연결 \n",
    "conv_acti = keras.Model(model.input, model.layers[0].output)\n",
    "\n",
    "conv_acti.summary()"
   ]
  },
  {
   "cell_type": "code",
   "execution_count": 24,
   "id": "973a6132",
   "metadata": {},
   "outputs": [
    {
     "data": {
      "image/png": "[encoded data removed]",
      "text/plain": [
       "<Figure size 640x480 with 1 Axes>"
      ]
     },
     "metadata": {},
     "output_type": "display_data"
    }
   ],
   "source": [
    "# 데이터 준비 \n",
    "(x_train, y_train), (x_test, y_test) = keras.datasets.fashion_mnist.load_data()\n",
    "\n",
    "plt.figure()\n",
    "plt.imshow(x_train[0], cmap='gray_r')\n",
    "plt.show()"
   ]
  },
  {
   "cell_type": "code",
   "execution_count": 25,
   "id": "48ddd9cb",
   "metadata": {},
   "outputs": [
    {
     "name": "stdout",
     "output_type": "stream",
     "text": [
      "1/1 [==============================] - 0s 248ms/step\n",
      "(1, 28, 28, 32)\n"
     ]
    }
   ],
   "source": [
    "# 위의 데이터를 첫 번째 합성곱 층에 통과\n",
    "inputs = x_train[[0]].reshape(-1, 28, 28, 1) / 255\n",
    "\n",
    "feature_maps = conv_acti.predict(inputs)\n",
    "\n",
    "print(feature_maps.shape)\n",
    "# (배치 크기, 너비, 높이, 채널)"
   ]
  },
  {
   "cell_type": "code",
   "execution_count": 26,
   "id": "48099efe",
   "metadata": {
    "scrolled": true
   },
   "outputs": [
    {
     "data": {
      "text/plain": [
       "array([[[[0.        , 0.        , 0.        , ..., 0.        ,\n",
       "          0.        , 0.        ],\n",
       "         [0.        , 0.        , 0.        , ..., 0.        ,\n",
       "          0.        , 0.        ],\n",
       "         [0.        , 0.        , 0.        , ..., 0.        ,\n",
       "          0.        , 0.        ],\n",
       "         ...,\n",
       "         [0.        , 0.        , 0.        , ..., 0.        ,\n",
       "          0.        , 0.        ],\n",
       "         [0.        , 0.        , 0.        , ..., 0.        ,\n",
       "          0.        , 0.        ],\n",
       "         [0.        , 0.        , 0.        , ..., 0.        ,\n",
       "          0.        , 0.        ]],\n",
       "\n",
       "        [[0.        , 0.        , 0.        , ..., 0.        ,\n",
       "          0.        , 0.        ],\n",
       "         [0.        , 0.        , 0.        , ..., 0.        ,\n",
       "          0.        , 0.        ],\n",
       "         [0.        , 0.        , 0.        , ..., 0.        ,\n",
       "          0.        , 0.        ],\n",
       "         ...,\n",
       "         [0.        , 0.        , 0.        , ..., 0.        ,\n",
       "          0.        , 0.        ],\n",
       "         [0.        , 0.        , 0.        , ..., 0.        ,\n",
       "          0.        , 0.        ],\n",
       "         [0.        , 0.        , 0.        , ..., 0.        ,\n",
       "          0.        , 0.        ]],\n",
       "\n",
       "        [[0.        , 0.        , 0.        , ..., 0.        ,\n",
       "          0.        , 0.        ],\n",
       "         [0.        , 0.        , 0.        , ..., 0.        ,\n",
       "          0.        , 0.        ],\n",
       "         [0.        , 0.        , 0.        , ..., 0.        ,\n",
       "          0.        , 0.        ],\n",
       "         ...,\n",
       "         [0.        , 0.        , 0.        , ..., 0.        ,\n",
       "          0.        , 0.        ],\n",
       "         [0.        , 0.        , 0.        , ..., 0.        ,\n",
       "          0.        , 0.        ],\n",
       "         [0.        , 0.        , 0.        , ..., 0.        ,\n",
       "          0.        , 0.        ]],\n",
       "\n",
       "        ...,\n",
       "\n",
       "        [[0.        , 0.        , 0.        , ..., 0.        ,\n",
       "          0.        , 0.        ],\n",
       "         [0.        , 0.        , 0.        , ..., 0.        ,\n",
       "          0.        , 0.        ],\n",
       "         [0.        , 0.        , 0.        , ..., 0.        ,\n",
       "          0.        , 0.        ],\n",
       "         ...,\n",
       "         [0.        , 0.02310352, 0.        , ..., 0.01784245,\n",
       "          0.00682403, 0.        ],\n",
       "         [0.00022995, 0.        , 0.        , ..., 0.00402289,\n",
       "          0.        , 0.        ],\n",
       "         [0.        , 0.        , 0.        , ..., 0.        ,\n",
       "          0.        , 0.        ]],\n",
       "\n",
       "        [[0.        , 0.        , 0.        , ..., 0.        ,\n",
       "          0.        , 0.        ],\n",
       "         [0.        , 0.        , 0.        , ..., 0.        ,\n",
       "          0.        , 0.        ],\n",
       "         [0.        , 0.        , 0.        , ..., 0.        ,\n",
       "          0.        , 0.        ],\n",
       "         ...,\n",
       "         [0.        , 0.        , 0.        , ..., 0.        ,\n",
       "          0.        , 0.        ],\n",
       "         [0.        , 0.        , 0.        , ..., 0.        ,\n",
       "          0.        , 0.        ],\n",
       "         [0.        , 0.        , 0.        , ..., 0.        ,\n",
       "          0.        , 0.        ]],\n",
       "\n",
       "        [[0.        , 0.        , 0.        , ..., 0.        ,\n",
       "          0.        , 0.        ],\n",
       "         [0.        , 0.        , 0.        , ..., 0.        ,\n",
       "          0.        , 0.        ],\n",
       "         [0.        , 0.        , 0.        , ..., 0.        ,\n",
       "          0.        , 0.        ],\n",
       "         ...,\n",
       "         [0.        , 0.        , 0.        , ..., 0.        ,\n",
       "          0.        , 0.        ],\n",
       "         [0.        , 0.        , 0.        , ..., 0.        ,\n",
       "          0.        , 0.        ],\n",
       "         [0.        , 0.        , 0.        , ..., 0.        ,\n",
       "          0.        , 0.        ]]]], dtype=float32)"
      ]
     },
     "execution_count": 26,
     "metadata": {},
     "output_type": "execute_result"
    }
   ],
   "source": [
    "feature_maps"
   ]
  },
  {
   "cell_type": "markdown",
   "id": "a69fda5d",
   "metadata": {},
   "source": [
    "- 세임 패딩과 32개의 필터를 사용한 합성곱 층의 출력이기 때문에 (28, 28, 32)\n",
    "- 첫 번째 차원은 배치 차원 \n",
    "    - 샘플 하나만 입력했기 때문에 1"
   ]
  },
  {
   "cell_type": "code",
   "execution_count": 27,
   "id": "bf57b18b",
   "metadata": {},
   "outputs": [
    {
     "data": {
      "image/png": "[encoded data removed]",
      "text/plain": [
       "<Figure size 1500x800 with 32 Axes>"
      ]
     },
     "metadata": {},
     "output_type": "display_data"
    }
   ],
   "source": [
    "# 32개의 특성맵 시각화 \n",
    "fig, axs = plt.subplots(4,8,figsize=(15,8))\n",
    "\n",
    "for i in range(4):\n",
    "    for j in range(8):\n",
    "        axs[i,j].imshow(feature_maps[0,:,:,i*8+j])\n",
    "        axs[i,j].axis('off')\n",
    "plt.show()"
   ]
  },
  {
   "cell_type": "code",
   "execution_count": 7,
   "id": "e85fcbb4",
   "metadata": {},
   "outputs": [
    {
     "data": {
      "image/png": "[encoded data removed]",
      "text/plain": [
       "<Figure size 1500x200 with 32 Axes>"
      ]
     },
     "metadata": {},
     "output_type": "display_data"
    }
   ],
   "source": [
    "# 32개의 커널 모두 시각화\n",
    "fig, axs = plt.subplots(2,16,figsize=(15,2))\n",
    "\n",
    "for i in range(2):\n",
    "    for j in range(16):\n",
    "        axs[i,j].imshow(conv_weights[:,:,0,i*16+j],\n",
    "                       vmin=-0.5, vmax=0.5)\n",
    "        axs[i,j].axis('off')\n",
    "        \n",
    "plt.show()"
   ]
  },
  {
   "cell_type": "markdown",
   "id": "b4a4fd6d",
   "metadata": {},
   "source": [
    "- 32개의 필터로 인해 입력 이미지에서 강하게 활성화된 부분들 시각화\n",
    "    - 필터가 수직선을 감지한다면 수직선 부분이 강하게 활성화 \n",
    "    - 전체적으로 모두 감지하는 필터는 아이템의 전체 활성화 \n",
    "    - 전체적으로 음수값인 필터는 배경과 같은 0에 가까운 값과 곱해지면 작은 음수, 큰 수가 곱해지면 큰 음수가 됨. \n",
    "        - 배경을 잘 활성화함. "
   ]
  },
  {
   "cell_type": "code",
   "execution_count": 28,
   "id": "82feeacb",
   "metadata": {},
   "outputs": [
    {
     "name": "stdout",
     "output_type": "stream",
     "text": [
      "1/1 [==============================] - 0s 67ms/step\n",
      "(1, 14, 14, 64)\n"
     ]
    }
   ],
   "source": [
    "# 두 번째 합성곱 층의 특성맵 확인 \n",
    "conv2_acti = keras.Model(model.input, model.layers[2].output)\n",
    "\n",
    "feature_maps = conv2_acti.predict(inputs)\n",
    "print(feature_maps.shape)"
   ]
  },
  {
   "cell_type": "code",
   "execution_count": 29,
   "id": "6046dd76",
   "metadata": {},
   "outputs": [
    {
     "data": {
      "image/png": "[encoded data removed]",
      "text/plain": [
       "<Figure size 1200x1200 with 64 Axes>"
      ]
     },
     "metadata": {},
     "output_type": "display_data"
    }
   ],
   "source": [
    "fig, axs = plt.subplots(8,8,figsize=(12,12))\n",
    "\n",
    "for i in range(8):\n",
    "    for j in range(8):\n",
    "        axs[i,j].imshow(feature_maps[0,:,:,i*8+j])\n",
    "        axs[i,j].axis('off')\n",
    "plt.show()\n",
    "\n",
    "# 맥스풀링층을 거쳐서 (14,14) 로 더 해상도가 낮아진 모습 \n",
    "# 동시에 두 번째 합성곱 층 거치며 더욱 특징이 추상화됨."
   ]
  },
  {
   "cell_type": "markdown",
   "id": "1dbd10cb",
   "metadata": {},
   "source": [
    "- 32개의 특성 종합해서 64개의 새로운 정보 \n",
    "- 좀더 고차원적, 추상적 정보를 학습한 것 \n",
    "\n",
    "<br>\n",
    "\n",
    "- 특성맵을 시각적으로 이해하기 난해 \n",
    "    - 합성곱 층을 많이 쌓을수록 심해짐 \n",
    "    - 앞부분의 합성곱 층은 이미지의 시각적 정보 감지 \n",
    "    - 뒷부분의 합성곱 층은 앞쪽에서 감지한 시각 정보를 바탕으로 추상적인 정보 학습"
   ]
  },
  {
   "cell_type": "markdown",
   "id": "453948c4",
   "metadata": {},
   "source": [
    "## 풀링 결과물과 비교 "
   ]
  },
  {
   "cell_type": "code",
   "execution_count": 30,
   "id": "616743d6",
   "metadata": {},
   "outputs": [
    {
     "name": "stdout",
     "output_type": "stream",
     "text": [
      "1/1 [==============================] - 0s 50ms/step\n",
      "(1, 14, 14, 32)\n"
     ]
    }
   ],
   "source": [
    "pool_model = keras.Model(model.input, model.layers[1].output)\n",
    "\n",
    "pool_feature_maps = pool_model.predict(inputs)\n",
    "print(pool_feature_maps.shape)"
   ]
  },
  {
   "cell_type": "code",
   "execution_count": 31,
   "id": "df095659",
   "metadata": {},
   "outputs": [
    {
     "data": {
      "image/png": "[encoded data removed]",
      "text/plain": [
       "<Figure size 1500x800 with 32 Axes>"
      ]
     },
     "metadata": {},
     "output_type": "display_data"
    }
   ],
   "source": [
    "fig, axs = plt.subplots(4,8,figsize=(15,8))\n",
    "\n",
    "for i in range(4):\n",
    "    for j in range(8):\n",
    "        axs[i,j].imshow(pool_feature_maps[0,:,:,i*8+j])\n",
    "        axs[i,j].axis('off')\n",
    "plt.show()"
   ]
  },
  {
   "cell_type": "markdown",
   "id": "f94db399",
   "metadata": {},
   "source": [
    "- 맥스풀링은 특징은 최대한 살리면서 화질만 낮춘 것(크기 줄인것)"
   ]
  }
 ],
 "metadata": {
  "kernelspec": {
   "display_name": "Python 3 (ipykernel)",
   "language": "python",
   "name": "python3"
  },
  "language_info": {
   "codemirror_mode": {
    "name": "ipython",
    "version": 3
   },
   "file_extension": ".py",
   "mimetype": "text/x-python",
   "name": "python",
   "nbconvert_exporter": "python",
   "pygments_lexer": "ipython3",
   "version": "3.7.13"
  }
 },
 "nbformat": 4,
 "nbformat_minor": 5
}
