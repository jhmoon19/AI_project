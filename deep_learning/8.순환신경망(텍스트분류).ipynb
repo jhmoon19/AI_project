{
 "cells": [
  {
   "cell_type": "markdown",
   "id": "90f13e3e",
   "metadata": {},
   "source": [
    "# IMDB 리뷰 데이터셋 \n",
    "\n",
    "- 유명한 인터넷 영화 데이터베이스인 imdb.com 에서 수집한 리뷰를 감상평에 따라 긍정과 부정으로 분류해 놓은 말뭉치 "
   ]
  },
  {
   "cell_type": "markdown",
   "id": "e06827e8",
   "metadata": {},
   "source": [
    "# 자연어 처리(Natural Language Processing; NLP)\n",
    "\n",
    "- 컴퓨터를 사용해 인간의 언어를 처리하는 분야 \n",
    "- 세부 분야 \n",
    "    - 음성 인식 \n",
    "    - 기계 번역\n",
    "    - 감성 분석 \n",
    "- 자연어 처리 분야에서는 훈련 데이터를 말뭉치(corpus)라고 부름. "
   ]
  },
  {
   "cell_type": "markdown",
   "id": "bd889f9d",
   "metadata": {},
   "source": [
    "# 임베딩 \n",
    "\n",
    "- 사람이 쓰는 자연어를 기계가 이해할 수 있는 숫자의 나열인 벡터로 나눈 결과 혹은 그 과정 전체\n",
    "\n",
    "<img src = \"embedding.png\">"
   ]
  },
  {
   "cell_type": "markdown",
   "id": "7e5c6f7c",
   "metadata": {},
   "source": [
    "- 컴퓨터에서 처리하는 모든 것은 숫자로 이뤄진 데이터 \n",
    "    - 따라서 텍스트 그 자체를 신경망에 전달하지 않음. \n",
    "    - 합성곱 신경망에서 이미지를 다룰 때는 이미지가 정수 픽셀값으로 이뤄져 있어서 특별히 변환을 하지 않음. \n",
    "\n",
    "<br> \n",
    "\n",
    "- 텍스트 임베딩의 가장 쉬운 방법은 데이터에 등장하는 단어마다 고유한 정수를 부여하는 것 \n",
    "    - 예) \n",
    "        - he : 10\n",
    "        - follows : 11\n",
    "        - the : 12\n",
    "        - cat : 13\n",
    "        \n",
    "    - 한계\n",
    "        - 단어에 매핑되는 정수는 단어의 의미나 크기와 관련이 없음.\n",
    "            - he를 10으로 매핑하고 cat을 13에 매핑하더라도 cat이 he보다 좋거나 크다는 뜻이 아님. \n",
    "            \n",
    "    - 좀 더 발전된 게 원핫 인코딩, 더 발전된 게 워드 임베딩\n",
    "    \n",
    "    - 정수 중 몇 가지는 특정한 용도로 예약되어 있는 경우가 많음. \n",
    "        - 예) \n",
    "            - 0 : 패딩 \n",
    "            - 1 : 문장 시작 \n",
    "            - 2 : 어휘 사전에 없는 토큰 \n",
    "        - 어휘 사전 : 훈련 세트에서 고유한 단어를 뽑아 만든 목록 "
   ]
  },
  {
   "cell_type": "markdown",
   "id": "232ce840",
   "metadata": {},
   "source": [
    "- 일반적으로 영어 문장은 모두 소문자로 바꾸고 구두점을 삭제한 다음 공백을 기준으로 분리 \n",
    "     - 이렇게 분리된 단어를 \"토큰(token)\"이라고 부름.\n",
    "         - 하나의 샘플은 여러 개의 토큰으로 이뤄져 있고 이때 하나의 토큰이 하나의 타임 스텝에 해당 \n",
    "     - 영어 말뭉치에서 토큰은 단어와 같이 취급하는 경우가 많음. \n",
    "         - 한국어는 조사가 발달되어 있어 공백으로 나누는 것만으로는 부족함. \n",
    "             - 일반적으로 한글은 형태소 분석을 통해 토큰 분리 "
   ]
  },
  {
   "cell_type": "markdown",
   "id": "699f084a",
   "metadata": {},
   "source": [
    "# 원핫 인코딩을 활용한 RNN 텍스트 분류 "
   ]
  },
  {
   "cell_type": "markdown",
   "id": "71358087",
   "metadata": {},
   "source": [
    "## 데이터 준비 "
   ]
  },
  {
   "cell_type": "code",
   "execution_count": 1,
   "id": "f388a11f",
   "metadata": {},
   "outputs": [],
   "source": [
    "from tensorflow.keras.datasets import imdb\n",
    "from tensorflow.keras.preprocessing.sequence import pad_sequences\n",
    "from tensorflow import keras\n",
    "from sklearn.model_selection import train_test_split\n",
    "import numpy as np\n",
    "import matplotlib.pyplot as plt"
   ]
  },
  {
   "cell_type": "code",
   "execution_count": 2,
   "id": "4a740bc6",
   "metadata": {},
   "outputs": [],
   "source": [
    "# 전체 데이터셋에서 가장 자주 등장하는 단어 500개만 사용 \n",
    "# num_words : 단어 빈도가 많은 순서로 num_words 만큼 보존 \n",
    "# 고빈도 500개 외의 단어들은 unk 단어 처리됨. \n",
    "(x_train, y_train), (x_test, y_test) = imdb.load_data(num_words=500)"
   ]
  },
  {
   "cell_type": "code",
   "execution_count": 5,
   "id": "78dbda5e",
   "metadata": {},
   "outputs": [
    {
     "data": {
      "text/plain": [
       "((25000,), (25000,), (25000,), (25000,))"
      ]
     },
     "execution_count": 5,
     "metadata": {},
     "output_type": "execute_result"
    }
   ],
   "source": [
    "# 학습/테스트 데이터 모두 2만 5천 개\n",
    "x_train.shape, y_train.shape, x_test.shape, y_test.shape"
   ]
  },
  {
   "cell_type": "code",
   "execution_count": 6,
   "id": "72615402",
   "metadata": {},
   "outputs": [
    {
     "data": {
      "text/plain": [
       "(218, 189)"
      ]
     },
     "execution_count": 6,
     "metadata": {},
     "output_type": "execute_result"
    }
   ],
   "source": [
    "# 리뷰의 길이 출력 \n",
    "len(x_train[0]), len(x_train[1])"
   ]
  },
  {
   "cell_type": "code",
   "execution_count": 8,
   "id": "f6512bc6",
   "metadata": {
    "scrolled": true
   },
   "outputs": [
    {
     "data": {
      "text/plain": [
       "array([list([1, 14, 22, 16, 43, 2, 2, 2, 2, 65, 458, 2, 66, 2, 4, 173, 36, 256, 5, 25, 100, 43, 2, 112, 50, 2, 2, 9, 35, 480, 284, 5, 150, 4, 172, 112, 167, 2, 336, 385, 39, 4, 172, 2, 2, 17, 2, 38, 13, 447, 4, 192, 50, 16, 6, 147, 2, 19, 14, 22, 4, 2, 2, 469, 4, 22, 71, 87, 12, 16, 43, 2, 38, 76, 15, 13, 2, 4, 22, 17, 2, 17, 12, 16, 2, 18, 2, 5, 62, 386, 12, 8, 316, 8, 106, 5, 4, 2, 2, 16, 480, 66, 2, 33, 4, 130, 12, 16, 38, 2, 5, 25, 124, 51, 36, 135, 48, 25, 2, 33, 6, 22, 12, 215, 28, 77, 52, 5, 14, 407, 16, 82, 2, 8, 4, 107, 117, 2, 15, 256, 4, 2, 7, 2, 5, 2, 36, 71, 43, 2, 476, 26, 400, 317, 46, 7, 4, 2, 2, 13, 104, 88, 4, 381, 15, 297, 98, 32, 2, 56, 26, 141, 6, 194, 2, 18, 4, 226, 22, 21, 134, 476, 26, 480, 5, 144, 30, 2, 18, 51, 36, 28, 224, 92, 25, 104, 4, 226, 65, 16, 38, 2, 88, 12, 16, 283, 5, 16, 2, 113, 103, 32, 15, 16, 2, 19, 178, 32]),\n",
       "       list([1, 194, 2, 194, 2, 78, 228, 5, 6, 2, 2, 2, 134, 26, 4, 2, 8, 118, 2, 14, 394, 20, 13, 119, 2, 189, 102, 5, 207, 110, 2, 21, 14, 69, 188, 8, 30, 23, 7, 4, 249, 126, 93, 4, 114, 9, 2, 2, 5, 2, 4, 116, 9, 35, 2, 4, 229, 9, 340, 2, 4, 118, 9, 4, 130, 2, 19, 4, 2, 5, 89, 29, 2, 46, 37, 4, 455, 9, 45, 43, 38, 2, 2, 398, 4, 2, 26, 2, 5, 163, 11, 2, 2, 4, 2, 9, 194, 2, 7, 2, 2, 349, 2, 148, 2, 2, 2, 15, 123, 125, 68, 2, 2, 15, 349, 165, 2, 98, 5, 4, 228, 9, 43, 2, 2, 15, 299, 120, 5, 120, 174, 11, 220, 175, 136, 50, 9, 2, 228, 2, 5, 2, 2, 245, 2, 5, 4, 2, 131, 152, 491, 18, 2, 32, 2, 2, 14, 9, 6, 371, 78, 22, 2, 64, 2, 9, 8, 168, 145, 23, 4, 2, 15, 16, 4, 2, 5, 28, 6, 52, 154, 462, 33, 89, 78, 285, 16, 145, 95]),\n",
       "       list([1, 14, 47, 8, 30, 31, 7, 4, 249, 108, 7, 4, 2, 54, 61, 369, 13, 71, 149, 14, 22, 112, 4, 2, 311, 12, 16, 2, 33, 75, 43, 2, 296, 4, 86, 320, 35, 2, 19, 263, 2, 2, 4, 2, 33, 89, 78, 12, 66, 16, 4, 360, 7, 4, 58, 316, 334, 11, 4, 2, 43, 2, 2, 8, 257, 85, 2, 42, 2, 2, 83, 68, 2, 15, 36, 165, 2, 278, 36, 69, 2, 2, 8, 106, 14, 2, 2, 18, 6, 22, 12, 215, 28, 2, 40, 6, 87, 326, 23, 2, 21, 23, 22, 12, 272, 40, 57, 31, 11, 4, 22, 47, 6, 2, 51, 9, 170, 23, 2, 116, 2, 2, 13, 191, 79, 2, 89, 2, 14, 9, 8, 106, 2, 2, 35, 2, 6, 227, 7, 129, 113]),\n",
       "       ...,\n",
       "       list([1, 11, 6, 230, 245, 2, 9, 6, 2, 446, 2, 45, 2, 84, 2, 2, 21, 4, 2, 84, 2, 325, 2, 134, 2, 2, 84, 5, 36, 28, 57, 2, 21, 8, 140, 8, 2, 5, 2, 84, 56, 18, 2, 14, 9, 31, 7, 4, 2, 2, 2, 2, 2, 18, 6, 20, 207, 110, 2, 12, 8, 2, 2, 8, 97, 6, 20, 53, 2, 74, 4, 460, 364, 2, 29, 270, 11, 2, 108, 45, 40, 29, 2, 395, 11, 6, 2, 2, 7, 2, 89, 364, 70, 29, 140, 4, 64, 2, 11, 4, 2, 26, 178, 4, 2, 443, 2, 5, 27, 2, 117, 2, 2, 165, 47, 84, 37, 131, 2, 14, 2, 10, 10, 61, 2, 2, 10, 10, 288, 2, 2, 34, 2, 2, 4, 65, 496, 4, 231, 7, 2, 5, 6, 320, 234, 2, 234, 2, 2, 7, 496, 4, 139, 2, 2, 2, 2, 5, 2, 18, 4, 2, 2, 250, 11, 2, 2, 4, 2, 2, 2, 2, 372, 2, 2, 2, 2, 7, 4, 59, 2, 4, 2, 2]),\n",
       "       list([1, 2, 2, 69, 72, 2, 13, 2, 2, 8, 12, 2, 23, 5, 16, 484, 2, 54, 349, 11, 2, 2, 45, 58, 2, 13, 197, 12, 16, 43, 23, 2, 5, 62, 30, 145, 402, 11, 2, 51, 2, 32, 61, 369, 71, 66, 2, 12, 2, 75, 100, 2, 8, 4, 105, 37, 69, 147, 2, 75, 2, 44, 257, 390, 5, 69, 263, 2, 105, 50, 286, 2, 23, 4, 123, 13, 161, 40, 5, 421, 4, 116, 16, 2, 13, 2, 40, 319, 2, 112, 2, 11, 2, 121, 25, 70, 2, 4, 2, 2, 13, 18, 31, 62, 40, 8, 2, 4, 2, 7, 14, 123, 5, 2, 25, 8, 2, 12, 145, 5, 202, 12, 160, 2, 202, 12, 6, 52, 58, 2, 92, 401, 2, 12, 39, 14, 251, 8, 15, 251, 5, 2, 12, 38, 84, 80, 124, 12, 9, 23]),\n",
       "       list([1, 17, 6, 194, 337, 7, 4, 204, 22, 45, 254, 8, 106, 14, 123, 4, 2, 270, 2, 5, 2, 2, 2, 2, 101, 405, 39, 14, 2, 4, 2, 9, 115, 50, 305, 12, 47, 4, 168, 5, 235, 7, 38, 111, 2, 102, 7, 4, 2, 2, 9, 24, 6, 78, 2, 17, 2, 2, 21, 27, 2, 2, 5, 2, 2, 92, 2, 4, 2, 7, 4, 204, 42, 97, 90, 35, 221, 109, 29, 127, 27, 118, 8, 97, 12, 157, 21, 2, 2, 9, 6, 66, 78, 2, 4, 2, 2, 5, 2, 272, 191, 2, 6, 2, 8, 2, 2, 2, 2, 5, 383, 2, 2, 2, 2, 497, 2, 8, 2, 2, 2, 21, 60, 27, 239, 9, 43, 2, 209, 405, 10, 10, 12, 2, 40, 4, 248, 20, 12, 16, 5, 174, 2, 72, 7, 51, 6, 2, 22, 4, 204, 131, 9])],\n",
       "      dtype=object)"
      ]
     },
     "execution_count": 8,
     "metadata": {},
     "output_type": "execute_result"
    }
   ],
   "source": [
    "x_train"
   ]
  },
  {
   "cell_type": "markdown",
   "id": "2032a15e",
   "metadata": {},
   "source": [
    "- 각각 25000개의 샘플로 이뤄져 있음. \n",
    "- 텍스트 길이가 제각각임. \n",
    "    - 고정 크기의 2차원 배열에 담는 것보다 리뷰마다 별도의 파이선 리스트로 담아야 메모리를 효율적으로 사용할 수 있음. "
   ]
  },
  {
   "cell_type": "code",
   "execution_count": 7,
   "id": "599ea8d0",
   "metadata": {},
   "outputs": [
    {
     "data": {
      "text/plain": [
       "[1,\n",
       " 14,\n",
       " 22,\n",
       " 16,\n",
       " 43,\n",
       " 2,\n",
       " 2,\n",
       " 2,\n",
       " 2,\n",
       " 65,\n",
       " 458,\n",
       " 2,\n",
       " 66,\n",
       " 2,\n",
       " 4,\n",
       " 173,\n",
       " 36,\n",
       " 256,\n",
       " 5,\n",
       " 25,\n",
       " 100,\n",
       " 43,\n",
       " 2,\n",
       " 112,\n",
       " 50,\n",
       " 2,\n",
       " 2,\n",
       " 9,\n",
       " 35,\n",
       " 480,\n",
       " 284,\n",
       " 5,\n",
       " 150,\n",
       " 4,\n",
       " 172,\n",
       " 112,\n",
       " 167,\n",
       " 2,\n",
       " 336,\n",
       " 385,\n",
       " 39,\n",
       " 4,\n",
       " 172,\n",
       " 2,\n",
       " 2,\n",
       " 17,\n",
       " 2,\n",
       " 38,\n",
       " 13,\n",
       " 447,\n",
       " 4,\n",
       " 192,\n",
       " 50,\n",
       " 16,\n",
       " 6,\n",
       " 147,\n",
       " 2,\n",
       " 19,\n",
       " 14,\n",
       " 22,\n",
       " 4,\n",
       " 2,\n",
       " 2,\n",
       " 469,\n",
       " 4,\n",
       " 22,\n",
       " 71,\n",
       " 87,\n",
       " 12,\n",
       " 16,\n",
       " 43,\n",
       " 2,\n",
       " 38,\n",
       " 76,\n",
       " 15,\n",
       " 13,\n",
       " 2,\n",
       " 4,\n",
       " 22,\n",
       " 17,\n",
       " 2,\n",
       " 17,\n",
       " 12,\n",
       " 16,\n",
       " 2,\n",
       " 18,\n",
       " 2,\n",
       " 5,\n",
       " 62,\n",
       " 386,\n",
       " 12,\n",
       " 8,\n",
       " 316,\n",
       " 8,\n",
       " 106,\n",
       " 5,\n",
       " 4,\n",
       " 2,\n",
       " 2,\n",
       " 16,\n",
       " 480,\n",
       " 66,\n",
       " 2,\n",
       " 33,\n",
       " 4,\n",
       " 130,\n",
       " 12,\n",
       " 16,\n",
       " 38,\n",
       " 2,\n",
       " 5,\n",
       " 25,\n",
       " 124,\n",
       " 51,\n",
       " 36,\n",
       " 135,\n",
       " 48,\n",
       " 25,\n",
       " 2,\n",
       " 33,\n",
       " 6,\n",
       " 22,\n",
       " 12,\n",
       " 215,\n",
       " 28,\n",
       " 77,\n",
       " 52,\n",
       " 5,\n",
       " 14,\n",
       " 407,\n",
       " 16,\n",
       " 82,\n",
       " 2,\n",
       " 8,\n",
       " 4,\n",
       " 107,\n",
       " 117,\n",
       " 2,\n",
       " 15,\n",
       " 256,\n",
       " 4,\n",
       " 2,\n",
       " 7,\n",
       " 2,\n",
       " 5,\n",
       " 2,\n",
       " 36,\n",
       " 71,\n",
       " 43,\n",
       " 2,\n",
       " 476,\n",
       " 26,\n",
       " 400,\n",
       " 317,\n",
       " 46,\n",
       " 7,\n",
       " 4,\n",
       " 2,\n",
       " 2,\n",
       " 13,\n",
       " 104,\n",
       " 88,\n",
       " 4,\n",
       " 381,\n",
       " 15,\n",
       " 297,\n",
       " 98,\n",
       " 32,\n",
       " 2,\n",
       " 56,\n",
       " 26,\n",
       " 141,\n",
       " 6,\n",
       " 194,\n",
       " 2,\n",
       " 18,\n",
       " 4,\n",
       " 226,\n",
       " 22,\n",
       " 21,\n",
       " 134,\n",
       " 476,\n",
       " 26,\n",
       " 480,\n",
       " 5,\n",
       " 144,\n",
       " 30,\n",
       " 2,\n",
       " 18,\n",
       " 51,\n",
       " 36,\n",
       " 28,\n",
       " 224,\n",
       " 92,\n",
       " 25,\n",
       " 104,\n",
       " 4,\n",
       " 226,\n",
       " 65,\n",
       " 16,\n",
       " 38,\n",
       " 2,\n",
       " 88,\n",
       " 12,\n",
       " 16,\n",
       " 283,\n",
       " 5,\n",
       " 16,\n",
       " 2,\n",
       " 113,\n",
       " 103,\n",
       " 32,\n",
       " 15,\n",
       " 16,\n",
       " 2,\n",
       " 19,\n",
       " 178,\n",
       " 32]"
      ]
     },
     "execution_count": 7,
     "metadata": {},
     "output_type": "execute_result"
    }
   ],
   "source": [
    "# 첫 번째 리뷰\n",
    "x_train[0]"
   ]
  },
  {
   "cell_type": "code",
   "execution_count": 9,
   "id": "e33ec0a6",
   "metadata": {},
   "outputs": [
    {
     "data": {
      "text/plain": [
       "array([1, 0, 0, 1, 0, 0, 1, 0, 1, 0, 1, 0, 0, 0, 0, 0, 1, 1, 0, 1],\n",
       "      dtype=int64)"
      ]
     },
     "execution_count": 9,
     "metadata": {},
     "output_type": "execute_result"
    }
   ],
   "source": [
    "# 타깃 데이터 \n",
    "# 0 : 부정, 1 : 긍정 \n",
    "y_train[:20]"
   ]
  },
  {
   "cell_type": "code",
   "execution_count": 3,
   "id": "25cb706d",
   "metadata": {},
   "outputs": [],
   "source": [
    "# train 데이터 가지고 훈련/검증 데이터 분할 \n",
    "x_train, x_val, y_train, y_val = train_test_split(x_train, y_train,\n",
    "                                                 test_size=0.2,\n",
    "                                                 random_state=4)"
   ]
  },
  {
   "cell_type": "code",
   "execution_count": 4,
   "id": "84e5d56c",
   "metadata": {},
   "outputs": [
    {
     "data": {
      "text/plain": [
       "((20000,), (5000,), (20000,), (5000,))"
      ]
     },
     "execution_count": 4,
     "metadata": {},
     "output_type": "execute_result"
    }
   ],
   "source": [
    "x_train.shape, x_val.shape, y_train.shape, y_val.shape"
   ]
  },
  {
   "cell_type": "markdown",
   "id": "480183f2",
   "metadata": {},
   "source": [
    "## 각 리뷰의 길이 확인 \n",
    "- 각 리뷰의 길이를 넘파이 배열로 담아 평균 리뷰 길이, 길이 최소값, 길이 최대값 확인 "
   ]
  },
  {
   "cell_type": "code",
   "execution_count": 5,
   "id": "3dc3d34d",
   "metadata": {},
   "outputs": [
    {
     "name": "stdout",
     "output_type": "stream",
     "text": [
      "238.1658 177.0 11 2494\n"
     ]
    }
   ],
   "source": [
    "lengths = np.array([len(x) for x in x_train])\n",
    "\n",
    "# 길이 평균값과 중간값, 최소값, 최대값 \n",
    "print(np.mean(lengths), np.median(lengths), np.min(lengths), np.max(lengths))"
   ]
  },
  {
   "cell_type": "code",
   "execution_count": 6,
   "id": "475f8c8d",
   "metadata": {},
   "outputs": [
    {
     "data": {
      "image/png": "[encoded data removed]",
      "text/plain": [
       "<Figure size 640x480 with 1 Axes>"
      ]
     },
     "metadata": {},
     "output_type": "display_data"
    }
   ],
   "source": [
    "plt.figure()\n",
    "\n",
    "plt.hist(lengths)\n",
    "\n",
    "plt.xlabel(\"length\")\n",
    "plt.ylabel(\"frequency\")\n",
    "\n",
    "plt.show()"
   ]
  },
  {
   "cell_type": "markdown",
   "id": "f64e2aec",
   "metadata": {},
   "source": [
    "- 평균이 중간값보다 높은 이유는 아주 큰 데이터가 있기 때문 \n",
    "- 대부분의 리뷰는 짧기 때문에 이번 예제에서는 리뷰의 길이를 100으로 맞춰서 사용 \n",
    "    - 100보다 짧은 리뷰는 길이를 100에 맞추기 위해 패딩 필요 \n",
    "        - 패딩을 나타내는 토큰으로는 0 사용"
   ]
  },
  {
   "cell_type": "code",
   "execution_count": 7,
   "id": "a876836a",
   "metadata": {},
   "outputs": [],
   "source": [
    "# x_train의 길이를 100으로 맞추기 \n",
    "train_seq = pad_sequences(x_train, maxlen=100)\n",
    "# truncating='pre' 디폴트 \n",
    "# padding='pre' 디폴트 "
   ]
  },
  {
   "cell_type": "markdown",
   "id": "8994244e",
   "metadata": {},
   "source": [
    "- maxlen에 원하는 길이를 지정하면 그것보다 긴 경우는 잘라내고 짧은 경우는 0으로 패딩"
   ]
  },
  {
   "cell_type": "code",
   "execution_count": 8,
   "id": "1aa66029",
   "metadata": {},
   "outputs": [
    {
     "data": {
      "text/plain": [
       "(20000, 100)"
      ]
     },
     "execution_count": 8,
     "metadata": {},
     "output_type": "execute_result"
    }
   ],
   "source": [
    "# train_seq 크기 확인 \n",
    "train_seq.shape"
   ]
  },
  {
   "cell_type": "code",
   "execution_count": 18,
   "id": "012e1150",
   "metadata": {},
   "outputs": [
    {
     "data": {
      "text/plain": [
       "array([[ 35,   2,   2, ...,  49,   2,   2],\n",
       "       [  2,  17,  31, ...,   2, 312, 489],\n",
       "       [  0,   0,   0, ...,  17,  12, 214],\n",
       "       ...,\n",
       "       [ 16, 107,   2, ..., 335,  33,  12],\n",
       "       [ 26,   2, 195, ...,  39,   4,  22],\n",
       "       [  0,   0,   0, ...,  31,  80,   2]])"
      ]
     },
     "execution_count": 18,
     "metadata": {},
     "output_type": "execute_result"
    }
   ],
   "source": [
    "train_seq"
   ]
  },
  {
   "cell_type": "code",
   "execution_count": 22,
   "id": "176a55c1",
   "metadata": {},
   "outputs": [
    {
     "data": {
      "text/plain": [
       "array([ 35,   2,   2,   2,   4, 481,   2,   2,  53,  17,   6,   2,   2,\n",
       "        74,  15,   7,   2,   2,   2,   2, 198,   2,   2, 467,   2, 103,\n",
       "        94,   2,   2, 350,   2,   2,   2, 179,   2,   5,   2,   6,   2,\n",
       "       471,  26,   2,   5, 157, 125, 257,   2,   2,   2,   2,  56,   4,\n",
       "         2,  17,   4,   2,  37,   2, 225,  53, 170,  23,  74,  51,   9,\n",
       "       112,   2,  23,  35,   2,   2, 177,   2,   2,   2,  34,   2,   2,\n",
       "         5,   2,   2,   2,  10,  10,   6,   2,   2,  21,   2,   2, 453,\n",
       "         2,  34,  94, 107,   2,   5,  49,   2,   2])"
      ]
     },
     "execution_count": 22,
     "metadata": {},
     "output_type": "execute_result"
    }
   ],
   "source": [
    "train_seq[0]"
   ]
  },
  {
   "cell_type": "code",
   "execution_count": 25,
   "id": "28649d95",
   "metadata": {},
   "outputs": [
    {
     "name": "stdout",
     "output_type": "stream",
     "text": [
      "[1, 2, 2, 2, 106, 18, 4, 2, 2, 7, 6, 2, 351, 2, 2, 116, 17, 2, 2, 2, 18, 49, 2, 2, 2, 21, 2, 2, 2, 314, 2, 14, 2, 2, 365, 9, 6, 2, 7, 2, 2, 2, 5, 2, 114, 2, 2, 23, 94, 55, 2, 381, 48, 2, 2, 2, 2, 2, 5, 2, 2, 66, 36, 92, 79, 8, 81, 32, 15, 76, 262, 315, 4, 2, 2, 2, 2, 121, 36, 2, 2, 11, 6, 2, 315, 4, 2, 2, 8, 2, 6, 2, 19, 158, 2, 2, 2, 449, 253, 21, 14, 9, 54, 4, 2, 48, 2, 2, 9, 2, 200, 2, 5, 2, 105, 103, 6, 2, 2, 7, 2, 5, 2, 2, 2, 429, 257, 85, 4, 107, 216, 8, 35, 2, 15, 2, 98, 2, 257, 2, 2, 5, 28, 6, 2, 2, 14, 62, 140, 23, 8, 297, 6, 2, 173, 11, 4, 2, 333, 320, 7, 4, 65, 19, 15, 2, 2, 2, 131, 68, 2, 402, 23, 2, 225, 53, 21, 51, 75, 79, 9, 2, 5, 14, 9, 2, 34, 15, 2, 43, 2, 50, 2, 277, 15, 238, 43, 97, 25, 2, 2, 2, 8, 79, 15, 46, 7, 4, 2, 10, 10, 4, 2, 9, 2, 2, 21, 2, 2, 18, 12, 5, 14, 186, 2, 224, 8, 2, 19, 94, 2, 2, 2, 2, 106, 17, 4, 172, 2, 9, 2, 120, 5, 120, 174, 5, 25, 124, 142, 9, 24, 179, 208, 5, 4, 2, 2, 266, 83, 297, 150, 285, 15, 127, 2, 2, 99, 2, 21, 4, 2, 2, 9, 2, 4, 2, 2, 229, 9, 242, 6, 117, 99, 2, 18, 94, 205, 52, 21, 50, 26, 49, 2, 2, 2, 2, 5, 2, 353, 24, 2, 5, 2, 2, 2, 2, 458, 9, 2, 2, 5, 364, 2, 21, 79, 6, 2, 2, 5, 2, 35, 2, 2, 2, 4, 481, 2, 2, 53, 17, 6, 2, 2, 74, 15, 7, 2, 2, 2, 2, 198, 2, 2, 467, 2, 103, 94, 2, 2, 350, 2, 2, 2, 179, 2, 5, 2, 6, 2, 471, 26, 2, 5, 157, 125, 257, 2, 2, 2, 2, 56, 4, 2, 17, 4, 2, 37, 2, 225, 53, 170, 23, 74, 51, 9, 112, 2, 23, 35, 2, 2, 177, 2, 2, 2, 34, 2, 2, 5, 2, 2, 2, 10, 10, 6, 2, 2, 21, 2, 2, 453, 2, 34, 94, 107, 2, 5, 49, 2, 2]\n"
     ]
    }
   ],
   "source": [
    "print(x_train[0])"
   ]
  },
  {
   "cell_type": "code",
   "execution_count": 26,
   "id": "809c6e16",
   "metadata": {},
   "outputs": [
    {
     "name": "stdout",
     "output_type": "stream",
     "text": [
      "[453, 2, 34, 94, 107, 2, 5, 49, 2, 2]\n"
     ]
    }
   ],
   "source": [
    "print(x_train[0][-10:])"
   ]
  },
  {
   "cell_type": "markdown",
   "id": "9e97b8d9",
   "metadata": {},
   "source": [
    "- pad_sequences 사용 시 디폴트로는 앞부분을 잘라낸다는 것을 확인 가능!\n",
    "    - 일반적으로 시퀀스의 뒷부분의 정보가 더 유용하기 때문에, 리뷰 끝에 결정적인 소감을 말할 가능성이 높음.\n",
    "    - 시퀀스의 뒷부분을 잘라내고 싶다면 \n",
    "        - truncating='post' 로 설정 "
   ]
  },
  {
   "cell_type": "code",
   "execution_count": 27,
   "id": "52c3ee6f",
   "metadata": {},
   "outputs": [
    {
     "data": {
      "text/plain": [
       "array([  0,   0,   0,   0,   0,   0,   0,   0,   0,   0,   0,   0,   0,\n",
       "         0,   0,   0,   0,   0,   0,   0,   0,   0,   0,   0,   0,   0,\n",
       "         0,   0,   0,   0,   0,   0,   0,   0,   0,   0,   0,   0,   0,\n",
       "         0,   0,   0,   0,   0,   0,   0,   1,   2,  31,   7,   4,   2,\n",
       "         7,   4,   2, 182,  14,  22,   9,  24,   2,   8,  30,   2,   4,\n",
       "       350,   2, 108,   7,  32,  58,  10,  10,  48,  25, 296,  14,  22,\n",
       "         5, 197,  12,  16, 233,  85,  74, 389,   2, 387,  72, 124,  89,\n",
       "         2,   2, 239,   9,  17,  52,  17,  12, 214])"
      ]
     },
     "execution_count": 27,
     "metadata": {},
     "output_type": "execute_result"
    }
   ],
   "source": [
    "train_seq[2]"
   ]
  },
  {
   "cell_type": "markdown",
   "id": "8856818e",
   "metadata": {},
   "source": [
    "- 패딩 토큰은 시퀀스의 앞부분에 추가됨. \n",
    "    - 시퀀스의 마지막에 있는 단어가 셀의 은닉상태에 가장 큰 영향을 미치게 되기 때문 \n",
    "    - 뒷부분에 패딩을 추가하고 싶다면 \n",
    "        - padding='post' 설정 "
   ]
  },
  {
   "cell_type": "code",
   "execution_count": 9,
   "id": "e7e2f6ea",
   "metadata": {},
   "outputs": [
    {
     "data": {
      "text/plain": [
       "(5000, 100)"
      ]
     },
     "execution_count": 9,
     "metadata": {},
     "output_type": "execute_result"
    }
   ],
   "source": [
    "# 검증 세트의 길이를 100으로 맞추기 \n",
    "val_seq = pad_sequences(x_val, maxlen=100)\n",
    "\n",
    "val_seq.shape"
   ]
  },
  {
   "cell_type": "markdown",
   "id": "3730d8eb",
   "metadata": {},
   "source": [
    "# 모델 구성 \n",
    "\n",
    "- 케라스의 SimpleRnn 클래스 사용 \n",
    "- 이진 분류 \n",
    "    - 출력층은 1개의 뉴런을 가지고 시그모이드 출력층 함수 사용"
   ]
  },
  {
   "cell_type": "code",
   "execution_count": 10,
   "id": "1bc96189",
   "metadata": {},
   "outputs": [
    {
     "data": {
      "text/plain": [
       "' 파이토치 엘만RNN\\n\\nclass ElmanRNN(nn.Module):\\n    def __init__(self, input_size, hidden_size, batch_first=False):\\n        super(ElmanRNN, self).__init__()\\n        \\n        self.rnn_cell = nn.RNNCell(input_size, hidden_size)\\n        \\n        self.batch_first = batch_first\\n        self.hidden_size = hidden_size\\n        \\n    def initialize_hidden(self, batch_size):\\n        return torch.zeros((batch_size, self.hidden_size))\\n    \\n    def forward(self, x_in, initialize_hidden=None):\\n        if self.batch_first:\\n            batch_size, seq_size, feat_size = x_in.size()\\n            x_in = x_in.permute(1,0,2)\\n        else:\\n            seq_size, batch_size, feat_size = x_in.size()\\n            \\n        hiddens = []\\n        \\n        if initialize_hidden is None:\\n            initial_hidden = self.initialize_hidden(batch_size)\\n            initial_hidden = initial_hidden.to(x_in.device)\\n            \\n        hidden_t = initial_hidden\\n        \\n        for t in range(seq_size):\\n            hidden_t = self.rnn_cell(x_in[t], hidden_t)\\n            hiddens.append(hidden_t)\\n            \\n        hiddens = torch.stack(hiddens)\\n        \\n        if self.batch_first:\\n            hiddens = hiddens.permute(1,0,2)\\n        \\n        return hiddens\\n\\n'"
      ]
     },
     "execution_count": 10,
     "metadata": {},
     "output_type": "execute_result"
    }
   ],
   "source": [
    "model = keras.Sequential()\n",
    "model.add(keras.layers.SimpleRNN(8, input_shape=(100,500))) # 원핫인코딩 - 500개 단어 \n",
    "model.add(keras.layers.Dense(1, activation='sigmoid'))\n",
    "\n",
    "\n",
    "\"\"\" 텐서플로우 LSTM \n",
    "\n",
    "class RNNClassifier(tf.keras.Model):\n",
    "    def __init__(self, **kargs):\n",
    "        super(RNNClassifier, self).__init__(name=kargs['model_name'])\n",
    "        self.embedding = layers.Embedding(input_dim=kargs['vocab_size'],\n",
    "                                         output_dim=kargs['embedding_dimension'])\n",
    "        \n",
    "        self.lstm_1_layer = tf.keras.layers.LSTM(kargs['lstm_dimension'],\n",
    "                                                return_sequences=True)\n",
    "        self.lstm_2_layer = tf.keras.layers.LSTM(kargs['lstm_dimension'])\n",
    "        \n",
    "        self.dropout = layers.Dropout(kargs['dropout_rate'])\n",
    "        \n",
    "        self.fc1 = layers.Dense(units=kargs['dense_dimension'],\n",
    "                               activation=tf.keras.activations.tanh)\n",
    "        self.fc2 = layers.Dense(units=kargs['output_dimension'],\n",
    "                               activation=tf.keras.activations.sigmoid)\n",
    "        \n",
    "    def call(self, x):\n",
    "        x = self.embedding(x)\n",
    "        x = self.dropout(x)      # 1) 임베딩 후 드롭아웃 \n",
    "        x = self.lstm_1_layer(x)\n",
    "        x = self.lstm_2_layer(x)\n",
    "        x = self.dropout(x)      # 2) LSTM 통과 후 드롭아웃 \n",
    "        x = self.fc1(x)\n",
    "        x = self.dropout(x)      # 3) 선형층1 통과 후 드롭아웃 \n",
    "        x = self.fc2(x)\n",
    "        \n",
    "        return x\n",
    "\n",
    "\"\"\"\n",
    "\n",
    "\"\"\" 파이토치 엘만RNN\n",
    "\n",
    "class ElmanRNN(nn.Module):\n",
    "    def __init__(self, input_size, hidden_size, batch_first=False):\n",
    "        super(ElmanRNN, self).__init__()\n",
    "        \n",
    "        self.rnn_cell = nn.RNNCell(input_size, hidden_size)\n",
    "        \n",
    "        self.batch_first = batch_first\n",
    "        self.hidden_size = hidden_size\n",
    "        \n",
    "    def initialize_hidden(self, batch_size):\n",
    "        return torch.zeros((batch_size, self.hidden_size))\n",
    "    \n",
    "    def forward(self, x_in, initialize_hidden=None):\n",
    "        if self.batch_first:\n",
    "            batch_size, seq_size, feat_size = x_in.size()\n",
    "            x_in = x_in.permute(1,0,2)\n",
    "        else:\n",
    "            seq_size, batch_size, feat_size = x_in.size()\n",
    "            \n",
    "        hiddens = []\n",
    "        \n",
    "        if initialize_hidden is None:\n",
    "            initial_hidden = self.initialize_hidden(batch_size)\n",
    "            initial_hidden = initial_hidden.to(x_in.device)\n",
    "            \n",
    "        hidden_t = initial_hidden\n",
    "        \n",
    "        for t in range(seq_size):\n",
    "            hidden_t = self.rnn_cell(x_in[t], hidden_t)\n",
    "            hiddens.append(hidden_t)\n",
    "            \n",
    "        hiddens = torch.stack(hiddens)\n",
    "        \n",
    "        if self.batch_first:\n",
    "            hiddens = hiddens.permute(1,0,2)\n",
    "        \n",
    "        return hiddens\n",
    "\n",
    "\"\"\""
   ]
  },
  {
   "cell_type": "markdown",
   "id": "4cf404c1",
   "metadata": {},
   "source": [
    "- SimpleRNN\n",
    "    - 첫 번째 매개변수는 사용할 유닛의 개수 \n",
    "    - input_shape\n",
    "        - 입력 차원의 첫 번째 차원은 샘플의 길이 \n",
    "        - 입력 차원의 두 번째 차원은 고유한 단어 수 (num_words)\n",
    "            - load_data() 함수에서 500개 단어만 사용하도록 지정했기 때문에 이번 예제의 고유한 단어 수는 500\n",
    "            \n",
    "    - activation \n",
    "        - 기본값은 \"tanh\" (하이퍼볼릭 탄젠트) \n",
    "            \n",
    "- 원핫인코딩을 사용하는 이유 \n",
    "    - 토큰을 정수로 변환한 데이터를 그대로 신경망에 주입하면 큰 정수가 큰 활성화 출력을 만듦. \n",
    "        - 정수 사이에는 어떤 관련도 없고 20번 토큰이 10번 토큰보다 중요한 것이 아님. "
   ]
  },
  {
   "cell_type": "code",
   "execution_count": 11,
   "id": "c995fd65",
   "metadata": {},
   "outputs": [
    {
     "data": {
      "text/plain": [
       "(20000, 100, 500)"
      ]
     },
     "execution_count": 11,
     "metadata": {},
     "output_type": "execute_result"
    }
   ],
   "source": [
    "# 케라스에서 제공하는 원핫인코딩을 위한 함수 \n",
    "train_oh = keras.utils.to_categorical(train_seq)\n",
    "train_oh.shape"
   ]
  },
  {
   "cell_type": "code",
   "execution_count": 12,
   "id": "d7588772",
   "metadata": {},
   "outputs": [
    {
     "data": {
      "text/plain": [
       "array([0., 0., 0., 0., 0., 0., 0., 0., 0., 0., 0., 0., 0., 0., 0., 0., 0.,\n",
       "       0., 0., 0., 0., 0., 0., 0., 0., 0., 0., 0., 0., 0., 0., 0., 0., 0.,\n",
       "       0., 1., 0., 0., 0., 0., 0., 0., 0., 0., 0., 0., 0., 0., 0., 0., 0.,\n",
       "       0., 0., 0., 0., 0., 0., 0., 0., 0., 0., 0., 0., 0., 0., 0., 0., 0.,\n",
       "       0., 0., 0., 0., 0., 0., 0., 0., 0., 0., 0., 0., 0., 0., 0., 0., 0.,\n",
       "       0., 0., 0., 0., 0., 0., 0., 0., 0., 0., 0., 0., 0., 0., 0.],\n",
       "      dtype=float32)"
      ]
     },
     "execution_count": 12,
     "metadata": {},
     "output_type": "execute_result"
    }
   ],
   "source": [
    "train_oh[0][0][:100]\n",
    "# 0번째 문장의 0번째 단어의 단어사전 속 위치 "
   ]
  },
  {
   "cell_type": "code",
   "execution_count": 13,
   "id": "0cc51a15",
   "metadata": {},
   "outputs": [
    {
     "data": {
      "text/plain": [
       "1.0"
      ]
     },
     "execution_count": 13,
     "metadata": {},
     "output_type": "execute_result"
    }
   ],
   "source": [
    "np.sum(train_oh[0][0])"
   ]
  },
  {
   "cell_type": "markdown",
   "id": "61e7aa13",
   "metadata": {},
   "source": [
    "- 하나의 원소만 1이고 나머지 원소는 모두 0"
   ]
  },
  {
   "cell_type": "code",
   "execution_count": 14,
   "id": "afaa1507",
   "metadata": {},
   "outputs": [],
   "source": [
    "# val_seq 원핫인코딩 \n",
    "val_oh = keras.utils.to_categorical(val_seq)"
   ]
  },
  {
   "cell_type": "code",
   "execution_count": 15,
   "id": "b58fce07",
   "metadata": {},
   "outputs": [
    {
     "name": "stdout",
     "output_type": "stream",
     "text": [
      "Model: \"sequential\"\n",
      "_________________________________________________________________\n",
      " Layer (type)                Output Shape              Param #   \n",
      "=================================================================\n",
      " simple_rnn (SimpleRNN)      (None, 8)                 4072      \n",
      "                                                                 \n",
      " dense (Dense)               (None, 1)                 9         \n",
      "                                                                 \n",
      "=================================================================\n",
      "Total params: 4,081\n",
      "Trainable params: 4,081\n",
      "Non-trainable params: 0\n",
      "_________________________________________________________________\n"
     ]
    }
   ],
   "source": [
    "model.summary()"
   ]
  },
  {
   "cell_type": "markdown",
   "id": "e82b908a",
   "metadata": {},
   "source": [
    "- SimpleRNN에 전달할 샘플의 크기는 (100,500)이지만 순환층은 마지막 타임스텝의 은닉상태만 출력 \n",
    "    - 출력의 크기가 순환층의 뉴런 개수와 동일 \n",
    "    \n",
    "- 파라미터 개수 \n",
    "    - 입력 토큰은 500 차원의 원핫인코딩 배열 \n",
    "    - 배열이 순환층의 뉴런 8개와 완전연결 \n",
    "        - 500 * 8 = 4000\n",
    "    - 순환층의 은닉상태는 다시 다음 타임스텝에 사용하기 위해 또 다른 가중치와 곱해짐 \n",
    "        - 은닉상태 크기 * 유닛 개수\n",
    "            - 8 * 8 = 64\n",
    "    - 각 뉴런마다 하나의 절편 \n",
    "        - 8 \n",
    "    - 4000 + 64 + 8 = 4072 "
   ]
  },
  {
   "cell_type": "markdown",
   "id": "f859e570",
   "metadata": {},
   "source": [
    "# 모델 훈련"
   ]
  },
  {
   "cell_type": "code",
   "execution_count": 16,
   "id": "b082a244",
   "metadata": {
    "scrolled": true
   },
   "outputs": [
    {
     "name": "stdout",
     "output_type": "stream",
     "text": [
      "Epoch 1/100\n",
      "313/313 [==============================] - 13s 35ms/step - loss: 0.6966 - accuracy: 0.5044 - val_loss: 0.6959 - val_accuracy: 0.5058\n",
      "Epoch 2/100\n",
      "313/313 [==============================] - 9s 29ms/step - loss: 0.6916 - accuracy: 0.5239 - val_loss: 0.6919 - val_accuracy: 0.5240\n",
      "Epoch 3/100\n",
      "313/313 [==============================] - 7s 21ms/step - loss: 0.6870 - accuracy: 0.5462 - val_loss: 0.6863 - val_accuracy: 0.5428\n",
      "Epoch 4/100\n",
      "313/313 [==============================] - 6s 19ms/step - loss: 0.6771 - accuracy: 0.5881 - val_loss: 0.6687 - val_accuracy: 0.6152\n",
      "Epoch 5/100\n",
      "313/313 [==============================] - 5s 17ms/step - loss: 0.6504 - accuracy: 0.6420 - val_loss: 0.6437 - val_accuracy: 0.6546\n",
      "Epoch 6/100\n",
      "313/313 [==============================] - 5s 17ms/step - loss: 0.6233 - accuracy: 0.6778 - val_loss: 0.6239 - val_accuracy: 0.6754\n",
      "Epoch 7/100\n",
      "313/313 [==============================] - 6s 18ms/step - loss: 0.6011 - accuracy: 0.7028 - val_loss: 0.6056 - val_accuracy: 0.6936\n",
      "Epoch 8/100\n",
      "313/313 [==============================] - 5s 17ms/step - loss: 0.5803 - accuracy: 0.7217 - val_loss: 0.5877 - val_accuracy: 0.7104\n",
      "Epoch 9/100\n",
      "313/313 [==============================] - 6s 18ms/step - loss: 0.5606 - accuracy: 0.7363 - val_loss: 0.5656 - val_accuracy: 0.7252\n",
      "Epoch 10/100\n",
      "313/313 [==============================] - 5s 17ms/step - loss: 0.5422 - accuracy: 0.7490 - val_loss: 0.5535 - val_accuracy: 0.7382\n",
      "Epoch 11/100\n",
      "313/313 [==============================] - 5s 18ms/step - loss: 0.5253 - accuracy: 0.7599 - val_loss: 0.5380 - val_accuracy: 0.7430\n",
      "Epoch 12/100\n",
      "313/313 [==============================] - 6s 19ms/step - loss: 0.5113 - accuracy: 0.7681 - val_loss: 0.5251 - val_accuracy: 0.7492\n",
      "Epoch 13/100\n",
      "313/313 [==============================] - 6s 18ms/step - loss: 0.4989 - accuracy: 0.7754 - val_loss: 0.5202 - val_accuracy: 0.7576\n",
      "Epoch 14/100\n",
      "313/313 [==============================] - 8s 24ms/step - loss: 0.4883 - accuracy: 0.7796 - val_loss: 0.5065 - val_accuracy: 0.7620\n",
      "Epoch 15/100\n",
      "313/313 [==============================] - 17s 53ms/step - loss: 0.4792 - accuracy: 0.7860 - val_loss: 0.4989 - val_accuracy: 0.7658\n",
      "Epoch 16/100\n",
      "313/313 [==============================] - 14s 44ms/step - loss: 0.4712 - accuracy: 0.7891 - val_loss: 0.5032 - val_accuracy: 0.7582\n",
      "Epoch 17/100\n",
      "313/313 [==============================] - 12s 38ms/step - loss: 0.4646 - accuracy: 0.7930 - val_loss: 0.4985 - val_accuracy: 0.7628\n",
      "Epoch 18/100\n",
      "313/313 [==============================] - 13s 41ms/step - loss: 0.4586 - accuracy: 0.7963 - val_loss: 0.4843 - val_accuracy: 0.7702\n",
      "Epoch 19/100\n",
      "313/313 [==============================] - 14s 45ms/step - loss: 0.4533 - accuracy: 0.7984 - val_loss: 0.4849 - val_accuracy: 0.7708\n",
      "Epoch 20/100\n",
      "313/313 [==============================] - 24s 77ms/step - loss: 0.4489 - accuracy: 0.8018 - val_loss: 0.4751 - val_accuracy: 0.7750\n",
      "Epoch 21/100\n",
      "313/313 [==============================] - 25s 79ms/step - loss: 0.4445 - accuracy: 0.8034 - val_loss: 0.4736 - val_accuracy: 0.7766\n",
      "Epoch 22/100\n",
      "313/313 [==============================] - 12s 39ms/step - loss: 0.4406 - accuracy: 0.8049 - val_loss: 0.4738 - val_accuracy: 0.7778\n",
      "Epoch 23/100\n",
      "313/313 [==============================] - 9s 30ms/step - loss: 0.4370 - accuracy: 0.8087 - val_loss: 0.4650 - val_accuracy: 0.7836\n",
      "Epoch 24/100\n",
      "313/313 [==============================] - 8s 24ms/step - loss: 0.4338 - accuracy: 0.8095 - val_loss: 0.4657 - val_accuracy: 0.7808\n",
      "Epoch 25/100\n",
      "313/313 [==============================] - 7s 22ms/step - loss: 0.4313 - accuracy: 0.8079 - val_loss: 0.4605 - val_accuracy: 0.7852\n",
      "Epoch 26/100\n",
      "313/313 [==============================] - 7s 23ms/step - loss: 0.4284 - accuracy: 0.8115 - val_loss: 0.4600 - val_accuracy: 0.7860\n",
      "Epoch 27/100\n",
      "313/313 [==============================] - 9s 30ms/step - loss: 0.4262 - accuracy: 0.8113 - val_loss: 0.4600 - val_accuracy: 0.7834\n",
      "Epoch 28/100\n",
      "313/313 [==============================] - 9s 29ms/step - loss: 0.4239 - accuracy: 0.8130 - val_loss: 0.4592 - val_accuracy: 0.7846\n",
      "Epoch 29/100\n",
      "313/313 [==============================] - 11s 35ms/step - loss: 0.4222 - accuracy: 0.8148 - val_loss: 0.4564 - val_accuracy: 0.7874\n",
      "Epoch 30/100\n",
      "313/313 [==============================] - 9s 29ms/step - loss: 0.4206 - accuracy: 0.8148 - val_loss: 0.4527 - val_accuracy: 0.7864\n",
      "Epoch 31/100\n",
      "313/313 [==============================] - 10s 33ms/step - loss: 0.4186 - accuracy: 0.8153 - val_loss: 0.4554 - val_accuracy: 0.7886\n",
      "Epoch 32/100\n",
      "313/313 [==============================] - 11s 35ms/step - loss: 0.4169 - accuracy: 0.8153 - val_loss: 0.4616 - val_accuracy: 0.7862\n",
      "Epoch 33/100\n",
      "313/313 [==============================] - 13s 41ms/step - loss: 0.4154 - accuracy: 0.8181 - val_loss: 0.4519 - val_accuracy: 0.7892\n",
      "Epoch 34/100\n",
      "313/313 [==============================] - 14s 46ms/step - loss: 0.4143 - accuracy: 0.8194 - val_loss: 0.4533 - val_accuracy: 0.7884\n",
      "Epoch 35/100\n",
      "313/313 [==============================] - 17s 56ms/step - loss: 0.4130 - accuracy: 0.8184 - val_loss: 0.4549 - val_accuracy: 0.7886\n",
      "Epoch 36/100\n",
      "313/313 [==============================] - 14s 44ms/step - loss: 0.4118 - accuracy: 0.8204 - val_loss: 0.4546 - val_accuracy: 0.7902\n"
     ]
    }
   ],
   "source": [
    "rmsprop = keras.optimizers.RMSprop(learning_rate=1e-4)\n",
    "model.compile(optimizer=rmsprop, loss=\"binary_crossentropy\", metrics=['accuracy'])\n",
    "\n",
    "checkpoint_cb = keras.callbacks.ModelCheckpoint(\"./model/best-simplernn-model.h5\",\n",
    "                                               save_best_only=True)\n",
    "early_stopping_cb = keras.callbacks.EarlyStopping(patience=3,\n",
    "                                                 restore_best_weights=True)\n",
    "\n",
    "history = model.fit(train_oh, y_train, epochs=100, batch_size=64,\n",
    "                   validation_data=(val_oh, y_val),\n",
    "                   callbacks=[checkpoint_cb, early_stopping_cb])"
   ]
  },
  {
   "cell_type": "code",
   "execution_count": 17,
   "id": "04fd62b1",
   "metadata": {},
   "outputs": [
    {
     "data": {
      "image/png": "[encoded data removed]",
      "text/plain": [
       "<Figure size 640x480 with 1 Axes>"
      ]
     },
     "metadata": {},
     "output_type": "display_data"
    }
   ],
   "source": [
    "plt.figure()\n",
    "\n",
    "plt.plot(history.history['loss'], label='train_loss')\n",
    "plt.plot(history.history['val_loss'], label='val_loss')\n",
    "plt.plot(history.history['accuracy'], label='train_acc')\n",
    "plt.plot(history.history['val_accuracy'], label='val_acc')\n",
    "\n",
    "plt.xlabel('epoch')\n",
    "plt.legend()\n",
    "\n",
    "plt.show()"
   ]
  },
  {
   "cell_type": "markdown",
   "id": "0f8f5099",
   "metadata": {},
   "source": [
    "- 원핫 인코딩의 단점 \n",
    "    - 입력 데이터가 매우 커짐."
   ]
  },
  {
   "cell_type": "code",
   "execution_count": 18,
   "id": "c0975d75",
   "metadata": {},
   "outputs": [
    {
     "data": {
      "text/plain": [
       "(8000000, 4000000000)"
      ]
     },
     "execution_count": 18,
     "metadata": {},
     "output_type": "execute_result"
    }
   ],
   "source": [
    "train_seq.nbytes, train_oh.nbytes\n",
    "# 이전 정수인코딩 8백만 바이트 \n",
    "# 원핫인코딩 이후 40억 바이트 --> 500배 차이 "
   ]
  },
  {
   "cell_type": "markdown",
   "id": "3b0c32c0",
   "metadata": {},
   "source": [
    "- 토큰 1개를 500차원으로 늘렸기 때문에 500배가 커짐. \n",
    "    - 훈련 데이터가 커질수록 문제가 더 심해짐. "
   ]
  },
  {
   "cell_type": "markdown",
   "id": "908e1af7",
   "metadata": {},
   "source": [
    "# 단어 임베딩을 활용한 RNN 텍스트 분류 \n",
    "\n",
    "<img src = \"embedding.png\">"
   ]
  },
  {
   "cell_type": "markdown",
   "id": "8e87e317",
   "metadata": {},
   "source": [
    "- 단어 임베딩 (word embedding)\n",
    "    - 순환 신경망에서 텍스트를 처리할 때 즐겨 사용하는 방법 \n",
    "    - 각 단어를 고정된 크기의 실수 벡터로 변환\n",
    "    \n",
    "- 단어 임베딩으로 만들어진 벡터를 원핫 인코딩보다 훨씬 의미있는 값으로 채워져 있음. \n",
    "    - 자연어 처리에서 더 좋은 성능을 내는 경우가 많음.\n",
    "    - 단어 임베딩 벡터를 만드는 층은 Embedding 클래스로 케라스에서 제공 \n",
    "        - 처음에는 모든 벡터가 랜덤하게 초기화되고 훈련을 통해 데이터에서 좋은 단어 임베딩을 학습 \n",
    "        \n",
    "- 단어 임베딩의 장점 \n",
    "    - 입력으로 정수 데이터를 받음. \n",
    "        - 원핫 인코딩으로 변경된 배열이 아니라 train_seq을 바로 사용할 수 있음. \n",
    "        - 메모리를 훨씬 효율적으로 사용할 수 있음. \n",
    "    - 원핫 인코딩보다 훨씬 작은 크기로도 단어를 잘 표현할 수 있음."
   ]
  },
  {
   "cell_type": "code",
   "execution_count": 19,
   "id": "eb5cc944",
   "metadata": {},
   "outputs": [
    {
     "name": "stdout",
     "output_type": "stream",
     "text": [
      "Model: \"sequential_1\"\n",
      "_________________________________________________________________\n",
      " Layer (type)                Output Shape              Param #   \n",
      "=================================================================\n",
      " embedding (Embedding)       (None, 100, 16)           8000      \n",
      "                                                                 \n",
      " simple_rnn_1 (SimpleRNN)    (None, 8)                 200       \n",
      "                                                                 \n",
      " dense_1 (Dense)             (None, 1)                 9         \n",
      "                                                                 \n",
      "=================================================================\n",
      "Total params: 8,209\n",
      "Trainable params: 8,209\n",
      "Non-trainable params: 0\n",
      "_________________________________________________________________\n"
     ]
    }
   ],
   "source": [
    "model2 = keras.Sequential()\n",
    "model2.add(keras.layers.Embedding(input_dim=500, # 어휘사전 크기 \n",
    "                                  output_dim=16, # 임베딩 벡터 크기 \n",
    "                                  input_length=100)) # input_shape 아님 \n",
    "# 각 500개 단어를 16개의 숫자로 임베딩 표현 \n",
    "model2.add(keras.layers.SimpleRNN(8))\n",
    "model2.add(keras.layers.Dense(1, activation='sigmoid'))\n",
    "\n",
    "model2.summary()"
   ]
  },
  {
   "cell_type": "markdown",
   "id": "a5f452ec",
   "metadata": {},
   "source": [
    "- Embedding\n",
    "    - 첫 번째 매개변수는 어휘사전의 크기 \n",
    "        - 앞에서 IMDB 데이터셋에서 500개의 단어만 사용하도록 설정했기 때문에 같은 값으로 설정 \n",
    "    - 두 번째 매개변수는 임베딩 벡터의 크기 \n",
    "    - input_length 매개변수는 입력 시퀀스의 길이 \n",
    "        - 앞에서 샘플의 길이를 100으로 맞춰서 같은 값으로 설정 "
   ]
  },
  {
   "cell_type": "markdown",
   "id": "5a4d124b",
   "metadata": {},
   "source": [
    "- Embedding \n",
    "    - (100,) 크기의 입력을 받아 (100, 16) 크기의 출력 만듦. \n",
    "    - 500개의 각 토큰을 크기가 16인 벡터로 변경 \n",
    "        - 500 * 16 = 8000 개의 파라미터 가짐 \n",
    "        \n",
    "- SimpleRNN\n",
    "    - 16 * 8 = 128 \n",
    "    - 8 * 8 = 64 (은닉 상태에 곱해지는 가중치)\n",
    "    - 8 (절편)\n",
    "    - 128 + 64 + 8 = 200"
   ]
  },
  {
   "cell_type": "code",
   "execution_count": 20,
   "id": "1f710033",
   "metadata": {},
   "outputs": [
    {
     "name": "stdout",
     "output_type": "stream",
     "text": [
      "Epoch 1/100\n",
      "313/313 [==============================] - 6s 15ms/step - loss: 0.6957 - accuracy: 0.5059 - val_loss: 0.6943 - val_accuracy: 0.5146\n",
      "Epoch 2/100\n",
      "313/313 [==============================] - 4s 14ms/step - loss: 0.6826 - accuracy: 0.5710 - val_loss: 0.6767 - val_accuracy: 0.5972\n",
      "Epoch 3/100\n",
      "313/313 [==============================] - 5s 15ms/step - loss: 0.6582 - accuracy: 0.6590 - val_loss: 0.6527 - val_accuracy: 0.6594\n",
      "Epoch 4/100\n",
      "313/313 [==============================] - 5s 15ms/step - loss: 0.6295 - accuracy: 0.7074 - val_loss: 0.6265 - val_accuracy: 0.6978\n",
      "Epoch 5/100\n",
      "313/313 [==============================] - 5s 16ms/step - loss: 0.6032 - accuracy: 0.7302 - val_loss: 0.6067 - val_accuracy: 0.7078\n",
      "Epoch 6/100\n",
      "313/313 [==============================] - 5s 16ms/step - loss: 0.5790 - accuracy: 0.7471 - val_loss: 0.5838 - val_accuracy: 0.7302\n",
      "Epoch 7/100\n",
      "313/313 [==============================] - 5s 16ms/step - loss: 0.5566 - accuracy: 0.7631 - val_loss: 0.5666 - val_accuracy: 0.7354\n",
      "Epoch 8/100\n",
      "313/313 [==============================] - 5s 16ms/step - loss: 0.5370 - accuracy: 0.7720 - val_loss: 0.5498 - val_accuracy: 0.7454\n",
      "Epoch 9/100\n",
      "313/313 [==============================] - 5s 16ms/step - loss: 0.5193 - accuracy: 0.7806 - val_loss: 0.5367 - val_accuracy: 0.7528\n",
      "Epoch 10/100\n",
      "313/313 [==============================] - 5s 16ms/step - loss: 0.5037 - accuracy: 0.7883 - val_loss: 0.5294 - val_accuracy: 0.7526\n",
      "Epoch 11/100\n",
      "313/313 [==============================] - 5s 16ms/step - loss: 0.4892 - accuracy: 0.7946 - val_loss: 0.5177 - val_accuracy: 0.7578\n",
      "Epoch 12/100\n",
      "313/313 [==============================] - 5s 16ms/step - loss: 0.4776 - accuracy: 0.7996 - val_loss: 0.5046 - val_accuracy: 0.7682\n",
      "Epoch 13/100\n",
      "313/313 [==============================] - 5s 16ms/step - loss: 0.4668 - accuracy: 0.8025 - val_loss: 0.5023 - val_accuracy: 0.7648\n",
      "Epoch 14/100\n",
      "313/313 [==============================] - 5s 16ms/step - loss: 0.4572 - accuracy: 0.8051 - val_loss: 0.4904 - val_accuracy: 0.7706\n",
      "Epoch 15/100\n",
      "313/313 [==============================] - 5s 16ms/step - loss: 0.4488 - accuracy: 0.8101 - val_loss: 0.4910 - val_accuracy: 0.7692\n",
      "Epoch 16/100\n",
      "313/313 [==============================] - 5s 16ms/step - loss: 0.4414 - accuracy: 0.8124 - val_loss: 0.4800 - val_accuracy: 0.7766\n",
      "Epoch 17/100\n",
      "313/313 [==============================] - 5s 17ms/step - loss: 0.4352 - accuracy: 0.8144 - val_loss: 0.4785 - val_accuracy: 0.7776\n",
      "Epoch 18/100\n",
      "313/313 [==============================] - 6s 19ms/step - loss: 0.4292 - accuracy: 0.8177 - val_loss: 0.4728 - val_accuracy: 0.7802\n",
      "Epoch 19/100\n",
      "313/313 [==============================] - 6s 20ms/step - loss: 0.4243 - accuracy: 0.8188 - val_loss: 0.4782 - val_accuracy: 0.7760\n",
      "Epoch 20/100\n",
      "313/313 [==============================] - 6s 21ms/step - loss: 0.4205 - accuracy: 0.8196 - val_loss: 0.4752 - val_accuracy: 0.7764\n",
      "Epoch 21/100\n",
      "313/313 [==============================] - 7s 22ms/step - loss: 0.4174 - accuracy: 0.8220 - val_loss: 0.4718 - val_accuracy: 0.7812\n",
      "Epoch 22/100\n",
      "313/313 [==============================] - 7s 23ms/step - loss: 0.4135 - accuracy: 0.8223 - val_loss: 0.4752 - val_accuracy: 0.7780\n",
      "Epoch 23/100\n",
      "313/313 [==============================] - 7s 22ms/step - loss: 0.4108 - accuracy: 0.8230 - val_loss: 0.4821 - val_accuracy: 0.7756\n",
      "Epoch 24/100\n",
      "313/313 [==============================] - 7s 23ms/step - loss: 0.4078 - accuracy: 0.8260 - val_loss: 0.4645 - val_accuracy: 0.7852\n",
      "Epoch 25/100\n",
      "313/313 [==============================] - 8s 24ms/step - loss: 0.4056 - accuracy: 0.8263 - val_loss: 0.4672 - val_accuracy: 0.7848\n",
      "Epoch 26/100\n",
      "313/313 [==============================] - 8s 26ms/step - loss: 0.4029 - accuracy: 0.8274 - val_loss: 0.4774 - val_accuracy: 0.7752\n",
      "Epoch 27/100\n",
      "313/313 [==============================] - 9s 29ms/step - loss: 0.4006 - accuracy: 0.8270 - val_loss: 0.4650 - val_accuracy: 0.7852\n"
     ]
    }
   ],
   "source": [
    "rmsprop = keras.optimizers.RMSprop(learning_rate=1e-4)\n",
    "model2.compile(optimizer=rmsprop, loss=\"binary_crossentropy\", metrics=['accuracy'])\n",
    "\n",
    "checkpoint_cb = keras.callbacks.ModelCheckpoint(\"./model/best-embedding-model.h5\",\n",
    "                                               save_best_only=True)\n",
    "early_stopping_cb = keras.callbacks.EarlyStopping(patience=3,\n",
    "                                                 restore_best_weights=True)\n",
    "\n",
    "history = model2.fit(train_seq, y_train, epochs=100, batch_size=64,\n",
    "                   validation_data=(val_seq, y_val),\n",
    "                   callbacks=[checkpoint_cb, early_stopping_cb])"
   ]
  },
  {
   "cell_type": "code",
   "execution_count": 21,
   "id": "08307be5",
   "metadata": {},
   "outputs": [
    {
     "data": {
      "image/png": "[encoded data removed]",
      "text/plain": [
       "<Figure size 640x480 with 1 Axes>"
      ]
     },
     "metadata": {},
     "output_type": "display_data"
    }
   ],
   "source": [
    "plt.figure()\n",
    "\n",
    "plt.plot(history.history['loss'], label='train_loss')\n",
    "plt.plot(history.history['val_loss'], label='val_loss')\n",
    "plt.plot(history.history['accuracy'], label='train_acc')\n",
    "plt.plot(history.history['val_accuracy'], label='val_acc')\n",
    "\n",
    "plt.xlabel('epoch')\n",
    "plt.legend()\n",
    "\n",
    "plt.show()"
   ]
  }
 ],
 "metadata": {
  "kernelspec": {
   "display_name": "Python 3 (ipykernel)",
   "language": "python",
   "name": "python3"
  },
  "language_info": {
   "codemirror_mode": {
    "name": "ipython",
    "version": 3
   },
   "file_extension": ".py",
   "mimetype": "text/x-python",
   "name": "python",
   "nbconvert_exporter": "python",
   "pygments_lexer": "ipython3",
   "version": "3.7.13"
  }
 },
 "nbformat": 4,
 "nbformat_minor": 5
}
