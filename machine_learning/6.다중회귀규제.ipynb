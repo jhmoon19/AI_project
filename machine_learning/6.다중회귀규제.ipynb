{
 "cells": [
  {
   "cell_type": "markdown",
   "id": "f2f9e291",
   "metadata": {},
   "source": [
    "# 다중 회귀\n",
    "\n",
    "- 여러 개의 특성을 사용한 선형 회귀\n",
    "- 회귀식\n",
    "    - 종속변수 = w1x1 + w2x2 +.... + y절편 \n",
    "\n",
    "<img src = \"multiple_regression.png\">"
   ]
  },
  {
   "cell_type": "markdown",
   "id": "5b8269af",
   "metadata": {},
   "source": [
    "# 특성 공학 (feature engineering)\n",
    "\n",
    "- 기존의 특성을 사용해 새로운 특성을 만들어내는 작업 \n",
    "- 특성 공학 기법 \n",
    "    - 차원 축소 (Dimension Reduction)\n",
    "        - 특성 선정 (feature selection)\n",
    "            - 특성 랭킹 또는 특성 중요도에 따라 선정\n",
    "                - 전진 선택법\n",
    "                - 후진 제거법 \n",
    "                - 전진 선택법 & 후진 제거법 반복 \n",
    "            - 분석가의 사전배경지식 이용하거나, 랜덤 선정 및 측정을 반복하는 방법 \n",
    "        - 특성 추출 (feature extraction)\n",
    "            - 특성들의 조합으로 새로운 특성 생성\n",
    "            \n",
    "    - 스케일링 (Scaling) - preprocessing.StandardScaler\n",
    "        -  변수의 분포가 편향되어 있을 경우, 변수 간의 관계가 잘 드러나지 않는 경우 범위 변환 \n",
    "        \n",
    "    - 변형 (Transform)\n",
    "        - 기존에 존재하는 변수의 성질을 이용해 다른 변수를 생성하는 기법 \n",
    "            - 예) 날짜별 데이터에 주말 여부 추가 \n",
    "    - 비닝 (Binning) - 히스토그램 bins=100 \n",
    "        - 연속형 변수를 범주형 변수로 변환\n",
    "            - 예) 33세, 47세 --> 30대, 40대\n",
    "            \n",
    "    - 더미 (Dummy) - pd.get_dummies 원핫인코딩 \n",
    "        - 범주형 변수를 연속형 변수로 변환\n",
    "        - 기존 특성이나 특성의 조합을 규칙에 따라 수치화하여 추가 "
   ]
  },
  {
   "cell_type": "code",
   "execution_count": 1,
   "id": "fa860b86",
   "metadata": {},
   "outputs": [],
   "source": [
    "import pandas as pd\n",
    "import numpy as np\n",
    "from sklearn.model_selection import train_test_split\n",
    "# PolynomialFeatures: 칼럼 뿔려주는 아이\n",
    "from sklearn.preprocessing import PolynomialFeatures, StandardScaler\n",
    "# Ridge, Lasso: 선형 회귀의 변형된 애들 \n",
    "from sklearn.linear_model import LinearRegression, Ridge, Lasso\n",
    "import matplotlib.pyplot as plt"
   ]
  },
  {
   "cell_type": "markdown",
   "id": "6aa078c6",
   "metadata": {},
   "source": [
    "# 1. 데이터 준비"
   ]
  },
  {
   "cell_type": "code",
   "execution_count": 2,
   "id": "e032b643",
   "metadata": {},
   "outputs": [
    {
     "data": {
      "text/html": [
       "<div>\n",
       "<style scoped>\n",
       "    .dataframe tbody tr th:only-of-type {\n",
       "        vertical-align: middle;\n",
       "    }\n",
       "\n",
       "    .dataframe tbody tr th {\n",
       "        vertical-align: top;\n",
       "    }\n",
       "\n",
       "    .dataframe thead th {\n",
       "        text-align: right;\n",
       "    }\n",
       "</style>\n",
       "<table border=\"1\" class=\"dataframe\">\n",
       "  <thead>\n",
       "    <tr style=\"text-align: right;\">\n",
       "      <th></th>\n",
       "      <th>Weight</th>\n",
       "      <th>Length2</th>\n",
       "      <th>Height</th>\n",
       "      <th>Width</th>\n",
       "    </tr>\n",
       "  </thead>\n",
       "  <tbody>\n",
       "    <tr>\n",
       "      <th>72</th>\n",
       "      <td>5.9</td>\n",
       "      <td>8.4</td>\n",
       "      <td>2.1120</td>\n",
       "      <td>1.4080</td>\n",
       "    </tr>\n",
       "    <tr>\n",
       "      <th>73</th>\n",
       "      <td>32.0</td>\n",
       "      <td>13.7</td>\n",
       "      <td>3.5280</td>\n",
       "      <td>1.9992</td>\n",
       "    </tr>\n",
       "    <tr>\n",
       "      <th>74</th>\n",
       "      <td>40.0</td>\n",
       "      <td>15.0</td>\n",
       "      <td>3.8240</td>\n",
       "      <td>2.4320</td>\n",
       "    </tr>\n",
       "    <tr>\n",
       "      <th>75</th>\n",
       "      <td>51.5</td>\n",
       "      <td>16.2</td>\n",
       "      <td>4.5924</td>\n",
       "      <td>2.6316</td>\n",
       "    </tr>\n",
       "    <tr>\n",
       "      <th>76</th>\n",
       "      <td>70.0</td>\n",
       "      <td>17.4</td>\n",
       "      <td>4.5880</td>\n",
       "      <td>2.9415</td>\n",
       "    </tr>\n",
       "  </tbody>\n",
       "</table>\n",
       "</div>"
      ],
      "text/plain": [
       "    Weight  Length2  Height   Width\n",
       "72     5.9      8.4  2.1120  1.4080\n",
       "73    32.0     13.7  3.5280  1.9992\n",
       "74    40.0     15.0  3.8240  2.4320\n",
       "75    51.5     16.2  4.5924  2.6316\n",
       "76    70.0     17.4  4.5880  2.9415"
      ]
     },
     "execution_count": 2,
     "metadata": {},
     "output_type": "execute_result"
    }
   ],
   "source": [
    "df = pd.read_csv('FISH.csv')\n",
    "\n",
    "# 농어 데이터만 사용\n",
    "df = df.loc[df['Species']=='Perch', ['Weight','Length2','Height','Width']]\n",
    "df.head()"
   ]
  },
  {
   "cell_type": "markdown",
   "id": "3e643b77",
   "metadata": {},
   "source": [
    "# 2. 데이터 분할"
   ]
  },
  {
   "cell_type": "code",
   "execution_count": 3,
   "id": "ec4029b7",
   "metadata": {},
   "outputs": [
    {
     "data": {
      "text/plain": [
       "(42, 14)"
      ]
     },
     "execution_count": 3,
     "metadata": {},
     "output_type": "execute_result"
    }
   ],
   "source": [
    "# 농어의 무게를 종속변수로 \n",
    "x = df.drop('Weight', axis=1)\n",
    "y = df['Weight']\n",
    "\n",
    "x_train, x_test, y_train, y_test = train_test_split(x,y,\n",
    "                                                    test_size=0.25,\n",
    "                                                    random_state=4)\n",
    "\n",
    "len(x_train), len(x_test)"
   ]
  },
  {
   "cell_type": "code",
   "execution_count": 4,
   "id": "3375e747",
   "metadata": {},
   "outputs": [
    {
     "data": {
      "text/plain": [
       "array([[1., 2., 3., 4., 6., 9.]])"
      ]
     },
     "execution_count": 4,
     "metadata": {},
     "output_type": "execute_result"
    }
   ],
   "source": [
    "# PolynomialFeatures 사용 예시\n",
    "pf = PolynomialFeatures()\n",
    "pf.fit_transform([[2,3]])"
   ]
  },
  {
   "cell_type": "code",
   "execution_count": 5,
   "id": "b4f459fa",
   "metadata": {},
   "outputs": [
    {
     "name": "stderr",
     "output_type": "stream",
     "text": [
      "C:\\Users\\answl\\anaconda3\\envs\\nlp\\lib\\site-packages\\sklearn\\utils\\deprecation.py:87: FutureWarning: Function get_feature_names is deprecated; get_feature_names is deprecated in 1.0 and will be removed in 1.2. Please use get_feature_names_out instead.\n",
      "  warnings.warn(msg, category=FutureWarning)\n"
     ]
    },
    {
     "data": {
      "text/plain": [
       "['1', 'x0', 'x1', 'x0^2', 'x0 x1', 'x1^2']"
      ]
     },
     "execution_count": 5,
     "metadata": {},
     "output_type": "execute_result"
    }
   ],
   "source": [
    "# 특성이 어떻게 만들어졌는지 확인\n",
    "pf.get_feature_names()"
   ]
  },
  {
   "cell_type": "markdown",
   "id": "ad829d05",
   "metadata": {},
   "source": [
    "- include_bias : 절편을 추가해주는 파라미터\n",
    "    - 사이킷런의 선형회귀모델은 자동으로 절편을 추가해주기 때문에 굳이 절편을 추가할 필요가 없음. "
   ]
  },
  {
   "cell_type": "code",
   "execution_count": 6,
   "id": "a3acee7f",
   "metadata": {},
   "outputs": [
    {
     "data": {
      "text/plain": [
       "array([[2., 3., 4., 6., 9.]])"
      ]
     },
     "execution_count": 6,
     "metadata": {},
     "output_type": "execute_result"
    }
   ],
   "source": [
    "pf = PolynomialFeatures(include_bias=False)\n",
    "pf.fit_transform([[2,3]])"
   ]
  },
  {
   "cell_type": "code",
   "execution_count": 7,
   "id": "016fa28b",
   "metadata": {},
   "outputs": [
    {
     "data": {
      "text/plain": [
       "(42, 9)"
      ]
     },
     "execution_count": 7,
     "metadata": {},
     "output_type": "execute_result"
    }
   ],
   "source": [
    "# 실전 적용 \n",
    "pf = PolynomialFeatures(include_bias = False)\n",
    "poly_train = pf.fit_transform(x_train) # 원래 칼럼 3개 \n",
    "poly_test = pf.transform(x_test)\n",
    "\n",
    "poly_train.shape"
   ]
  },
  {
   "cell_type": "markdown",
   "id": "83a8986c",
   "metadata": {},
   "source": [
    "# 3. 모델 훈련 \n",
    "\n",
    "- 특성 공학 전후 비교"
   ]
  },
  {
   "cell_type": "code",
   "execution_count": 8,
   "id": "03f180cc",
   "metadata": {},
   "outputs": [
    {
     "data": {
      "text/plain": [
       "0.9600610520458415"
      ]
     },
     "execution_count": 8,
     "metadata": {},
     "output_type": "execute_result"
    }
   ],
   "source": [
    "# 특성공학 전 데이터로 학습한 모델 \n",
    "lr_org = LinearRegression()\n",
    "lr_org.fit(x_train, y_train)\n",
    "lr_org.score(x_test, y_test)\n",
    "# 결정계수 "
   ]
  },
  {
   "cell_type": "code",
   "execution_count": 9,
   "id": "47f05bda",
   "metadata": {},
   "outputs": [
    {
     "data": {
      "text/plain": [
       "0.9347016860138707"
      ]
     },
     "execution_count": 9,
     "metadata": {},
     "output_type": "execute_result"
    }
   ],
   "source": [
    "lr_org.score(x_train, y_train)"
   ]
  },
  {
   "cell_type": "markdown",
   "id": "a60b9a89",
   "metadata": {},
   "source": [
    "- 과소적합 상태 !! \n",
    "    - 훈련 데이터 평가치가 테스트 데이터 평가치보다 낮음. \n",
    "- 종속 변수 예측하기에 단서가 모잘랐음. "
   ]
  },
  {
   "cell_type": "code",
   "execution_count": 10,
   "id": "13a7dc37",
   "metadata": {},
   "outputs": [
    {
     "data": {
      "text/plain": [
       "0.9710693711540628"
      ]
     },
     "execution_count": 10,
     "metadata": {},
     "output_type": "execute_result"
    }
   ],
   "source": [
    "lr_poly = LinearRegression()\n",
    "lr_poly.fit(poly_train, y_train)\n",
    "lr_poly.score(poly_test, y_test)"
   ]
  },
  {
   "cell_type": "code",
   "execution_count": 11,
   "id": "c06a2956",
   "metadata": {},
   "outputs": [
    {
     "data": {
      "text/plain": [
       "0.9901121643178596"
      ]
     },
     "execution_count": 11,
     "metadata": {},
     "output_type": "execute_result"
    }
   ],
   "source": [
    "lr_poly.score(poly_train, y_train)"
   ]
  },
  {
   "cell_type": "markdown",
   "id": "58cb26ca",
   "metadata": {},
   "source": [
    "- 독립 변수 개수 늘렸더니, 유의미하게 성능이 올랐다. \n",
    "- but 꼭 독립변수 많을수록 좋은게 아님 ! "
   ]
  },
  {
   "cell_type": "markdown",
   "id": "1292e4aa",
   "metadata": {},
   "source": [
    "# 모델 최적화\n",
    "\n",
    "- 특성을 더 추가\n",
    "    - degree 매개변수 : 고차항의 최대 차수 지정 "
   ]
  },
  {
   "cell_type": "code",
   "execution_count": 12,
   "id": "ed17c22f",
   "metadata": {},
   "outputs": [
    {
     "data": {
      "text/plain": [
       "(42, 55)"
      ]
     },
     "execution_count": 12,
     "metadata": {},
     "output_type": "execute_result"
    }
   ],
   "source": [
    "pf = PolynomialFeatures(degree=5, include_bias=False)\n",
    "poly_train5 = pf.fit_transform(x_train)\n",
    "poly_test5 = pf.transform(x_test)\n",
    "poly_train5.shape"
   ]
  },
  {
   "cell_type": "markdown",
   "id": "36469276",
   "metadata": {},
   "source": [
    "- 전체 데이터 개수보다 칼럼이 더 많아짐. ..."
   ]
  },
  {
   "cell_type": "code",
   "execution_count": 13,
   "id": "8d094fe6",
   "metadata": {},
   "outputs": [
    {
     "data": {
      "text/plain": [
       "-9.314299057128732"
      ]
     },
     "execution_count": 13,
     "metadata": {},
     "output_type": "execute_result"
    }
   ],
   "source": [
    "lr_poly5 = LinearRegression()\n",
    "lr_poly5.fit(poly_train5, y_train)\n",
    "lr_poly5.score(poly_test5, y_test)"
   ]
  },
  {
   "cell_type": "code",
   "execution_count": 14,
   "id": "53d04166",
   "metadata": {},
   "outputs": [
    {
     "data": {
      "text/plain": [
       "0.9999999999999896"
      ]
     },
     "execution_count": 14,
     "metadata": {},
     "output_type": "execute_result"
    }
   ],
   "source": [
    "lr_poly5.score(poly_train5, y_train)"
   ]
  },
  {
   "cell_type": "markdown",
   "id": "05e9cb22",
   "metadata": {},
   "source": [
    "- 훈련 데이터에 대해서는 완벽하게 학습\n",
    "- 테스트 데이터에 대해서는 분산보다 오차가 큼 \n",
    "    - 데이터의 평균으로 찍는 것보다 성능이 떨어짐.\n",
    "    - \"과대적합\" 일어남 !! "
   ]
  },
  {
   "cell_type": "markdown",
   "id": "e8f5bad4",
   "metadata": {},
   "source": [
    "# 규제 (regularization)\n",
    "\n",
    "- 머신러닝 모델이 훈련 세트를 과도하게 학습하지 못하도록 방지하는 것 \n",
    "    - 선형 회귀 모델의 경우에는 특성의 기울기 크기를 제한 \n",
    "- 선형 회귀 모델에 규제를 가하는 방법에 따라 릿지(Ridge) 모델과 라소(Lasso)로 나뉨. \n",
    "    - 릿지 모델\n",
    "        - \"계수를 제곱한 값\"을 제한 \n",
    "        - L2 규제 \n",
    "        - 가중치들은 0에 가까워질 뿐 0이 되지는 않는다\n",
    "    - 라쏘 모델\n",
    "        - \"계수의 절대값\" 제한\n",
    "        - L1 규제 \n",
    "        - 필요없는 피처의 가중치들을 0으로 만듦.\n",
    "        \n",
    "- 특성이 많은데 그중 일부분만 중요하다면, 라쏘가 좀 더 좋음. \n",
    "- 특성의 중요도가 전체적으로 비슷하다면, 릿지가 좀 더 괜찮은 모델을 찾아줄 것"
   ]
  },
  {
   "cell_type": "code",
   "execution_count": 15,
   "id": "cf546d4b",
   "metadata": {},
   "outputs": [],
   "source": [
    "# 일반적으로 선형회귀모델에 규제 적용시 \n",
    "# 계수 값의 크기가 서로 많이 다르면 제어가 힘듦.\n",
    "# 따라서 규제 적용 전에 스케일링 수행\n",
    "ss = StandardScaler()\n",
    "scaled_train = ss.fit_transform(poly_train5)\n",
    "scaled_test = ss.transform(poly_test5)"
   ]
  },
  {
   "cell_type": "markdown",
   "id": "0a23fbab",
   "metadata": {},
   "source": [
    "# 1) 릿지 회귀"
   ]
  },
  {
   "cell_type": "code",
   "execution_count": 16,
   "id": "d72c208a",
   "metadata": {},
   "outputs": [
    {
     "data": {
      "text/plain": [
       "0.9621128839439514"
      ]
     },
     "execution_count": 16,
     "metadata": {},
     "output_type": "execute_result"
    }
   ],
   "source": [
    "rid = Ridge()\n",
    "rid.fit(scaled_train, y_train)\n",
    "rid.score(scaled_test, y_test)"
   ]
  },
  {
   "cell_type": "code",
   "execution_count": 17,
   "id": "2a90b752",
   "metadata": {},
   "outputs": [
    {
     "data": {
      "text/plain": [
       "0.9897127571191621"
      ]
     },
     "execution_count": 17,
     "metadata": {},
     "output_type": "execute_result"
    }
   ],
   "source": [
    "rid.score(scaled_train, y_train)"
   ]
  },
  {
   "cell_type": "markdown",
   "id": "56b5f54a",
   "metadata": {},
   "source": [
    "- 아까는 과대적합 났는데, 스케일링과 릿지 규제를 거치니\n",
    "- 꽤나 그럴싸한 결과가 나옴. \n",
    "\n",
    "- 천재를 데려다 놓고 자꾸 공부 못하게 방해를 함. \n",
    "- 제약 상태에서 역경과 고난을 거치니 최적화된 결과를 내놓을 수 있음. "
   ]
  },
  {
   "cell_type": "markdown",
   "id": "e0bbb6f6",
   "metadata": {},
   "source": [
    "# 초매개변수 (hyper-parameter)\n",
    "\n",
    "- 머신러닝 모델이 학습할 수 없고 사람이 설정해야하는 파라미터\n",
    "- 사이킷런 모델에서 하이퍼파라미터는 클래스의 매개변수로 표현됨. "
   ]
  },
  {
   "cell_type": "markdown",
   "id": "2084e0be",
   "metadata": {},
   "source": [
    "## 릿지 모델 하이퍼파라미터 튜닝\n",
    "\n",
    "- 데이터에 대해서 가장 잘 학습할 수 있는 상태를 설정하는 것 \n",
    "- 릿지 모델의 경우, 적어도 다여섯개 정도는 튜닝 가능 \n",
    "\n",
    "    - alpha: 규제의 강도 \n",
    "        - alpha 값이 크면\n",
    "            - 규제 강도가 세짐\n",
    "            - 계수의 값 줄이고 과소적합 유도\n",
    "            \n",
    "        - alpha 값이 작으면 \n",
    "            - 규제 강도가 약해짐\n",
    "            - 계수의 값 덜 줄이고 과대적합 가능성이 커짐."
   ]
  },
  {
   "cell_type": "code",
   "execution_count": 18,
   "id": "8b3a7849",
   "metadata": {},
   "outputs": [],
   "source": [
    "train_hist = []\n",
    "test_hist = []\n",
    "\n",
    "alpha_li = [0.001, 0.01, 0.1, 1, 10, 100]\n",
    "\n",
    "for alpha in alpha_li:\n",
    "    # 모델 생성 \n",
    "    rid = Ridge(alpha=alpha)\n",
    "    # 훈련\n",
    "    rid.fit(scaled_train, y_train)\n",
    "    # 모델 성능 저장\n",
    "    train_hist.append(rid.score(scaled_train, y_train))\n",
    "    test_hist.append(rid.score(scaled_test, y_test))"
   ]
  },
  {
   "cell_type": "code",
   "execution_count": 19,
   "id": "4807fd3c",
   "metadata": {},
   "outputs": [
    {
     "data": {
      "text/plain": [
       "([0.9937137613763852,\n",
       "  0.9926093355786132,\n",
       "  0.9910068150820099,\n",
       "  0.9897127571191621,\n",
       "  0.9888993957860818,\n",
       "  0.9851144530061424],\n",
       " [0.9763301355468542,\n",
       "  0.9693369008542291,\n",
       "  0.9681616432762313,\n",
       "  0.9621128839439514,\n",
       "  0.9502231314730173,\n",
       "  0.9402905253660088])"
      ]
     },
     "execution_count": 19,
     "metadata": {},
     "output_type": "execute_result"
    }
   ],
   "source": [
    "train_hist, test_hist"
   ]
  },
  {
   "cell_type": "code",
   "execution_count": 20,
   "id": "c410c8f8",
   "metadata": {},
   "outputs": [
    {
     "data": {
      "image/png": "[encoded data removed]",
      "text/plain": [
       "<Figure size 640x480 with 1 Axes>"
      ]
     },
     "metadata": {},
     "output_type": "display_data"
    }
   ],
   "source": [
    "plt.figure()\n",
    "\n",
    "# alpha 값을 그대로 x에 적용하면 간격이 서로 다르기 때문에\n",
    "# 로그 함수로 바꿔서 시각화 \n",
    "plt.plot(np.log10(alpha_li), train_hist)\n",
    "plt.plot(np.log10(alpha_li), test_hist)\n",
    "plt.xlabel(\"alpha\")\n",
    "plt.ylabel(\"R2\")\n",
    "plt.legend(labels=['train','test'])\n",
    "plt.show()"
   ]
  },
  {
   "cell_type": "markdown",
   "id": "49bbfa48",
   "metadata": {},
   "source": [
    " - alpha 가 가장 낮을 때 과소적합이 제일 약하게 나옴. \n",
    " - 규제가 높아질수록 모델에 좋은 영향을 미치지 못한다. \n",
    " - 오히려 규제가 너무 약하면 \"과대적합\" 이 일어나서 안좋아질수도 있음. "
   ]
  },
  {
   "cell_type": "markdown",
   "id": "905d0270",
   "metadata": {},
   "source": [
    "- alpha가 커질수록 훈련 데이터 점수가 낮아짐. \n",
    "    - 과소적합으로 유도되고 있음. \n",
    "- 테스트 데이터에 가장 점수가 높은 alpha 값은 0.001 임. "
   ]
  },
  {
   "cell_type": "code",
   "execution_count": 21,
   "id": "5a7053d1",
   "metadata": {},
   "outputs": [
    {
     "name": "stdout",
     "output_type": "stream",
     "text": [
      "0.9937137613763852\n",
      "0.9763301355468542\n"
     ]
    }
   ],
   "source": [
    "rid = Ridge(alpha=0.001) # 기본값은 1.0\n",
    "rid.fit(scaled_train, y_train)\n",
    "print(rid.score(scaled_train, y_train))\n",
    "print(rid.score(scaled_test, y_test))"
   ]
  },
  {
   "cell_type": "markdown",
   "id": "e2ac7a3f",
   "metadata": {},
   "source": [
    "- 함수에 커서 올리고 shift+tab 누르면 함수 설명 창 뜸 !! "
   ]
  },
  {
   "cell_type": "markdown",
   "id": "535bc8ab",
   "metadata": {},
   "source": [
    "# 2) 라쏘 회귀"
   ]
  },
  {
   "cell_type": "code",
   "execution_count": 22,
   "id": "059d98a8",
   "metadata": {},
   "outputs": [
    {
     "name": "stdout",
     "output_type": "stream",
     "text": [
      "0.9899528568250525\n",
      "0.9639213215378304\n"
     ]
    },
    {
     "name": "stderr",
     "output_type": "stream",
     "text": [
      "C:\\Users\\answl\\anaconda3\\envs\\nlp\\lib\\site-packages\\sklearn\\linear_model\\_coordinate_descent.py:648: ConvergenceWarning: Objective did not converge. You might want to increase the number of iterations, check the scale of the features or consider increasing regularisation. Duality gap: 5.487e+02, tolerance: 5.416e+02\n",
      "  coef_, l1_reg, l2_reg, X, y, max_iter, tol, rng, random, positive\n"
     ]
    }
   ],
   "source": [
    "las = Lasso() # alpha 기본값 1.0\n",
    "las.fit(scaled_train, y_train)\n",
    "print(las.score(scaled_train, y_train))\n",
    "print(las.score(scaled_test, y_test))"
   ]
  },
  {
   "cell_type": "markdown",
   "id": "1e1f2025",
   "metadata": {},
   "source": [
    "## 라쏘 모델 하이퍼파라미터 튜닝 "
   ]
  },
  {
   "cell_type": "code",
   "execution_count": 23,
   "id": "9b968be3",
   "metadata": {},
   "outputs": [
    {
     "name": "stderr",
     "output_type": "stream",
     "text": [
      "C:\\Users\\answl\\anaconda3\\envs\\nlp\\lib\\site-packages\\sklearn\\linear_model\\_coordinate_descent.py:648: ConvergenceWarning: Objective did not converge. You might want to increase the number of iterations, check the scale of the features or consider increasing regularisation. Duality gap: 2.203e+04, tolerance: 5.416e+02\n",
      "  coef_, l1_reg, l2_reg, X, y, max_iter, tol, rng, random, positive\n",
      "C:\\Users\\answl\\anaconda3\\envs\\nlp\\lib\\site-packages\\sklearn\\linear_model\\_coordinate_descent.py:648: ConvergenceWarning: Objective did not converge. You might want to increase the number of iterations, check the scale of the features or consider increasing regularisation. Duality gap: 2.010e+04, tolerance: 5.416e+02\n",
      "  coef_, l1_reg, l2_reg, X, y, max_iter, tol, rng, random, positive\n",
      "C:\\Users\\answl\\anaconda3\\envs\\nlp\\lib\\site-packages\\sklearn\\linear_model\\_coordinate_descent.py:648: ConvergenceWarning: Objective did not converge. You might want to increase the number of iterations, check the scale of the features or consider increasing regularisation. Duality gap: 5.506e+03, tolerance: 5.416e+02\n",
      "  coef_, l1_reg, l2_reg, X, y, max_iter, tol, rng, random, positive\n",
      "C:\\Users\\answl\\anaconda3\\envs\\nlp\\lib\\site-packages\\sklearn\\linear_model\\_coordinate_descent.py:648: ConvergenceWarning: Objective did not converge. You might want to increase the number of iterations, check the scale of the features or consider increasing regularisation. Duality gap: 5.487e+02, tolerance: 5.416e+02\n",
      "  coef_, l1_reg, l2_reg, X, y, max_iter, tol, rng, random, positive\n",
      "C:\\Users\\answl\\anaconda3\\envs\\nlp\\lib\\site-packages\\sklearn\\linear_model\\_coordinate_descent.py:648: ConvergenceWarning: Objective did not converge. You might want to increase the number of iterations, check the scale of the features or consider increasing regularisation. Duality gap: 7.941e+02, tolerance: 5.416e+02\n",
      "  coef_, l1_reg, l2_reg, X, y, max_iter, tol, rng, random, positive\n"
     ]
    },
    {
     "data": {
      "text/plain": [
       "([0.9917931409013901,\n",
       "  0.9917242962502291,\n",
       "  0.9908812618691495,\n",
       "  0.9899528568250525,\n",
       "  0.9889966633161356,\n",
       "  0.9115063912646608],\n",
       " [0.967357701439608,\n",
       "  0.9675263818878662,\n",
       "  0.967573623368984,\n",
       "  0.9639213215378304,\n",
       "  0.9716261936051647,\n",
       "  0.9058536227575129])"
      ]
     },
     "execution_count": 23,
     "metadata": {},
     "output_type": "execute_result"
    }
   ],
   "source": [
    "train_hist = []\n",
    "test_hist = []\n",
    "\n",
    "alpha_li = [0.001, 0.01, 0.1, 1, 10, 100]\n",
    "\n",
    "for alpha in alpha_li:\n",
    "    # 모델 생성 \n",
    "    las = Lasso(alpha=alpha)\n",
    "    # 훈련\n",
    "    las.fit(scaled_train, y_train)\n",
    "    # 모델 성능 저장\n",
    "    train_hist.append(las.score(scaled_train, y_train))\n",
    "    test_hist.append(las.score(scaled_test, y_test))\n",
    "    \n",
    "train_hist, test_hist"
   ]
  },
  {
   "cell_type": "code",
   "execution_count": 24,
   "id": "a44952fb",
   "metadata": {},
   "outputs": [
    {
     "data": {
      "image/png": "[encoded data removed]",
      "text/plain": [
       "<Figure size 640x480 with 1 Axes>"
      ]
     },
     "metadata": {},
     "output_type": "display_data"
    }
   ],
   "source": [
    "plt.figure()\n",
    "\n",
    "# alpha 값을 그대로 x에 적용하면 간격이 서로 다르기 때문에\n",
    "# 로그 함수로 바꿔서 시각화 \n",
    "plt.plot(np.log10(alpha_li), train_hist)\n",
    "plt.plot(np.log10(alpha_li), test_hist)\n",
    "plt.xlabel(\"alpha\")\n",
    "plt.ylabel(\"R1\")\n",
    "plt.legend(labels=['train','test'])\n",
    "plt.show()"
   ]
  },
  {
   "cell_type": "markdown",
   "id": "7999a836",
   "metadata": {},
   "source": [
    "- alpha가 10인 지점이 최적점 "
   ]
  },
  {
   "cell_type": "code",
   "execution_count": 25,
   "id": "7e555d62",
   "metadata": {},
   "outputs": [
    {
     "name": "stdout",
     "output_type": "stream",
     "text": [
      "0.9889966633161356\n",
      "0.9716261936051647\n"
     ]
    },
    {
     "name": "stderr",
     "output_type": "stream",
     "text": [
      "C:\\Users\\answl\\anaconda3\\envs\\nlp\\lib\\site-packages\\sklearn\\linear_model\\_coordinate_descent.py:648: ConvergenceWarning: Objective did not converge. You might want to increase the number of iterations, check the scale of the features or consider increasing regularisation. Duality gap: 7.941e+02, tolerance: 5.416e+02\n",
      "  coef_, l1_reg, l2_reg, X, y, max_iter, tol, rng, random, positive\n"
     ]
    }
   ],
   "source": [
    "las = Lasso(alpha=10)\n",
    "las.fit(scaled_train, y_train)\n",
    "print(las.score(scaled_train, y_train))\n",
    "print(las.score(scaled_test, y_test))"
   ]
  },
  {
   "cell_type": "code",
   "execution_count": 26,
   "id": "5f2092e3",
   "metadata": {},
   "outputs": [
    {
     "data": {
      "text/plain": [
       "array([  0.        ,   0.        ,   0.        ,   0.        ,\n",
       "         0.        ,  52.9021276 ,   0.        ,   0.        ,\n",
       "        15.45782143,   3.21796662, 102.38312704,  19.75482671,\n",
       "        32.70994135,   8.99067511,  34.19149153,   0.        ,\n",
       "         0.        ,   0.        ,  26.83317056,   0.        ,\n",
       "         0.        ,   0.        ,   0.        ,   0.        ,\n",
       "         0.        ,  16.34285553,   0.        ,   0.        ,\n",
       "         0.        ,  14.29161344,   0.        ,   0.        ,\n",
       "         0.        ,   2.47719308,   0.        ,   0.        ,\n",
       "         0.        ,   0.        ,   0.        ,   0.        ,\n",
       "         0.        ,   0.        ,   0.        ,   0.        ,\n",
       "         0.        ,   0.        ,   0.        ,   0.        ,\n",
       "         0.        ,  20.72312176,   0.        ,   0.        ,\n",
       "         0.        ,   0.        ,   0.        ])"
      ]
     },
     "execution_count": 26,
     "metadata": {},
     "output_type": "execute_result"
    }
   ],
   "source": [
    "las.coef_"
   ]
  },
  {
   "cell_type": "markdown",
   "id": "ef1bf3c4",
   "metadata": {},
   "source": [
    "- 라쏘 모델이 판단하기에 \"이 칼럼은 아예 안쓰는게 나은데?\" 라고 판단하여 0이 나옴... \n",
    "- 14개 밖에 쓰지 않음. \n",
    "    - 좋은 독립변수를 고를 때 Lasso 모델을 활용하는 방법도 있음. "
   ]
  },
  {
   "cell_type": "code",
   "execution_count": 28,
   "id": "20cdba03",
   "metadata": {},
   "outputs": [
    {
     "name": "stdout",
     "output_type": "stream",
     "text": [
      "42\n"
     ]
    }
   ],
   "source": [
    "print(np.sum(las.coef_==0))"
   ]
  },
  {
   "cell_type": "markdown",
   "id": "7fb253fc",
   "metadata": {},
   "source": [
    "- 라쏘 모델은 기울기를 아예 0으로 만드는 경우가 있음.\n",
    "- 현재는 42개의 독립변수의 기울기를 0으로 만들어 사용하지 않음. \n",
    "    - 이런 특징을 이용해 유용한 특성을 선택하는 용도로도 사용 가능함. "
   ]
  }
 ],
 "metadata": {
  "kernelspec": {
   "display_name": "Python 3 (ipykernel)",
   "language": "python",
   "name": "python3"
  },
  "language_info": {
   "codemirror_mode": {
    "name": "ipython",
    "version": 3
   },
   "file_extension": ".py",
   "mimetype": "text/x-python",
   "name": "python",
   "nbconvert_exporter": "python",
   "pygments_lexer": "ipython3",
   "version": "3.7.13"
  }
 },
 "nbformat": 4,
 "nbformat_minor": 5
}
