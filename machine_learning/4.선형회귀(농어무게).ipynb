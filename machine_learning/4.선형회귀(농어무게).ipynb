{
 "cells": [
  {
   "cell_type": "code",
   "execution_count": 2,
   "id": "3675f9bc",
   "metadata": {},
   "outputs": [],
   "source": [
    "import pandas as pd\n",
    "import numpy as np\n",
    "from sklearn.model_selection import train_test_split\n",
    "from sklearn.linear_model import LinearRegression\n",
    "import matplotlib.pyplot as plt\n",
    "from sklearn.metrics import mean_absolute_error"
   ]
  },
  {
   "cell_type": "markdown",
   "id": "0e0d202a",
   "metadata": {},
   "source": [
    "# 1. 데이터 준비"
   ]
  },
  {
   "cell_type": "code",
   "execution_count": 3,
   "id": "a8154a66",
   "metadata": {},
   "outputs": [
    {
     "data": {
      "text/html": [
       "<div>\n",
       "<style scoped>\n",
       "    .dataframe tbody tr th:only-of-type {\n",
       "        vertical-align: middle;\n",
       "    }\n",
       "\n",
       "    .dataframe tbody tr th {\n",
       "        vertical-align: top;\n",
       "    }\n",
       "\n",
       "    .dataframe thead th {\n",
       "        text-align: right;\n",
       "    }\n",
       "</style>\n",
       "<table border=\"1\" class=\"dataframe\">\n",
       "  <thead>\n",
       "    <tr style=\"text-align: right;\">\n",
       "      <th></th>\n",
       "      <th>Species</th>\n",
       "      <th>Length2</th>\n",
       "      <th>Weight</th>\n",
       "    </tr>\n",
       "  </thead>\n",
       "  <tbody>\n",
       "    <tr>\n",
       "      <th>72</th>\n",
       "      <td>Perch</td>\n",
       "      <td>8.4</td>\n",
       "      <td>5.9</td>\n",
       "    </tr>\n",
       "    <tr>\n",
       "      <th>73</th>\n",
       "      <td>Perch</td>\n",
       "      <td>13.7</td>\n",
       "      <td>32.0</td>\n",
       "    </tr>\n",
       "    <tr>\n",
       "      <th>74</th>\n",
       "      <td>Perch</td>\n",
       "      <td>15.0</td>\n",
       "      <td>40.0</td>\n",
       "    </tr>\n",
       "    <tr>\n",
       "      <th>75</th>\n",
       "      <td>Perch</td>\n",
       "      <td>16.2</td>\n",
       "      <td>51.5</td>\n",
       "    </tr>\n",
       "    <tr>\n",
       "      <th>76</th>\n",
       "      <td>Perch</td>\n",
       "      <td>17.4</td>\n",
       "      <td>70.0</td>\n",
       "    </tr>\n",
       "  </tbody>\n",
       "</table>\n",
       "</div>"
      ],
      "text/plain": [
       "   Species  Length2  Weight\n",
       "72   Perch      8.4     5.9\n",
       "73   Perch     13.7    32.0\n",
       "74   Perch     15.0    40.0\n",
       "75   Perch     16.2    51.5\n",
       "76   Perch     17.4    70.0"
      ]
     },
     "execution_count": 3,
     "metadata": {},
     "output_type": "execute_result"
    }
   ],
   "source": [
    "df = pd.read_csv('FISH.csv')\n",
    "\n",
    "# 농어 데이터만 사용\n",
    "df = df.loc[df['Species']=='Perch', ['Species','Length2','Weight']]\n",
    "df.head()"
   ]
  },
  {
   "cell_type": "code",
   "execution_count": 4,
   "id": "80a30cb0",
   "metadata": {},
   "outputs": [
    {
     "data": {
      "image/png": "[encoded data removed]",
      "text/plain": [
       "<Figure size 640x480 with 1 Axes>"
      ]
     },
     "metadata": {},
     "output_type": "display_data"
    }
   ],
   "source": [
    "plt.figure()\n",
    "\n",
    "plt.scatter(df['Length2'], df['Weight'])\n",
    "plt.xlabel('length')\n",
    "plt.ylabel('weight')\n",
    "plt.show()"
   ]
  },
  {
   "cell_type": "markdown",
   "id": "ba91b4a7",
   "metadata": {},
   "source": [
    "- 길이가 커짐에 따라 무게가 점점 증가하는 경향이 있음."
   ]
  },
  {
   "cell_type": "markdown",
   "id": "6f0c6a98",
   "metadata": {},
   "source": [
    "# 2. 데이터 분할 "
   ]
  },
  {
   "cell_type": "code",
   "execution_count": 5,
   "id": "741651cb",
   "metadata": {},
   "outputs": [
    {
     "name": "stdout",
     "output_type": "stream",
     "text": [
      "42 42 14 14\n"
     ]
    }
   ],
   "source": [
    "x_train, x_test, y_train, y_test = train_test_split(df['Length2'], \n",
    "                                                    df['Weight'],\n",
    "                                                   test_size=0.25,\n",
    "                                                   random_state=4)\n",
    "\n",
    "print(len(x_train), len(y_train), len(x_test), len(y_test))"
   ]
  },
  {
   "cell_type": "code",
   "execution_count": 6,
   "id": "5d1e5f08",
   "metadata": {},
   "outputs": [
    {
     "data": {
      "text/plain": [
       "array([32.8, 24.6, 22. , 22. , 23. , 27.5, 22. , 26.5, 22. , 36. , 25. ,\n",
       "       27.5, 43. , 21.3, 21. , 22.5, 28. , 40. , 42. , 39. , 40. , 44. ,\n",
       "       15. , 40. , 40. , 22.7,  8.4, 16.2, 37. , 34.5, 30. , 43. , 27.3,\n",
       "       39. , 35. , 20. , 19.6, 23.5, 36.5, 13.7, 18. , 39. ])"
      ]
     },
     "execution_count": 6,
     "metadata": {},
     "output_type": "execute_result"
    }
   ],
   "source": [
    "x_train.values"
   ]
  },
  {
   "cell_type": "markdown",
   "id": "d8d29b7c",
   "metadata": {},
   "source": [
    "- 컴퓨터에겐 독립변수가 몇개 들어간다는 것을, 2차원 데이터 형식으로 알려줌. \n",
    "- 그냥은 이 데이터가 한줄인건지, 아니면 여러줄의 데이터들이 있는건지 모름.\n",
    "    - 독립변수는 반드시 2차원 배열이어야 함. "
   ]
  },
  {
   "cell_type": "code",
   "execution_count": 7,
   "id": "59a3c50d",
   "metadata": {
    "scrolled": true
   },
   "outputs": [
    {
     "data": {
      "text/plain": [
       "array([[32.8],\n",
       "       [24.6],\n",
       "       [22. ],\n",
       "       [22. ],\n",
       "       [23. ],\n",
       "       [27.5],\n",
       "       [22. ],\n",
       "       [26.5],\n",
       "       [22. ],\n",
       "       [36. ],\n",
       "       [25. ],\n",
       "       [27.5],\n",
       "       [43. ],\n",
       "       [21.3],\n",
       "       [21. ],\n",
       "       [22.5],\n",
       "       [28. ],\n",
       "       [40. ],\n",
       "       [42. ],\n",
       "       [39. ],\n",
       "       [40. ],\n",
       "       [44. ],\n",
       "       [15. ],\n",
       "       [40. ],\n",
       "       [40. ],\n",
       "       [22.7],\n",
       "       [ 8.4],\n",
       "       [16.2],\n",
       "       [37. ],\n",
       "       [34.5],\n",
       "       [30. ],\n",
       "       [43. ],\n",
       "       [27.3],\n",
       "       [39. ],\n",
       "       [35. ],\n",
       "       [20. ],\n",
       "       [19.6],\n",
       "       [23.5],\n",
       "       [36.5],\n",
       "       [13.7],\n",
       "       [18. ],\n",
       "       [39. ]])"
      ]
     },
     "execution_count": 7,
     "metadata": {},
     "output_type": "execute_result"
    }
   ],
   "source": [
    "x_train = np.reshape(x_train.values, (-1,1))\n",
    "x_train"
   ]
  },
  {
   "cell_type": "code",
   "execution_count": 8,
   "id": "7694fa02",
   "metadata": {},
   "outputs": [],
   "source": [
    "x_test = np.reshape(x_test.values, (-1,1))"
   ]
  },
  {
   "cell_type": "markdown",
   "id": "ff0e344d",
   "metadata": {},
   "source": [
    "# 3. 모델 훈련"
   ]
  },
  {
   "cell_type": "markdown",
   "id": "87ad9c76",
   "metadata": {},
   "source": [
    "# 선형 회귀 (linear regression)\n",
    "\n",
    "- 피처를 가장 잘 표현하는 하나의 직선을 학습하는 알고리즘 \n",
    "- 장점\n",
    "    - 계수들에 대한 해석 간단\n",
    "    - 학습과 예측 속도 빠름.\n",
    "    - 회귀식이 만들어져서 예측이 어떻게 됐는지 쉽게 이해 가능 \n",
    "- 단점 \n",
    "    - 데이터가 선형적이지 않을 경우 모델이 데이터에 적합하지 않을 수 있음.\n",
    "    - 이상치에 민감 "
   ]
  },
  {
   "cell_type": "code",
   "execution_count": 9,
   "id": "1fc30cb2",
   "metadata": {},
   "outputs": [
    {
     "data": {
      "text/plain": [
       "LinearRegression()"
      ]
     },
     "execution_count": 9,
     "metadata": {},
     "output_type": "execute_result"
    }
   ],
   "source": [
    "lr = LinearRegression()\n",
    "\n",
    "lr.fit(x_train, y_train)"
   ]
  },
  {
   "cell_type": "code",
   "execution_count": 10,
   "id": "c943d0eb",
   "metadata": {},
   "outputs": [
    {
     "data": {
      "text/plain": [
       "array([1204.56473316])"
      ]
     },
     "execution_count": 10,
     "metadata": {},
     "output_type": "execute_result"
    }
   ],
   "source": [
    "# 50센치 농어에 대한 예측\n",
    "lr.predict([[50]])"
   ]
  },
  {
   "cell_type": "markdown",
   "id": "7e24ef9f",
   "metadata": {},
   "source": [
    "- KNeighborsRegressor: 1010.\n",
    "- LinearRegression: 1204.56"
   ]
  },
  {
   "cell_type": "markdown",
   "id": "75ee945e",
   "metadata": {},
   "source": [
    "- 선형회귀 모델이 찾은 가장 적절한 직선은 lr객체에 저장되어 있음."
   ]
  },
  {
   "cell_type": "code",
   "execution_count": 12,
   "id": "d32a000a",
   "metadata": {},
   "outputs": [
    {
     "data": {
      "text/plain": [
       "(array([36.7977512]), -635.3228268277348)"
      ]
     },
     "execution_count": 12,
     "metadata": {},
     "output_type": "execute_result"
    }
   ],
   "source": [
    "# 직선의 계수, y절편\n",
    "lr.coef_, lr.intercept_"
   ]
  },
  {
   "cell_type": "markdown",
   "id": "18cdfa4b",
   "metadata": {},
   "source": [
    "- 회귀식: y = 36.8 * Length2 + (-635.32)\n",
    "- coef_와 intercept_ 처럼 머신러닝이 찾은 값을 \"모델 파라미터(model parameter)\"라고 부름.\n",
    "- 즉, 머신러닝 알고리즘의 훈련 과정은 \"최적의 모델 파라미터를 찾는 것\" !\n",
    "    - 선형회귀와 같이 모델 파라미터를 훈련하는 것을 **모델 기반 학습** 이라고 하고, \n",
    "    - KNN과 같이 모델 파라미터가 없이 훈련 데이터를 저장하는 훈련 방법을 **사례 기반 학습** 이라고 함. "
   ]
  },
  {
   "cell_type": "code",
   "execution_count": 13,
   "id": "b37d014c",
   "metadata": {},
   "outputs": [
    {
     "name": "stderr",
     "output_type": "stream",
     "text": [
      "C:\\Users\\answl\\AppData\\Roaming\\Python\\Python37\\site-packages\\numpy\\core\\shape_base.py:65: VisibleDeprecationWarning: Creating an ndarray from ragged nested sequences (which is a list-or-tuple of lists-or-tuples-or ndarrays with different lengths or shapes) is deprecated. If you meant to do this, you must specify 'dtype=object' when creating the ndarray.\n",
      "  ary = asanyarray(ary)\n"
     ]
    },
    {
     "data": {
      "image/png": "[encoded data removed]",
      "text/plain": [
       "<Figure size 640x480 with 1 Axes>"
      ]
     },
     "metadata": {},
     "output_type": "display_data"
    }
   ],
   "source": [
    "# 훈련 데이터와 회귀선 시각화\n",
    "plt. figure()\n",
    "\n",
    "plt.scatter(x_train, y_train)\n",
    "# plt.plot([x1, x2], [y1, y2]): (x1,y1)에서 (x2,y2)로 향하는 선 그리기 \n",
    "plt.plot([0,50], [lr.intercept_, 50*lr.coef_+lr.intercept_])\n",
    "plt.plot([0,50], [0,0],\"k--\") # k(black)\n",
    "plt.scatter(50,1205, marker='^')\n",
    "\n",
    "plt.xlim(0) # x 축 0부터 표현 \n",
    "plt.xlabel('length')\n",
    "plt.ylabel('weight')\n",
    "plt.show()"
   ]
  },
  {
   "cell_type": "markdown",
   "id": "aada24ca",
   "metadata": {},
   "source": [
    "# 4. 모델 평가"
   ]
  },
  {
   "cell_type": "code",
   "execution_count": 14,
   "id": "d045b4a5",
   "metadata": {},
   "outputs": [
    {
     "data": {
      "text/plain": [
       "0.9316263284554744"
      ]
     },
     "execution_count": 14,
     "metadata": {},
     "output_type": "execute_result"
    }
   ],
   "source": [
    "lr.score(x_test, y_test)"
   ]
  },
  {
   "cell_type": "code",
   "execution_count": 15,
   "id": "a94d5199",
   "metadata": {},
   "outputs": [
    {
     "data": {
      "text/plain": [
       "array([  4.95804405, 192.62657517, 965.37935036, 247.82320197,\n",
       "       137.42994837, 306.69960388, 420.7726326 , 376.61533116,\n",
       "        52.79512061, 726.19396756,  63.83444597, 247.82320197,\n",
       "       137.42994837, 174.22769957])"
      ]
     },
     "execution_count": 15,
     "metadata": {},
     "output_type": "execute_result"
    }
   ],
   "source": [
    "pred = lr.predict(x_test)\n",
    "pred"
   ]
  },
  {
   "cell_type": "code",
   "execution_count": 16,
   "id": "4e8d7a9f",
   "metadata": {},
   "outputs": [
    {
     "data": {
      "text/plain": [
       "55.4767964020136"
      ]
     },
     "execution_count": 16,
     "metadata": {},
     "output_type": "execute_result"
    }
   ],
   "source": [
    "mae = mean_absolute_error(y_test, pred)\n",
    "mae"
   ]
  },
  {
   "cell_type": "code",
   "execution_count": 17,
   "id": "21cf2f89",
   "metadata": {},
   "outputs": [
    {
     "data": {
      "text/plain": [
       "55.4767964020136"
      ]
     },
     "execution_count": 17,
     "metadata": {},
     "output_type": "execute_result"
    }
   ],
   "source": [
    "mean_absolute_error(pred, y_test)"
   ]
  },
  {
   "cell_type": "markdown",
   "id": "e94618da",
   "metadata": {},
   "source": [
    "- knnRegressor에 비해, 결정계수 설명력은 더 낮고 평균절대오차가 더 높지만 \n",
    "- 이것들 만으로는 모델이 좋고 나쁨을 말할 수 없다는 것을 앎."
   ]
  },
  {
   "cell_type": "markdown",
   "id": "8f8dc082",
   "metadata": {},
   "source": [
    "--> Q. 회귀식도 약간 곡선으로 2차 함수로 만들어 줄 수 있을까? \n",
    "\n",
    "# 다항 회귀 (polynomial regression)\n",
    "- 실제 농어의 무게는 일직선 이라기보단 왼쪽 위로 구부러진 곡선에 가깝기 때문에 직선보다는 곡선으로 예측하는 것이 더 적합.\n",
    "- 길이를 제곱한 항을 추가하여 2차 방정식의 그래프 형태로 학습 "
   ]
  },
  {
   "cell_type": "code",
   "execution_count": 18,
   "id": "fad4d1d7",
   "metadata": {},
   "outputs": [
    {
     "data": {
      "text/html": [
       "<div>\n",
       "<style scoped>\n",
       "    .dataframe tbody tr th:only-of-type {\n",
       "        vertical-align: middle;\n",
       "    }\n",
       "\n",
       "    .dataframe tbody tr th {\n",
       "        vertical-align: top;\n",
       "    }\n",
       "\n",
       "    .dataframe thead th {\n",
       "        text-align: right;\n",
       "    }\n",
       "</style>\n",
       "<table border=\"1\" class=\"dataframe\">\n",
       "  <thead>\n",
       "    <tr style=\"text-align: right;\">\n",
       "      <th></th>\n",
       "      <th>Species</th>\n",
       "      <th>Length2</th>\n",
       "      <th>Weight</th>\n",
       "      <th>squared</th>\n",
       "    </tr>\n",
       "  </thead>\n",
       "  <tbody>\n",
       "    <tr>\n",
       "      <th>72</th>\n",
       "      <td>Perch</td>\n",
       "      <td>8.4</td>\n",
       "      <td>5.9</td>\n",
       "      <td>70.56</td>\n",
       "    </tr>\n",
       "    <tr>\n",
       "      <th>73</th>\n",
       "      <td>Perch</td>\n",
       "      <td>13.7</td>\n",
       "      <td>32.0</td>\n",
       "      <td>187.69</td>\n",
       "    </tr>\n",
       "    <tr>\n",
       "      <th>74</th>\n",
       "      <td>Perch</td>\n",
       "      <td>15.0</td>\n",
       "      <td>40.0</td>\n",
       "      <td>225.00</td>\n",
       "    </tr>\n",
       "    <tr>\n",
       "      <th>75</th>\n",
       "      <td>Perch</td>\n",
       "      <td>16.2</td>\n",
       "      <td>51.5</td>\n",
       "      <td>262.44</td>\n",
       "    </tr>\n",
       "    <tr>\n",
       "      <th>76</th>\n",
       "      <td>Perch</td>\n",
       "      <td>17.4</td>\n",
       "      <td>70.0</td>\n",
       "      <td>302.76</td>\n",
       "    </tr>\n",
       "  </tbody>\n",
       "</table>\n",
       "</div>"
      ],
      "text/plain": [
       "   Species  Length2  Weight  squared\n",
       "72   Perch      8.4     5.9    70.56\n",
       "73   Perch     13.7    32.0   187.69\n",
       "74   Perch     15.0    40.0   225.00\n",
       "75   Perch     16.2    51.5   262.44\n",
       "76   Perch     17.4    70.0   302.76"
      ]
     },
     "execution_count": 18,
     "metadata": {},
     "output_type": "execute_result"
    }
   ],
   "source": [
    "df['squared'] = df['Length2'] ** 2\n",
    "df.head()"
   ]
  },
  {
   "cell_type": "code",
   "execution_count": 19,
   "id": "febd24b9",
   "metadata": {},
   "outputs": [],
   "source": [
    "x_train, x_test, y_train, y_test = train_test_split(df[['Length2', 'squared']],\n",
    "                                                   df['Weight'],\n",
    "                                                   test_size=0.25,\n",
    "                                                   random_state=4)"
   ]
  },
  {
   "cell_type": "code",
   "execution_count": 20,
   "id": "1de6781b",
   "metadata": {
    "scrolled": true
   },
   "outputs": [
    {
     "data": {
      "text/plain": [
       "array([[  32.8 , 1075.84],\n",
       "       [  24.6 ,  605.16],\n",
       "       [  22.  ,  484.  ],\n",
       "       [  22.  ,  484.  ],\n",
       "       [  23.  ,  529.  ],\n",
       "       [  27.5 ,  756.25],\n",
       "       [  22.  ,  484.  ],\n",
       "       [  26.5 ,  702.25],\n",
       "       [  22.  ,  484.  ],\n",
       "       [  36.  , 1296.  ],\n",
       "       [  25.  ,  625.  ],\n",
       "       [  27.5 ,  756.25],\n",
       "       [  43.  , 1849.  ],\n",
       "       [  21.3 ,  453.69],\n",
       "       [  21.  ,  441.  ],\n",
       "       [  22.5 ,  506.25],\n",
       "       [  28.  ,  784.  ],\n",
       "       [  40.  , 1600.  ],\n",
       "       [  42.  , 1764.  ],\n",
       "       [  39.  , 1521.  ],\n",
       "       [  40.  , 1600.  ],\n",
       "       [  44.  , 1936.  ],\n",
       "       [  15.  ,  225.  ],\n",
       "       [  40.  , 1600.  ],\n",
       "       [  40.  , 1600.  ],\n",
       "       [  22.7 ,  515.29],\n",
       "       [   8.4 ,   70.56],\n",
       "       [  16.2 ,  262.44],\n",
       "       [  37.  , 1369.  ],\n",
       "       [  34.5 , 1190.25],\n",
       "       [  30.  ,  900.  ],\n",
       "       [  43.  , 1849.  ],\n",
       "       [  27.3 ,  745.29],\n",
       "       [  39.  , 1521.  ],\n",
       "       [  35.  , 1225.  ],\n",
       "       [  20.  ,  400.  ],\n",
       "       [  19.6 ,  384.16],\n",
       "       [  23.5 ,  552.25],\n",
       "       [  36.5 , 1332.25],\n",
       "       [  13.7 ,  187.69],\n",
       "       [  18.  ,  324.  ],\n",
       "       [  39.  , 1521.  ]])"
      ]
     },
     "execution_count": 20,
     "metadata": {},
     "output_type": "execute_result"
    }
   ],
   "source": [
    "x_train.values # 이미 2차원이기 때문에 reshape 과정 필요 없음 "
   ]
  },
  {
   "cell_type": "code",
   "execution_count": 21,
   "id": "6f7f999c",
   "metadata": {},
   "outputs": [
    {
     "data": {
      "text/plain": [
       "LinearRegression()"
      ]
     },
     "execution_count": 21,
     "metadata": {},
     "output_type": "execute_result"
    }
   ],
   "source": [
    "lr = LinearRegression()\n",
    "\n",
    "lr.fit(x_train, y_train)"
   ]
  },
  {
   "cell_type": "code",
   "execution_count": 23,
   "id": "900341a9",
   "metadata": {},
   "outputs": [
    {
     "data": {
      "text/plain": [
       "0.9816215605279124"
      ]
     },
     "execution_count": 23,
     "metadata": {},
     "output_type": "execute_result"
    }
   ],
   "source": [
    "lr.score(x_test, y_test)"
   ]
  },
  {
   "cell_type": "code",
   "execution_count": 24,
   "id": "727d85fd",
   "metadata": {},
   "outputs": [
    {
     "data": {
      "text/plain": [
       "array([  48.88687164,  143.41525556, 1100.25995799,  181.47012205,\n",
       "        110.02057118,  227.19853592,  330.88597184,  288.38774094,\n",
       "         67.8664977 ,  706.48881537,   72.74349749,  181.47012205,\n",
       "        110.02057118,  131.76589609])"
      ]
     },
     "execution_count": 24,
     "metadata": {},
     "output_type": "execute_result"
    }
   ],
   "source": [
    "pred = lr.predict(x_test)\n",
    "pred "
   ]
  },
  {
   "cell_type": "code",
   "execution_count": 25,
   "id": "e5179ea0",
   "metadata": {},
   "outputs": [
    {
     "data": {
      "text/plain": [
       "25.57383238519946"
      ]
     },
     "execution_count": 25,
     "metadata": {},
     "output_type": "execute_result"
    }
   ],
   "source": [
    "mae = mean_absolute_error(y_test, pred)\n",
    "mae # 55.4767 --> 25.5738"
   ]
  },
  {
   "cell_type": "code",
   "execution_count": 37,
   "id": "e96659e3",
   "metadata": {},
   "outputs": [
    {
     "name": "stderr",
     "output_type": "stream",
     "text": [
      "C:\\Users\\answl\\anaconda3\\envs\\nlp\\lib\\site-packages\\sklearn\\base.py:451: UserWarning: X does not have valid feature names, but LinearRegression was fitted with feature names\n",
      "  \"X does not have valid feature names, but\"\n"
     ]
    },
    {
     "data": {
      "text/plain": [
       "array([1581.53896459])"
      ]
     },
     "execution_count": 37,
     "metadata": {},
     "output_type": "execute_result"
    }
   ],
   "source": [
    "lr.predict([[50, 2500]])"
   ]
  },
  {
   "cell_type": "code",
   "execution_count": 22,
   "id": "4357cb9c",
   "metadata": {},
   "outputs": [
    {
     "data": {
      "text/plain": [
       "(array([-22.78530409,   1.03559602]), 131.8141108364003)"
      ]
     },
     "execution_count": 22,
     "metadata": {},
     "output_type": "execute_result"
    }
   ],
   "source": [
    "lr.coef_, lr.intercept_\n",
    "# 계수가 2개 나옴. "
   ]
  },
  {
   "cell_type": "markdown",
   "id": "dca997b9",
   "metadata": {},
   "source": [
    "- 회귀식: y = 1.03x^2 + -22.78x + 131.81\n",
    "    - 여기서 x는 Length2, x제곱은 squared 값"
   ]
  },
  {
   "cell_type": "code",
   "execution_count": 40,
   "id": "4ecb8ca1",
   "metadata": {},
   "outputs": [
    {
     "data": {
      "image/png": "[encoded data removed]",
      "text/plain": [
       "<Figure size 640x480 with 1 Axes>"
      ]
     },
     "metadata": {},
     "output_type": "display_data"
    }
   ],
   "source": [
    "# 훈련 데이터와 회귀선 시각화\n",
    "plt. figure()\n",
    "\n",
    "plt.scatter(x_train['Length2'], y_train)\n",
    "\n",
    "x = np.array(range(0,51))\n",
    "# 이것과 같음. x = np.arange(0,51)\n",
    "plt.plot(x, lr.coef_[1]*x**2 + lr.coef_[0]*x + lr.intercept_)\n",
    "\n",
    "plt.plot([0,50], [0,0],\"k--\") # k(black)\n",
    "plt.scatter(50,1581.54, marker='^')\n",
    "\n",
    "plt.xlim(0) # x 축 0부터 표현 \n",
    "plt.xlabel('length')\n",
    "plt.ylabel('weight')\n",
    "plt.show()"
   ]
  }
 ],
 "metadata": {
  "kernelspec": {
   "display_name": "Python 3 (ipykernel)",
   "language": "python",
   "name": "python3"
  },
  "language_info": {
   "codemirror_mode": {
    "name": "ipython",
    "version": 3
   },
   "file_extension": ".py",
   "mimetype": "text/x-python",
   "name": "python",
   "nbconvert_exporter": "python",
   "pygments_lexer": "ipython3",
   "version": "3.7.13"
  }
 },
 "nbformat": 4,
 "nbformat_minor": 5
}
