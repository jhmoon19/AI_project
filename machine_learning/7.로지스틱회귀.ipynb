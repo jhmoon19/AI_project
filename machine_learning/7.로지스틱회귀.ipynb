{
 "cells": [
  {
   "cell_type": "markdown",
   "id": "db97f63a",
   "metadata": {},
   "source": [
    "# 로지스틱 회귀\n",
    "\n",
    "- 의의\n",
    "    - 확률을 예측하는 데에 사용되는 통계 모델 \n",
    "        - 특정 결과의 확률을 계산\n",
    "    - 결과 값은 이진이어야 함. (결과는 둘 중 하나)\n",
    "        - 원하는 결과는 1, 원하지 않는 결과는 0\n",
    "    - 선형 회귀와 마찬가지로 \"다중 공선성\"은 거의 없어야 함.\n",
    "        - 다중 공선성: 칼럼들이 자기네들끼리 영향을 주고 받는 것. \n",
    "        - 독립변수가 종속변수한테만 영향을 주는 것이 아닌, 다른 독립변수에도 영향을 미치는 것. \n",
    "            - ex. 몸무게 예측하는데, 몇 개의 비슷한 데이터들이 집중됨... \n",
    "            - 모델에 좋은 영향을 주지 않는다. \n",
    "        - 독립변수는 서로 독립적이어야 한다! \n",
    "    - 종속변수와 관련 없는 독립변수를 제거할 때 더 효율적인 경향이 있음. \n",
    "    \n",
    "- 장점\n",
    "    - 많은 양의 연산 자원을 필요로 하지 않음. \n",
    "    - 선형회귀의 일종이기에 회귀식이 나오고, 쉽게 해석할 수 있음. \n",
    "    \n",
    "- 단점\n",
    "    - 비선형 데이터에 사용하기 힘듦.\n",
    "    - 과적합에 취약함. \n",
    "    - 1과 0으로만 결과가 출력되기 때문에, 범주형 결과를 예측하는 데에만 사용 가능."
   ]
  },
  {
   "cell_type": "code",
   "execution_count": 2,
   "id": "bb6df117",
   "metadata": {},
   "outputs": [],
   "source": [
    "import numpy as np\n",
    "import matplotlib.pyplot as plt\n",
    "import pandas as pd\n",
    "from sklearn.model_selection import train_test_split\n",
    "from sklearn.preprocessing import StandardScaler\n",
    "from sklearn.linear_model import LogisticRegression\n",
    "from scipy.special import expit, softmax\n",
    "# 수학 라이브러리 scipy로 로지스틱 회귀 시각화 "
   ]
  },
  {
   "cell_type": "code",
   "execution_count": 3,
   "id": "8dbd0dba",
   "metadata": {},
   "outputs": [
    {
     "data": {
      "image/png": "[encoded data removed]",
      "text/plain": [
       "<Figure size 640x480 with 1 Axes>"
      ]
     },
     "metadata": {},
     "output_type": "display_data"
    }
   ],
   "source": [
    "# 로지스틱 함수 시각화\n",
    "z = np.arange(-5, 5, 0.1)\n",
    "phi = 1 / (1 + np.exp(-z))\n",
    "plt.plot(z, phi)\n",
    "plt.xlabel('z')\n",
    "plt.ylabel('phi')\n",
    "plt.show()"
   ]
  },
  {
   "cell_type": "markdown",
   "id": "7be5465f",
   "metadata": {},
   "source": [
    "- z가 2일 때 80%의 확률로 사건이 일어남 (1)"
   ]
  },
  {
   "cell_type": "markdown",
   "id": "80e14a5b",
   "metadata": {},
   "source": [
    "# 1. 데이터 준비"
   ]
  },
  {
   "cell_type": "code",
   "execution_count": 4,
   "id": "ec3e7087",
   "metadata": {},
   "outputs": [
    {
     "data": {
      "text/html": [
       "<div>\n",
       "<style scoped>\n",
       "    .dataframe tbody tr th:only-of-type {\n",
       "        vertical-align: middle;\n",
       "    }\n",
       "\n",
       "    .dataframe tbody tr th {\n",
       "        vertical-align: top;\n",
       "    }\n",
       "\n",
       "    .dataframe thead th {\n",
       "        text-align: right;\n",
       "    }\n",
       "</style>\n",
       "<table border=\"1\" class=\"dataframe\">\n",
       "  <thead>\n",
       "    <tr style=\"text-align: right;\">\n",
       "      <th></th>\n",
       "      <th>Species</th>\n",
       "      <th>Weight</th>\n",
       "      <th>Length1</th>\n",
       "      <th>Length2</th>\n",
       "      <th>Length3</th>\n",
       "      <th>Height</th>\n",
       "      <th>Width</th>\n",
       "    </tr>\n",
       "  </thead>\n",
       "  <tbody>\n",
       "    <tr>\n",
       "      <th>0</th>\n",
       "      <td>Bream</td>\n",
       "      <td>242.0</td>\n",
       "      <td>23.2</td>\n",
       "      <td>25.4</td>\n",
       "      <td>30.0</td>\n",
       "      <td>11.5200</td>\n",
       "      <td>4.0200</td>\n",
       "    </tr>\n",
       "    <tr>\n",
       "      <th>1</th>\n",
       "      <td>Bream</td>\n",
       "      <td>290.0</td>\n",
       "      <td>24.0</td>\n",
       "      <td>26.3</td>\n",
       "      <td>31.2</td>\n",
       "      <td>12.4800</td>\n",
       "      <td>4.3056</td>\n",
       "    </tr>\n",
       "    <tr>\n",
       "      <th>2</th>\n",
       "      <td>Bream</td>\n",
       "      <td>340.0</td>\n",
       "      <td>23.9</td>\n",
       "      <td>26.5</td>\n",
       "      <td>31.1</td>\n",
       "      <td>12.3778</td>\n",
       "      <td>4.6961</td>\n",
       "    </tr>\n",
       "    <tr>\n",
       "      <th>3</th>\n",
       "      <td>Bream</td>\n",
       "      <td>363.0</td>\n",
       "      <td>26.3</td>\n",
       "      <td>29.0</td>\n",
       "      <td>33.5</td>\n",
       "      <td>12.7300</td>\n",
       "      <td>4.4555</td>\n",
       "    </tr>\n",
       "    <tr>\n",
       "      <th>4</th>\n",
       "      <td>Bream</td>\n",
       "      <td>430.0</td>\n",
       "      <td>26.5</td>\n",
       "      <td>29.0</td>\n",
       "      <td>34.0</td>\n",
       "      <td>12.4440</td>\n",
       "      <td>5.1340</td>\n",
       "    </tr>\n",
       "  </tbody>\n",
       "</table>\n",
       "</div>"
      ],
      "text/plain": [
       "  Species  Weight  Length1  Length2  Length3   Height   Width\n",
       "0   Bream   242.0     23.2     25.4     30.0  11.5200  4.0200\n",
       "1   Bream   290.0     24.0     26.3     31.2  12.4800  4.3056\n",
       "2   Bream   340.0     23.9     26.5     31.1  12.3778  4.6961\n",
       "3   Bream   363.0     26.3     29.0     33.5  12.7300  4.4555\n",
       "4   Bream   430.0     26.5     29.0     34.0  12.4440  5.1340"
      ]
     },
     "execution_count": 4,
     "metadata": {},
     "output_type": "execute_result"
    }
   ],
   "source": [
    "df = pd.read_csv(\"FISH.csv\")\n",
    "# 농어와 빙어 데이터만 사용 \n",
    "df_bs = df[(df['Species']=='Bream') | (df['Species']=='Smelt')]\n",
    "df_bs.head()"
   ]
  },
  {
   "cell_type": "code",
   "execution_count": 5,
   "id": "d07c7cd8",
   "metadata": {},
   "outputs": [
    {
     "data": {
      "text/html": [
       "<div>\n",
       "<style scoped>\n",
       "    .dataframe tbody tr th:only-of-type {\n",
       "        vertical-align: middle;\n",
       "    }\n",
       "\n",
       "    .dataframe tbody tr th {\n",
       "        vertical-align: top;\n",
       "    }\n",
       "\n",
       "    .dataframe thead th {\n",
       "        text-align: right;\n",
       "    }\n",
       "</style>\n",
       "<table border=\"1\" class=\"dataframe\">\n",
       "  <thead>\n",
       "    <tr style=\"text-align: right;\">\n",
       "      <th></th>\n",
       "      <th>Species</th>\n",
       "      <th>Weight</th>\n",
       "      <th>Length2</th>\n",
       "      <th>Length3</th>\n",
       "      <th>Height</th>\n",
       "      <th>Width</th>\n",
       "    </tr>\n",
       "  </thead>\n",
       "  <tbody>\n",
       "    <tr>\n",
       "      <th>0</th>\n",
       "      <td>Bream</td>\n",
       "      <td>242.0</td>\n",
       "      <td>25.4</td>\n",
       "      <td>30.0</td>\n",
       "      <td>11.5200</td>\n",
       "      <td>4.0200</td>\n",
       "    </tr>\n",
       "    <tr>\n",
       "      <th>1</th>\n",
       "      <td>Bream</td>\n",
       "      <td>290.0</td>\n",
       "      <td>26.3</td>\n",
       "      <td>31.2</td>\n",
       "      <td>12.4800</td>\n",
       "      <td>4.3056</td>\n",
       "    </tr>\n",
       "    <tr>\n",
       "      <th>2</th>\n",
       "      <td>Bream</td>\n",
       "      <td>340.0</td>\n",
       "      <td>26.5</td>\n",
       "      <td>31.1</td>\n",
       "      <td>12.3778</td>\n",
       "      <td>4.6961</td>\n",
       "    </tr>\n",
       "    <tr>\n",
       "      <th>3</th>\n",
       "      <td>Bream</td>\n",
       "      <td>363.0</td>\n",
       "      <td>29.0</td>\n",
       "      <td>33.5</td>\n",
       "      <td>12.7300</td>\n",
       "      <td>4.4555</td>\n",
       "    </tr>\n",
       "    <tr>\n",
       "      <th>4</th>\n",
       "      <td>Bream</td>\n",
       "      <td>430.0</td>\n",
       "      <td>29.0</td>\n",
       "      <td>34.0</td>\n",
       "      <td>12.4440</td>\n",
       "      <td>5.1340</td>\n",
       "    </tr>\n",
       "  </tbody>\n",
       "</table>\n",
       "</div>"
      ],
      "text/plain": [
       "  Species  Weight  Length2  Length3   Height   Width\n",
       "0   Bream   242.0     25.4     30.0  11.5200  4.0200\n",
       "1   Bream   290.0     26.3     31.2  12.4800  4.3056\n",
       "2   Bream   340.0     26.5     31.1  12.3778  4.6961\n",
       "3   Bream   363.0     29.0     33.5  12.7300  4.4555\n",
       "4   Bream   430.0     29.0     34.0  12.4440  5.1340"
      ]
     },
     "execution_count": 5,
     "metadata": {},
     "output_type": "execute_result"
    }
   ],
   "source": [
    "# Length1 칼럼 제거 \n",
    "df_bs = df_bs[['Species', 'Weight', 'Length2', 'Length3', 'Height', 'Width']]\n",
    "df_bs.head()"
   ]
  },
  {
   "cell_type": "code",
   "execution_count": 7,
   "id": "03fddb30",
   "metadata": {},
   "outputs": [
    {
     "data": {
      "text/plain": [
       "((36, 5), (13, 5))"
      ]
     },
     "execution_count": 7,
     "metadata": {},
     "output_type": "execute_result"
    }
   ],
   "source": [
    "x = df_bs.drop('Species', axis=1)\n",
    "y = df_bs['Species']\n",
    "\n",
    "x_train, x_test, y_train, y_test = train_test_split(x,y,\n",
    "                                                   test_size=0.25,\n",
    "                                                    stratify=y, # 35:14로 비율 맞춰주기\n",
    "                                                   random_state=4)\n",
    "\n",
    "x_train.shape, x_test.shape"
   ]
  },
  {
   "cell_type": "code",
   "execution_count": 8,
   "id": "8bd13804",
   "metadata": {},
   "outputs": [],
   "source": [
    "ss = StandardScaler()\n",
    "scaled_train = ss.fit_transform(x_train)\n",
    "scaled_test = ss.transform(x_test)"
   ]
  },
  {
   "cell_type": "markdown",
   "id": "d2083ba0",
   "metadata": {},
   "source": [
    "# 2. 모델 훈련"
   ]
  },
  {
   "cell_type": "code",
   "execution_count": 9,
   "id": "4db17d13",
   "metadata": {},
   "outputs": [
    {
     "data": {
      "text/plain": [
       "LogisticRegression()"
      ]
     },
     "execution_count": 9,
     "metadata": {},
     "output_type": "execute_result"
    }
   ],
   "source": [
    "logi = LogisticRegression()\n",
    "logi.fit(scaled_train, y_train)"
   ]
  },
  {
   "cell_type": "markdown",
   "id": "9fe6ee13",
   "metadata": {},
   "source": [
    "# 3. 예측"
   ]
  },
  {
   "cell_type": "code",
   "execution_count": 10,
   "id": "e4a32dc0",
   "metadata": {},
   "outputs": [
    {
     "data": {
      "text/plain": [
       "array(['Bream', 'Smelt', 'Bream', 'Bream', 'Bream', 'Smelt', 'Smelt',\n",
       "       'Bream', 'Smelt', 'Bream', 'Bream', 'Bream', 'Bream'], dtype=object)"
      ]
     },
     "execution_count": 10,
     "metadata": {},
     "output_type": "execute_result"
    }
   ],
   "source": [
    "logi.predict(scaled_test)"
   ]
  },
  {
   "cell_type": "code",
   "execution_count": 11,
   "id": "cad99564",
   "metadata": {},
   "outputs": [
    {
     "data": {
      "text/plain": [
       "array([[0.97148899, 0.02851101],\n",
       "       [0.04079957, 0.95920043],\n",
       "       [0.99616728, 0.00383272],\n",
       "       [0.95984921, 0.04015079],\n",
       "       [0.96947094, 0.03052906]])"
      ]
     },
     "execution_count": 11,
     "metadata": {},
     "output_type": "execute_result"
    }
   ],
   "source": [
    "# 예측확률 출력\n",
    "logi.predict_proba(scaled_test)[:5]"
   ]
  },
  {
   "cell_type": "markdown",
   "id": "a9d7f560",
   "metadata": {},
   "source": [
    "- 원래는 오른쪽의 1일 확률만 계산하는데, 그걸 그냥 1에서 빼서 나옴 "
   ]
  },
  {
   "cell_type": "code",
   "execution_count": 12,
   "id": "921feadf",
   "metadata": {},
   "outputs": [
    {
     "data": {
      "text/plain": [
       "array(['Bream', 'Smelt'], dtype=object)"
      ]
     },
     "execution_count": 12,
     "metadata": {},
     "output_type": "execute_result"
    }
   ],
   "source": [
    "# 종속변수 값 확인 \n",
    "logi.classes_"
   ]
  },
  {
   "cell_type": "markdown",
   "id": "648dce75",
   "metadata": {},
   "source": [
    "- 0번이 Bream, 1번이 Smelt "
   ]
  },
  {
   "cell_type": "code",
   "execution_count": 13,
   "id": "3c74b640",
   "metadata": {},
   "outputs": [
    {
     "data": {
      "text/plain": [
       "(array([[-0.57696306, -0.77084508, -0.80633017, -0.85006795, -0.79827986]]),\n",
       " array([-2.70376518]))"
      ]
     },
     "execution_count": 13,
     "metadata": {},
     "output_type": "execute_result"
    }
   ],
   "source": [
    "# 로지스틱 회귀의 회귀식 확인 \n",
    "logi.coef_, logi.intercept_"
   ]
  },
  {
   "cell_type": "code",
   "execution_count": 14,
   "id": "1c696421",
   "metadata": {},
   "outputs": [
    {
     "data": {
      "text/plain": [
       "Index(['Weight', 'Length2', 'Length3', 'Height', 'Width'], dtype='object')"
      ]
     },
     "execution_count": 14,
     "metadata": {},
     "output_type": "execute_result"
    }
   ],
   "source": [
    "x_train.columns"
   ]
  },
  {
   "cell_type": "markdown",
   "id": "bc78dc22",
   "metadata": {},
   "source": [
    "- z = Weight * -0.58 + Length2 * -0.77 + Length3 * -0.81 + Height * -0.85 + Width * -0.8    + (-2.7)"
   ]
  },
  {
   "cell_type": "markdown",
   "id": "6191929d",
   "metadata": {},
   "source": [
    "### 회귀식을 통한 확률값 계산"
   ]
  },
  {
   "cell_type": "code",
   "execution_count": 15,
   "id": "f8b4b8bb",
   "metadata": {},
   "outputs": [
    {
     "data": {
      "text/plain": [
       "array([-3.5285396 ,  3.15742852, -5.56034138, -3.17413406, -3.45807148])"
      ]
     },
     "execution_count": 15,
     "metadata": {},
     "output_type": "execute_result"
    }
   ],
   "source": [
    "# z값 계산 \n",
    "decision_z = logi.decision_function(scaled_test[:5])\n",
    "decision_z"
   ]
  },
  {
   "cell_type": "code",
   "execution_count": 16,
   "id": "3e84b9f9",
   "metadata": {},
   "outputs": [
    {
     "data": {
      "text/plain": [
       "array([[-0.09071436,  0.22112041,  0.2702087 ,  0.35347067,  0.23589742],\n",
       "       [-1.38477204, -1.53268652, -1.54283418, -1.55303657, -1.64923011],\n",
       "       [ 0.7030057 ,  0.708289  ,  0.7255391 ,  0.73425513,  0.87161911],\n",
       "       [-0.2670966 ,  0.22112041,  0.26192996,  0.13780214,  0.15743971],\n",
       "       [-0.09071436,  0.19189029,  0.23709376,  0.28844214,  0.27854413]])"
      ]
     },
     "execution_count": 16,
     "metadata": {},
     "output_type": "execute_result"
    }
   ],
   "source": [
    "scaled_test[:5]"
   ]
  },
  {
   "cell_type": "markdown",
   "id": "1064b065",
   "metadata": {},
   "source": [
    "- 1) z가 -3.52일때, smelt일 확률이 10%도 안됨.(2%) \n",
    "- 2) z가 3.15일때, smelt일 확률이 90%가 넘어감. (95%)\n",
    "- ... \n",
    "    - 이렇게 z값을 로지스틱 함수에 집어넣고 나온 확률값이 결과..! "
   ]
  },
  {
   "cell_type": "code",
   "execution_count": 17,
   "id": "779d06b8",
   "metadata": {},
   "outputs": [
    {
     "data": {
      "text/plain": [
       "array([0.02851101, 0.95920043, 0.00383272, 0.04015079, 0.03052906])"
      ]
     },
     "execution_count": 17,
     "metadata": {},
     "output_type": "execute_result"
    }
   ],
   "source": [
    "# z값을 시그모이드 함수(=로지스틱 함수)를 통과시켜 확률값 계산 \n",
    "expit(decision_z) # expit이 로지스틱 함수 !! "
   ]
  },
  {
   "cell_type": "markdown",
   "id": "3cb714a1",
   "metadata": {},
   "source": [
    "# <로지스틱 회귀로 다중 분류> "
   ]
  },
  {
   "cell_type": "markdown",
   "id": "dc30ed74",
   "metadata": {},
   "source": [
    "- 도미일 확률, 빙어일 확률, 농어일 확률 을 각각 계산했을 때 \n",
    "    - ex. 0.1 / 0.5 / 0.4 --> \"빙어겠군\" 이런식으로 예측 가능 "
   ]
  },
  {
   "cell_type": "code",
   "execution_count": 18,
   "id": "c7c4fc3c",
   "metadata": {},
   "outputs": [
    {
     "data": {
      "text/plain": [
       "((119, 5), (40, 5))"
      ]
     },
     "execution_count": 18,
     "metadata": {},
     "output_type": "execute_result"
    }
   ],
   "source": [
    "df = df[['Species', 'Weight', 'Length2', 'Length3', 'Height', 'Width']]\n",
    "x = df.drop('Species',axis=1)\n",
    "y = df['Species'] # 7가지 종류의 생선 \n",
    "\n",
    "x_train, x_test, y_train, y_test = train_test_split(x,y,\n",
    "                                                   test_size=0.25,\n",
    "                                                   stratify=y,\n",
    "                                                   random_state=4)\n",
    "\n",
    "x_train.shape, x_test.shape"
   ]
  },
  {
   "cell_type": "code",
   "execution_count": 20,
   "id": "e506d594",
   "metadata": {},
   "outputs": [
    {
     "data": {
      "text/plain": [
       "Perch        56\n",
       "Bream        35\n",
       "Roach        20\n",
       "Pike         17\n",
       "Smelt        14\n",
       "Parkki       11\n",
       "Whitefish     6\n",
       "Name: Species, dtype: int64"
      ]
     },
     "execution_count": 20,
     "metadata": {},
     "output_type": "execute_result"
    }
   ],
   "source": [
    "y.value_counts()"
   ]
  },
  {
   "cell_type": "code",
   "execution_count": 19,
   "id": "502ab370",
   "metadata": {},
   "outputs": [
    {
     "name": "stdout",
     "output_type": "stream",
     "text": [
      "0.8067226890756303\n",
      "0.825\n"
     ]
    }
   ],
   "source": [
    "ss = StandardScaler()\n",
    "scaled_train = ss.fit_transform(x_train)\n",
    "scaled_test = ss.transform(x_test)\n",
    "\n",
    "logi = LogisticRegression()\n",
    "logi.fit(scaled_train, y_train)\n",
    "print(logi.score(scaled_train, y_train))\n",
    "print(logi.score(scaled_test, y_test))"
   ]
  },
  {
   "cell_type": "code",
   "execution_count": 21,
   "id": "b33073a7",
   "metadata": {},
   "outputs": [
    {
     "data": {
      "text/plain": [
       "array(['Perch', 'Bream', 'Perch', 'Smelt', 'Perch', 'Smelt', 'Perch',\n",
       "       'Parkki', 'Bream', 'Perch', 'Perch', 'Smelt', 'Bream', 'Perch',\n",
       "       'Bream', 'Bream', 'Perch', 'Perch', 'Perch', 'Pike', 'Perch',\n",
       "       'Parkki', 'Bream', 'Perch', 'Bream', 'Bream', 'Perch', 'Pike',\n",
       "       'Bream', 'Perch', 'Perch', 'Perch', 'Pike', 'Perch', 'Perch',\n",
       "       'Perch', 'Parkki', 'Perch', 'Pike', 'Perch'], dtype=object)"
      ]
     },
     "execution_count": 21,
     "metadata": {},
     "output_type": "execute_result"
    }
   ],
   "source": [
    "logi.predict(scaled_test)"
   ]
  },
  {
   "cell_type": "code",
   "execution_count": 23,
   "id": "4536c08c",
   "metadata": {},
   "outputs": [
    {
     "name": "stdout",
     "output_type": "stream",
     "text": [
      "[[0.009 0.064 0.602 0.021 0.258 0.018 0.028]\n",
      " [0.932 0.028 0.007 0.005 0.007 0.    0.021]\n",
      " [0.041 0.055 0.547 0.068 0.228 0.002 0.06 ]\n",
      " [0.    0.049 0.143 0.002 0.088 0.714 0.002]\n",
      " [0.007 0.129 0.439 0.013 0.31  0.082 0.019]]\n"
     ]
    }
   ],
   "source": [
    "# 예측확률값 확인 \n",
    "proba = logi.predict_proba(scaled_test[:5])\n",
    "print(np.round(proba, decimals=3))"
   ]
  },
  {
   "cell_type": "markdown",
   "id": "9c968c93",
   "metadata": {},
   "source": [
    "- 첫 번째 데이터는 2번째 클래스일 확률이 60%로 가장 높음 --> \"Perch\"\n",
    "- 두 번째 데이터는 1번째 클래스일 확률이 93%로 가장 높음 --> \"Bream\"\n",
    "- ... "
   ]
  },
  {
   "cell_type": "code",
   "execution_count": 24,
   "id": "24a4fa37",
   "metadata": {},
   "outputs": [
    {
     "data": {
      "text/plain": [
       "array(['Bream', 'Parkki', 'Perch', 'Pike', 'Roach', 'Smelt', 'Whitefish'],\n",
       "      dtype=object)"
      ]
     },
     "execution_count": 24,
     "metadata": {},
     "output_type": "execute_result"
    }
   ],
   "source": [
    "# 종속변수 확인 \n",
    "logi.classes_"
   ]
  },
  {
   "cell_type": "code",
   "execution_count": 25,
   "id": "408a468e",
   "metadata": {},
   "outputs": [
    {
     "data": {
      "text/plain": [
       "array([[ 0.03466818, -0.14426458,  0.59447569,  2.87750097, -0.32660901],\n",
       "       [-0.42664549, -0.68816025, -0.66056168,  1.84659393, -0.70298749],\n",
       "       [ 1.051147  ,  0.23258994, -1.31369402, -1.873154  ,  1.96370622],\n",
       "       [-0.08529506,  1.76189614,  1.71727333, -1.22798479, -0.72536922],\n",
       "       [-0.87958312, -0.3986401 ,  0.31522013, -0.3711218 ,  0.58065257],\n",
       "       [-0.3172497 , -0.77847619, -0.75299294, -1.2619235 , -1.66094845],\n",
       "       [ 0.62295819,  0.01505504,  0.10027948,  0.01008918,  0.87155537]])"
      ]
     },
     "execution_count": 25,
     "metadata": {},
     "output_type": "execute_result"
    }
   ],
   "source": [
    "# 회귀식 확인 \n",
    "logi.coef_"
   ]
  },
  {
   "cell_type": "code",
   "execution_count": 26,
   "id": "506bf235",
   "metadata": {},
   "outputs": [
    {
     "data": {
      "text/plain": [
       "array([ 0.49493769, -0.0171718 ,  2.22732827,  0.02106828,  0.96085809,\n",
       "       -4.10510449,  0.41808396])"
      ]
     },
     "execution_count": 26,
     "metadata": {},
     "output_type": "execute_result"
    }
   ],
   "source": [
    "logi.intercept_"
   ]
  },
  {
   "cell_type": "markdown",
   "id": "d982559f",
   "metadata": {},
   "source": [
    "- 각각 'Bream'의 확률을 계산하는 회귀식의 계수들과 절편, 'Parkki'의 회귀식의 계수들과 절편 .... \n",
    "- 현재의 로지스틱 다중분류에서 독립변수는 5개를 사용하기 때문에 coef_ 배열의 열은 5개임. \n",
    "- 종속변수의 범주 수가 7개이기 때문에 coef_ 행과 intercept_의 행은 7개 임.\n",
    "    - 즉, \"로지스틱 다중분류는 각 클래스마다 z값을 계산함 !\"\n",
    "    - 이때 확률값은 각각의 z값을 합이 1이 되도록 압축하기 위해 소프트맥스 함수를 사용 "
   ]
  },
  {
   "cell_type": "markdown",
   "id": "800196ee",
   "metadata": {},
   "source": [
    "- z('Bream') = Weight * 0.03 + Length2 * -0.14 + Length3 * 0.59 + Height * 2.87 + Width * -0.32 + (0.49)\n",
    "- z('Parkki') = ......\n",
    "- ......"
   ]
  },
  {
   "cell_type": "markdown",
   "id": "0aed975e",
   "metadata": {},
   "source": [
    "### 회귀식을 통한 확률값 계산"
   ]
  },
  {
   "cell_type": "code",
   "execution_count": 27,
   "id": "6817a36e",
   "metadata": {},
   "outputs": [
    {
     "data": {
      "text/plain": [
       "array([[-1.75,  0.22,  2.46, -0.88,  1.62, -1.06, -0.61],\n",
       "       [ 5.  ,  1.51,  0.08, -0.28,  0.14, -7.65,  1.2 ],\n",
       "       [-0.37, -0.09,  2.21,  0.12,  1.34, -3.19, -0.01],\n",
       "       [-4.13,  0.99,  2.06, -2.09,  1.58,  3.67, -2.08],\n",
       "       [-2.12,  0.77,  2.  , -1.5 ,  1.65,  0.32, -1.12]])"
      ]
     },
     "execution_count": 27,
     "metadata": {},
     "output_type": "execute_result"
    }
   ],
   "source": [
    "decision_z = logi.decision_function(scaled_test[:5])\n",
    "np.round(decision_z, decimals=2)"
   ]
  },
  {
   "cell_type": "markdown",
   "id": "25784695",
   "metadata": {},
   "source": [
    "- 전체 총합 비율을 100%로 맞춰주는 과정을 \"소프트맥스\" 라고 함 !! \n",
    "- [소프트맥스 계산 과정]\n",
    "    - 각각의 확률값 다 더하고, 그 합계 분의 특정한 한 범주 --> 해당 비율이 됨. "
   ]
  },
  {
   "cell_type": "code",
   "execution_count": 29,
   "id": "90cceaee",
   "metadata": {},
   "outputs": [
    {
     "data": {
      "text/plain": [
       "array([[0.009, 0.064, 0.602, 0.021, 0.258, 0.018, 0.028],\n",
       "       [0.932, 0.028, 0.007, 0.005, 0.007, 0.   , 0.021],\n",
       "       [0.041, 0.055, 0.547, 0.068, 0.228, 0.002, 0.06 ],\n",
       "       [0.   , 0.049, 0.143, 0.002, 0.088, 0.714, 0.002],\n",
       "       [0.007, 0.129, 0.439, 0.013, 0.31 , 0.082, 0.019]])"
      ]
     },
     "execution_count": 29,
     "metadata": {},
     "output_type": "execute_result"
    }
   ],
   "source": [
    "proba = softmax(decision_z, axis=1)\n",
    "np.round(proba, decimals=3)"
   ]
  },
  {
   "cell_type": "markdown",
   "id": "1cd47e10",
   "metadata": {},
   "source": [
    "- 바로 이것이 \"predict_proba\" 한 것과 동일한 결과 ! "
   ]
  },
  {
   "cell_type": "markdown",
   "id": "c958c0c0",
   "metadata": {},
   "source": [
    "# 정리 \n",
    "\n",
    "- 로지스틱 회귀는 선형 회귀처럼 선형 방정식을 사용\n",
    "- 방정식의 값을 0~1 사이로 압축 \n",
    "    - 해당 값을 0~100% 사이의 확률로 이해 가능! \n",
    "- 이진 분류\n",
    "    1. 하나의 선형 방정식을 훈련\n",
    "    2. 출력값을 \"시그모이드 함수\"에 통과시켜 0~1 사이의 값을 만듦.\n",
    "    3. 2번의 출력값이 양성 클래스에 대한 확률 \n",
    "- 다중 분류 \n",
    "    1. 클래스 개수만큼 방정식 훈련 \n",
    "    2. 각 방정식의 출력값을 소프트맥스 함수를 통과시켜 전체 클래스에 대한 합이 항상 1이 되도록 계산 \n",
    "    3. 2번의 출력값이 각 클래스에 대한 확률값"
   ]
  }
 ],
 "metadata": {
  "kernelspec": {
   "display_name": "Python 3 (ipykernel)",
   "language": "python",
   "name": "python3"
  },
  "language_info": {
   "codemirror_mode": {
    "name": "ipython",
    "version": 3
   },
   "file_extension": ".py",
   "mimetype": "text/x-python",
   "name": "python",
   "nbconvert_exporter": "python",
   "pygments_lexer": "ipython3",
   "version": "3.7.13"
  }
 },
 "nbformat": 4,
 "nbformat_minor": 5
}
