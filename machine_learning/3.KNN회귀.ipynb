{
 "cells": [
  {
   "cell_type": "markdown",
   "id": "427a2c2c",
   "metadata": {},
   "source": [
    "# 생선 길이로 무게 예측 \n",
    "\n",
    "- 회귀 (regression)\n",
    "    - 임의의 어떤 숫자를 예측하는 문제\n",
    "    - 변수들 사이의 상관관게를 분석하는 방법 \n",
    "    \n",
    "    \n",
    "- KNN 회귀\n",
    "    1. 분류와 똑같이 예측하려는 샘플에 가장 가까운 샘플 k개 선택\n",
    "    2. k개의 샘플의 종속변수 값의 평균 구함. "
   ]
  },
  {
   "cell_type": "code",
   "execution_count": 1,
   "id": "09348fea",
   "metadata": {},
   "outputs": [],
   "source": [
    "import numpy as np\n",
    "import pandas as pd\n",
    "import matplotlib.pyplot as plt\n",
    "from sklearn.neighbors import KNeighborsRegressor\n",
    "from sklearn.model_selection import train_test_split\n",
    "from sklearn.metrics import mean_absolute_error # 평균 절대 오차 "
   ]
  },
  {
   "cell_type": "markdown",
   "id": "d13fe647",
   "metadata": {},
   "source": [
    "# 1. 데이터 준비"
   ]
  },
  {
   "cell_type": "code",
   "execution_count": 2,
   "id": "7f2b4974",
   "metadata": {},
   "outputs": [
    {
     "data": {
      "text/html": [
       "<div>\n",
       "<style scoped>\n",
       "    .dataframe tbody tr th:only-of-type {\n",
       "        vertical-align: middle;\n",
       "    }\n",
       "\n",
       "    .dataframe tbody tr th {\n",
       "        vertical-align: top;\n",
       "    }\n",
       "\n",
       "    .dataframe thead th {\n",
       "        text-align: right;\n",
       "    }\n",
       "</style>\n",
       "<table border=\"1\" class=\"dataframe\">\n",
       "  <thead>\n",
       "    <tr style=\"text-align: right;\">\n",
       "      <th></th>\n",
       "      <th>Species</th>\n",
       "      <th>Length2</th>\n",
       "      <th>Weight</th>\n",
       "    </tr>\n",
       "  </thead>\n",
       "  <tbody>\n",
       "    <tr>\n",
       "      <th>72</th>\n",
       "      <td>Perch</td>\n",
       "      <td>8.4</td>\n",
       "      <td>5.9</td>\n",
       "    </tr>\n",
       "    <tr>\n",
       "      <th>73</th>\n",
       "      <td>Perch</td>\n",
       "      <td>13.7</td>\n",
       "      <td>32.0</td>\n",
       "    </tr>\n",
       "    <tr>\n",
       "      <th>74</th>\n",
       "      <td>Perch</td>\n",
       "      <td>15.0</td>\n",
       "      <td>40.0</td>\n",
       "    </tr>\n",
       "    <tr>\n",
       "      <th>75</th>\n",
       "      <td>Perch</td>\n",
       "      <td>16.2</td>\n",
       "      <td>51.5</td>\n",
       "    </tr>\n",
       "    <tr>\n",
       "      <th>76</th>\n",
       "      <td>Perch</td>\n",
       "      <td>17.4</td>\n",
       "      <td>70.0</td>\n",
       "    </tr>\n",
       "  </tbody>\n",
       "</table>\n",
       "</div>"
      ],
      "text/plain": [
       "   Species  Length2  Weight\n",
       "72   Perch      8.4     5.9\n",
       "73   Perch     13.7    32.0\n",
       "74   Perch     15.0    40.0\n",
       "75   Perch     16.2    51.5\n",
       "76   Perch     17.4    70.0"
      ]
     },
     "execution_count": 2,
     "metadata": {},
     "output_type": "execute_result"
    }
   ],
   "source": [
    "df = pd.read_csv('FISH.csv')\n",
    "\n",
    "# 농어 데이터만 사용\n",
    "df = df.loc[df['Species']=='Perch', ['Species','Length2','Weight']]\n",
    "df.head()"
   ]
  },
  {
   "cell_type": "code",
   "execution_count": 3,
   "id": "4bed1248",
   "metadata": {},
   "outputs": [
    {
     "data": {
      "image/png": "[encoded data removed]",
      "text/plain": [
       "<Figure size 640x480 with 1 Axes>"
      ]
     },
     "metadata": {},
     "output_type": "display_data"
    }
   ],
   "source": [
    "plt.figure()\n",
    "\n",
    "plt.scatter(df['Length2'], df['Weight'])\n",
    "plt.xlabel('length')\n",
    "plt.ylabel('weight')\n",
    "plt.show()"
   ]
  },
  {
   "cell_type": "markdown",
   "id": "5d7493a9",
   "metadata": {},
   "source": [
    "- 길이가 커짐에 따라 무게가 점점 증가하는 경향이 있음."
   ]
  },
  {
   "cell_type": "markdown",
   "id": "bf7fcf75",
   "metadata": {},
   "source": [
    "# 2. 데이터 분할 "
   ]
  },
  {
   "cell_type": "code",
   "execution_count": 4,
   "id": "0e5eec9d",
   "metadata": {},
   "outputs": [
    {
     "name": "stdout",
     "output_type": "stream",
     "text": [
      "42 42 14 14\n"
     ]
    }
   ],
   "source": [
    "x_train, x_test, y_train, y_test = train_test_split(df['Length2'], \n",
    "                                                    df['Weight'],\n",
    "                                                   test_size=0.25,\n",
    "                                                   random_state=4)\n",
    "\n",
    "print(len(x_train), len(y_train), len(x_test), len(y_test))"
   ]
  },
  {
   "cell_type": "code",
   "execution_count": 6,
   "id": "fb501b49",
   "metadata": {},
   "outputs": [
    {
     "data": {
      "text/plain": [
       "array([32.8, 24.6, 22. , 22. , 23. , 27.5, 22. , 26.5, 22. , 36. , 25. ,\n",
       "       27.5, 43. , 21.3, 21. , 22.5, 28. , 40. , 42. , 39. , 40. , 44. ,\n",
       "       15. , 40. , 40. , 22.7,  8.4, 16.2, 37. , 34.5, 30. , 43. , 27.3,\n",
       "       39. , 35. , 20. , 19.6, 23.5, 36.5, 13.7, 18. , 39. ])"
      ]
     },
     "execution_count": 6,
     "metadata": {},
     "output_type": "execute_result"
    }
   ],
   "source": [
    "x_train.values"
   ]
  },
  {
   "cell_type": "markdown",
   "id": "08dac446",
   "metadata": {},
   "source": [
    "- 컴퓨터에겐 독립변수가 몇개 들어간다는 것을, 2차원 데이터 형식으로 알려줌. \n",
    "- 그냥은 이 데이터가 한줄인건지, 아니면 여러줄의 데이터들이 있는건지 모름.\n",
    "    - 독립변수는 반드시 2차원 배열이어야 함. "
   ]
  },
  {
   "cell_type": "code",
   "execution_count": 7,
   "id": "946e08a1",
   "metadata": {
    "scrolled": true
   },
   "outputs": [
    {
     "data": {
      "text/plain": [
       "array([[32.8],\n",
       "       [24.6],\n",
       "       [22. ],\n",
       "       [22. ],\n",
       "       [23. ],\n",
       "       [27.5],\n",
       "       [22. ],\n",
       "       [26.5],\n",
       "       [22. ],\n",
       "       [36. ],\n",
       "       [25. ],\n",
       "       [27.5],\n",
       "       [43. ],\n",
       "       [21.3],\n",
       "       [21. ],\n",
       "       [22.5],\n",
       "       [28. ],\n",
       "       [40. ],\n",
       "       [42. ],\n",
       "       [39. ],\n",
       "       [40. ],\n",
       "       [44. ],\n",
       "       [15. ],\n",
       "       [40. ],\n",
       "       [40. ],\n",
       "       [22.7],\n",
       "       [ 8.4],\n",
       "       [16.2],\n",
       "       [37. ],\n",
       "       [34.5],\n",
       "       [30. ],\n",
       "       [43. ],\n",
       "       [27.3],\n",
       "       [39. ],\n",
       "       [35. ],\n",
       "       [20. ],\n",
       "       [19.6],\n",
       "       [23.5],\n",
       "       [36.5],\n",
       "       [13.7],\n",
       "       [18. ],\n",
       "       [39. ]])"
      ]
     },
     "execution_count": 7,
     "metadata": {},
     "output_type": "execute_result"
    }
   ],
   "source": [
    "x_train = np.reshape(x_train.values, (-1,1))\n",
    "x_train"
   ]
  },
  {
   "cell_type": "code",
   "execution_count": 10,
   "id": "8d2c9031",
   "metadata": {},
   "outputs": [],
   "source": [
    "x_test = np.reshape(x_test.values, (-1,1))"
   ]
  },
  {
   "cell_type": "markdown",
   "id": "248e7a7e",
   "metadata": {},
   "source": [
    "# 3. 모델 훈련"
   ]
  },
  {
   "cell_type": "code",
   "execution_count": 12,
   "id": "c1fdcd18",
   "metadata": {},
   "outputs": [
    {
     "data": {
      "text/plain": [
       "KNeighborsRegressor()"
      ]
     },
     "execution_count": 12,
     "metadata": {},
     "output_type": "execute_result"
    }
   ],
   "source": [
    "knr = KNeighborsRegressor()\n",
    "\n",
    "knr.fit(x_train, y_train)"
   ]
  },
  {
   "cell_type": "markdown",
   "id": "684fd03b",
   "metadata": {},
   "source": [
    "# 4. 모델 평가\n",
    "\n",
    "- 회귀 모델은 정확도 지표를 쓸 수 없음. \n",
    "- 딱 \"정확히\" 맞추는 것이 있을 수 없으니까.\n",
    "\n",
    "\n",
    "## 4-1. 결정 계수\n",
    "- 계산식 : 1 - ((sum((타깃 - 예측)^2)) / (sum((타깃 - 타깃 평균)^2)))\n",
    "- 모델의 설명력을 뜻함. \n",
    "    - 전체 변화량의 얼마 정도는 따라 갈 수 있다. \n",
    "    - 평균보다 어느 정도는 데이터에 근접하게 예측하고 있다. \n",
    "- 1에 가까울수록 모델 성능이 좋음. \n",
    "    - 예측이 타깃과 일치하면, 분자가 0"
   ]
  },
  {
   "cell_type": "code",
   "execution_count": 13,
   "id": "568655e5",
   "metadata": {},
   "outputs": [
    {
     "data": {
      "text/plain": [
       "0.9916188730818064"
      ]
     },
     "execution_count": 13,
     "metadata": {},
     "output_type": "execute_result"
    }
   ],
   "source": [
    "knr.score(x_test, y_test)"
   ]
  },
  {
   "cell_type": "markdown",
   "id": "8dc71188",
   "metadata": {},
   "source": [
    "- 분류인지, 회귀 모델인지에 따라 .score 했을때 나오는 결과가 다르다 ! \n",
    "    - 분류 : 1.0\n",
    "    - 회귀 : 0.9....."
   ]
  },
  {
   "cell_type": "markdown",
   "id": "71084d5b",
   "metadata": {},
   "source": [
    "## 4-2) mean_absolute_error\n",
    "- 타깃과 예측값의 절대값 오차를 평균하여 반환 "
   ]
  },
  {
   "cell_type": "code",
   "execution_count": 14,
   "id": "5d000288",
   "metadata": {},
   "outputs": [
    {
     "data": {
      "text/plain": [
       "array([  72.3,  138. , 1010. ,  166.6,  125. ,  227.2,  276. ,  255.6,\n",
       "         86.3,  727. ,  102. ,  166.6,  125. ,  125. ])"
      ]
     },
     "execution_count": 14,
     "metadata": {},
     "output_type": "execute_result"
    }
   ],
   "source": [
    "pred = knr.predict(x_test)\n",
    "pred"
   ]
  },
  {
   "cell_type": "code",
   "execution_count": 15,
   "id": "0c39be40",
   "metadata": {},
   "outputs": [
    {
     "data": {
      "text/plain": [
       "17.871428571428574"
      ]
     },
     "execution_count": 15,
     "metadata": {},
     "output_type": "execute_result"
    }
   ],
   "source": [
    "mae = mean_absolute_error(y_test, pred)\n",
    "mae"
   ]
  },
  {
   "cell_type": "code",
   "execution_count": 18,
   "id": "32067203",
   "metadata": {
    "scrolled": true
   },
   "outputs": [
    {
     "data": {
      "text/html": [
       "<div>\n",
       "<style scoped>\n",
       "    .dataframe tbody tr th:only-of-type {\n",
       "        vertical-align: middle;\n",
       "    }\n",
       "\n",
       "    .dataframe tbody tr th {\n",
       "        vertical-align: top;\n",
       "    }\n",
       "\n",
       "    .dataframe thead th {\n",
       "        text-align: right;\n",
       "    }\n",
       "</style>\n",
       "<table border=\"1\" class=\"dataframe\">\n",
       "  <thead>\n",
       "    <tr style=\"text-align: right;\">\n",
       "      <th></th>\n",
       "      <th>ans</th>\n",
       "      <th>pred</th>\n",
       "    </tr>\n",
       "  </thead>\n",
       "  <tbody>\n",
       "    <tr>\n",
       "      <th>76</th>\n",
       "      <td>70.0</td>\n",
       "      <td>72.3</td>\n",
       "    </tr>\n",
       "    <tr>\n",
       "      <th>92</th>\n",
       "      <td>150.0</td>\n",
       "      <td>138.0</td>\n",
       "    </tr>\n",
       "    <tr>\n",
       "      <th>126</th>\n",
       "      <td>1000.0</td>\n",
       "      <td>1010.0</td>\n",
       "    </tr>\n",
       "    <tr>\n",
       "      <th>96</th>\n",
       "      <td>225.0</td>\n",
       "      <td>166.6</td>\n",
       "    </tr>\n",
       "    <tr>\n",
       "      <th>84</th>\n",
       "      <td>125.0</td>\n",
       "      <td>125.0</td>\n",
       "    </tr>\n",
       "    <tr>\n",
       "      <th>100</th>\n",
       "      <td>197.0</td>\n",
       "      <td>227.2</td>\n",
       "    </tr>\n",
       "    <tr>\n",
       "      <th>107</th>\n",
       "      <td>300.0</td>\n",
       "      <td>276.0</td>\n",
       "    </tr>\n",
       "    <tr>\n",
       "      <th>104</th>\n",
       "      <td>265.0</td>\n",
       "      <td>255.6</td>\n",
       "    </tr>\n",
       "    <tr>\n",
       "      <th>78</th>\n",
       "      <td>78.0</td>\n",
       "      <td>86.3</td>\n",
       "    </tr>\n",
       "    <tr>\n",
       "      <th>115</th>\n",
       "      <td>690.0</td>\n",
       "      <td>727.0</td>\n",
       "    </tr>\n",
       "    <tr>\n",
       "      <th>79</th>\n",
       "      <td>80.0</td>\n",
       "      <td>102.0</td>\n",
       "    </tr>\n",
       "    <tr>\n",
       "      <th>97</th>\n",
       "      <td>145.0</td>\n",
       "      <td>166.6</td>\n",
       "    </tr>\n",
       "    <tr>\n",
       "      <th>83</th>\n",
       "      <td>115.0</td>\n",
       "      <td>125.0</td>\n",
       "    </tr>\n",
       "    <tr>\n",
       "      <th>86</th>\n",
       "      <td>120.0</td>\n",
       "      <td>125.0</td>\n",
       "    </tr>\n",
       "  </tbody>\n",
       "</table>\n",
       "</div>"
      ],
      "text/plain": [
       "        ans    pred\n",
       "76     70.0    72.3\n",
       "92    150.0   138.0\n",
       "126  1000.0  1010.0\n",
       "96    225.0   166.6\n",
       "84    125.0   125.0\n",
       "100   197.0   227.2\n",
       "107   300.0   276.0\n",
       "104   265.0   255.6\n",
       "78     78.0    86.3\n",
       "115   690.0   727.0\n",
       "79     80.0   102.0\n",
       "97    145.0   166.6\n",
       "83    115.0   125.0\n",
       "86    120.0   125.0"
      ]
     },
     "execution_count": 18,
     "metadata": {},
     "output_type": "execute_result"
    }
   ],
   "source": [
    "pred_df = pd.DataFrame({'ans':y_test, 'pred':pred})\n",
    "pred_df"
   ]
  },
  {
   "cell_type": "markdown",
   "id": "b3ebea6a",
   "metadata": {},
   "source": [
    "# <KNN 의 문제점> \n",
    "\n",
    "<img src = \"KNN_VS_LINEAR.png\">"
   ]
  },
  {
   "cell_type": "markdown",
   "id": "b230377e",
   "metadata": {},
   "source": [
    "- 최소값에서 최대값 사이의 값밖에 예측하지 못함.  \n",
    "- 만약에 학습 데이터의 범위를 초과해서, 길이 90짜리 데이터의 무게를 예측하고자 한다면,\n",
    "    - 그 최대값 쪽 점들을 골라서 그 평균을 내어서 그 이상의 값을 내지 못함. (쭉 빨간점)"
   ]
  },
  {
   "cell_type": "code",
   "execution_count": 20,
   "id": "cd2a360c",
   "metadata": {},
   "outputs": [
    {
     "data": {
      "text/plain": [
       "(array([44.]), 1100.0)"
      ]
     },
     "execution_count": 20,
     "metadata": {},
     "output_type": "execute_result"
    }
   ],
   "source": [
    "max(x_train), max(y_train)"
   ]
  },
  {
   "cell_type": "code",
   "execution_count": 21,
   "id": "c566c46e",
   "metadata": {},
   "outputs": [
    {
     "data": {
      "text/plain": [
       "array([1010., 1010., 1010., 1010.])"
      ]
     },
     "execution_count": 21,
     "metadata": {},
     "output_type": "execute_result"
    }
   ],
   "source": [
    "knr.predict([[50], [60], [70], [80]])"
   ]
  },
  {
   "cell_type": "code",
   "execution_count": 22,
   "id": "d67f83ac",
   "metadata": {},
   "outputs": [
    {
     "data": {
      "image/png": "[encoded data removed]",
      "text/plain": [
       "<Figure size 640x480 with 1 Axes>"
      ]
     },
     "metadata": {},
     "output_type": "display_data"
    }
   ],
   "source": [
    "# 50cm 농어의 이웃 찾기\n",
    "dist, idx = knr.kneighbors([[50]])\n",
    "\n",
    "plt.figure()\n",
    "\n",
    "plt.scatter(x_train, y_train)\n",
    "plt.scatter(x_train[idx], y_train.iloc[idx.flatten()], marker='D')\n",
    "plt.scatter(50, 1010, marker='^')\n",
    "\n",
    "plt.xlabel('length')\n",
    "plt.ylabel('weight')\n",
    "plt.show()"
   ]
  }
 ],
 "metadata": {
  "kernelspec": {
   "display_name": "Python 3 (ipykernel)",
   "language": "python",
   "name": "python3"
  },
  "language_info": {
   "codemirror_mode": {
    "name": "ipython",
    "version": 3
   },
   "file_extension": ".py",
   "mimetype": "text/x-python",
   "name": "python",
   "nbconvert_exporter": "python",
   "pygments_lexer": "ipython3",
   "version": "3.7.13"
  }
 },
 "nbformat": 4,
 "nbformat_minor": 5
}
