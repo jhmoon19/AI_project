{
 "cells": [
  {
   "cell_type": "markdown",
   "id": "f5bc1940",
   "metadata": {},
   "source": [
    "# 통계 기본 이론\n",
    "\n",
    "- 예측 분석학\n",
    "- 대전제: 역사는 반복적이다\n",
    "- 과거 데이터에 대한 적합화를 수행하여 이를 테스트\n",
    "    - 결과 성능에 대한 척도가 검증되면 \n",
    "    - 동일 모델에 대해 미래 예측에 활용 \n",
    "    \n",
    "   \n",
    "- 독립 변수 = 관측치, 입력변수, 특징, feature, 설명변수 등 (원인)\n",
    "- 종속 변수 = 결과 변수, 반응 변수, 응답 변수, 설명된 변수, 측정된 변수, 레이블, 실험 변수 등 (결과)\n",
    "\n",
    "\n",
    "- 변수들로 이루어진 수학식\n",
    "    - 이를 이용하여 계산 후 실제에 적용 \n",
    "    - 이를 통해서 (종속변수로) 추정을 한다 --> 통계 학문\n",
    "    \n",
    "- 가정\n",
    "    - 항상 모든 변수들이 만족해야하는 기본 가정으로부터 시작"
   ]
  },
  {
   "cell_type": "markdown",
   "id": "f4ee5cc4",
   "metadata": {},
   "source": [
    "# 머신러닝\n",
    "\n",
    "- 의의\n",
    "    - 머신러닝은 과거 경험에서 학습을 통해 얻은 지식을 미래의 결정에 이용하는 전산학의 한 분야\n",
    "    - 전산학과 공학, 통계학의 교집합으로 볼 수 있음.\n",
    "    \n",
    "    \n",
    "- 목표\n",
    "    - 관측된 패턴을 일반화하거나 주어진 예제를 통해 새로운 규칙을 생성하는 것 \n",
    "    \n",
    "    \n",
    "- 종류\n",
    "    - 지도학습(Supervised Learning)\n",
    "        - 목표 변수와 다른 변수 간의 관계를 기계가 학습하도록 가르치는 것\n",
    "            - 분류 문제(Classification), 회귀 문제(Regression) --> 7~80%\n",
    "                - 회귀: 종속변수가 연속형\n",
    "                - 분류: 종속변수가 이산형 \n",
    "    - 비지도학습(Unsupervised Learning)\n",
    "        - 지도나 목표 변수를 설정하는 과정 없이 알고리즘이 스스로 학습\n",
    "        - 주어진 데이터 사이의 숨은 패턴이나 관계를 찾는 것\n",
    "            - 차원 축소(Dimensionality Reduction)\n",
    "            - 군집화(Clustering)\n",
    "                - 분류와 달리, 정답을 주지 않고 그 안의 패턴 파악\n",
    "    - 강화학습(Reinforcement Learning)\n",
    "        - 기계나 에이전트가 주변 환경의 피드백으로부터 행동을 학습하는 것\n",
    "        - 에이전트는 지도를 받지 않고 스스로 결정을 내린 후에 마지막에 그 결과에 따라 보상을 받게됨. 보상값에 따라 에이전트는 실행했던 이력을 재평가 \n",
    "            - 보상을 최대한 많이 받는 쪽으로 학습됨.\n",
    "            - 환경/행동들"
   ]
  },
  {
   "cell_type": "markdown",
   "id": "186d575c",
   "metadata": {},
   "source": [
    "# 통계 모델링과 머신러닝의 차이점 \n",
    "\n",
    "| 통계 모델링 | 머신러닝 |\n",
    "| :-- | :-- |\n",
    "| 변수 간의 관계를 수학식을 통해 정형화 | 규칙 기반 프로그래밍에 의존하지 않고 데이터로부터 학습 가능한 알고리즘 |\n",
    "| 데이터에 맞는 모델 적합화를 수행하기 전 미리 곡선의 형태 가정 | 주어진 데이터로부터 복잡한 패턴을 스스로 학습하는 알고리즘이므로 곡선의 형태를 미리 가정하지 않음 |\n",
    "| p값 같은 다양한 매개변수 진단이 수행됨 | 어떠한 통계적 유의성 진단도 수행하지 않음 |\n",
    "| 데이터는 훈련 집합과 테스트 집단으로 나뉨. 모델은 훈련 집합에서 개발되고 테스트 집합으로 테스트함. | 데이터는 훈련 데이터, 검증 데이터, 테스트 데이터로 나뉨. 모델은 훈련 데이터에서 개발되고, 하이퍼파라미터는 검증 데이터를 통해 튜닝되고, 테스트 데이터에 관해 평가함. |\n",
    "| 통계학과, 수학과 | 전산학과 |"
   ]
  },
  {
   "cell_type": "markdown",
   "id": "5f56be7d",
   "metadata": {},
   "source": [
    "# 머신러닝과 딥러닝의 차이점 \n",
    "\n",
    "<img src = \"./mlvsdl.png\">"
   ]
  },
  {
   "cell_type": "markdown",
   "id": "b34cfea3",
   "metadata": {},
   "source": [
    "- 딥러닝: 깊은 인공 신경망 \n",
    "    - 데이터에 코드를 맞춘다.\n",
    "    - 데이터가 충분하다면 좋은 성능 \n",
    "- 머신러닝: 어느정도 규격이 갖춰져 있음. \n",
    "    - 규격에 데이터를 맞춰야 학습 가능 \n",
    "    - 각 데이터를 직접 보고 특징들을 표로 정리해야함. \n",
    "    - 데이터가 충분하지 않을 때 좋은 성능 "
   ]
  },
  {
   "cell_type": "markdown",
   "id": "60ff452e",
   "metadata": {},
   "source": [
    "# 머신러닝 모델 개발과 배치를 위한 단계\n",
    "\n",
    "1. 데이터 수집\n",
    "    - 구조화된 소스, 웹크롤링, API 등을 통해 직접 수집\n",
    "    - 정형 데이터와 비정형 데이터 모두 처리할 수 있음.\n",
    "        - 정형 : 숫자, 표로 정리됨\n",
    "        - 비정형 : 음성 데이터, 이미지 등 양식 없는 것 \n",
    "2. 데이터 준비, 결측치/이상치 처리\n",
    "    - 선택한 머신러닝 알고리즘에 맞도록 데이터를 가공 \n",
    "    - 결측치나 이상치는 평균값이나 중간값 등으로 대체 \n",
    "3. 데이터 분석과 변수 선택 \\<EDA\\>\n",
    "    - 변수들 사이의 숨겨진 패턴 및 관계를 찾아내기 위한 과정 \n",
    "    - 올바른 변수 선택과 사업 분야에 관한 충분한 배경 지식을 동원한다면 목표의 70% 정도를 달성 가능 \n",
    "        - 제일 중요한 단계\n",
    "4. 훈련 알고리즘\n",
    "    - 데이터를 훈련, 검증, 테스트로 분리\n",
    "    - 훈련 데이터에 머신러닝을 적용하고 과대적합(overfitting)을 피하기 위해 검증 데이터를 대상으로 모델의 하이퍼파리미터 튜닝 \n",
    "5. 테스트 데이터를 사용한 알고리즘 테스트\n",
    "    - 훈련에 사용하지 않은 낯선 테스트 데이터를 대상으로 성능 점검 수행\n",
    "    - 이 단계에서 충분히 성능이 인정되면 마지막 단계로 넘어감 \n",
    "        - 정확도 75% 이상이면 상용화 가능, 80% 이상이 안정적 \n",
    "6. 알고리즘 배치 \n",
    "    - 비즈니스에 적용 "
   ]
  },
  {
   "cell_type": "markdown",
   "id": "e02c492e",
   "metadata": {},
   "source": [
    "# 머신러닝 모델 튜닝을 멈추는 시점 \n",
    "\n",
    "<img src = \"fitting_examples.jpg\">\n",
    "<hr>\n",
    "<img src = \"test_accuracy.png\">"
   ]
  },
  {
   "cell_type": "markdown",
   "id": "5864521e",
   "metadata": {},
   "source": [
    "- 초록색이 데이터를 가장 잘 나타내는 선. 빨간색 선이 예측하는 선 \n",
    "- m은 학습 횟수. \n",
    "- m=1 일때, 과소적합 (underfitting)\n",
    "- m=9 일때, 데이터 예측은 다 맞았지만, 선이 말도 안됨. (overfitting)\n",
    "    - 점과 점 사이에 있을 수 있을 데이터에 대한 예측에 실패할 확률 높음\n",
    "    - 오히려 3회독 했을 때 그럭저럭 잘 나타내고 있음 (적합 단계 fitting)\n",
    "    \n",
    "- 분류도 마찬가지 "
   ]
  },
  {
   "cell_type": "markdown",
   "id": "dcb044f1",
   "metadata": {},
   "source": [
    "- underfitting : 훈련 데이터도, 테스트 데이터도 잘 못맞춤\n",
    "- fitting : 훈련 데이터도, 테스트 데이터도 잘 맞춤 \n",
    "- overfitting : 훈련 데이터 잘 맞추는데, 테스트 데이터 잘 못맞춤 "
   ]
  },
  {
   "cell_type": "markdown",
   "id": "54e5c47d",
   "metadata": {},
   "source": [
    "# 생선 분류\n",
    "\n",
    "- 수산물 전문 물류센터에서 신입 직원들이 생선 이름을 외우지 못해 작업의 효율성이 현저히 떨어지는 일이 잦다. \n",
    "- 이 물류 센터에서는 주로 생선의 길이와 무게만으로 생선을 분류한다. \n",
    "- 판매하는 생선은 도미, 잉어, 대구, 청돔, 농어, 민물꼬치고기, 빙어이다. "
   ]
  },
  {
   "cell_type": "markdown",
   "id": "afa06350",
   "metadata": {},
   "source": [
    "# 이진 분류 (binary classification)\n",
    "\n",
    "- 분류 (classification) : 여러 개의 범주 중 하나를 구별해 내는 것 \n",
    "- 이진 분류 : 두 개의 범주 중 하나를 고르는 분류 \n",
    "    - 도미인가 빙어인가 구분 ! "
   ]
  },
  {
   "cell_type": "code",
   "execution_count": 1,
   "id": "ee444a33",
   "metadata": {},
   "outputs": [],
   "source": [
    "import pandas as pd\n",
    "import numpy as np\n",
    "import matplotlib.pyplot as plt\n",
    "import seaborn as sns \n",
    "from sklearn.preprocessing import LabelEncoder\n",
    "from sklearn.neighbors import KNeighborsClassifier"
   ]
  },
  {
   "cell_type": "markdown",
   "id": "f1e91551",
   "metadata": {},
   "source": [
    "# 1. 데이터 준비"
   ]
  },
  {
   "cell_type": "code",
   "execution_count": 2,
   "id": "2327ca82",
   "metadata": {},
   "outputs": [
    {
     "data": {
      "text/html": [
       "<div>\n",
       "<style scoped>\n",
       "    .dataframe tbody tr th:only-of-type {\n",
       "        vertical-align: middle;\n",
       "    }\n",
       "\n",
       "    .dataframe tbody tr th {\n",
       "        vertical-align: top;\n",
       "    }\n",
       "\n",
       "    .dataframe thead th {\n",
       "        text-align: right;\n",
       "    }\n",
       "</style>\n",
       "<table border=\"1\" class=\"dataframe\">\n",
       "  <thead>\n",
       "    <tr style=\"text-align: right;\">\n",
       "      <th></th>\n",
       "      <th>Species</th>\n",
       "      <th>Weight</th>\n",
       "      <th>Length1</th>\n",
       "      <th>Length2</th>\n",
       "      <th>Length3</th>\n",
       "      <th>Height</th>\n",
       "      <th>Width</th>\n",
       "    </tr>\n",
       "  </thead>\n",
       "  <tbody>\n",
       "    <tr>\n",
       "      <th>0</th>\n",
       "      <td>Bream</td>\n",
       "      <td>242.0</td>\n",
       "      <td>23.2</td>\n",
       "      <td>25.4</td>\n",
       "      <td>30.0</td>\n",
       "      <td>11.5200</td>\n",
       "      <td>4.0200</td>\n",
       "    </tr>\n",
       "    <tr>\n",
       "      <th>1</th>\n",
       "      <td>Bream</td>\n",
       "      <td>290.0</td>\n",
       "      <td>24.0</td>\n",
       "      <td>26.3</td>\n",
       "      <td>31.2</td>\n",
       "      <td>12.4800</td>\n",
       "      <td>4.3056</td>\n",
       "    </tr>\n",
       "    <tr>\n",
       "      <th>2</th>\n",
       "      <td>Bream</td>\n",
       "      <td>340.0</td>\n",
       "      <td>23.9</td>\n",
       "      <td>26.5</td>\n",
       "      <td>31.1</td>\n",
       "      <td>12.3778</td>\n",
       "      <td>4.6961</td>\n",
       "    </tr>\n",
       "    <tr>\n",
       "      <th>3</th>\n",
       "      <td>Bream</td>\n",
       "      <td>363.0</td>\n",
       "      <td>26.3</td>\n",
       "      <td>29.0</td>\n",
       "      <td>33.5</td>\n",
       "      <td>12.7300</td>\n",
       "      <td>4.4555</td>\n",
       "    </tr>\n",
       "    <tr>\n",
       "      <th>4</th>\n",
       "      <td>Bream</td>\n",
       "      <td>430.0</td>\n",
       "      <td>26.5</td>\n",
       "      <td>29.0</td>\n",
       "      <td>34.0</td>\n",
       "      <td>12.4440</td>\n",
       "      <td>5.1340</td>\n",
       "    </tr>\n",
       "  </tbody>\n",
       "</table>\n",
       "</div>"
      ],
      "text/plain": [
       "  Species  Weight  Length1  Length2  Length3   Height   Width\n",
       "0   Bream   242.0     23.2     25.4     30.0  11.5200  4.0200\n",
       "1   Bream   290.0     24.0     26.3     31.2  12.4800  4.3056\n",
       "2   Bream   340.0     23.9     26.5     31.1  12.3778  4.6961\n",
       "3   Bream   363.0     26.3     29.0     33.5  12.7300  4.4555\n",
       "4   Bream   430.0     26.5     29.0     34.0  12.4440  5.1340"
      ]
     },
     "execution_count": 2,
     "metadata": {},
     "output_type": "execute_result"
    }
   ],
   "source": [
    "df = pd.read_csv('Fish.csv')\n",
    "df.head()"
   ]
  },
  {
   "cell_type": "code",
   "execution_count": 4,
   "id": "c665b7a4",
   "metadata": {},
   "outputs": [
    {
     "name": "stdout",
     "output_type": "stream",
     "text": [
      "<class 'pandas.core.frame.DataFrame'>\n",
      "RangeIndex: 159 entries, 0 to 158\n",
      "Data columns (total 7 columns):\n",
      " #   Column   Non-Null Count  Dtype  \n",
      "---  ------   --------------  -----  \n",
      " 0   Species  159 non-null    object \n",
      " 1   Weight   159 non-null    float64\n",
      " 2   Length1  159 non-null    float64\n",
      " 3   Length2  159 non-null    float64\n",
      " 4   Length3  159 non-null    float64\n",
      " 5   Height   159 non-null    float64\n",
      " 6   Width    159 non-null    float64\n",
      "dtypes: float64(6), object(1)\n",
      "memory usage: 8.8+ KB\n"
     ]
    }
   ],
   "source": [
    "df.info()"
   ]
  },
  {
   "cell_type": "code",
   "execution_count": 7,
   "id": "768aac2e",
   "metadata": {},
   "outputs": [
    {
     "data": {
      "text/plain": [
       "(159, 7)"
      ]
     },
     "execution_count": 7,
     "metadata": {},
     "output_type": "execute_result"
    }
   ],
   "source": [
    "df.shape"
   ]
  },
  {
   "cell_type": "code",
   "execution_count": 8,
   "id": "25f47a7d",
   "metadata": {},
   "outputs": [
    {
     "data": {
      "text/plain": [
       "Perch        56\n",
       "Bream        35\n",
       "Roach        20\n",
       "Pike         17\n",
       "Smelt        14\n",
       "Parkki       11\n",
       "Whitefish     6\n",
       "Name: Species, dtype: int64"
      ]
     },
     "execution_count": 8,
     "metadata": {},
     "output_type": "execute_result"
    }
   ],
   "source": [
    "df.Species.value_counts()"
   ]
  },
  {
   "cell_type": "code",
   "execution_count": 9,
   "id": "14946660",
   "metadata": {},
   "outputs": [
    {
     "data": {
      "text/html": [
       "<div>\n",
       "<style scoped>\n",
       "    .dataframe tbody tr th:only-of-type {\n",
       "        vertical-align: middle;\n",
       "    }\n",
       "\n",
       "    .dataframe tbody tr th {\n",
       "        vertical-align: top;\n",
       "    }\n",
       "\n",
       "    .dataframe thead th {\n",
       "        text-align: right;\n",
       "    }\n",
       "</style>\n",
       "<table border=\"1\" class=\"dataframe\">\n",
       "  <thead>\n",
       "    <tr style=\"text-align: right;\">\n",
       "      <th></th>\n",
       "      <th>Weight</th>\n",
       "      <th>Length1</th>\n",
       "      <th>Length2</th>\n",
       "      <th>Length3</th>\n",
       "      <th>Height</th>\n",
       "      <th>Width</th>\n",
       "    </tr>\n",
       "  </thead>\n",
       "  <tbody>\n",
       "    <tr>\n",
       "      <th>count</th>\n",
       "      <td>159.000000</td>\n",
       "      <td>159.000000</td>\n",
       "      <td>159.000000</td>\n",
       "      <td>159.000000</td>\n",
       "      <td>159.000000</td>\n",
       "      <td>159.000000</td>\n",
       "    </tr>\n",
       "    <tr>\n",
       "      <th>mean</th>\n",
       "      <td>398.326415</td>\n",
       "      <td>26.247170</td>\n",
       "      <td>28.415723</td>\n",
       "      <td>31.227044</td>\n",
       "      <td>8.970994</td>\n",
       "      <td>4.417486</td>\n",
       "    </tr>\n",
       "    <tr>\n",
       "      <th>std</th>\n",
       "      <td>357.978317</td>\n",
       "      <td>9.996441</td>\n",
       "      <td>10.716328</td>\n",
       "      <td>11.610246</td>\n",
       "      <td>4.286208</td>\n",
       "      <td>1.685804</td>\n",
       "    </tr>\n",
       "    <tr>\n",
       "      <th>min</th>\n",
       "      <td>0.000000</td>\n",
       "      <td>7.500000</td>\n",
       "      <td>8.400000</td>\n",
       "      <td>8.800000</td>\n",
       "      <td>1.728400</td>\n",
       "      <td>1.047600</td>\n",
       "    </tr>\n",
       "    <tr>\n",
       "      <th>25%</th>\n",
       "      <td>120.000000</td>\n",
       "      <td>19.050000</td>\n",
       "      <td>21.000000</td>\n",
       "      <td>23.150000</td>\n",
       "      <td>5.944800</td>\n",
       "      <td>3.385650</td>\n",
       "    </tr>\n",
       "    <tr>\n",
       "      <th>50%</th>\n",
       "      <td>273.000000</td>\n",
       "      <td>25.200000</td>\n",
       "      <td>27.300000</td>\n",
       "      <td>29.400000</td>\n",
       "      <td>7.786000</td>\n",
       "      <td>4.248500</td>\n",
       "    </tr>\n",
       "    <tr>\n",
       "      <th>75%</th>\n",
       "      <td>650.000000</td>\n",
       "      <td>32.700000</td>\n",
       "      <td>35.500000</td>\n",
       "      <td>39.650000</td>\n",
       "      <td>12.365900</td>\n",
       "      <td>5.584500</td>\n",
       "    </tr>\n",
       "    <tr>\n",
       "      <th>max</th>\n",
       "      <td>1650.000000</td>\n",
       "      <td>59.000000</td>\n",
       "      <td>63.400000</td>\n",
       "      <td>68.000000</td>\n",
       "      <td>18.957000</td>\n",
       "      <td>8.142000</td>\n",
       "    </tr>\n",
       "  </tbody>\n",
       "</table>\n",
       "</div>"
      ],
      "text/plain": [
       "            Weight     Length1     Length2     Length3      Height       Width\n",
       "count   159.000000  159.000000  159.000000  159.000000  159.000000  159.000000\n",
       "mean    398.326415   26.247170   28.415723   31.227044    8.970994    4.417486\n",
       "std     357.978317    9.996441   10.716328   11.610246    4.286208    1.685804\n",
       "min       0.000000    7.500000    8.400000    8.800000    1.728400    1.047600\n",
       "25%     120.000000   19.050000   21.000000   23.150000    5.944800    3.385650\n",
       "50%     273.000000   25.200000   27.300000   29.400000    7.786000    4.248500\n",
       "75%     650.000000   32.700000   35.500000   39.650000   12.365900    5.584500\n",
       "max    1650.000000   59.000000   63.400000   68.000000   18.957000    8.142000"
      ]
     },
     "execution_count": 9,
     "metadata": {},
     "output_type": "execute_result"
    }
   ],
   "source": [
    "df.describe()"
   ]
  },
  {
   "cell_type": "code",
   "execution_count": 10,
   "id": "108f696a",
   "metadata": {},
   "outputs": [
    {
     "data": {
      "text/plain": [
       "array(['Bream', 'Roach', 'Whitefish', 'Parkki', 'Perch', 'Pike', 'Smelt'],\n",
       "      dtype=object)"
      ]
     },
     "execution_count": 10,
     "metadata": {},
     "output_type": "execute_result"
    }
   ],
   "source": [
    "df.Species.unique()"
   ]
  },
  {
   "cell_type": "code",
   "execution_count": 3,
   "id": "7c96e59f",
   "metadata": {},
   "outputs": [
    {
     "data": {
      "text/html": [
       "<div>\n",
       "<style scoped>\n",
       "    .dataframe tbody tr th:only-of-type {\n",
       "        vertical-align: middle;\n",
       "    }\n",
       "\n",
       "    .dataframe tbody tr th {\n",
       "        vertical-align: top;\n",
       "    }\n",
       "\n",
       "    .dataframe thead th {\n",
       "        text-align: right;\n",
       "    }\n",
       "</style>\n",
       "<table border=\"1\" class=\"dataframe\">\n",
       "  <thead>\n",
       "    <tr style=\"text-align: right;\">\n",
       "      <th></th>\n",
       "      <th>Species</th>\n",
       "      <th>Weight</th>\n",
       "      <th>Length2</th>\n",
       "    </tr>\n",
       "  </thead>\n",
       "  <tbody>\n",
       "    <tr>\n",
       "      <th>0</th>\n",
       "      <td>Bream</td>\n",
       "      <td>242.0</td>\n",
       "      <td>25.4</td>\n",
       "    </tr>\n",
       "    <tr>\n",
       "      <th>1</th>\n",
       "      <td>Bream</td>\n",
       "      <td>290.0</td>\n",
       "      <td>26.3</td>\n",
       "    </tr>\n",
       "    <tr>\n",
       "      <th>2</th>\n",
       "      <td>Bream</td>\n",
       "      <td>340.0</td>\n",
       "      <td>26.5</td>\n",
       "    </tr>\n",
       "    <tr>\n",
       "      <th>3</th>\n",
       "      <td>Bream</td>\n",
       "      <td>363.0</td>\n",
       "      <td>29.0</td>\n",
       "    </tr>\n",
       "    <tr>\n",
       "      <th>4</th>\n",
       "      <td>Bream</td>\n",
       "      <td>430.0</td>\n",
       "      <td>29.0</td>\n",
       "    </tr>\n",
       "  </tbody>\n",
       "</table>\n",
       "</div>"
      ],
      "text/plain": [
       "  Species  Weight  Length2\n",
       "0   Bream   242.0     25.4\n",
       "1   Bream   290.0     26.3\n",
       "2   Bream   340.0     26.5\n",
       "3   Bream   363.0     29.0\n",
       "4   Bream   430.0     29.0"
      ]
     },
     "execution_count": 3,
     "metadata": {},
     "output_type": "execute_result"
    }
   ],
   "source": [
    "# 이번 예제에서는 도미와 빙어에 대한 데이터 중, 종/무게/길이 피처만 사용 \n",
    "df = df[(df['Species']=='Bream')|(df['Species']=='Smelt')]\n",
    "df = df[['Species','Weight','Length2']]\n",
    "\n",
    "df.head()"
   ]
  },
  {
   "cell_type": "code",
   "execution_count": 12,
   "id": "fc7e2791",
   "metadata": {},
   "outputs": [
    {
     "data": {
      "text/plain": [
       "(49, 3)"
      ]
     },
     "execution_count": 12,
     "metadata": {},
     "output_type": "execute_result"
    }
   ],
   "source": [
    "df.shape"
   ]
  },
  {
   "cell_type": "code",
   "execution_count": 13,
   "id": "15841650",
   "metadata": {},
   "outputs": [
    {
     "data": {
      "text/html": [
       "<div>\n",
       "<style scoped>\n",
       "    .dataframe tbody tr th:only-of-type {\n",
       "        vertical-align: middle;\n",
       "    }\n",
       "\n",
       "    .dataframe tbody tr th {\n",
       "        vertical-align: top;\n",
       "    }\n",
       "\n",
       "    .dataframe thead th {\n",
       "        text-align: right;\n",
       "    }\n",
       "</style>\n",
       "<table border=\"1\" class=\"dataframe\">\n",
       "  <thead>\n",
       "    <tr style=\"text-align: right;\">\n",
       "      <th></th>\n",
       "      <th>Species</th>\n",
       "      <th>Weight</th>\n",
       "      <th>Length2</th>\n",
       "    </tr>\n",
       "  </thead>\n",
       "  <tbody>\n",
       "    <tr>\n",
       "      <th>154</th>\n",
       "      <td>Smelt</td>\n",
       "      <td>12.2</td>\n",
       "      <td>12.2</td>\n",
       "    </tr>\n",
       "    <tr>\n",
       "      <th>155</th>\n",
       "      <td>Smelt</td>\n",
       "      <td>13.4</td>\n",
       "      <td>12.4</td>\n",
       "    </tr>\n",
       "    <tr>\n",
       "      <th>156</th>\n",
       "      <td>Smelt</td>\n",
       "      <td>12.2</td>\n",
       "      <td>13.0</td>\n",
       "    </tr>\n",
       "    <tr>\n",
       "      <th>157</th>\n",
       "      <td>Smelt</td>\n",
       "      <td>19.7</td>\n",
       "      <td>14.3</td>\n",
       "    </tr>\n",
       "    <tr>\n",
       "      <th>158</th>\n",
       "      <td>Smelt</td>\n",
       "      <td>19.9</td>\n",
       "      <td>15.0</td>\n",
       "    </tr>\n",
       "  </tbody>\n",
       "</table>\n",
       "</div>"
      ],
      "text/plain": [
       "    Species  Weight  Length2\n",
       "154   Smelt    12.2     12.2\n",
       "155   Smelt    13.4     12.4\n",
       "156   Smelt    12.2     13.0\n",
       "157   Smelt    19.7     14.3\n",
       "158   Smelt    19.9     15.0"
      ]
     },
     "execution_count": 13,
     "metadata": {},
     "output_type": "execute_result"
    }
   ],
   "source": [
    "df.tail()"
   ]
  },
  {
   "cell_type": "code",
   "execution_count": 4,
   "id": "dacd0237",
   "metadata": {},
   "outputs": [
    {
     "data": {
      "image/png": "[encoded data removed]",
      "text/plain": [
       "<Figure size 640x480 with 1 Axes>"
      ]
     },
     "metadata": {},
     "output_type": "display_data"
    }
   ],
   "source": [
    "plt.figure()\n",
    "plt.scatter(data=df, x='Length2', y='Weight')\n",
    "plt.show()"
   ]
  },
  {
   "cell_type": "code",
   "execution_count": 5,
   "id": "98e76ead",
   "metadata": {},
   "outputs": [
    {
     "data": {
      "image/png": "[encoded data removed]",
      "text/plain": [
       "<Figure size 640x480 with 1 Axes>"
      ]
     },
     "metadata": {},
     "output_type": "display_data"
    }
   ],
   "source": [
    "groups = df.groupby('Species')\n",
    "plt.figure()\n",
    "\n",
    "# for 문 2번 돔 (각 그룹마다) \n",
    "for name, group in groups:\n",
    "    plt.scatter(group['Length2'], # x\n",
    "               group['Weight'], # y\n",
    "               label=name)\n",
    "    \n",
    "plt.legend()\n",
    "plt.xlabel('Length')\n",
    "plt.ylabel(\"Weight\")\n",
    "plt.show()"
   ]
  },
  {
   "cell_type": "code",
   "execution_count": 6,
   "id": "8c7a44dc",
   "metadata": {},
   "outputs": [
    {
     "data": {
      "text/plain": [
       "<pandas.core.groupby.generic.DataFrameGroupBy object at 0x0000020C04F7B988>"
      ]
     },
     "execution_count": 6,
     "metadata": {},
     "output_type": "execute_result"
    }
   ],
   "source": [
    "groups"
   ]
  },
  {
   "cell_type": "code",
   "execution_count": 7,
   "id": "34224ff7",
   "metadata": {},
   "outputs": [
    {
     "name": "stdout",
     "output_type": "stream",
     "text": [
      "Bream\n",
      "   Species  Weight  Length2\n",
      "0    Bream   242.0     25.4\n",
      "1    Bream   290.0     26.3\n",
      "2    Bream   340.0     26.5\n",
      "3    Bream   363.0     29.0\n",
      "4    Bream   430.0     29.0\n",
      "5    Bream   450.0     29.7\n",
      "6    Bream   500.0     29.7\n",
      "7    Bream   390.0     30.0\n",
      "8    Bream   450.0     30.0\n",
      "9    Bream   500.0     30.7\n",
      "10   Bream   475.0     31.0\n",
      "11   Bream   500.0     31.0\n",
      "12   Bream   500.0     31.5\n",
      "13   Bream   340.0     32.0\n",
      "14   Bream   600.0     32.0\n",
      "15   Bream   600.0     32.0\n",
      "16   Bream   700.0     33.0\n",
      "17   Bream   700.0     33.0\n",
      "18   Bream   610.0     33.5\n",
      "19   Bream   650.0     33.5\n",
      "20   Bream   575.0     34.0\n",
      "21   Bream   685.0     34.0\n",
      "22   Bream   620.0     34.5\n",
      "23   Bream   680.0     35.0\n",
      "24   Bream   700.0     35.0\n",
      "25   Bream   725.0     35.0\n",
      "26   Bream   720.0     35.0\n",
      "27   Bream   714.0     36.0\n",
      "28   Bream   850.0     36.0\n",
      "29   Bream  1000.0     37.0\n",
      "30   Bream   920.0     38.5\n",
      "31   Bream   955.0     38.5\n",
      "32   Bream   925.0     39.5\n",
      "33   Bream   975.0     41.0\n",
      "34   Bream   950.0     41.0\n"
     ]
    }
   ],
   "source": [
    "for name, group in groups:\n",
    "    print(name)\n",
    "    print(group)\n",
    "    break"
   ]
  },
  {
   "cell_type": "markdown",
   "id": "978469c1",
   "metadata": {},
   "source": [
    "- 도미(bream)의 길이가 길수록 무게가 무거워지는 경향이 있음.\n",
    "- 빙어(smelt)는 상대적으로 무게가 영향을 덜 받는 것처럼 보이지만, 데이터의 분포가 일직선에 가까워서 선형적임."
   ]
  },
  {
   "cell_type": "markdown",
   "id": "d6052094",
   "metadata": {},
   "source": [
    "# 2. 레이블 인코딩 \n",
    "\n",
    "- 컴퓨터는 문자의 의미를 직접 이해하지 못함.\n",
    "- 따라서 도미와 빙어를 숫자 0과 1로 표현 "
   ]
  },
  {
   "cell_type": "code",
   "execution_count": 6,
   "id": "8ea260c2",
   "metadata": {},
   "outputs": [
    {
     "data": {
      "text/html": [
       "<div>\n",
       "<style scoped>\n",
       "    .dataframe tbody tr th:only-of-type {\n",
       "        vertical-align: middle;\n",
       "    }\n",
       "\n",
       "    .dataframe tbody tr th {\n",
       "        vertical-align: top;\n",
       "    }\n",
       "\n",
       "    .dataframe thead th {\n",
       "        text-align: right;\n",
       "    }\n",
       "</style>\n",
       "<table border=\"1\" class=\"dataframe\">\n",
       "  <thead>\n",
       "    <tr style=\"text-align: right;\">\n",
       "      <th></th>\n",
       "      <th>Species</th>\n",
       "      <th>Weight</th>\n",
       "      <th>Length2</th>\n",
       "      <th>label</th>\n",
       "    </tr>\n",
       "  </thead>\n",
       "  <tbody>\n",
       "    <tr>\n",
       "      <th>0</th>\n",
       "      <td>Bream</td>\n",
       "      <td>242.0</td>\n",
       "      <td>25.4</td>\n",
       "      <td>0</td>\n",
       "    </tr>\n",
       "    <tr>\n",
       "      <th>1</th>\n",
       "      <td>Bream</td>\n",
       "      <td>290.0</td>\n",
       "      <td>26.3</td>\n",
       "      <td>0</td>\n",
       "    </tr>\n",
       "    <tr>\n",
       "      <th>2</th>\n",
       "      <td>Bream</td>\n",
       "      <td>340.0</td>\n",
       "      <td>26.5</td>\n",
       "      <td>0</td>\n",
       "    </tr>\n",
       "    <tr>\n",
       "      <th>3</th>\n",
       "      <td>Bream</td>\n",
       "      <td>363.0</td>\n",
       "      <td>29.0</td>\n",
       "      <td>0</td>\n",
       "    </tr>\n",
       "    <tr>\n",
       "      <th>4</th>\n",
       "      <td>Bream</td>\n",
       "      <td>430.0</td>\n",
       "      <td>29.0</td>\n",
       "      <td>0</td>\n",
       "    </tr>\n",
       "  </tbody>\n",
       "</table>\n",
       "</div>"
      ],
      "text/plain": [
       "  Species  Weight  Length2  label\n",
       "0   Bream   242.0     25.4      0\n",
       "1   Bream   290.0     26.3      0\n",
       "2   Bream   340.0     26.5      0\n",
       "3   Bream   363.0     29.0      0\n",
       "4   Bream   430.0     29.0      0"
      ]
     },
     "execution_count": 6,
     "metadata": {},
     "output_type": "execute_result"
    }
   ],
   "source": [
    "# from sklearn.preprocessing import LabelEncoder\n",
    "le = LabelEncoder() # 인코더 객체 생성 \n",
    "\n",
    "# 자동으로 fit하고 transform 해줌 \n",
    "df['label'] = le.fit_transform(df.Species)\n",
    "\n",
    "df.head()"
   ]
  },
  {
   "cell_type": "code",
   "execution_count": 24,
   "id": "5af4e49d",
   "metadata": {},
   "outputs": [
    {
     "data": {
      "text/html": [
       "<div>\n",
       "<style scoped>\n",
       "    .dataframe tbody tr th:only-of-type {\n",
       "        vertical-align: middle;\n",
       "    }\n",
       "\n",
       "    .dataframe tbody tr th {\n",
       "        vertical-align: top;\n",
       "    }\n",
       "\n",
       "    .dataframe thead th {\n",
       "        text-align: right;\n",
       "    }\n",
       "</style>\n",
       "<table border=\"1\" class=\"dataframe\">\n",
       "  <thead>\n",
       "    <tr style=\"text-align: right;\">\n",
       "      <th></th>\n",
       "      <th>Species</th>\n",
       "      <th>Weight</th>\n",
       "      <th>Length2</th>\n",
       "      <th>label</th>\n",
       "    </tr>\n",
       "  </thead>\n",
       "  <tbody>\n",
       "    <tr>\n",
       "      <th>154</th>\n",
       "      <td>Smelt</td>\n",
       "      <td>12.2</td>\n",
       "      <td>12.2</td>\n",
       "      <td>1</td>\n",
       "    </tr>\n",
       "    <tr>\n",
       "      <th>155</th>\n",
       "      <td>Smelt</td>\n",
       "      <td>13.4</td>\n",
       "      <td>12.4</td>\n",
       "      <td>1</td>\n",
       "    </tr>\n",
       "    <tr>\n",
       "      <th>156</th>\n",
       "      <td>Smelt</td>\n",
       "      <td>12.2</td>\n",
       "      <td>13.0</td>\n",
       "      <td>1</td>\n",
       "    </tr>\n",
       "    <tr>\n",
       "      <th>157</th>\n",
       "      <td>Smelt</td>\n",
       "      <td>19.7</td>\n",
       "      <td>14.3</td>\n",
       "      <td>1</td>\n",
       "    </tr>\n",
       "    <tr>\n",
       "      <th>158</th>\n",
       "      <td>Smelt</td>\n",
       "      <td>19.9</td>\n",
       "      <td>15.0</td>\n",
       "      <td>1</td>\n",
       "    </tr>\n",
       "  </tbody>\n",
       "</table>\n",
       "</div>"
      ],
      "text/plain": [
       "    Species  Weight  Length2  label\n",
       "154   Smelt    12.2     12.2      1\n",
       "155   Smelt    13.4     12.4      1\n",
       "156   Smelt    12.2     13.0      1\n",
       "157   Smelt    19.7     14.3      1\n",
       "158   Smelt    19.9     15.0      1"
      ]
     },
     "execution_count": 24,
     "metadata": {},
     "output_type": "execute_result"
    }
   ],
   "source": [
    "df.tail()"
   ]
  },
  {
   "cell_type": "code",
   "execution_count": 7,
   "id": "8e91fb06",
   "metadata": {},
   "outputs": [
    {
     "data": {
      "text/plain": [
       "0    35\n",
       "1    14\n",
       "Name: label, dtype: int64"
      ]
     },
     "execution_count": 7,
     "metadata": {},
     "output_type": "execute_result"
    }
   ],
   "source": [
    "df.label.value_counts()"
   ]
  },
  {
   "cell_type": "markdown",
   "id": "46e483ed",
   "metadata": {},
   "source": [
    "- 비율이 맞는 것이 좋지만, 지금은 그냥 냅둠 "
   ]
  },
  {
   "cell_type": "code",
   "execution_count": 8,
   "id": "c65f0dd9",
   "metadata": {},
   "outputs": [
    {
     "data": {
      "text/plain": [
       "array(['Bream', 'Smelt'], dtype=object)"
      ]
     },
     "execution_count": 8,
     "metadata": {},
     "output_type": "execute_result"
    }
   ],
   "source": [
    "# 인코딩 클래스 확인\n",
    "le.classes_"
   ]
  },
  {
   "cell_type": "code",
   "execution_count": 9,
   "id": "271b09c4",
   "metadata": {},
   "outputs": [
    {
     "data": {
      "text/plain": [
       "array(['Bream', 'Bream', 'Bream', 'Bream', 'Bream'], dtype=object)"
      ]
     },
     "execution_count": 9,
     "metadata": {},
     "output_type": "execute_result"
    }
   ],
   "source": [
    "# 인코딩된 값을 다시 디코딩 \n",
    "le.inverse_transform(df['label'][:5])"
   ]
  },
  {
   "cell_type": "code",
   "execution_count": 10,
   "id": "e394d613",
   "metadata": {},
   "outputs": [
    {
     "data": {
      "text/plain": [
       "array([0])"
      ]
     },
     "execution_count": 10,
     "metadata": {},
     "output_type": "execute_result"
    }
   ],
   "source": [
    "le.transform([\"Bream\"])"
   ]
  },
  {
   "cell_type": "code",
   "execution_count": 31,
   "id": "e45e8dec",
   "metadata": {},
   "outputs": [
    {
     "data": {
      "text/plain": [
       "array([0, 1])"
      ]
     },
     "execution_count": 31,
     "metadata": {},
     "output_type": "execute_result"
    }
   ],
   "source": [
    "le.transform([\"Bream\", 'Smelt'])"
   ]
  },
  {
   "cell_type": "code",
   "execution_count": 11,
   "id": "53a6eaee",
   "metadata": {
    "scrolled": true
   },
   "outputs": [
    {
     "data": {
      "text/html": [
       "<div>\n",
       "<style scoped>\n",
       "    .dataframe tbody tr th:only-of-type {\n",
       "        vertical-align: middle;\n",
       "    }\n",
       "\n",
       "    .dataframe tbody tr th {\n",
       "        vertical-align: top;\n",
       "    }\n",
       "\n",
       "    .dataframe thead th {\n",
       "        text-align: right;\n",
       "    }\n",
       "</style>\n",
       "<table border=\"1\" class=\"dataframe\">\n",
       "  <thead>\n",
       "    <tr style=\"text-align: right;\">\n",
       "      <th></th>\n",
       "      <th>Species</th>\n",
       "      <th>Weight</th>\n",
       "      <th>Length2</th>\n",
       "      <th>label</th>\n",
       "    </tr>\n",
       "  </thead>\n",
       "  <tbody>\n",
       "    <tr>\n",
       "      <th>0</th>\n",
       "      <td>Bream</td>\n",
       "      <td>242.0</td>\n",
       "      <td>25.4</td>\n",
       "      <td>0</td>\n",
       "    </tr>\n",
       "    <tr>\n",
       "      <th>1</th>\n",
       "      <td>Bream</td>\n",
       "      <td>290.0</td>\n",
       "      <td>26.3</td>\n",
       "      <td>0</td>\n",
       "    </tr>\n",
       "    <tr>\n",
       "      <th>2</th>\n",
       "      <td>Bream</td>\n",
       "      <td>340.0</td>\n",
       "      <td>26.5</td>\n",
       "      <td>0</td>\n",
       "    </tr>\n",
       "    <tr>\n",
       "      <th>3</th>\n",
       "      <td>Bream</td>\n",
       "      <td>363.0</td>\n",
       "      <td>29.0</td>\n",
       "      <td>0</td>\n",
       "    </tr>\n",
       "    <tr>\n",
       "      <th>4</th>\n",
       "      <td>Bream</td>\n",
       "      <td>430.0</td>\n",
       "      <td>29.0</td>\n",
       "      <td>0</td>\n",
       "    </tr>\n",
       "    <tr>\n",
       "      <th>5</th>\n",
       "      <td>Bream</td>\n",
       "      <td>450.0</td>\n",
       "      <td>29.7</td>\n",
       "      <td>0</td>\n",
       "    </tr>\n",
       "    <tr>\n",
       "      <th>6</th>\n",
       "      <td>Bream</td>\n",
       "      <td>500.0</td>\n",
       "      <td>29.7</td>\n",
       "      <td>0</td>\n",
       "    </tr>\n",
       "    <tr>\n",
       "      <th>7</th>\n",
       "      <td>Bream</td>\n",
       "      <td>390.0</td>\n",
       "      <td>30.0</td>\n",
       "      <td>0</td>\n",
       "    </tr>\n",
       "    <tr>\n",
       "      <th>8</th>\n",
       "      <td>Bream</td>\n",
       "      <td>450.0</td>\n",
       "      <td>30.0</td>\n",
       "      <td>0</td>\n",
       "    </tr>\n",
       "    <tr>\n",
       "      <th>9</th>\n",
       "      <td>Bream</td>\n",
       "      <td>500.0</td>\n",
       "      <td>30.7</td>\n",
       "      <td>0</td>\n",
       "    </tr>\n",
       "    <tr>\n",
       "      <th>10</th>\n",
       "      <td>Bream</td>\n",
       "      <td>475.0</td>\n",
       "      <td>31.0</td>\n",
       "      <td>0</td>\n",
       "    </tr>\n",
       "    <tr>\n",
       "      <th>11</th>\n",
       "      <td>Bream</td>\n",
       "      <td>500.0</td>\n",
       "      <td>31.0</td>\n",
       "      <td>0</td>\n",
       "    </tr>\n",
       "    <tr>\n",
       "      <th>12</th>\n",
       "      <td>Bream</td>\n",
       "      <td>500.0</td>\n",
       "      <td>31.5</td>\n",
       "      <td>0</td>\n",
       "    </tr>\n",
       "    <tr>\n",
       "      <th>13</th>\n",
       "      <td>Bream</td>\n",
       "      <td>340.0</td>\n",
       "      <td>32.0</td>\n",
       "      <td>0</td>\n",
       "    </tr>\n",
       "    <tr>\n",
       "      <th>14</th>\n",
       "      <td>Bream</td>\n",
       "      <td>600.0</td>\n",
       "      <td>32.0</td>\n",
       "      <td>0</td>\n",
       "    </tr>\n",
       "    <tr>\n",
       "      <th>15</th>\n",
       "      <td>Bream</td>\n",
       "      <td>600.0</td>\n",
       "      <td>32.0</td>\n",
       "      <td>0</td>\n",
       "    </tr>\n",
       "    <tr>\n",
       "      <th>16</th>\n",
       "      <td>Bream</td>\n",
       "      <td>700.0</td>\n",
       "      <td>33.0</td>\n",
       "      <td>0</td>\n",
       "    </tr>\n",
       "    <tr>\n",
       "      <th>17</th>\n",
       "      <td>Bream</td>\n",
       "      <td>700.0</td>\n",
       "      <td>33.0</td>\n",
       "      <td>0</td>\n",
       "    </tr>\n",
       "    <tr>\n",
       "      <th>18</th>\n",
       "      <td>Bream</td>\n",
       "      <td>610.0</td>\n",
       "      <td>33.5</td>\n",
       "      <td>0</td>\n",
       "    </tr>\n",
       "    <tr>\n",
       "      <th>19</th>\n",
       "      <td>Bream</td>\n",
       "      <td>650.0</td>\n",
       "      <td>33.5</td>\n",
       "      <td>0</td>\n",
       "    </tr>\n",
       "    <tr>\n",
       "      <th>20</th>\n",
       "      <td>Bream</td>\n",
       "      <td>575.0</td>\n",
       "      <td>34.0</td>\n",
       "      <td>0</td>\n",
       "    </tr>\n",
       "    <tr>\n",
       "      <th>21</th>\n",
       "      <td>Bream</td>\n",
       "      <td>685.0</td>\n",
       "      <td>34.0</td>\n",
       "      <td>0</td>\n",
       "    </tr>\n",
       "    <tr>\n",
       "      <th>22</th>\n",
       "      <td>Bream</td>\n",
       "      <td>620.0</td>\n",
       "      <td>34.5</td>\n",
       "      <td>0</td>\n",
       "    </tr>\n",
       "    <tr>\n",
       "      <th>23</th>\n",
       "      <td>Bream</td>\n",
       "      <td>680.0</td>\n",
       "      <td>35.0</td>\n",
       "      <td>0</td>\n",
       "    </tr>\n",
       "    <tr>\n",
       "      <th>24</th>\n",
       "      <td>Bream</td>\n",
       "      <td>700.0</td>\n",
       "      <td>35.0</td>\n",
       "      <td>0</td>\n",
       "    </tr>\n",
       "    <tr>\n",
       "      <th>25</th>\n",
       "      <td>Bream</td>\n",
       "      <td>725.0</td>\n",
       "      <td>35.0</td>\n",
       "      <td>0</td>\n",
       "    </tr>\n",
       "    <tr>\n",
       "      <th>26</th>\n",
       "      <td>Bream</td>\n",
       "      <td>720.0</td>\n",
       "      <td>35.0</td>\n",
       "      <td>0</td>\n",
       "    </tr>\n",
       "    <tr>\n",
       "      <th>27</th>\n",
       "      <td>Bream</td>\n",
       "      <td>714.0</td>\n",
       "      <td>36.0</td>\n",
       "      <td>0</td>\n",
       "    </tr>\n",
       "    <tr>\n",
       "      <th>28</th>\n",
       "      <td>Bream</td>\n",
       "      <td>850.0</td>\n",
       "      <td>36.0</td>\n",
       "      <td>0</td>\n",
       "    </tr>\n",
       "    <tr>\n",
       "      <th>29</th>\n",
       "      <td>Bream</td>\n",
       "      <td>1000.0</td>\n",
       "      <td>37.0</td>\n",
       "      <td>0</td>\n",
       "    </tr>\n",
       "    <tr>\n",
       "      <th>30</th>\n",
       "      <td>Bream</td>\n",
       "      <td>920.0</td>\n",
       "      <td>38.5</td>\n",
       "      <td>0</td>\n",
       "    </tr>\n",
       "    <tr>\n",
       "      <th>31</th>\n",
       "      <td>Bream</td>\n",
       "      <td>955.0</td>\n",
       "      <td>38.5</td>\n",
       "      <td>0</td>\n",
       "    </tr>\n",
       "    <tr>\n",
       "      <th>32</th>\n",
       "      <td>Bream</td>\n",
       "      <td>925.0</td>\n",
       "      <td>39.5</td>\n",
       "      <td>0</td>\n",
       "    </tr>\n",
       "    <tr>\n",
       "      <th>33</th>\n",
       "      <td>Bream</td>\n",
       "      <td>975.0</td>\n",
       "      <td>41.0</td>\n",
       "      <td>0</td>\n",
       "    </tr>\n",
       "    <tr>\n",
       "      <th>34</th>\n",
       "      <td>Bream</td>\n",
       "      <td>950.0</td>\n",
       "      <td>41.0</td>\n",
       "      <td>0</td>\n",
       "    </tr>\n",
       "    <tr>\n",
       "      <th>145</th>\n",
       "      <td>Smelt</td>\n",
       "      <td>6.7</td>\n",
       "      <td>9.8</td>\n",
       "      <td>1</td>\n",
       "    </tr>\n",
       "    <tr>\n",
       "      <th>146</th>\n",
       "      <td>Smelt</td>\n",
       "      <td>7.5</td>\n",
       "      <td>10.5</td>\n",
       "      <td>1</td>\n",
       "    </tr>\n",
       "    <tr>\n",
       "      <th>147</th>\n",
       "      <td>Smelt</td>\n",
       "      <td>7.0</td>\n",
       "      <td>10.6</td>\n",
       "      <td>1</td>\n",
       "    </tr>\n",
       "    <tr>\n",
       "      <th>148</th>\n",
       "      <td>Smelt</td>\n",
       "      <td>9.7</td>\n",
       "      <td>11.0</td>\n",
       "      <td>1</td>\n",
       "    </tr>\n",
       "    <tr>\n",
       "      <th>149</th>\n",
       "      <td>Smelt</td>\n",
       "      <td>9.8</td>\n",
       "      <td>11.2</td>\n",
       "      <td>1</td>\n",
       "    </tr>\n",
       "    <tr>\n",
       "      <th>150</th>\n",
       "      <td>Smelt</td>\n",
       "      <td>8.7</td>\n",
       "      <td>11.3</td>\n",
       "      <td>1</td>\n",
       "    </tr>\n",
       "    <tr>\n",
       "      <th>151</th>\n",
       "      <td>Smelt</td>\n",
       "      <td>10.0</td>\n",
       "      <td>11.8</td>\n",
       "      <td>1</td>\n",
       "    </tr>\n",
       "    <tr>\n",
       "      <th>152</th>\n",
       "      <td>Smelt</td>\n",
       "      <td>9.9</td>\n",
       "      <td>11.8</td>\n",
       "      <td>1</td>\n",
       "    </tr>\n",
       "    <tr>\n",
       "      <th>153</th>\n",
       "      <td>Smelt</td>\n",
       "      <td>9.8</td>\n",
       "      <td>12.0</td>\n",
       "      <td>1</td>\n",
       "    </tr>\n",
       "    <tr>\n",
       "      <th>154</th>\n",
       "      <td>Smelt</td>\n",
       "      <td>12.2</td>\n",
       "      <td>12.2</td>\n",
       "      <td>1</td>\n",
       "    </tr>\n",
       "    <tr>\n",
       "      <th>155</th>\n",
       "      <td>Smelt</td>\n",
       "      <td>13.4</td>\n",
       "      <td>12.4</td>\n",
       "      <td>1</td>\n",
       "    </tr>\n",
       "    <tr>\n",
       "      <th>156</th>\n",
       "      <td>Smelt</td>\n",
       "      <td>12.2</td>\n",
       "      <td>13.0</td>\n",
       "      <td>1</td>\n",
       "    </tr>\n",
       "    <tr>\n",
       "      <th>157</th>\n",
       "      <td>Smelt</td>\n",
       "      <td>19.7</td>\n",
       "      <td>14.3</td>\n",
       "      <td>1</td>\n",
       "    </tr>\n",
       "    <tr>\n",
       "      <th>158</th>\n",
       "      <td>Smelt</td>\n",
       "      <td>19.9</td>\n",
       "      <td>15.0</td>\n",
       "      <td>1</td>\n",
       "    </tr>\n",
       "  </tbody>\n",
       "</table>\n",
       "</div>"
      ],
      "text/plain": [
       "    Species  Weight  Length2  label\n",
       "0     Bream   242.0     25.4      0\n",
       "1     Bream   290.0     26.3      0\n",
       "2     Bream   340.0     26.5      0\n",
       "3     Bream   363.0     29.0      0\n",
       "4     Bream   430.0     29.0      0\n",
       "5     Bream   450.0     29.7      0\n",
       "6     Bream   500.0     29.7      0\n",
       "7     Bream   390.0     30.0      0\n",
       "8     Bream   450.0     30.0      0\n",
       "9     Bream   500.0     30.7      0\n",
       "10    Bream   475.0     31.0      0\n",
       "11    Bream   500.0     31.0      0\n",
       "12    Bream   500.0     31.5      0\n",
       "13    Bream   340.0     32.0      0\n",
       "14    Bream   600.0     32.0      0\n",
       "15    Bream   600.0     32.0      0\n",
       "16    Bream   700.0     33.0      0\n",
       "17    Bream   700.0     33.0      0\n",
       "18    Bream   610.0     33.5      0\n",
       "19    Bream   650.0     33.5      0\n",
       "20    Bream   575.0     34.0      0\n",
       "21    Bream   685.0     34.0      0\n",
       "22    Bream   620.0     34.5      0\n",
       "23    Bream   680.0     35.0      0\n",
       "24    Bream   700.0     35.0      0\n",
       "25    Bream   725.0     35.0      0\n",
       "26    Bream   720.0     35.0      0\n",
       "27    Bream   714.0     36.0      0\n",
       "28    Bream   850.0     36.0      0\n",
       "29    Bream  1000.0     37.0      0\n",
       "30    Bream   920.0     38.5      0\n",
       "31    Bream   955.0     38.5      0\n",
       "32    Bream   925.0     39.5      0\n",
       "33    Bream   975.0     41.0      0\n",
       "34    Bream   950.0     41.0      0\n",
       "145   Smelt     6.7      9.8      1\n",
       "146   Smelt     7.5     10.5      1\n",
       "147   Smelt     7.0     10.6      1\n",
       "148   Smelt     9.7     11.0      1\n",
       "149   Smelt     9.8     11.2      1\n",
       "150   Smelt     8.7     11.3      1\n",
       "151   Smelt    10.0     11.8      1\n",
       "152   Smelt     9.9     11.8      1\n",
       "153   Smelt     9.8     12.0      1\n",
       "154   Smelt    12.2     12.2      1\n",
       "155   Smelt    13.4     12.4      1\n",
       "156   Smelt    12.2     13.0      1\n",
       "157   Smelt    19.7     14.3      1\n",
       "158   Smelt    19.9     15.0      1"
      ]
     },
     "execution_count": 11,
     "metadata": {},
     "output_type": "execute_result"
    }
   ],
   "source": [
    "df"
   ]
  },
  {
   "cell_type": "markdown",
   "id": "c7740aac",
   "metadata": {},
   "source": [
    "- 앞으로 코드에는 너무 집중하지 말기 \n",
    "- 알고리즘이 다르더라도 코드 구조는 다 똑같음. 다른 변수명만 쓰면됨. \n",
    "- 알고리즘 각각의 특징들에 더 집중하기. \n",
    "    - 알고리즘에 대해 잘 알고 있어야 어떤 데이터가 적합한지, 더 적절한 머신러닝 모델은 뭔지 알 수 있음."
   ]
  },
  {
   "cell_type": "markdown",
   "id": "ee548762",
   "metadata": {},
   "source": [
    "# 3. 모델 훈련 \n",
    "\n",
    "- K-Nearest Neighbors \n",
    "\n",
    "<img src = \"./KNN.png\">"
   ]
  },
  {
   "cell_type": "markdown",
   "id": "9b3421c9",
   "metadata": {},
   "source": [
    "- 기존 데이터 중 가장 유사한 k개의 데이터를 이용해서 새로운 데이터 예측 \n",
    "- 특징\n",
    "    - 최고 인접 다수결 \n",
    "        - 기존 데이터 중 가장 유사한 k개의 데이터를 측정하여 분류 \n",
    "    - lazy learning 기법 \n",
    "        - 새로운 입력 값이 들어온 후 분류 시작 \n",
    "        - 데이터셋을 저장만 하고 일반화된 모델을 능동적으로 만들지 않음.\n",
    "    - 단순 유연성 \n",
    "        - 모형이 단순하며 파라미터 가정이 거의 없음. \n",
    "        \n",
    "- 장점\n",
    "    - 학습 간단 \n",
    "    - 훈련 데이터의 크기가 크면 클수록 정확해짐 \n",
    "    - 모형이 단순하고 쉽게 구현 가능 \n",
    "- 단점\n",
    "    - k값 선정에 따라 성능이 좌우\n",
    "    - 높은 자원 요구량 \n",
    "        - 데이터셋 전체를 메모리에 기억 \n",
    "    - 계산 복잡성 \n",
    "        - 모든 데이터와의 거리측정 수행 필요 \n",
    "        - 공간이 4차원 5차원으로 갈때 거리를 각각 모두 계산하는 것은 굉장히 복잡 \n",
    "\n",
    "\n",
    "- 모든 데이터들과 거리를 계산함 \n",
    "    - 가장 가까운 데이터 1개를 본다. --> k=1 \n",
    "    - 가장 가까운 데이터 3개를 본다. --> k=3\n",
    "- k를 짝수로는 두지 않음 (동점 나올 수 있어서)"
   ]
  },
  {
   "cell_type": "code",
   "execution_count": 12,
   "id": "21b3bb86",
   "metadata": {},
   "outputs": [
    {
     "name": "stderr",
     "output_type": "stream",
     "text": [
      "C:\\Users\\answl\\anaconda3\\envs\\nlp\\lib\\site-packages\\sklearn\\neighbors\\_classification.py:198: DataConversionWarning: A column-vector y was passed when a 1d array was expected. Please change the shape of y to (n_samples,), for example using ravel().\n",
      "  return self._fit(X, y)\n"
     ]
    },
    {
     "data": {
      "text/plain": [
       "KNeighborsClassifier()"
      ]
     },
     "execution_count": 12,
     "metadata": {},
     "output_type": "execute_result"
    }
   ],
   "source": [
    "knn = KNeighborsClassifier()\n",
    "\n",
    "knn.fit(df[['Length2','Weight']], df[['label']])"
   ]
  },
  {
   "cell_type": "markdown",
   "id": "68efad93",
   "metadata": {},
   "source": [
    "# 4. 모델 평가 "
   ]
  },
  {
   "cell_type": "code",
   "execution_count": 16,
   "id": "589c6ef3",
   "metadata": {},
   "outputs": [
    {
     "data": {
      "text/plain": [
       "1.0"
      ]
     },
     "execution_count": 16,
     "metadata": {},
     "output_type": "execute_result"
    }
   ],
   "source": [
    "knn.score(df[['Length2', 'Weight']], df[['label']])"
   ]
  },
  {
   "cell_type": "markdown",
   "id": "948504cd",
   "metadata": {},
   "source": [
    "- 정확도\n",
    "    - 정확한 답을 몇개 맞혔는지를 백분율로 나타낸 값\n",
    "    - 0 ~ 1 사이의 값으로 출력 \n",
    "    - 정확도 = (정확히 맞힌 개수) / (전체 데이터 개수)"
   ]
  },
  {
   "cell_type": "code",
   "execution_count": 18,
   "id": "8653ec07",
   "metadata": {},
   "outputs": [
    {
     "data": {
      "image/png": "[encoded data removed]",
      "text/plain": [
       "<Figure size 640x480 with 1 Axes>"
      ]
     },
     "metadata": {},
     "output_type": "display_data"
    }
   ],
   "source": [
    "groups = df.groupby('Species')\n",
    "\n",
    "plt.figure()\n",
    "\n",
    "for name, group in groups:\n",
    "    plt.scatter(group['Length2'],\n",
    "               group['Weight'],\n",
    "               label = name)\n",
    "\n",
    "# 길이가 30이고 무게가 600인 점    \n",
    "plt.scatter(30, 600, c='g', marker='^', label='predict')\n",
    "\n",
    "plt.legend()\n",
    "plt.xlabel('Length')\n",
    "plt.ylabel('Weight')\n",
    "plt.show()"
   ]
  },
  {
   "cell_type": "code",
   "execution_count": 21,
   "id": "e220153a",
   "metadata": {},
   "outputs": [
    {
     "name": "stderr",
     "output_type": "stream",
     "text": [
      "C:\\Users\\answl\\anaconda3\\envs\\nlp\\lib\\site-packages\\sklearn\\base.py:451: UserWarning: X does not have valid feature names, but KNeighborsClassifier was fitted with feature names\n",
      "  \"X does not have valid feature names, but\"\n"
     ]
    },
    {
     "data": {
      "text/plain": [
       "array([0])"
      ]
     },
     "execution_count": 21,
     "metadata": {},
     "output_type": "execute_result"
    }
   ],
   "source": [
    "knn.predict([[30,600]])"
   ]
  },
  {
   "cell_type": "code",
   "execution_count": 22,
   "id": "0c943018",
   "metadata": {},
   "outputs": [
    {
     "data": {
      "text/plain": [
       "array(['Bream'], dtype=object)"
      ]
     },
     "execution_count": 22,
     "metadata": {},
     "output_type": "execute_result"
    }
   ],
   "source": [
    "le.inverse_transform([0])"
   ]
  },
  {
   "cell_type": "markdown",
   "id": "43b5f6f4",
   "metadata": {},
   "source": [
    "- 모든 데이터로 학습을 하면 정답을 잘 맞히는 것이 당연하기 때문에 일반화할 수 있는 좋은 모델인지를 평가할 지표가 없다. "
   ]
  }
 ],
 "metadata": {
  "kernelspec": {
   "display_name": "Python 3 (ipykernel)",
   "language": "python",
   "name": "python3"
  },
  "language_info": {
   "codemirror_mode": {
    "name": "ipython",
    "version": 3
   },
   "file_extension": ".py",
   "mimetype": "text/x-python",
   "name": "python",
   "nbconvert_exporter": "python",
   "pygments_lexer": "ipython3",
   "version": "3.7.13"
  }
 },
 "nbformat": 4,
 "nbformat_minor": 5
}
