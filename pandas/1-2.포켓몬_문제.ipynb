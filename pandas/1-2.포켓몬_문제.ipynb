{
 "cells": [
  {
   "cell_type": "code",
   "execution_count": 1,
   "id": "941d6e18",
   "metadata": {},
   "outputs": [],
   "source": [
    "import pandas as pd"
   ]
  },
  {
   "cell_type": "code",
   "execution_count": 2,
   "id": "9e74732d",
   "metadata": {},
   "outputs": [],
   "source": [
    "raw_data = {\"이름\": ['이상해씨', '파이리','꼬부기','캐터피'],\n",
    "            \"진화형\": ['이상해풀','리자드','어니부기','단데기'],\n",
    "            \"타입\": ['풀', '불', '물', '벌레'],\n",
    "            \"체력\": [45, 39, 44, 45],\n",
    "            \"도감등록\": ['yes', 'no','yes','no']                        \n",
    "            }"
   ]
  },
  {
   "cell_type": "markdown",
   "id": "72ae6ee7",
   "metadata": {},
   "source": [
    "# 문제1. raw_data를 데이터프레임 형태로 poke 변수에 할당"
   ]
  },
  {
   "cell_type": "code",
   "execution_count": 3,
   "id": "58688302",
   "metadata": {},
   "outputs": [],
   "source": [
    "poke = pd.DataFrame(raw_data)"
   ]
  },
  {
   "cell_type": "code",
   "execution_count": 4,
   "id": "6fa41d14",
   "metadata": {},
   "outputs": [
    {
     "data": {
      "text/html": [
       "<div>\n",
       "<style scoped>\n",
       "    .dataframe tbody tr th:only-of-type {\n",
       "        vertical-align: middle;\n",
       "    }\n",
       "\n",
       "    .dataframe tbody tr th {\n",
       "        vertical-align: top;\n",
       "    }\n",
       "\n",
       "    .dataframe thead th {\n",
       "        text-align: right;\n",
       "    }\n",
       "</style>\n",
       "<table border=\"1\" class=\"dataframe\">\n",
       "  <thead>\n",
       "    <tr style=\"text-align: right;\">\n",
       "      <th></th>\n",
       "      <th>이름</th>\n",
       "      <th>진화형</th>\n",
       "      <th>타입</th>\n",
       "      <th>체력</th>\n",
       "      <th>도감등록</th>\n",
       "    </tr>\n",
       "  </thead>\n",
       "  <tbody>\n",
       "    <tr>\n",
       "      <th>0</th>\n",
       "      <td>이상해씨</td>\n",
       "      <td>이상해풀</td>\n",
       "      <td>풀</td>\n",
       "      <td>45</td>\n",
       "      <td>yes</td>\n",
       "    </tr>\n",
       "    <tr>\n",
       "      <th>1</th>\n",
       "      <td>파이리</td>\n",
       "      <td>리자드</td>\n",
       "      <td>불</td>\n",
       "      <td>39</td>\n",
       "      <td>no</td>\n",
       "    </tr>\n",
       "    <tr>\n",
       "      <th>2</th>\n",
       "      <td>꼬부기</td>\n",
       "      <td>어니부기</td>\n",
       "      <td>물</td>\n",
       "      <td>44</td>\n",
       "      <td>yes</td>\n",
       "    </tr>\n",
       "    <tr>\n",
       "      <th>3</th>\n",
       "      <td>캐터피</td>\n",
       "      <td>단데기</td>\n",
       "      <td>벌레</td>\n",
       "      <td>45</td>\n",
       "      <td>no</td>\n",
       "    </tr>\n",
       "  </tbody>\n",
       "</table>\n",
       "</div>"
      ],
      "text/plain": [
       "     이름   진화형  타입  체력 도감등록\n",
       "0  이상해씨  이상해풀   풀  45  yes\n",
       "1   파이리   리자드   불  39   no\n",
       "2   꼬부기  어니부기   물  44  yes\n",
       "3   캐터피   단데기  벌레  45   no"
      ]
     },
     "execution_count": 4,
     "metadata": {},
     "output_type": "execute_result"
    }
   ],
   "source": [
    "poke"
   ]
  },
  {
   "cell_type": "markdown",
   "id": "0e099b6b",
   "metadata": {},
   "source": [
    "# 문제2. 데이터프레임의 컬럼을 이름, 타입, 체력, 진화형, 도감등록 순으로 수정"
   ]
  },
  {
   "cell_type": "code",
   "execution_count": 5,
   "id": "df8f01bd",
   "metadata": {},
   "outputs": [],
   "source": [
    "poke = poke[[\"이름\", \"타입\", \"체력\", \"진화형\", \"도감등록\"]]\n",
    "# df 열 순서 변경 "
   ]
  },
  {
   "cell_type": "code",
   "execution_count": 6,
   "id": "cd7e0d95",
   "metadata": {},
   "outputs": [
    {
     "data": {
      "text/html": [
       "<div>\n",
       "<style scoped>\n",
       "    .dataframe tbody tr th:only-of-type {\n",
       "        vertical-align: middle;\n",
       "    }\n",
       "\n",
       "    .dataframe tbody tr th {\n",
       "        vertical-align: top;\n",
       "    }\n",
       "\n",
       "    .dataframe thead th {\n",
       "        text-align: right;\n",
       "    }\n",
       "</style>\n",
       "<table border=\"1\" class=\"dataframe\">\n",
       "  <thead>\n",
       "    <tr style=\"text-align: right;\">\n",
       "      <th></th>\n",
       "      <th>이름</th>\n",
       "      <th>타입</th>\n",
       "      <th>체력</th>\n",
       "      <th>진화형</th>\n",
       "      <th>도감등록</th>\n",
       "    </tr>\n",
       "  </thead>\n",
       "  <tbody>\n",
       "    <tr>\n",
       "      <th>0</th>\n",
       "      <td>이상해씨</td>\n",
       "      <td>풀</td>\n",
       "      <td>45</td>\n",
       "      <td>이상해풀</td>\n",
       "      <td>yes</td>\n",
       "    </tr>\n",
       "    <tr>\n",
       "      <th>1</th>\n",
       "      <td>파이리</td>\n",
       "      <td>불</td>\n",
       "      <td>39</td>\n",
       "      <td>리자드</td>\n",
       "      <td>no</td>\n",
       "    </tr>\n",
       "    <tr>\n",
       "      <th>2</th>\n",
       "      <td>꼬부기</td>\n",
       "      <td>물</td>\n",
       "      <td>44</td>\n",
       "      <td>어니부기</td>\n",
       "      <td>yes</td>\n",
       "    </tr>\n",
       "    <tr>\n",
       "      <th>3</th>\n",
       "      <td>캐터피</td>\n",
       "      <td>벌레</td>\n",
       "      <td>45</td>\n",
       "      <td>단데기</td>\n",
       "      <td>no</td>\n",
       "    </tr>\n",
       "  </tbody>\n",
       "</table>\n",
       "</div>"
      ],
      "text/plain": [
       "     이름  타입  체력   진화형 도감등록\n",
       "0  이상해씨   풀  45  이상해풀  yes\n",
       "1   파이리   불  39   리자드   no\n",
       "2   꼬부기   물  44  어니부기  yes\n",
       "3   캐터피  벌레  45   단데기   no"
      ]
     },
     "execution_count": 6,
     "metadata": {},
     "output_type": "execute_result"
    }
   ],
   "source": [
    "poke"
   ]
  },
  {
   "cell_type": "markdown",
   "id": "22be7455",
   "metadata": {},
   "source": [
    "# 문제3. 서식지 컬럼에 아래의 정보를 추가\n",
    "\n",
    "- 이상해씨 : 공원\n",
    "- 파이리 : 도로\n",
    "- 꼬부기 : 호수\n",
    "- 캐터피 : 숲"
   ]
  },
  {
   "cell_type": "code",
   "execution_count": 7,
   "id": "5bfa53f7",
   "metadata": {},
   "outputs": [
    {
     "name": "stderr",
     "output_type": "stream",
     "text": [
      "C:\\Users\\answl\\anaconda3\\envs\\nlp\\lib\\site-packages\\ipykernel_launcher.py:1: SettingWithCopyWarning: \n",
      "A value is trying to be set on a copy of a slice from a DataFrame.\n",
      "Try using .loc[row_indexer,col_indexer] = value instead\n",
      "\n",
      "See the caveats in the documentation: https://pandas.pydata.org/pandas-docs/stable/user_guide/indexing.html#returning-a-view-versus-a-copy\n",
      "  \"\"\"Entry point for launching an IPython kernel.\n"
     ]
    }
   ],
   "source": [
    "poke[\"서식지\"] = [\"공원\", \"도로\", \"호수\", \"숲\"]"
   ]
  },
  {
   "cell_type": "code",
   "execution_count": 8,
   "id": "40700350",
   "metadata": {},
   "outputs": [
    {
     "data": {
      "text/html": [
       "<div>\n",
       "<style scoped>\n",
       "    .dataframe tbody tr th:only-of-type {\n",
       "        vertical-align: middle;\n",
       "    }\n",
       "\n",
       "    .dataframe tbody tr th {\n",
       "        vertical-align: top;\n",
       "    }\n",
       "\n",
       "    .dataframe thead th {\n",
       "        text-align: right;\n",
       "    }\n",
       "</style>\n",
       "<table border=\"1\" class=\"dataframe\">\n",
       "  <thead>\n",
       "    <tr style=\"text-align: right;\">\n",
       "      <th></th>\n",
       "      <th>이름</th>\n",
       "      <th>타입</th>\n",
       "      <th>체력</th>\n",
       "      <th>진화형</th>\n",
       "      <th>도감등록</th>\n",
       "      <th>서식지</th>\n",
       "    </tr>\n",
       "  </thead>\n",
       "  <tbody>\n",
       "    <tr>\n",
       "      <th>0</th>\n",
       "      <td>이상해씨</td>\n",
       "      <td>풀</td>\n",
       "      <td>45</td>\n",
       "      <td>이상해풀</td>\n",
       "      <td>yes</td>\n",
       "      <td>공원</td>\n",
       "    </tr>\n",
       "    <tr>\n",
       "      <th>1</th>\n",
       "      <td>파이리</td>\n",
       "      <td>불</td>\n",
       "      <td>39</td>\n",
       "      <td>리자드</td>\n",
       "      <td>no</td>\n",
       "      <td>도로</td>\n",
       "    </tr>\n",
       "    <tr>\n",
       "      <th>2</th>\n",
       "      <td>꼬부기</td>\n",
       "      <td>물</td>\n",
       "      <td>44</td>\n",
       "      <td>어니부기</td>\n",
       "      <td>yes</td>\n",
       "      <td>호수</td>\n",
       "    </tr>\n",
       "    <tr>\n",
       "      <th>3</th>\n",
       "      <td>캐터피</td>\n",
       "      <td>벌레</td>\n",
       "      <td>45</td>\n",
       "      <td>단데기</td>\n",
       "      <td>no</td>\n",
       "      <td>숲</td>\n",
       "    </tr>\n",
       "  </tbody>\n",
       "</table>\n",
       "</div>"
      ],
      "text/plain": [
       "     이름  타입  체력   진화형 도감등록 서식지\n",
       "0  이상해씨   풀  45  이상해풀  yes  공원\n",
       "1   파이리   불  39   리자드   no  도로\n",
       "2   꼬부기   물  44  어니부기  yes  호수\n",
       "3   캐터피  벌레  45   단데기   no   숲"
      ]
     },
     "execution_count": 8,
     "metadata": {},
     "output_type": "execute_result"
    }
   ],
   "source": [
    "poke"
   ]
  },
  {
   "cell_type": "markdown",
   "id": "f2ffe8f1",
   "metadata": {},
   "source": [
    "# 문제4. 각 컬럼의 데이터 자료형 확인"
   ]
  },
  {
   "cell_type": "code",
   "execution_count": 9,
   "id": "5ddad0b5",
   "metadata": {},
   "outputs": [
    {
     "data": {
      "text/plain": [
       "이름      object\n",
       "타입      object\n",
       "체력       int64\n",
       "진화형     object\n",
       "도감등록    object\n",
       "서식지     object\n",
       "dtype: object"
      ]
     },
     "execution_count": 9,
     "metadata": {},
     "output_type": "execute_result"
    }
   ],
   "source": [
    "poke.dtypes"
   ]
  },
  {
   "cell_type": "code",
   "execution_count": 10,
   "id": "9bfcf451",
   "metadata": {},
   "outputs": [
    {
     "name": "stdout",
     "output_type": "stream",
     "text": [
      "<class 'pandas.core.frame.DataFrame'>\n",
      "RangeIndex: 4 entries, 0 to 3\n",
      "Data columns (total 6 columns):\n",
      " #   Column  Non-Null Count  Dtype \n",
      "---  ------  --------------  ----- \n",
      " 0   이름      4 non-null      object\n",
      " 1   타입      4 non-null      object\n",
      " 2   체력      4 non-null      int64 \n",
      " 3   진화형     4 non-null      object\n",
      " 4   도감등록    4 non-null      object\n",
      " 5   서식지     4 non-null      object\n",
      "dtypes: int64(1), object(5)\n",
      "memory usage: 320.0+ bytes\n"
     ]
    }
   ],
   "source": [
    "poke.info()"
   ]
  },
  {
   "cell_type": "code",
   "execution_count": 11,
   "id": "cf8f49dc",
   "metadata": {},
   "outputs": [
    {
     "data": {
      "text/html": [
       "<div>\n",
       "<style scoped>\n",
       "    .dataframe tbody tr th:only-of-type {\n",
       "        vertical-align: middle;\n",
       "    }\n",
       "\n",
       "    .dataframe tbody tr th {\n",
       "        vertical-align: top;\n",
       "    }\n",
       "\n",
       "    .dataframe thead th {\n",
       "        text-align: right;\n",
       "    }\n",
       "</style>\n",
       "<table border=\"1\" class=\"dataframe\">\n",
       "  <thead>\n",
       "    <tr style=\"text-align: right;\">\n",
       "      <th></th>\n",
       "      <th>체력</th>\n",
       "    </tr>\n",
       "  </thead>\n",
       "  <tbody>\n",
       "    <tr>\n",
       "      <th>count</th>\n",
       "      <td>4.000000</td>\n",
       "    </tr>\n",
       "    <tr>\n",
       "      <th>mean</th>\n",
       "      <td>43.250000</td>\n",
       "    </tr>\n",
       "    <tr>\n",
       "      <th>std</th>\n",
       "      <td>2.872281</td>\n",
       "    </tr>\n",
       "    <tr>\n",
       "      <th>min</th>\n",
       "      <td>39.000000</td>\n",
       "    </tr>\n",
       "    <tr>\n",
       "      <th>25%</th>\n",
       "      <td>42.750000</td>\n",
       "    </tr>\n",
       "    <tr>\n",
       "      <th>50%</th>\n",
       "      <td>44.500000</td>\n",
       "    </tr>\n",
       "    <tr>\n",
       "      <th>75%</th>\n",
       "      <td>45.000000</td>\n",
       "    </tr>\n",
       "    <tr>\n",
       "      <th>max</th>\n",
       "      <td>45.000000</td>\n",
       "    </tr>\n",
       "  </tbody>\n",
       "</table>\n",
       "</div>"
      ],
      "text/plain": [
       "              체력\n",
       "count   4.000000\n",
       "mean   43.250000\n",
       "std     2.872281\n",
       "min    39.000000\n",
       "25%    42.750000\n",
       "50%    44.500000\n",
       "75%    45.000000\n",
       "max    45.000000"
      ]
     },
     "execution_count": 11,
     "metadata": {},
     "output_type": "execute_result"
    }
   ],
   "source": [
    "poke.describe()"
   ]
  }
 ],
 "metadata": {
  "kernelspec": {
   "display_name": "Python 3 (ipykernel)",
   "language": "python",
   "name": "python3"
  },
  "language_info": {
   "codemirror_mode": {
    "name": "ipython",
    "version": 3
   },
   "file_extension": ".py",
   "mimetype": "text/x-python",
   "name": "python",
   "nbconvert_exporter": "python",
   "pygments_lexer": "ipython3",
   "version": "3.7.13"
  }
 },
 "nbformat": 4,
 "nbformat_minor": 5
}
