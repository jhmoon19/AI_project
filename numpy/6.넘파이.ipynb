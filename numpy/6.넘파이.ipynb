{
 "cells": [
  {
   "cell_type": "code",
   "execution_count": 2,
   "id": "b207dbd9",
   "metadata": {},
   "outputs": [],
   "source": [
    "import numpy as np"
   ]
  },
  {
   "cell_type": "markdown",
   "id": "88c3eaa7",
   "metadata": {},
   "source": [
    "# 넘파이 배열의 구조"
   ]
  },
  {
   "cell_type": "markdown",
   "id": "acac6b45",
   "metadata": {},
   "source": [
    "- 넘파이 모듈의 기본 배열은 ndarray(n-dimension array: 다차원배열)\n",
    "- <class 'numpy.ndarray'> 타입 "
   ]
  },
  {
   "cell_type": "code",
   "execution_count": 2,
   "id": "4adb5b6e",
   "metadata": {},
   "outputs": [
    {
     "data": {
      "text/plain": [
       "array([1, 2, 3, 4])"
      ]
     },
     "execution_count": 2,
     "metadata": {},
     "output_type": "execute_result"
    }
   ],
   "source": [
    "# 리스트를 다차원배열로 변환\n",
    "li = [1, 2, 3, 4]\n",
    "li_arr = np.array(li)\n",
    "# np.array: 다차원 배열 만드는 함수\n",
    "li_arr"
   ]
  },
  {
   "cell_type": "code",
   "execution_count": 3,
   "id": "1a40302f",
   "metadata": {},
   "outputs": [
    {
     "data": {
      "text/plain": [
       "array([[[[6.23042070e-307, 4.67296746e-307, 1.69121096e-306,\n",
       "          1.69120552e-306],\n",
       "         [1.89146896e-307, 7.56571288e-307, 4.00544531e-307,\n",
       "          1.11261095e-306],\n",
       "         [3.56043054e-307, 1.37961641e-306, 2.22518251e-306,\n",
       "          1.33511969e-306]],\n",
       "\n",
       "        [[1.69118108e-306, 8.06632139e-308, 1.20160711e-306,\n",
       "          1.69119330e-306],\n",
       "         [1.29062229e-306, 1.42417222e-306, 1.33512648e-306,\n",
       "          7.56596412e-307],\n",
       "         [9.34601642e-307, 1.78020169e-306, 8.34445562e-308,\n",
       "          3.91792476e-317]]]])"
      ]
     },
     "execution_count": 3,
     "metadata": {},
     "output_type": "execute_result"
    }
   ],
   "source": [
    "np.ndarray(li) # (1,2,3,4) shape 배열"
   ]
  },
  {
   "cell_type": "code",
   "execution_count": 6,
   "id": "a09b4231",
   "metadata": {},
   "outputs": [
    {
     "name": "stdout",
     "output_type": "stream",
     "text": [
      "[1 2 3 4] <class 'numpy.ndarray'>\n",
      "[[[[6.23042070e-307 4.67296746e-307 1.69121096e-306 1.69120552e-306]\n",
      "   [1.89146896e-307 7.56571288e-307 4.00544531e-307 1.11261095e-306]\n",
      "   [3.56043054e-307 1.37961641e-306 2.22518251e-306 1.33511969e-306]]\n",
      "\n",
      "  [[1.69118108e-306 8.06632139e-308 1.20160711e-306 1.69119330e-306]\n",
      "   [1.29062229e-306 1.42417222e-306 1.33512648e-306 7.56596412e-307]\n",
      "   [9.34601642e-307 1.78020169e-306 8.34445562e-308 3.91792476e-317]]]]\n"
     ]
    }
   ],
   "source": [
    "# 튜플을 다차원배열로 변환\n",
    "tu = (1,2,3,4)\n",
    "tu_arr = np.array(tu)\n",
    "print(tu_arr, type(tu_arr))\n",
    "print(np.ndarray(tu)) # 매우 작거나 큰 수 "
   ]
  },
  {
   "cell_type": "markdown",
   "id": "6150daf2",
   "metadata": {},
   "source": [
    "넘파이 배열도 mutable의 특징을 가짐 (데이터가 유연, 수정가능함)\n",
    "- 변수를 다른 변수에 복사한 뒤 데이터를 수정하면 모든 변수의 데이터가 수정됨"
   ]
  },
  {
   "cell_type": "code",
   "execution_count": 7,
   "id": "29ac4fd4",
   "metadata": {},
   "outputs": [
    {
     "data": {
      "text/plain": [
       "(1497661120656, 1497661120656)"
      ]
     },
     "execution_count": 7,
     "metadata": {},
     "output_type": "execute_result"
    }
   ],
   "source": [
    "co_arr = li_arr\n",
    "id(co_arr), id(li_arr)\n",
    "# 완벽하게 일치하는 id"
   ]
  },
  {
   "cell_type": "code",
   "execution_count": 8,
   "id": "1a8c928c",
   "metadata": {},
   "outputs": [
    {
     "data": {
      "text/plain": [
       "array([100,   2,   3,   4])"
      ]
     },
     "execution_count": 8,
     "metadata": {},
     "output_type": "execute_result"
    }
   ],
   "source": [
    "co_arr[0] = 100\n",
    "co_arr"
   ]
  },
  {
   "cell_type": "code",
   "execution_count": 9,
   "id": "be3578b8",
   "metadata": {},
   "outputs": [
    {
     "data": {
      "text/plain": [
       "array([100,   2,   3,   4])"
      ]
     },
     "execution_count": 9,
     "metadata": {},
     "output_type": "execute_result"
    }
   ],
   "source": [
    "li_arr"
   ]
  },
  {
   "cell_type": "markdown",
   "id": "23ef51a4",
   "metadata": {},
   "source": [
    "다차원 배열의 값을 복사해서 새로운 배열을 만들면\n",
    "\n",
    "동일한 값을 가진 새로운 배열이 만들어지기 때문에 서로 다른 데이터가 됨 "
   ]
  },
  {
   "cell_type": "code",
   "execution_count": 11,
   "id": "013f3b4f",
   "metadata": {},
   "outputs": [
    {
     "data": {
      "text/plain": [
       "(1497661122864, 1497661120656)"
      ]
     },
     "execution_count": 11,
     "metadata": {},
     "output_type": "execute_result"
    }
   ],
   "source": [
    "new_arr = np.array(li_arr)\n",
    "id(new_arr), id(li_arr)"
   ]
  },
  {
   "cell_type": "code",
   "execution_count": 12,
   "id": "9e91011d",
   "metadata": {},
   "outputs": [
    {
     "data": {
      "text/plain": [
       "array([99,  2,  3,  4])"
      ]
     },
     "execution_count": 12,
     "metadata": {},
     "output_type": "execute_result"
    }
   ],
   "source": [
    "new_arr[0] = 99\n",
    "new_arr"
   ]
  },
  {
   "cell_type": "code",
   "execution_count": 13,
   "id": "db2f6214",
   "metadata": {},
   "outputs": [
    {
     "data": {
      "text/plain": [
       "array([100,   2,   3,   4])"
      ]
     },
     "execution_count": 13,
     "metadata": {},
     "output_type": "execute_result"
    }
   ],
   "source": [
    "li_arr"
   ]
  },
  {
   "cell_type": "markdown",
   "id": "c0c3beee",
   "metadata": {},
   "source": [
    "- 파이썬 리스트는 다양한 자료형을 사용할 수 있지만, 넘파이 배열은 같은 자료형만 넣을 수 있음\n",
    "    - 다차원 배열을 생성할 때 자료형을 지정하지 않으면 내부의 원소를 보고 자동으로 추정해서 만들어짐."
   ]
  },
  {
   "cell_type": "code",
   "execution_count": 14,
   "id": "91cab338",
   "metadata": {},
   "outputs": [
    {
     "data": {
      "text/plain": [
       "array([1., 2., 3., 4.])"
      ]
     },
     "execution_count": 14,
     "metadata": {},
     "output_type": "execute_result"
    }
   ],
   "source": [
    "# float 자료형을 지정해서 다차원 배열 만들기\n",
    "fl_arr = np.array(li, dtype=float)\n",
    "fl_arr"
   ]
  },
  {
   "cell_type": "code",
   "execution_count": 16,
   "id": "52dec0e0",
   "metadata": {},
   "outputs": [
    {
     "data": {
      "text/plain": [
       "dtype('float64')"
      ]
     },
     "execution_count": 16,
     "metadata": {},
     "output_type": "execute_result"
    }
   ],
   "source": [
    "# 배열의 데이터타입 확인\n",
    "fl_arr.dtype"
   ]
  },
  {
   "cell_type": "code",
   "execution_count": 17,
   "id": "375402dc",
   "metadata": {},
   "outputs": [
    {
     "data": {
      "text/plain": [
       "array([1., 1.])"
      ]
     },
     "execution_count": 17,
     "metadata": {},
     "output_type": "execute_result"
    }
   ],
   "source": [
    "np.array([1,1.])"
   ]
  },
  {
   "cell_type": "code",
   "execution_count": 18,
   "id": "6246483d",
   "metadata": {},
   "outputs": [
    {
     "data": {
      "text/plain": [
       "array(['1', '1.0', '1'], dtype='<U32')"
      ]
     },
     "execution_count": 18,
     "metadata": {},
     "output_type": "execute_result"
    }
   ],
   "source": [
    "# 갑자기 전부 문자열로 바뀜\n",
    "np.array([1,1., '1'])"
   ]
  },
  {
   "cell_type": "code",
   "execution_count": 19,
   "id": "89206cb9",
   "metadata": {},
   "outputs": [
    {
     "data": {
      "text/plain": [
       "array(['1', '1.0', '1', 'True'], dtype='<U32')"
      ]
     },
     "execution_count": 19,
     "metadata": {},
     "output_type": "execute_result"
    }
   ],
   "source": [
    "np.array([1,1., '1', True])"
   ]
  },
  {
   "cell_type": "markdown",
   "id": "67ccbcdc",
   "metadata": {},
   "source": [
    "# 2차원 배열이란 \n",
    "\n",
    "- 2개의 축을 가지는 배열(행,열)\n",
    "    - 2개의 1차원 배열이 쌓여서 하나의 2차원 배열이 만들어짐."
   ]
  },
  {
   "cell_type": "code",
   "execution_count": 3,
   "id": "4914bb98",
   "metadata": {},
   "outputs": [
    {
     "name": "stdout",
     "output_type": "stream",
     "text": [
      "(2, 3)\n",
      "2\n",
      "int32\n"
     ]
    }
   ],
   "source": [
    "arr2d = np.array([[1,2,3], [4,5,6]])\n",
    "\n",
    "# 각 축의 원소의 개수\n",
    "print(arr2d.shape)\n",
    "\n",
    "# 축의 개수 (차원 수)\n",
    "print(arr2d.ndim)\n",
    "\n",
    "print(arr2d.dtype)"
   ]
  },
  {
   "cell_type": "code",
   "execution_count": 21,
   "id": "edaf220e",
   "metadata": {},
   "outputs": [
    {
     "data": {
      "text/plain": [
       "array([1, 2, 3, 4, 5, 6])"
      ]
     },
     "execution_count": 21,
     "metadata": {},
     "output_type": "execute_result"
    }
   ],
   "source": [
    "# 다차원 배열을 1차원 배열로 조회\n",
    "arr2d.flatten() # 평탄화"
   ]
  },
  {
   "cell_type": "code",
   "execution_count": 8,
   "id": "abc57910",
   "metadata": {},
   "outputs": [
    {
     "name": "stdout",
     "output_type": "stream",
     "text": [
      "[1 2 3 4 5 6]\n",
      "[1 2 3 4 5 6]\n"
     ]
    }
   ],
   "source": [
    "# 평탄화 다른 방법: concatenate\n",
    "print(np.concatenate(arr2d))\n",
    "# 평탄화 3: reshape(-1)\n",
    "print(arr2d.reshape(-1))"
   ]
  },
  {
   "cell_type": "code",
   "execution_count": 22,
   "id": "23a7f597",
   "metadata": {},
   "outputs": [
    {
     "data": {
      "text/plain": [
       "array([100,   2,   3,   4])"
      ]
     },
     "execution_count": 22,
     "metadata": {},
     "output_type": "execute_result"
    }
   ],
   "source": [
    "# 1차원 배열에서 원소 조회하기 \n",
    "li_arr"
   ]
  },
  {
   "cell_type": "code",
   "execution_count": 23,
   "id": "5b3a11e8",
   "metadata": {},
   "outputs": [
    {
     "data": {
      "text/plain": [
       "100"
      ]
     },
     "execution_count": 23,
     "metadata": {},
     "output_type": "execute_result"
    }
   ],
   "source": [
    "li_arr[0]"
   ]
  },
  {
   "cell_type": "code",
   "execution_count": 24,
   "id": "a1d35389",
   "metadata": {},
   "outputs": [
    {
     "data": {
      "text/plain": [
       "[[1, 2, 3], [4, 5, 6]]"
      ]
     },
     "execution_count": 24,
     "metadata": {},
     "output_type": "execute_result"
    }
   ],
   "source": [
    "# 다차원배열에서 원소 조회\n",
    "list2d = arr2d.tolist() # 배열을 리스트로 변환\n",
    "list2d"
   ]
  },
  {
   "cell_type": "code",
   "execution_count": 25,
   "id": "653d67e1",
   "metadata": {},
   "outputs": [
    {
     "data": {
      "text/plain": [
       "2"
      ]
     },
     "execution_count": 25,
     "metadata": {},
     "output_type": "execute_result"
    }
   ],
   "source": [
    "# 리스트는 정수만 이용해서 원소 조회 가능 \n",
    "# 따라서 리스트 내 리스트의 원소를 조회할 때는 인덱스를 두번 사용해야함.\n",
    "list2d[0][1]"
   ]
  },
  {
   "cell_type": "code",
   "execution_count": 26,
   "id": "d42fcbcd",
   "metadata": {},
   "outputs": [
    {
     "ename": "TypeError",
     "evalue": "list indices must be integers or slices, not tuple",
     "output_type": "error",
     "traceback": [
      "\u001b[1;31m---------------------------------------------------------------------------\u001b[0m",
      "\u001b[1;31mTypeError\u001b[0m                                 Traceback (most recent call last)",
      "\u001b[1;32m~\\AppData\\Local\\Temp\\ipykernel_21672\\3298164393.py\u001b[0m in \u001b[0;36m<module>\u001b[1;34m\u001b[0m\n\u001b[1;32m----> 1\u001b[1;33m \u001b[0mlist2d\u001b[0m\u001b[1;33m[\u001b[0m\u001b[1;36m0\u001b[0m\u001b[1;33m,\u001b[0m\u001b[1;36m1\u001b[0m\u001b[1;33m]\u001b[0m\u001b[1;33m\u001b[0m\u001b[1;33m\u001b[0m\u001b[0m\n\u001b[0m",
      "\u001b[1;31mTypeError\u001b[0m: list indices must be integers or slices, not tuple"
     ]
    }
   ],
   "source": [
    "list2d[0,1]"
   ]
  },
  {
   "cell_type": "code",
   "execution_count": 40,
   "id": "90af2a10",
   "metadata": {},
   "outputs": [
    {
     "name": "stdout",
     "output_type": "stream",
     "text": [
      "tf.Tensor(0, shape=(), dtype=int32)\n",
      "0\n",
      "tf.Tensor(2, shape=(), dtype=int32)\n",
      "2\n",
      "tf.Tensor(2, shape=(), dtype=int32)\n",
      "2\n",
      "tf.Tensor(\n",
      "[[1 2]\n",
      " [3 4]], shape=(2, 2), dtype=int32)\n",
      "[[1 2]\n",
      " [3 4]]\n"
     ]
    }
   ],
   "source": [
    "import tensorflow as tf \n",
    "\n",
    "a = tf.constant(2)\n",
    "print(tf.rank(a)) # rank:차원수 (ndim)\n",
    "print(a.ndim)\n",
    "print(a)\n",
    "print(a.numpy())\n",
    "\n",
    "b = tf.constant([[1,2],[3,4]])\n",
    "print(tf.rank(b))\n",
    "print(b.ndim)\n",
    "print(b)\n",
    "print(b.numpy())"
   ]
  },
  {
   "cell_type": "code",
   "execution_count": 49,
   "id": "0fd4e8dd",
   "metadata": {},
   "outputs": [
    {
     "data": {
      "text/plain": [
       "tensorflow.python.framework.ops.EagerTensor"
      ]
     },
     "execution_count": 49,
     "metadata": {},
     "output_type": "execute_result"
    }
   ],
   "source": [
    "type(a)"
   ]
  },
  {
   "cell_type": "code",
   "execution_count": 42,
   "id": "54b63594",
   "metadata": {},
   "outputs": [
    {
     "data": {
      "text/plain": [
       "<tf.Tensor: shape=(1,), dtype=float32, numpy=array([0.80790114], dtype=float32)>"
      ]
     },
     "execution_count": 42,
     "metadata": {},
     "output_type": "execute_result"
    }
   ],
   "source": [
    "tf.random.uniform([1])"
   ]
  },
  {
   "cell_type": "code",
   "execution_count": 43,
   "id": "2429936c",
   "metadata": {},
   "outputs": [
    {
     "data": {
      "text/plain": [
       "<tf.Tensor: shape=(1,), dtype=float32, numpy=array([0.23628843], dtype=float32)>"
      ]
     },
     "execution_count": 43,
     "metadata": {},
     "output_type": "execute_result"
    }
   ],
   "source": [
    "tf.random.uniform([1],0,1) # mean, stddev"
   ]
  },
  {
   "cell_type": "code",
   "execution_count": 44,
   "id": "cf9faf04",
   "metadata": {},
   "outputs": [
    {
     "data": {
      "text/plain": [
       "<tf.Tensor: shape=(3, 2), dtype=float32, numpy=\n",
       "array([[ 0.61988825,  0.13363943],\n",
       "       [-1.3503878 , -0.87041277],\n",
       "       [ 0.02853677,  0.7784559 ]], dtype=float32)>"
      ]
     },
     "execution_count": 44,
     "metadata": {},
     "output_type": "execute_result"
    }
   ],
   "source": [
    "tf.random.normal((3,2),0,1)\n",
    "# 평균이 0, 표준편차1인 표준정규분포 "
   ]
  },
  {
   "cell_type": "code",
   "execution_count": 31,
   "id": "52d36907",
   "metadata": {},
   "outputs": [
    {
     "data": {
      "text/plain": [
       "2"
      ]
     },
     "execution_count": 31,
     "metadata": {},
     "output_type": "execute_result"
    }
   ],
   "source": [
    "arr2d[0,1]"
   ]
  },
  {
   "cell_type": "code",
   "execution_count": 32,
   "id": "4632f730",
   "metadata": {},
   "outputs": [
    {
     "data": {
      "text/plain": [
       "array([[0, 1, 2, 3],\n",
       "       [4, 5, 6, 7]])"
      ]
     },
     "execution_count": 32,
     "metadata": {},
     "output_type": "execute_result"
    }
   ],
   "source": [
    "arr1 = np.array([[0,1,2,3],[4,5,6,7]])\n",
    "arr1"
   ]
  },
  {
   "cell_type": "code",
   "execution_count": 33,
   "id": "90b6dbd0",
   "metadata": {},
   "outputs": [
    {
     "data": {
      "text/plain": [
       "array([6, 7])"
      ]
     },
     "execution_count": 33,
     "metadata": {},
     "output_type": "execute_result"
    }
   ],
   "source": [
    "arr1[1, 2:]"
   ]
  },
  {
   "cell_type": "code",
   "execution_count": 45,
   "id": "770bbe98",
   "metadata": {},
   "outputs": [
    {
     "data": {
      "text/plain": [
       "<tf.Tensor: shape=(2, 4), dtype=int32, numpy=\n",
       "array([[0, 1, 2, 3],\n",
       "       [4, 5, 6, 7]])>"
      ]
     },
     "execution_count": 45,
     "metadata": {},
     "output_type": "execute_result"
    }
   ],
   "source": [
    "# 넘파이 --> tf.Tensor 타입\n",
    "tf.convert_to_tensor(arr1)"
   ]
  },
  {
   "cell_type": "code",
   "execution_count": 46,
   "id": "09a24b23",
   "metadata": {},
   "outputs": [
    {
     "data": {
      "text/plain": [
       "tensorflow.python.framework.ops.EagerTensor"
      ]
     },
     "execution_count": 46,
     "metadata": {},
     "output_type": "execute_result"
    }
   ],
   "source": [
    "type(tf.convert_to_tensor(arr1))"
   ]
  },
  {
   "cell_type": "code",
   "execution_count": 50,
   "id": "1add4db5",
   "metadata": {},
   "outputs": [
    {
     "data": {
      "text/plain": [
       "array([0, 1, 2, 3])"
      ]
     },
     "execution_count": 50,
     "metadata": {},
     "output_type": "execute_result"
    }
   ],
   "source": [
    "# 첫번재 행 전체\n",
    "arr1[0, :]"
   ]
  },
  {
   "cell_type": "code",
   "execution_count": 54,
   "id": "d1dbef8c",
   "metadata": {},
   "outputs": [
    {
     "data": {
      "text/html": [
       "<div>\n",
       "<style scoped>\n",
       "    .dataframe tbody tr th:only-of-type {\n",
       "        vertical-align: middle;\n",
       "    }\n",
       "\n",
       "    .dataframe tbody tr th {\n",
       "        vertical-align: top;\n",
       "    }\n",
       "\n",
       "    .dataframe thead th {\n",
       "        text-align: right;\n",
       "    }\n",
       "</style>\n",
       "<table border=\"1\" class=\"dataframe\">\n",
       "  <thead>\n",
       "    <tr style=\"text-align: right;\">\n",
       "      <th></th>\n",
       "      <th>Name</th>\n",
       "      <th>Born</th>\n",
       "      <th>Died</th>\n",
       "      <th>Occupation</th>\n",
       "      <th>born_dt</th>\n",
       "      <th>died_dt</th>\n",
       "      <th>age_days</th>\n",
       "    </tr>\n",
       "  </thead>\n",
       "  <tbody>\n",
       "    <tr>\n",
       "      <th>0</th>\n",
       "      <td>Rosaline Franklin</td>\n",
       "      <td>1920-07-25</td>\n",
       "      <td>1958-04-16</td>\n",
       "      <td>Chemist</td>\n",
       "      <td>1920-07-25</td>\n",
       "      <td>1958-04-16</td>\n",
       "      <td>13779 days</td>\n",
       "    </tr>\n",
       "    <tr>\n",
       "      <th>1</th>\n",
       "      <td>William Gosset</td>\n",
       "      <td>1876-06-13</td>\n",
       "      <td>1937-10-16</td>\n",
       "      <td>Statistician</td>\n",
       "      <td>1876-06-13</td>\n",
       "      <td>1937-10-16</td>\n",
       "      <td>22404 days</td>\n",
       "    </tr>\n",
       "    <tr>\n",
       "      <th>2</th>\n",
       "      <td>Florence Nightingale</td>\n",
       "      <td>1820-05-12</td>\n",
       "      <td>1910-08-13</td>\n",
       "      <td>Nurse</td>\n",
       "      <td>1820-05-12</td>\n",
       "      <td>1910-08-13</td>\n",
       "      <td>32964 days</td>\n",
       "    </tr>\n",
       "    <tr>\n",
       "      <th>3</th>\n",
       "      <td>Marie Curie</td>\n",
       "      <td>1867-11-07</td>\n",
       "      <td>1934-07-04</td>\n",
       "      <td>Chemist</td>\n",
       "      <td>1867-11-07</td>\n",
       "      <td>1934-07-04</td>\n",
       "      <td>24345 days</td>\n",
       "    </tr>\n",
       "    <tr>\n",
       "      <th>4</th>\n",
       "      <td>Rachel Carson</td>\n",
       "      <td>1907-05-27</td>\n",
       "      <td>1964-04-14</td>\n",
       "      <td>Biologist</td>\n",
       "      <td>1907-05-27</td>\n",
       "      <td>1964-04-14</td>\n",
       "      <td>20777 days</td>\n",
       "    </tr>\n",
       "  </tbody>\n",
       "</table>\n",
       "</div>"
      ],
      "text/plain": [
       "                   Name        Born        Died    Occupation     born_dt  \\\n",
       "0     Rosaline Franklin  1920-07-25  1958-04-16       Chemist  1920-07-25   \n",
       "1        William Gosset  1876-06-13  1937-10-16  Statistician  1876-06-13   \n",
       "2  Florence Nightingale  1820-05-12  1910-08-13         Nurse  1820-05-12   \n",
       "3           Marie Curie  1867-11-07  1934-07-04       Chemist  1867-11-07   \n",
       "4         Rachel Carson  1907-05-27  1964-04-14     Biologist  1907-05-27   \n",
       "\n",
       "      died_dt    age_days  \n",
       "0  1958-04-16  13779 days  \n",
       "1  1937-10-16  22404 days  \n",
       "2  1910-08-13  32964 days  \n",
       "3  1934-07-04  24345 days  \n",
       "4  1964-04-14  20777 days  "
      ]
     },
     "execution_count": 54,
     "metadata": {},
     "output_type": "execute_result"
    }
   ],
   "source": [
    "import pandas as pd\n",
    "import os\n",
    "\n",
    "os.listdir('../pandas')\n",
    "\n",
    "df = pd.read_csv('../pandas/scientists.csv')\n",
    "df.head()"
   ]
  },
  {
   "cell_type": "code",
   "execution_count": 55,
   "id": "f80529ab",
   "metadata": {},
   "outputs": [
    {
     "data": {
      "text/plain": [
       "Name          Marie Curie\n",
       "Born           1867-11-07\n",
       "Died           1934-07-04\n",
       "Occupation        Chemist\n",
       "born_dt        1867-11-07\n",
       "died_dt        1934-07-04\n",
       "age_days       24345 days\n",
       "Name: 3, dtype: object"
      ]
     },
     "execution_count": 55,
     "metadata": {},
     "output_type": "execute_result"
    }
   ],
   "source": [
    "df.iloc[3, :]"
   ]
  },
  {
   "cell_type": "code",
   "execution_count": 56,
   "id": "a4b02b44",
   "metadata": {},
   "outputs": [
    {
     "data": {
      "text/plain": [
       "Name          Rachel Carson\n",
       "Born             1907-05-27\n",
       "Died             1964-04-14\n",
       "Occupation        Biologist\n",
       "born_dt          1907-05-27\n",
       "died_dt          1964-04-14\n",
       "age_days         20777 days\n",
       "Name: 4, dtype: object"
      ]
     },
     "execution_count": 56,
     "metadata": {},
     "output_type": "execute_result"
    }
   ],
   "source": [
    "df.iloc[4]"
   ]
  },
  {
   "cell_type": "code",
   "execution_count": 57,
   "id": "0d6bea11",
   "metadata": {},
   "outputs": [
    {
     "data": {
      "text/plain": [
       "Occupation    Mathematician\n",
       "born_dt          1777-04-30\n",
       "died_dt          1855-02-23\n",
       "age_days         28422 days\n",
       "Name: 7, dtype: object"
      ]
     },
     "execution_count": 57,
     "metadata": {},
     "output_type": "execute_result"
    }
   ],
   "source": [
    "df.iloc[-1, 3:]"
   ]
  },
  {
   "cell_type": "code",
   "execution_count": 58,
   "id": "a0a21957",
   "metadata": {},
   "outputs": [
    {
     "data": {
      "text/plain": [
       "array([5, 6, 7])"
      ]
     },
     "execution_count": 58,
     "metadata": {},
     "output_type": "execute_result"
    }
   ],
   "source": [
    "# 두 번째 행의 두 번째 열부터 끝까지\n",
    "arr1[1, 1:]"
   ]
  },
  {
   "cell_type": "code",
   "execution_count": 59,
   "id": "5e5482af",
   "metadata": {},
   "outputs": [
    {
     "data": {
      "text/plain": [
       "array([[0, 1],\n",
       "       [4, 5]])"
      ]
     },
     "execution_count": 59,
     "metadata": {},
     "output_type": "execute_result"
    }
   ],
   "source": [
    "# 각 행의 두번재 열까지만 \n",
    "arr1[:, :2]"
   ]
  },
  {
   "cell_type": "markdown",
   "id": "393d8488",
   "metadata": {},
   "source": [
    "# 파이썬 리스트와 넘파이 배열의 차이 \n",
    "\n",
    "- 넘파이: 수학 계산을 위한 라이브러리 \n",
    "- 넘파이 배열은 배열끼리 연산이 가능하지만, 파이썬 리스트는 값의 추가만 가능 \n",
    "- 넘파이 배열은 숫자와의 연산도 가능하지만, 파이썬 리스트는 불가능함. \n",
    "\n",
    "\n",
    "- 사용 용도\n",
    "    - 파이썬 리스트는 값을 추가하거나 제거하는 일(데이터 관리)에 사용 \n",
    "    - 넘파이 배열은 수치 계산이 많고 복잡하거나 다차원배열이 필요할 때 사용"
   ]
  },
  {
   "cell_type": "markdown",
   "id": "af5e4ddb",
   "metadata": {},
   "source": [
    "# 연습문제 \n",
    "\n",
    "1. 아래의 행렬에서 값 7 인덱싱 \n",
    "2. 아래의 행렬에서 값 14 인덱싱\n",
    "3. \" 배열 [6,7] 슬라이싱\n",
    "4. \" 배열 [7, 12] 슬라이싱 \n",
    "5. \" 배열 [[3,4], [8,9]] 슬라이싱 "
   ]
  },
  {
   "cell_type": "code",
   "execution_count": 5,
   "id": "d9c48a49",
   "metadata": {},
   "outputs": [
    {
     "name": "stdout",
     "output_type": "stream",
     "text": [
      "7\n",
      "14\n",
      "[6 7]\n",
      "[ 7 12]\n",
      "[[3 4]\n",
      " [8 9]]\n"
     ]
    }
   ],
   "source": [
    "m = np.array([[0,1,2,3,4],\n",
    "             [5,6,7,8,9],\n",
    "             [10,11,12,13,14]])\n",
    "\n",
    "print(m[1][2])\n",
    "print(m[-1][-1])\n",
    "print(m[1,1:3])\n",
    "# print(m[1][1], m[2][2])\n",
    "print(m[1:,2])\n",
    "print(m[:2,3:])"
   ]
  },
  {
   "cell_type": "markdown",
   "id": "7376f0d8",
   "metadata": {},
   "source": [
    "# 전치 연산 (transpose)\n",
    "\n",
    "- 2차원 배열의 행과 열을 바꾸는 연산"
   ]
  },
  {
   "cell_type": "code",
   "execution_count": 72,
   "id": "b304c3ff",
   "metadata": {},
   "outputs": [
    {
     "data": {
      "text/plain": [
       "array([[1, 2, 3],\n",
       "       [4, 5, 6]])"
      ]
     },
     "execution_count": 72,
     "metadata": {},
     "output_type": "execute_result"
    }
   ],
   "source": [
    "arr = np.array([[1,2,3], [4,5,6]])\n",
    "arr"
   ]
  },
  {
   "cell_type": "code",
   "execution_count": 73,
   "id": "28e5ab08",
   "metadata": {},
   "outputs": [
    {
     "data": {
      "text/plain": [
       "(2, 3)"
      ]
     },
     "execution_count": 73,
     "metadata": {},
     "output_type": "execute_result"
    }
   ],
   "source": [
    "arr.shape"
   ]
  },
  {
   "cell_type": "code",
   "execution_count": 74,
   "id": "3b5c0ca0",
   "metadata": {},
   "outputs": [
    {
     "data": {
      "text/plain": [
       "array([[1, 4],\n",
       "       [2, 5],\n",
       "       [3, 6]])"
      ]
     },
     "execution_count": 74,
     "metadata": {},
     "output_type": "execute_result"
    }
   ],
   "source": [
    "arr.T # = arr.transpose() "
   ]
  },
  {
   "cell_type": "code",
   "execution_count": 75,
   "id": "c39e38ee",
   "metadata": {},
   "outputs": [
    {
     "data": {
      "text/plain": [
       "<function ndarray.transpose>"
      ]
     },
     "execution_count": 75,
     "metadata": {},
     "output_type": "execute_result"
    }
   ],
   "source": [
    "arr.transpose"
   ]
  },
  {
   "cell_type": "code",
   "execution_count": 76,
   "id": "9c6760bc",
   "metadata": {},
   "outputs": [
    {
     "data": {
      "text/plain": [
       "array([[1, 4],\n",
       "       [2, 5],\n",
       "       [3, 6]])"
      ]
     },
     "execution_count": 76,
     "metadata": {},
     "output_type": "execute_result"
    }
   ],
   "source": [
    "arr.transpose()"
   ]
  },
  {
   "cell_type": "code",
   "execution_count": 77,
   "id": "d5c19bab",
   "metadata": {},
   "outputs": [
    {
     "data": {
      "text/plain": [
       "(3, 2)"
      ]
     },
     "execution_count": 77,
     "metadata": {},
     "output_type": "execute_result"
    }
   ],
   "source": [
    "arr.T.shape"
   ]
  },
  {
   "cell_type": "code",
   "execution_count": 78,
   "id": "d64727dc",
   "metadata": {},
   "outputs": [
    {
     "data": {
      "text/plain": [
       "array([[1, 2, 3],\n",
       "       [4, 5, 6]])"
      ]
     },
     "execution_count": 78,
     "metadata": {},
     "output_type": "execute_result"
    }
   ],
   "source": [
    "arr.T.T # 원상복귀"
   ]
  },
  {
   "cell_type": "markdown",
   "id": "36fcb077",
   "metadata": {},
   "source": [
    "# 배열 크기 변형\n"
   ]
  },
  {
   "cell_type": "code",
   "execution_count": 79,
   "id": "5d78a5cd",
   "metadata": {},
   "outputs": [
    {
     "data": {
      "text/plain": [
       "array([ 0,  1,  2,  3,  4,  5,  6,  7,  8,  9, 10, 11])"
      ]
     },
     "execution_count": 79,
     "metadata": {},
     "output_type": "execute_result"
    }
   ],
   "source": [
    "# np.arange() 중요!\n",
    "arr1 = np.arange(12)\n",
    "arr1"
   ]
  },
  {
   "cell_type": "code",
   "execution_count": 80,
   "id": "5c9c9d11",
   "metadata": {},
   "outputs": [
    {
     "data": {
      "text/plain": [
       "array([[ 0,  1,  2,  3],\n",
       "       [ 4,  5,  6,  7],\n",
       "       [ 8,  9, 10, 11]])"
      ]
     },
     "execution_count": 80,
     "metadata": {},
     "output_type": "execute_result"
    }
   ],
   "source": [
    "# arr.reshape(): 형태변형\n",
    "arr2 = arr1.reshape(3,4)\n",
    "arr2"
   ]
  },
  {
   "cell_type": "code",
   "execution_count": 81,
   "id": "97f98bc4",
   "metadata": {},
   "outputs": [
    {
     "data": {
      "text/plain": [
       "(3, 4)"
      ]
     },
     "execution_count": 81,
     "metadata": {},
     "output_type": "execute_result"
    }
   ],
   "source": [
    "arr2.shape"
   ]
  },
  {
   "cell_type": "code",
   "execution_count": 82,
   "id": "71efad7d",
   "metadata": {},
   "outputs": [
    {
     "data": {
      "text/plain": [
       "array([[ 0,  1,  2,  3],\n",
       "       [ 4,  5,  6,  7],\n",
       "       [ 8,  9, 10, 11]])"
      ]
     },
     "execution_count": 82,
     "metadata": {},
     "output_type": "execute_result"
    }
   ],
   "source": [
    "arr1.reshape((3,4))"
   ]
  },
  {
   "cell_type": "code",
   "execution_count": 83,
   "id": "0f45f9f0",
   "metadata": {},
   "outputs": [
    {
     "data": {
      "text/plain": [
       "array([[ 0,  1,  2,  3],\n",
       "       [ 4,  5,  6,  7],\n",
       "       [ 8,  9, 10, 11]])"
      ]
     },
     "execution_count": 83,
     "metadata": {},
     "output_type": "execute_result"
    }
   ],
   "source": [
    "arr1.reshape([3,4])"
   ]
  },
  {
   "cell_type": "code",
   "execution_count": 84,
   "id": "ddfa7550",
   "metadata": {},
   "outputs": [
    {
     "data": {
      "text/plain": [
       "array([ 0,  1,  2,  3,  4,  5,  6,  7,  8,  9, 10, 11])"
      ]
     },
     "execution_count": 84,
     "metadata": {},
     "output_type": "execute_result"
    }
   ],
   "source": [
    "# 사용하는 원소의 수가 정해져 있기 때문에 \n",
    "# reshape의 형태 원소 중 하나는 -1로 대체가능\n",
    "arr1.reshape(-1)"
   ]
  },
  {
   "cell_type": "code",
   "execution_count": 85,
   "id": "ce487656",
   "metadata": {},
   "outputs": [
    {
     "data": {
      "text/plain": [
       "array([[ 0,  1,  2,  3],\n",
       "       [ 4,  5,  6,  7],\n",
       "       [ 8,  9, 10, 11]])"
      ]
     },
     "execution_count": 85,
     "metadata": {},
     "output_type": "execute_result"
    }
   ],
   "source": [
    "arr1.reshape(-1,4)"
   ]
  },
  {
   "cell_type": "code",
   "execution_count": 86,
   "id": "9f3c250a",
   "metadata": {},
   "outputs": [
    {
     "data": {
      "text/plain": [
       "array([[ 0,  1,  2,  3],\n",
       "       [ 4,  5,  6,  7],\n",
       "       [ 8,  9, 10, 11]])"
      ]
     },
     "execution_count": 86,
     "metadata": {},
     "output_type": "execute_result"
    }
   ],
   "source": [
    "arr1.reshape(3,-1)"
   ]
  },
  {
   "cell_type": "code",
   "execution_count": 88,
   "id": "fc3d6e70",
   "metadata": {},
   "outputs": [
    {
     "data": {
      "text/plain": [
       "array([[[ 0,  1,  2],\n",
       "        [ 3,  4,  5]],\n",
       "\n",
       "       [[ 6,  7,  8],\n",
       "        [ 9, 10, 11]]])"
      ]
     },
     "execution_count": 88,
     "metadata": {},
     "output_type": "execute_result"
    }
   ],
   "source": [
    "arr1.reshape(2,2,-1) # (2,2,3)"
   ]
  },
  {
   "cell_type": "markdown",
   "id": "87934580",
   "metadata": {},
   "source": [
    "# 넘파이 함수의 특징 \n",
    "\n",
    "- 벡터화 연산 \n",
    "    - 벡터와 행렬의 연산은 구성하는 원소별로 처리하는 것이 보통\n",
    "    - 동일한 인덱스의 원소끼리 계산을 처리하는 것을 \"벡터화 연산\"이라고 함. \n",
    "    \n",
    "- 유니버셜 함수 (universal function)\n",
    "    - 벡터화 연산을 지원하는 특별한 함수 (add, ...)\n",
    "    - 넘파이 모듈에는 유니버셜 함수도 있고 일반 함수도 있음 (sort...)"
   ]
  },
  {
   "cell_type": "code",
   "execution_count": 89,
   "id": "f2570600",
   "metadata": {},
   "outputs": [
    {
     "data": {
      "text/plain": [
       "function"
      ]
     },
     "execution_count": 89,
     "metadata": {},
     "output_type": "execute_result"
    }
   ],
   "source": [
    "# 일반 파이썬 함수의 타입 확인\n",
    "def test():\n",
    "    pass\n",
    "\n",
    "type(test)"
   ]
  },
  {
   "cell_type": "code",
   "execution_count": 90,
   "id": "6adb92a2",
   "metadata": {},
   "outputs": [
    {
     "data": {
      "text/plain": [
       "numpy.ufunc"
      ]
     },
     "execution_count": 90,
     "metadata": {},
     "output_type": "execute_result"
    }
   ],
   "source": [
    "# 유니버셜 함수 확인\n",
    "type(np.add)"
   ]
  },
  {
   "cell_type": "code",
   "execution_count": 91,
   "id": "bd46d2c0",
   "metadata": {},
   "outputs": [
    {
     "data": {
      "text/plain": [
       "function"
      ]
     },
     "execution_count": 91,
     "metadata": {},
     "output_type": "execute_result"
    }
   ],
   "source": [
    "type(np.sort)\n",
    "# 유니버셜 함수 아닌 함수도 존재"
   ]
  },
  {
   "cell_type": "code",
   "execution_count": 92,
   "id": "2f0202b8",
   "metadata": {},
   "outputs": [
    {
     "data": {
      "text/plain": [
       "[[1, 2, 3], [4, 5, 6], [1, 2, 3], [4, 5, 6]]"
      ]
     },
     "execution_count": 92,
     "metadata": {},
     "output_type": "execute_result"
    }
   ],
   "source": [
    "list2d + list2d"
   ]
  },
  {
   "cell_type": "code",
   "execution_count": 93,
   "id": "97bb2b9a",
   "metadata": {},
   "outputs": [
    {
     "data": {
      "text/plain": [
       "array([[ 2,  4,  6],\n",
       "       [ 8, 10, 12]])"
      ]
     },
     "execution_count": 93,
     "metadata": {},
     "output_type": "execute_result"
    }
   ],
   "source": [
    "np.add(list2d, list2d)\n",
    "# 똑같은 인덱스 애들끼리 연산"
   ]
  },
  {
   "cell_type": "markdown",
   "id": "d7c85abc",
   "metadata": {},
   "source": [
    "## 벡터화 연산 \n",
    "\n",
    "- 벡터화 연산이 필요한 이유 \n",
    "    - 배열에 대한 수치 연산이 필요하니까 \n",
    "    - data 리스트 내의 각 값에 2를 곱해야 한다면? "
   ]
  },
  {
   "cell_type": "code",
   "execution_count": 9,
   "id": "dcd9b083",
   "metadata": {},
   "outputs": [
    {
     "data": {
      "text/plain": [
       "[0, 1, 2, 3, 4, 5, 6, 7, 8, 9]"
      ]
     },
     "execution_count": 9,
     "metadata": {},
     "output_type": "execute_result"
    }
   ],
   "source": [
    "# 리스트를 통한 풀이\n",
    "data = list(range(10))\n",
    "data"
   ]
  },
  {
   "cell_type": "code",
   "execution_count": 10,
   "id": "7afadb8d",
   "metadata": {},
   "outputs": [
    {
     "data": {
      "text/plain": [
       "[0, 2, 4, 6, 8, 10, 12, 14, 16, 18]"
      ]
     },
     "execution_count": 10,
     "metadata": {},
     "output_type": "execute_result"
    }
   ],
   "source": [
    "[i*2 for i in data]"
   ]
  },
  {
   "cell_type": "code",
   "execution_count": 14,
   "id": "3dd5823e",
   "metadata": {},
   "outputs": [
    {
     "data": {
      "text/plain": [
       "array([ 0,  2,  4,  6,  8, 10, 12, 14, 16, 18])"
      ]
     },
     "execution_count": 14,
     "metadata": {},
     "output_type": "execute_result"
    }
   ],
   "source": [
    "# 넘파이를 통한 풀이\n",
    "data = np.array(data)\n",
    "data * 2"
   ]
  },
  {
   "cell_type": "code",
   "execution_count": 15,
   "id": "e2afc2de",
   "metadata": {},
   "outputs": [
    {
     "data": {
      "text/plain": [
       "[0, 1, 2, 3, 4, 5, 6, 7, 8, 9]"
      ]
     },
     "execution_count": 15,
     "metadata": {},
     "output_type": "execute_result"
    }
   ],
   "source": [
    "data.tolist()\n",
    "# [리스트].toarray() 는 존재하지 않음"
   ]
  },
  {
   "cell_type": "markdown",
   "id": "81ec8704",
   "metadata": {},
   "source": [
    "톱니바퀴형 리스트(각 원소마다 개수가 다른 경우) \n",
    "- 넘파이 다차원 배열로 만들어줄 수 없음 ! \n",
    "    - 리스트로의 변환은 웬만하면 다 됨!! "
   ]
  },
  {
   "cell_type": "markdown",
   "id": "7d3db16f",
   "metadata": {},
   "source": [
    "### 넘파이 벡터화 연산 \n",
    "\n",
    "- 벡터화 연산은 비교 연산과 논리 연산을 포함한 모든 종류의 수학 연산에 대해 적용됨."
   ]
  },
  {
   "cell_type": "code",
   "execution_count": 16,
   "id": "cd48b84c",
   "metadata": {},
   "outputs": [],
   "source": [
    "a = np.array([1,2,3])\n",
    "b = np.array([10,20,30])"
   ]
  },
  {
   "cell_type": "code",
   "execution_count": 17,
   "id": "bbd4c5f7",
   "metadata": {},
   "outputs": [
    {
     "data": {
      "text/plain": [
       "array([12, 24, 36])"
      ]
     },
     "execution_count": 17,
     "metadata": {},
     "output_type": "execute_result"
    }
   ],
   "source": [
    "2*a + b"
   ]
  },
  {
   "cell_type": "code",
   "execution_count": 18,
   "id": "1eed9898",
   "metadata": {},
   "outputs": [
    {
     "data": {
      "text/plain": [
       "array([False,  True, False])"
      ]
     },
     "execution_count": 18,
     "metadata": {},
     "output_type": "execute_result"
    }
   ],
   "source": [
    "a == 2"
   ]
  },
  {
   "cell_type": "code",
   "execution_count": 19,
   "id": "ff8b8844",
   "metadata": {},
   "outputs": [
    {
     "data": {
      "text/plain": [
       "array([False,  True,  True])"
      ]
     },
     "execution_count": 19,
     "metadata": {},
     "output_type": "execute_result"
    }
   ],
   "source": [
    "b > 10"
   ]
  },
  {
   "cell_type": "code",
   "execution_count": 20,
   "id": "7f7a996c",
   "metadata": {},
   "outputs": [
    {
     "data": {
      "text/plain": [
       "array([False,  True, False])"
      ]
     },
     "execution_count": 20,
     "metadata": {},
     "output_type": "execute_result"
    }
   ],
   "source": [
    "(a==2) & (b>10)"
   ]
  },
  {
   "cell_type": "code",
   "execution_count": 21,
   "id": "7dff93f5",
   "metadata": {},
   "outputs": [
    {
     "data": {
      "text/plain": [
       "array([2])"
      ]
     },
     "execution_count": 21,
     "metadata": {},
     "output_type": "execute_result"
    }
   ],
   "source": [
    "a[a==2] # 필터링"
   ]
  },
  {
   "cell_type": "markdown",
   "id": "62fb5e06",
   "metadata": {},
   "source": [
    " ### - 배열끼리의 연산 "
   ]
  },
  {
   "cell_type": "code",
   "execution_count": 22,
   "id": "aa68569d",
   "metadata": {},
   "outputs": [
    {
     "data": {
      "text/plain": [
       "array([6, 7, 8, 9])"
      ]
     },
     "execution_count": 22,
     "metadata": {},
     "output_type": "execute_result"
    }
   ],
   "source": [
    "arr1 = np.arange(6, 10)\n",
    "arr1"
   ]
  },
  {
   "cell_type": "code",
   "execution_count": 23,
   "id": "cb1edada",
   "metadata": {},
   "outputs": [
    {
     "data": {
      "text/plain": [
       "array([10, 11, 12, 13])"
      ]
     },
     "execution_count": 23,
     "metadata": {},
     "output_type": "execute_result"
    }
   ],
   "source": [
    "arr2 = np.arange(10, 14)\n",
    "arr2"
   ]
  },
  {
   "cell_type": "code",
   "execution_count": 24,
   "id": "94f92250",
   "metadata": {},
   "outputs": [
    {
     "data": {
      "text/plain": [
       "array([ 60,  77,  96, 117])"
      ]
     },
     "execution_count": 24,
     "metadata": {},
     "output_type": "execute_result"
    }
   ],
   "source": [
    "# 두 개의 다차원 배열을 곱하면 \n",
    "# 동일한 인덱스의 원소끼리 곱셈한 결과인 1차원 배열 반환\n",
    "arr1 * arr2"
   ]
  },
  {
   "cell_type": "code",
   "execution_count": 25,
   "id": "e41f53aa",
   "metadata": {},
   "outputs": [
    {
     "data": {
      "text/plain": [
       "array([[6],\n",
       "       [7],\n",
       "       [8],\n",
       "       [9]])"
      ]
     },
     "execution_count": 25,
     "metadata": {},
     "output_type": "execute_result"
    }
   ],
   "source": [
    "# arr1 에 차원 추가 (수직축 추가)\n",
    "new_arr1 = arr1[:, np.newaxis]\n",
    "new_arr1 # (4,1)"
   ]
  },
  {
   "cell_type": "code",
   "execution_count": 26,
   "id": "24f4913e",
   "metadata": {},
   "outputs": [
    {
     "data": {
      "text/plain": [
       "array([[6, 7, 8, 9]])"
      ]
     },
     "execution_count": 26,
     "metadata": {},
     "output_type": "execute_result"
    }
   ],
   "source": [
    "arr1[np.newaxis, :] # (1,4)"
   ]
  },
  {
   "cell_type": "code",
   "execution_count": 27,
   "id": "1876186d",
   "metadata": {},
   "outputs": [
    {
     "data": {
      "text/plain": [
       "array([[10, 11, 12, 13]])"
      ]
     },
     "execution_count": 27,
     "metadata": {},
     "output_type": "execute_result"
    }
   ],
   "source": [
    "# arr2에도 차원 추가 (수평축 추가)\n",
    "new_arr2 = arr2[np.newaxis, :]\n",
    "new_arr2"
   ]
  },
  {
   "cell_type": "code",
   "execution_count": 28,
   "id": "7f292228",
   "metadata": {},
   "outputs": [
    {
     "data": {
      "text/plain": [
       "array([[ 60,  66,  72,  78],\n",
       "       [ 70,  77,  84,  91],\n",
       "       [ 80,  88,  96, 104],\n",
       "       [ 90,  99, 108, 117]])"
      ]
     },
     "execution_count": 28,
     "metadata": {},
     "output_type": "execute_result"
    }
   ],
   "source": [
    "new_arr1 * new_arr2\n",
    "# (4,1) * (1,4) = (4,4)"
   ]
  },
  {
   "cell_type": "markdown",
   "id": "ecf1ae66",
   "metadata": {},
   "source": [
    "## 브로드캐스팅 (broadcasting)\n",
    "\n",
    "- 배열끼리 연산을 하기 위해서는 두 배열의 크기가 같아야함.\n",
    "- 서로 다른 크기를 가진 배열의 사칙 연산을 하는 경우, 넘파이에서는 크기가 작은 배열을 자동으로 반복 확장하여 크기가 큰 배열에 맞춤."
   ]
  },
  {
   "cell_type": "code",
   "execution_count": 29,
   "id": "c23ec49a",
   "metadata": {},
   "outputs": [
    {
     "data": {
      "text/plain": [
       "array([[6],\n",
       "       [7],\n",
       "       [8],\n",
       "       [9]])"
      ]
     },
     "execution_count": 29,
     "metadata": {},
     "output_type": "execute_result"
    }
   ],
   "source": [
    "new_arr1"
   ]
  },
  {
   "cell_type": "code",
   "execution_count": 30,
   "id": "47946eab",
   "metadata": {},
   "outputs": [
    {
     "data": {
      "text/plain": [
       "array([[10, 11, 12, 13]])"
      ]
     },
     "execution_count": 30,
     "metadata": {},
     "output_type": "execute_result"
    }
   ],
   "source": [
    "new_arr2"
   ]
  },
  {
   "cell_type": "code",
   "execution_count": 31,
   "id": "29118cec",
   "metadata": {},
   "outputs": [
    {
     "data": {
      "text/plain": [
       "array([[16, 17, 18, 19],\n",
       "       [17, 18, 19, 20],\n",
       "       [18, 19, 20, 21],\n",
       "       [19, 20, 21, 22]])"
      ]
     },
     "execution_count": 31,
     "metadata": {},
     "output_type": "execute_result"
    }
   ],
   "source": [
    "new_arr1 + new_arr2"
   ]
  },
  {
   "cell_type": "code",
   "execution_count": 32,
   "id": "2190a6c9",
   "metadata": {},
   "outputs": [
    {
     "data": {
      "text/plain": [
       "array([[6, 6, 6, 6],\n",
       "       [7, 7, 7, 7],\n",
       "       [8, 8, 8, 8],\n",
       "       [9, 9, 9, 9]])"
      ]
     },
     "execution_count": 32,
     "metadata": {},
     "output_type": "execute_result"
    }
   ],
   "source": [
    "# 자동확장된 new_arr1은 다음배열과 같음\n",
    "new_arr3 = np.array([[i]*4 for i in range(6,10)])\n",
    "new_arr3"
   ]
  },
  {
   "cell_type": "code",
   "execution_count": 34,
   "id": "d42cc40f",
   "metadata": {},
   "outputs": [
    {
     "data": {
      "text/plain": [
       "array([[16, 17, 18, 19],\n",
       "       [17, 18, 19, 20],\n",
       "       [18, 19, 20, 21],\n",
       "       [19, 20, 21, 22]])"
      ]
     },
     "execution_count": 34,
     "metadata": {},
     "output_type": "execute_result"
    }
   ],
   "source": [
    "new_arr3 + new_arr2"
   ]
  },
  {
   "cell_type": "markdown",
   "id": "ef484596",
   "metadata": {},
   "source": [
    "# 연습문제\n",
    "\n",
    "1. 아래의 배열에서 3의 배수를 찾기\n",
    "2. 아래의 배열에서 4로 나누면 1이 남는 수 찾기\n",
    "3. 아래의 배열에서 3으로 나누면 나눠지고 4로 나누면 1이 남는 수 찾기"
   ]
  },
  {
   "cell_type": "code",
   "execution_count": 35,
   "id": "1a95b58f",
   "metadata": {},
   "outputs": [
    {
     "name": "stdout",
     "output_type": "stream",
     "text": [
      "[ 3  6  9 12 15 18]\n",
      "[ 1  5  9 13 17]\n",
      "[9]\n"
     ]
    }
   ],
   "source": [
    "x = np.array([i for i in range(1,21)])\n",
    "\n",
    "print(x[x%3==0])\n",
    "print(x[x%4==1])\n",
    "print(x[(x%3==0) & (x%4==1)])"
   ]
  },
  {
   "cell_type": "markdown",
   "id": "41ff7df1",
   "metadata": {},
   "source": [
    "# 축에 따른 연산 \n",
    "\n",
    "- axis 설정(실행방향) = 판다스 \n",
    "- 동일한 축에 있는 원소들을 계산하기 위해 필요"
   ]
  },
  {
   "cell_type": "code",
   "execution_count": 36,
   "id": "1cd419f4",
   "metadata": {},
   "outputs": [
    {
     "data": {
      "text/plain": [
       "array([1, 2, 3, 4])"
      ]
     },
     "execution_count": 36,
     "metadata": {},
     "output_type": "execute_result"
    }
   ],
   "source": [
    "# 1차원 배열\n",
    "arr1 = np.array([1,2,3,4])\n",
    "arr1"
   ]
  },
  {
   "cell_type": "code",
   "execution_count": 37,
   "id": "1840047a",
   "metadata": {},
   "outputs": [
    {
     "name": "stdout",
     "output_type": "stream",
     "text": [
      "10\n",
      "10\n"
     ]
    }
   ],
   "source": [
    "# 합계\n",
    "print(np.sum(arr1))\n",
    "print(arr1.sum())"
   ]
  },
  {
   "cell_type": "code",
   "execution_count": 39,
   "id": "6bca538f",
   "metadata": {},
   "outputs": [
    {
     "name": "stdout",
     "output_type": "stream",
     "text": [
      "4\n",
      "4\n"
     ]
    }
   ],
   "source": [
    "# 최대값 \n",
    "print(arr1.max())\n",
    "print(np.max(arr1))"
   ]
  },
  {
   "cell_type": "code",
   "execution_count": 40,
   "id": "520e677e",
   "metadata": {},
   "outputs": [
    {
     "name": "stdout",
     "output_type": "stream",
     "text": [
      "1\n",
      "1\n"
     ]
    }
   ],
   "source": [
    "# 최소값\n",
    "print(arr1.min())\n",
    "print(np.min(arr1))"
   ]
  },
  {
   "cell_type": "code",
   "execution_count": 41,
   "id": "50700392",
   "metadata": {},
   "outputs": [
    {
     "name": "stdout",
     "output_type": "stream",
     "text": [
      "0\n",
      "0\n"
     ]
    }
   ],
   "source": [
    "# 최소값의 위치\n",
    "print(arr1.argmin())\n",
    "print(np.argmin(arr1))"
   ]
  },
  {
   "cell_type": "code",
   "execution_count": 42,
   "id": "28ddaa04",
   "metadata": {},
   "outputs": [
    {
     "name": "stdout",
     "output_type": "stream",
     "text": [
      "3\n",
      "3\n"
     ]
    }
   ],
   "source": [
    "# 최대값의 위치 \n",
    "print(arr1.argmax())\n",
    "print(np.argmax(arr1))"
   ]
  },
  {
   "cell_type": "code",
   "execution_count": 43,
   "id": "21c96680",
   "metadata": {},
   "outputs": [
    {
     "name": "stdout",
     "output_type": "stream",
     "text": [
      "2.5\n",
      "2.5\n",
      "2.5\n"
     ]
    }
   ],
   "source": [
    "# 퍙균\n",
    "print(arr1.mean())\n",
    "print(np.mean(arr1))\n",
    "\n",
    "# 중앙값\n",
    "print(np.median(arr1))\n",
    "# arr1.median() 없음"
   ]
  },
  {
   "cell_type": "code",
   "execution_count": 45,
   "id": "1f0c4214",
   "metadata": {},
   "outputs": [
    {
     "name": "stdout",
     "output_type": "stream",
     "text": [
      "[[1 2]\n",
      " [3 4]] \n",
      "\n",
      "10\n",
      "[4 6]\n",
      "[3 7]\n"
     ]
    }
   ],
   "source": [
    "# 2차원 배열 \n",
    "arr2 = arr1.reshape(2,2)\n",
    "print(arr2,'\\n')\n",
    "\n",
    "# 모든 원소 더하기\n",
    "print(np.sum(arr2))\n",
    "# 수직 방향으로 같은 열에 속한 원소만 합산 \n",
    "print(np.sum(arr2, axis=0))\n",
    "# 수평 방향으로 같은 행에 속한 원소만 합산\n",
    "print(np.sum(arr2, axis=1))"
   ]
  },
  {
   "cell_type": "code",
   "execution_count": 49,
   "id": "7002e8ff",
   "metadata": {},
   "outputs": [
    {
     "name": "stdout",
     "output_type": "stream",
     "text": [
      "[[4 9 8]\n",
      " [2 9 8]] \n",
      "\n",
      "[ 6 18 16]\n",
      "[21 19]\n"
     ]
    }
   ],
   "source": [
    "x = np.random.randint(1,10,(2,3))\n",
    "print(x, '\\n')\n",
    "print(np.sum(x, axis=0))\n",
    "print(np.sum(x, axis=1))"
   ]
  },
  {
   "cell_type": "code",
   "execution_count": 52,
   "id": "584b91b3",
   "metadata": {},
   "outputs": [
    {
     "name": "stdout",
     "output_type": "stream",
     "text": [
      "[1 2 3 4 5 6 7 8] \n",
      "\n",
      "[[[1 2]\n",
      "  [3 4]]\n",
      "\n",
      " [[5 6]\n",
      "  [7 8]]] \n",
      "\n",
      "36\n",
      "[[ 6  8]\n",
      " [10 12]]\n",
      "[[ 4  6]\n",
      " [12 14]]\n",
      "[[ 3  7]\n",
      " [11 15]]\n"
     ]
    }
   ],
   "source": [
    "# 3차원 배열\n",
    "\n",
    "arr3 = np.arange(1,9)\n",
    "print(arr3,'\\n')\n",
    "\n",
    "arr4 = arr3.reshape(2,2,2)\n",
    "print(arr4,'\\n')\n",
    "\n",
    "# 모든 원소를 더한 합\n",
    "print(np.sum(arr4))\n",
    "# 두 행렬의 동일한 인덱스의 원소 합한 값\n",
    "print(np.sum(arr4, axis=0)) # (2,2)\n",
    "# 각 2차원 배열의 0번축의 합\n",
    "print(np.sum(arr4, axis=1))\n",
    "# 각 2차원 배열의 1번축의 합 \n",
    "print(np.sum(arr4, axis=2))"
   ]
  },
  {
   "cell_type": "code",
   "execution_count": 54,
   "id": "50a15c35",
   "metadata": {},
   "outputs": [
    {
     "name": "stdout",
     "output_type": "stream",
     "text": [
      "[[[7 3 7 5]\n",
      "  [6 8 1 7]\n",
      "  [2 1 8 7]]\n",
      "\n",
      " [[1 1 4 4]\n",
      "  [6 9 4 6]\n",
      "  [2 3 4 5]]] \n",
      "\n",
      "[[ 8  4 11  9]\n",
      " [12 17  5 13]\n",
      " [ 4  4 12 12]]\n",
      "[[15 12 16 19]\n",
      " [ 9 13 12 15]]\n",
      "[[22 22 18]\n",
      " [10 25 14]]\n"
     ]
    }
   ],
   "source": [
    "x = np.random.randint(1,10,(2,3,4))\n",
    "print(x,'\\n')\n",
    "\n",
    "print(np.sum(x,axis=0))\n",
    "print(np.sum(x,axis=1))\n",
    "print(np.sum(x,axis=2))"
   ]
  },
  {
   "cell_type": "markdown",
   "id": "5322580c",
   "metadata": {},
   "source": [
    "# 연습문제\n",
    "\n",
    "- 실수로 이뤄진 5x6 형태의 데이터 행렬을 만들고 다음의 값 구하기 \n",
    "\n",
    "1. 전체의 최대값\n",
    "2. 각 행의 합\n",
    "3. 각 행의 최대값\n",
    "4. 각 열의 평균\n",
    "5. 각 열의 최소값\n",
    "\n",
    "- \\*\"각 행의~\": axis=1\n",
    "- \\*\"각 열의~\": axis=0"
   ]
  },
  {
   "cell_type": "code",
   "execution_count": 58,
   "id": "179a87ff",
   "metadata": {},
   "outputs": [
    {
     "name": "stdout",
     "output_type": "stream",
     "text": [
      "[[0.42290899 0.35450107 0.82153998 0.12610817 0.04224279 0.09818703]\n",
      " [0.83936544 0.54687529 0.74273602 0.83639885 0.0827963  0.84070415]\n",
      " [0.25488368 0.64815238 0.66111228 0.38112083 0.85276565 0.89084562]\n",
      " [0.30073133 0.69270506 0.66612312 0.89448279 0.60685874 0.77416183]\n",
      " [0.6637257  0.48486403 0.64800925 0.35440436 0.61719298 0.73694677]] \n",
      "\n",
      "16.883450483890293\n",
      "[1.86548804 3.88887605 3.68888044 3.93506287 3.50514309]\n",
      "[0.82153998 0.84070415 0.89084562 0.89448279 0.73694677]\n",
      "[0.49632303 0.54541957 0.70790413 0.518503   0.44037129 0.66816908]\n",
      "[0.25488368 0.35450107 0.64800925 0.12610817 0.04224279 0.09818703]\n"
     ]
    }
   ],
   "source": [
    "# 0~1 사이의 랜덤 실수 생성\n",
    "a = np.random.random((5,6))\n",
    "print(a, '\\n')\n",
    "\n",
    "# 1\n",
    "print(np.sum(a))\n",
    "# 2\n",
    "print(np.sum(a,axis=1))\n",
    "# 3\n",
    "print(np.max(a,axis=1))\n",
    "# 4\n",
    "print(np.mean(a,axis=0))\n",
    "# 5\n",
    "print(np.min(a,axis=0))"
   ]
  },
  {
   "cell_type": "markdown",
   "id": "c3b810ca",
   "metadata": {},
   "source": [
    "# 넘파이 배열 초기화 방법 총정리"
   ]
  },
  {
   "cell_type": "code",
   "execution_count": 57,
   "id": "d18bc98e",
   "metadata": {},
   "outputs": [
    {
     "name": "stdout",
     "output_type": "stream",
     "text": [
      "[[0. 0. 0.]\n",
      " [0. 0. 0.]]\n",
      "\n",
      "[[1.]\n",
      " [1.]]\n",
      "\n",
      "np.empty((2,2)) 행렬\n",
      "[[ 0.33241789 -0.07568418]\n",
      " [ 0.2022933  -1.47059635]]\n",
      "\n",
      "[10 15 20 25]\n",
      "\n",
      "np.full((2,2),4) 행렬\n",
      "[[4 4]\n",
      " [4 4]]\n",
      "\n",
      "np.eye(3) 행렬\n",
      "[[1. 0. 0.]\n",
      " [0. 1. 0.]\n",
      " [0. 0. 1.]]\n",
      "\n",
      "[[4 8 5 9]\n",
      " [7 5 6 5]]\n",
      "\n",
      "[[0.21146465 0.4683142 ]\n",
      " [0.51782057 0.99589335]]\n",
      "[[0.78844189 0.10481514 0.98550697]\n",
      " [0.51647066 0.27865943 0.98190688]\n",
      " [0.45045756 0.70603776 0.11326815]]\n",
      "[2.37179063 1.83513611]\n",
      "\n",
      "[[ 0.07983184  2.5379435 ]\n",
      " [ 0.14828899 -0.82678547]]\n",
      "[[1.12305248 3.07574225 1.14872011]\n",
      " [2.61894508 2.14025878 1.28092369]]\n",
      "\n",
      "[[-0.09527573 -0.36177873 -1.35215975]\n",
      " [-0.43994635  0.10938455 -1.17577847]]\n",
      "[[ 0.73055658  0.24778738 -0.01581224]\n",
      " [ 1.25323644  0.42247274 -0.751434  ]]\n"
     ]
    }
   ],
   "source": [
    "# 1. zeros\n",
    "a = np.zeros((2,3))\n",
    "print(a)\n",
    "print()\n",
    "\n",
    "# 2. ones\n",
    "b = np.ones((2,1))\n",
    "print(b)\n",
    "print()\n",
    "\n",
    "# 3. empty\n",
    "# 원소값 초기화하지 않은 배열\n",
    "# 원소에는 매우크거나 작은값이 들어감\n",
    "print(\"np.empty((2,2)) 행렬\")\n",
    "c = np.empty((2,2))\n",
    "print(c)\n",
    "print()\n",
    "\n",
    "# 4. arange\n",
    "d = np.arange(10,30,5)\n",
    "print(d)\n",
    "print()\n",
    "\n",
    "# 5. full\n",
    "# 똑같은 값4 가진 행렬\n",
    "print(\"np.full((2,2),4) 행렬\")\n",
    "e = np.full((2,2),4)\n",
    "print(e)\n",
    "print()\n",
    "\n",
    "# 6. eye\n",
    "print(\"np.eye(3) 행렬\")\n",
    "f = np.eye(3) # 3*3 단위행렬\n",
    "print(f)\n",
    "print()\n",
    "# 단위행렬: 대각선이 1이고 나머지가 0\n",
    "\n",
    "# 7. randint\n",
    "g = np.random.randint(3,10,(2,4))\n",
    "print(g)\n",
    "print()\n",
    "\n",
    "\n",
    "# 8. 균등분포 \n",
    "# 임의값 가진 배열\n",
    "\n",
    "# 8-1: 0~1 사이의 실수\n",
    "h = np.random.random((2,2))\n",
    "print(h)\n",
    "# 8-2\n",
    "i = np.random.rand(3,3)\n",
    "print(i)\n",
    "# 8-3\n",
    "j = np.random.uniform((3,3))\n",
    "print(j)\n",
    "print()\n",
    "\n",
    "\n",
    "# 9. 정규분포 (가우시안)\n",
    "print(np.random.normal(0,1,(2,2))) # 표준정규분포\n",
    "print(np.random.normal(3.0,2.0,(2,3)))\n",
    "print()\n",
    "\n",
    "# 10. 표준정규분포\n",
    "print(np.random.randn(2,3))\n",
    "print(np.random.standard_normal((2,3)))"
   ]
  },
  {
   "cell_type": "markdown",
   "id": "869835a7",
   "metadata": {},
   "source": [
    "# Inf와 nan\n",
    "\n",
    "- 넘파이에서는 무한대를 표현하기 위한 np.inf와 정의할 수 없는 숫자를 나타내는 np.nan이 있음"
   ]
  },
  {
   "cell_type": "code",
   "execution_count": 59,
   "id": "3be144b5",
   "metadata": {},
   "outputs": [
    {
     "name": "stderr",
     "output_type": "stream",
     "text": [
      "C:\\Users\\answl\\anaconda3\\envs\\nlp\\lib\\site-packages\\ipykernel_launcher.py:1: RuntimeWarning: divide by zero encountered in true_divide\n",
      "  \"\"\"Entry point for launching an IPython kernel.\n",
      "C:\\Users\\answl\\anaconda3\\envs\\nlp\\lib\\site-packages\\ipykernel_launcher.py:1: RuntimeWarning: invalid value encountered in true_divide\n",
      "  \"\"\"Entry point for launching an IPython kernel.\n"
     ]
    },
    {
     "data": {
      "text/plain": [
       "array([  0.,  inf, -inf,  nan])"
      ]
     },
     "execution_count": 59,
     "metadata": {},
     "output_type": "execute_result"
    }
   ],
   "source": [
    "# 넘파이에서는 zero division 등도 오류 안나고 \n",
    "# -inf, inf ,nan으로 표현됨\n",
    "np.array([0,1,-1,0]) / np.array([1,0,0,0])"
   ]
  },
  {
   "cell_type": "code",
   "execution_count": 60,
   "id": "7c541a66",
   "metadata": {},
   "outputs": [
    {
     "ename": "ZeroDivisionError",
     "evalue": "division by zero",
     "output_type": "error",
     "traceback": [
      "\u001b[1;31m---------------------------------------------------------------------------\u001b[0m",
      "\u001b[1;31mZeroDivisionError\u001b[0m                         Traceback (most recent call last)",
      "\u001b[1;32m~\\AppData\\Local\\Temp\\ipykernel_26984\\1135801912.py\u001b[0m in \u001b[0;36m<module>\u001b[1;34m\u001b[0m\n\u001b[0;32m      1\u001b[0m \u001b[1;31m# 그냥 파이썬 으로는 계산 불가 오류\u001b[0m\u001b[1;33m\u001b[0m\u001b[1;33m\u001b[0m\u001b[1;33m\u001b[0m\u001b[0m\n\u001b[1;32m----> 2\u001b[1;33m \u001b[1;36m0\u001b[0m \u001b[1;33m/\u001b[0m \u001b[1;36m0\u001b[0m\u001b[1;33m\u001b[0m\u001b[1;33m\u001b[0m\u001b[0m\n\u001b[0m",
      "\u001b[1;31mZeroDivisionError\u001b[0m: division by zero"
     ]
    }
   ],
   "source": [
    "# 그냥 파이썬 으로는 계산 불가 오류\n",
    "0 / 0"
   ]
  },
  {
   "cell_type": "code",
   "execution_count": 61,
   "id": "78e79317",
   "metadata": {},
   "outputs": [
    {
     "data": {
      "text/plain": [
       "False"
      ]
     },
     "execution_count": 61,
     "metadata": {},
     "output_type": "execute_result"
    }
   ],
   "source": [
    "np.nan == np.nan"
   ]
  },
  {
   "cell_type": "code",
   "execution_count": 62,
   "id": "b681f7c0",
   "metadata": {},
   "outputs": [
    {
     "data": {
      "text/plain": [
       "True"
      ]
     },
     "execution_count": 62,
     "metadata": {},
     "output_type": "execute_result"
    }
   ],
   "source": [
    "np.inf == np.inf"
   ]
  }
 ],
 "metadata": {
  "kernelspec": {
   "display_name": "Python 3 (ipykernel)",
   "language": "python",
   "name": "python3"
  },
  "language_info": {
   "codemirror_mode": {
    "name": "ipython",
    "version": 3
   },
   "file_extension": ".py",
   "mimetype": "text/x-python",
   "name": "python",
   "nbconvert_exporter": "python",
   "pygments_lexer": "ipython3",
   "version": "3.7.13"
  }
 },
 "nbformat": 4,
 "nbformat_minor": 5
}
